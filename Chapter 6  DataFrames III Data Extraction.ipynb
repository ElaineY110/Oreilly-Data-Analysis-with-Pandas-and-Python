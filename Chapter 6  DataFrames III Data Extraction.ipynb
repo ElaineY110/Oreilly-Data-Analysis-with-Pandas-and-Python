{
  "metadata": {
    "language_info": {
      "codemirror_mode": {
        "name": "python",
        "version": 3
      },
      "file_extension": ".py",
      "mimetype": "text/x-python",
      "name": "python",
      "nbconvert_exporter": "python",
      "pygments_lexer": "ipython3",
      "version": "3.8"
    },
    "kernelspec": {
      "name": "python",
      "display_name": "Python (Pyodide)",
      "language": "python"
    }
  },
  "nbformat_minor": 4,
  "nbformat": 4,
  "cells": [
    {
      "cell_type": "code",
      "source": "import pandas as pd",
      "metadata": {
        "trusted": true
      },
      "execution_count": 2,
      "outputs": []
    },
    {
      "cell_type": "code",
      "source": "bond = pd.read_csv(\"jamesbond.csv\")\nbond.head(3)",
      "metadata": {
        "trusted": true
      },
      "execution_count": 4,
      "outputs": [
        {
          "execution_count": 4,
          "output_type": "execute_result",
          "data": {
            "text/plain": "                    Film  Year         Actor       Director  Box Office  \\\n0                 Dr. No  1962  Sean Connery  Terence Young       448.8   \n1  From Russia with Love  1963  Sean Connery  Terence Young       543.8   \n2             Goldfinger  1964  Sean Connery   Guy Hamilton       820.4   \n\n   Budget  Bond Actor Salary  \n0     7.0                0.6  \n1    12.6                1.6  \n2    18.6                3.2  ",
            "text/html": "<div>\n<style scoped>\n    .dataframe tbody tr th:only-of-type {\n        vertical-align: middle;\n    }\n\n    .dataframe tbody tr th {\n        vertical-align: top;\n    }\n\n    .dataframe thead th {\n        text-align: right;\n    }\n</style>\n<table border=\"1\" class=\"dataframe\">\n  <thead>\n    <tr style=\"text-align: right;\">\n      <th></th>\n      <th>Film</th>\n      <th>Year</th>\n      <th>Actor</th>\n      <th>Director</th>\n      <th>Box Office</th>\n      <th>Budget</th>\n      <th>Bond Actor Salary</th>\n    </tr>\n  </thead>\n  <tbody>\n    <tr>\n      <th>0</th>\n      <td>Dr. No</td>\n      <td>1962</td>\n      <td>Sean Connery</td>\n      <td>Terence Young</td>\n      <td>448.8</td>\n      <td>7.0</td>\n      <td>0.6</td>\n    </tr>\n    <tr>\n      <th>1</th>\n      <td>From Russia with Love</td>\n      <td>1963</td>\n      <td>Sean Connery</td>\n      <td>Terence Young</td>\n      <td>543.8</td>\n      <td>12.6</td>\n      <td>1.6</td>\n    </tr>\n    <tr>\n      <th>2</th>\n      <td>Goldfinger</td>\n      <td>1964</td>\n      <td>Sean Connery</td>\n      <td>Guy Hamilton</td>\n      <td>820.4</td>\n      <td>18.6</td>\n      <td>3.2</td>\n    </tr>\n  </tbody>\n</table>\n</div>"
          },
          "metadata": {}
        }
      ]
    },
    {
      "cell_type": "markdown",
      "source": "# The set_index and reset_index Methods",
      "metadata": {}
    },
    {
      "cell_type": "code",
      "source": "bond = pd.read_csv(\"jamesbond.csv\", index_col = \"Film\")\nbond.head(3)",
      "metadata": {
        "trusted": true
      },
      "execution_count": 6,
      "outputs": [
        {
          "execution_count": 6,
          "output_type": "execute_result",
          "data": {
            "text/plain": "                       Year         Actor       Director  Box Office  Budget  \\\nFilm                                                                           \nDr. No                 1962  Sean Connery  Terence Young       448.8     7.0   \nFrom Russia with Love  1963  Sean Connery  Terence Young       543.8    12.6   \nGoldfinger             1964  Sean Connery   Guy Hamilton       820.4    18.6   \n\n                       Bond Actor Salary  \nFilm                                      \nDr. No                               0.6  \nFrom Russia with Love                1.6  \nGoldfinger                           3.2  ",
            "text/html": "<div>\n<style scoped>\n    .dataframe tbody tr th:only-of-type {\n        vertical-align: middle;\n    }\n\n    .dataframe tbody tr th {\n        vertical-align: top;\n    }\n\n    .dataframe thead th {\n        text-align: right;\n    }\n</style>\n<table border=\"1\" class=\"dataframe\">\n  <thead>\n    <tr style=\"text-align: right;\">\n      <th></th>\n      <th>Year</th>\n      <th>Actor</th>\n      <th>Director</th>\n      <th>Box Office</th>\n      <th>Budget</th>\n      <th>Bond Actor Salary</th>\n    </tr>\n    <tr>\n      <th>Film</th>\n      <th></th>\n      <th></th>\n      <th></th>\n      <th></th>\n      <th></th>\n      <th></th>\n    </tr>\n  </thead>\n  <tbody>\n    <tr>\n      <th>Dr. No</th>\n      <td>1962</td>\n      <td>Sean Connery</td>\n      <td>Terence Young</td>\n      <td>448.8</td>\n      <td>7.0</td>\n      <td>0.6</td>\n    </tr>\n    <tr>\n      <th>From Russia with Love</th>\n      <td>1963</td>\n      <td>Sean Connery</td>\n      <td>Terence Young</td>\n      <td>543.8</td>\n      <td>12.6</td>\n      <td>1.6</td>\n    </tr>\n    <tr>\n      <th>Goldfinger</th>\n      <td>1964</td>\n      <td>Sean Connery</td>\n      <td>Guy Hamilton</td>\n      <td>820.4</td>\n      <td>18.6</td>\n      <td>3.2</td>\n    </tr>\n  </tbody>\n</table>\n</div>"
          },
          "metadata": {}
        }
      ]
    },
    {
      "cell_type": "code",
      "source": "bond = pd.read_csv(\"jamesbond.csv\")\nbond.head(3)",
      "metadata": {
        "trusted": true
      },
      "execution_count": 7,
      "outputs": [
        {
          "execution_count": 7,
          "output_type": "execute_result",
          "data": {
            "text/plain": "                    Film  Year         Actor       Director  Box Office  \\\n0                 Dr. No  1962  Sean Connery  Terence Young       448.8   \n1  From Russia with Love  1963  Sean Connery  Terence Young       543.8   \n2             Goldfinger  1964  Sean Connery   Guy Hamilton       820.4   \n\n   Budget  Bond Actor Salary  \n0     7.0                0.6  \n1    12.6                1.6  \n2    18.6                3.2  ",
            "text/html": "<div>\n<style scoped>\n    .dataframe tbody tr th:only-of-type {\n        vertical-align: middle;\n    }\n\n    .dataframe tbody tr th {\n        vertical-align: top;\n    }\n\n    .dataframe thead th {\n        text-align: right;\n    }\n</style>\n<table border=\"1\" class=\"dataframe\">\n  <thead>\n    <tr style=\"text-align: right;\">\n      <th></th>\n      <th>Film</th>\n      <th>Year</th>\n      <th>Actor</th>\n      <th>Director</th>\n      <th>Box Office</th>\n      <th>Budget</th>\n      <th>Bond Actor Salary</th>\n    </tr>\n  </thead>\n  <tbody>\n    <tr>\n      <th>0</th>\n      <td>Dr. No</td>\n      <td>1962</td>\n      <td>Sean Connery</td>\n      <td>Terence Young</td>\n      <td>448.8</td>\n      <td>7.0</td>\n      <td>0.6</td>\n    </tr>\n    <tr>\n      <th>1</th>\n      <td>From Russia with Love</td>\n      <td>1963</td>\n      <td>Sean Connery</td>\n      <td>Terence Young</td>\n      <td>543.8</td>\n      <td>12.6</td>\n      <td>1.6</td>\n    </tr>\n    <tr>\n      <th>2</th>\n      <td>Goldfinger</td>\n      <td>1964</td>\n      <td>Sean Connery</td>\n      <td>Guy Hamilton</td>\n      <td>820.4</td>\n      <td>18.6</td>\n      <td>3.2</td>\n    </tr>\n  </tbody>\n</table>\n</div>"
          },
          "metadata": {}
        }
      ]
    },
    {
      "cell_type": "code",
      "source": "bond.set_index(keys =  \"Film\", inplace = True)\nbond.head(3)",
      "metadata": {
        "trusted": true
      },
      "execution_count": 8,
      "outputs": [
        {
          "execution_count": 8,
          "output_type": "execute_result",
          "data": {
            "text/plain": "                       Year         Actor       Director  Box Office  Budget  \\\nFilm                                                                           \nDr. No                 1962  Sean Connery  Terence Young       448.8     7.0   \nFrom Russia with Love  1963  Sean Connery  Terence Young       543.8    12.6   \nGoldfinger             1964  Sean Connery   Guy Hamilton       820.4    18.6   \n\n                       Bond Actor Salary  \nFilm                                      \nDr. No                               0.6  \nFrom Russia with Love                1.6  \nGoldfinger                           3.2  ",
            "text/html": "<div>\n<style scoped>\n    .dataframe tbody tr th:only-of-type {\n        vertical-align: middle;\n    }\n\n    .dataframe tbody tr th {\n        vertical-align: top;\n    }\n\n    .dataframe thead th {\n        text-align: right;\n    }\n</style>\n<table border=\"1\" class=\"dataframe\">\n  <thead>\n    <tr style=\"text-align: right;\">\n      <th></th>\n      <th>Year</th>\n      <th>Actor</th>\n      <th>Director</th>\n      <th>Box Office</th>\n      <th>Budget</th>\n      <th>Bond Actor Salary</th>\n    </tr>\n    <tr>\n      <th>Film</th>\n      <th></th>\n      <th></th>\n      <th></th>\n      <th></th>\n      <th></th>\n      <th></th>\n    </tr>\n  </thead>\n  <tbody>\n    <tr>\n      <th>Dr. No</th>\n      <td>1962</td>\n      <td>Sean Connery</td>\n      <td>Terence Young</td>\n      <td>448.8</td>\n      <td>7.0</td>\n      <td>0.6</td>\n    </tr>\n    <tr>\n      <th>From Russia with Love</th>\n      <td>1963</td>\n      <td>Sean Connery</td>\n      <td>Terence Young</td>\n      <td>543.8</td>\n      <td>12.6</td>\n      <td>1.6</td>\n    </tr>\n    <tr>\n      <th>Goldfinger</th>\n      <td>1964</td>\n      <td>Sean Connery</td>\n      <td>Guy Hamilton</td>\n      <td>820.4</td>\n      <td>18.6</td>\n      <td>3.2</td>\n    </tr>\n  </tbody>\n</table>\n</div>"
          },
          "metadata": {}
        }
      ]
    },
    {
      "cell_type": "code",
      "source": "bond.reset_index().head(3)\nbond.reset_index(drop = False).head(3)",
      "metadata": {
        "trusted": true
      },
      "execution_count": 12,
      "outputs": [
        {
          "execution_count": 12,
          "output_type": "execute_result",
          "data": {
            "text/plain": "                    Film  Year         Actor       Director  Box Office  \\\n0                 Dr. No  1962  Sean Connery  Terence Young       448.8   \n1  From Russia with Love  1963  Sean Connery  Terence Young       543.8   \n2             Goldfinger  1964  Sean Connery   Guy Hamilton       820.4   \n\n   Budget  Bond Actor Salary  \n0     7.0                0.6  \n1    12.6                1.6  \n2    18.6                3.2  ",
            "text/html": "<div>\n<style scoped>\n    .dataframe tbody tr th:only-of-type {\n        vertical-align: middle;\n    }\n\n    .dataframe tbody tr th {\n        vertical-align: top;\n    }\n\n    .dataframe thead th {\n        text-align: right;\n    }\n</style>\n<table border=\"1\" class=\"dataframe\">\n  <thead>\n    <tr style=\"text-align: right;\">\n      <th></th>\n      <th>Film</th>\n      <th>Year</th>\n      <th>Actor</th>\n      <th>Director</th>\n      <th>Box Office</th>\n      <th>Budget</th>\n      <th>Bond Actor Salary</th>\n    </tr>\n  </thead>\n  <tbody>\n    <tr>\n      <th>0</th>\n      <td>Dr. No</td>\n      <td>1962</td>\n      <td>Sean Connery</td>\n      <td>Terence Young</td>\n      <td>448.8</td>\n      <td>7.0</td>\n      <td>0.6</td>\n    </tr>\n    <tr>\n      <th>1</th>\n      <td>From Russia with Love</td>\n      <td>1963</td>\n      <td>Sean Connery</td>\n      <td>Terence Young</td>\n      <td>543.8</td>\n      <td>12.6</td>\n      <td>1.6</td>\n    </tr>\n    <tr>\n      <th>2</th>\n      <td>Goldfinger</td>\n      <td>1964</td>\n      <td>Sean Connery</td>\n      <td>Guy Hamilton</td>\n      <td>820.4</td>\n      <td>18.6</td>\n      <td>3.2</td>\n    </tr>\n  </tbody>\n</table>\n</div>"
          },
          "metadata": {}
        }
      ]
    },
    {
      "cell_type": "code",
      "source": "bond.reset_index(drop = True).head(3)",
      "metadata": {
        "trusted": true
      },
      "execution_count": 13,
      "outputs": [
        {
          "execution_count": 13,
          "output_type": "execute_result",
          "data": {
            "text/plain": "   Year         Actor       Director  Box Office  Budget  Bond Actor Salary\n0  1962  Sean Connery  Terence Young       448.8     7.0                0.6\n1  1963  Sean Connery  Terence Young       543.8    12.6                1.6\n2  1964  Sean Connery   Guy Hamilton       820.4    18.6                3.2",
            "text/html": "<div>\n<style scoped>\n    .dataframe tbody tr th:only-of-type {\n        vertical-align: middle;\n    }\n\n    .dataframe tbody tr th {\n        vertical-align: top;\n    }\n\n    .dataframe thead th {\n        text-align: right;\n    }\n</style>\n<table border=\"1\" class=\"dataframe\">\n  <thead>\n    <tr style=\"text-align: right;\">\n      <th></th>\n      <th>Year</th>\n      <th>Actor</th>\n      <th>Director</th>\n      <th>Box Office</th>\n      <th>Budget</th>\n      <th>Bond Actor Salary</th>\n    </tr>\n  </thead>\n  <tbody>\n    <tr>\n      <th>0</th>\n      <td>1962</td>\n      <td>Sean Connery</td>\n      <td>Terence Young</td>\n      <td>448.8</td>\n      <td>7.0</td>\n      <td>0.6</td>\n    </tr>\n    <tr>\n      <th>1</th>\n      <td>1963</td>\n      <td>Sean Connery</td>\n      <td>Terence Young</td>\n      <td>543.8</td>\n      <td>12.6</td>\n      <td>1.6</td>\n    </tr>\n    <tr>\n      <th>2</th>\n      <td>1964</td>\n      <td>Sean Connery</td>\n      <td>Guy Hamilton</td>\n      <td>820.4</td>\n      <td>18.6</td>\n      <td>3.2</td>\n    </tr>\n  </tbody>\n</table>\n</div>"
          },
          "metadata": {}
        }
      ]
    },
    {
      "cell_type": "code",
      "source": "bond.set_index(keys = \"Year\").head(3)",
      "metadata": {
        "trusted": true
      },
      "execution_count": 18,
      "outputs": [
        {
          "execution_count": 18,
          "output_type": "execute_result",
          "data": {
            "text/plain": "             Actor       Director  Box Office  Budget  Bond Actor Salary\nYear                                                                    \n1962  Sean Connery  Terence Young       448.8     7.0                0.6\n1963  Sean Connery  Terence Young       543.8    12.6                1.6\n1964  Sean Connery   Guy Hamilton       820.4    18.6                3.2",
            "text/html": "<div>\n<style scoped>\n    .dataframe tbody tr th:only-of-type {\n        vertical-align: middle;\n    }\n\n    .dataframe tbody tr th {\n        vertical-align: top;\n    }\n\n    .dataframe thead th {\n        text-align: right;\n    }\n</style>\n<table border=\"1\" class=\"dataframe\">\n  <thead>\n    <tr style=\"text-align: right;\">\n      <th></th>\n      <th>Actor</th>\n      <th>Director</th>\n      <th>Box Office</th>\n      <th>Budget</th>\n      <th>Bond Actor Salary</th>\n    </tr>\n    <tr>\n      <th>Year</th>\n      <th></th>\n      <th></th>\n      <th></th>\n      <th></th>\n      <th></th>\n    </tr>\n  </thead>\n  <tbody>\n    <tr>\n      <th>1962</th>\n      <td>Sean Connery</td>\n      <td>Terence Young</td>\n      <td>448.8</td>\n      <td>7.0</td>\n      <td>0.6</td>\n    </tr>\n    <tr>\n      <th>1963</th>\n      <td>Sean Connery</td>\n      <td>Terence Young</td>\n      <td>543.8</td>\n      <td>12.6</td>\n      <td>1.6</td>\n    </tr>\n    <tr>\n      <th>1964</th>\n      <td>Sean Connery</td>\n      <td>Guy Hamilton</td>\n      <td>820.4</td>\n      <td>18.6</td>\n      <td>3.2</td>\n    </tr>\n  </tbody>\n</table>\n</div>"
          },
          "metadata": {}
        }
      ]
    },
    {
      "cell_type": "markdown",
      "source": "# Retrieve Row by Index Label with .loc() Accessor",
      "metadata": {}
    },
    {
      "cell_type": "code",
      "source": "bond = pd.read_csv(\"jamesbond.csv\")\nbond.head(3)",
      "metadata": {
        "trusted": true
      },
      "execution_count": 20,
      "outputs": [
        {
          "execution_count": 20,
          "output_type": "execute_result",
          "data": {
            "text/plain": "                    Film  Year         Actor       Director  Box Office  \\\n0                 Dr. No  1962  Sean Connery  Terence Young       448.8   \n1  From Russia with Love  1963  Sean Connery  Terence Young       543.8   \n2             Goldfinger  1964  Sean Connery   Guy Hamilton       820.4   \n\n   Budget  Bond Actor Salary  \n0     7.0                0.6  \n1    12.6                1.6  \n2    18.6                3.2  ",
            "text/html": "<div>\n<style scoped>\n    .dataframe tbody tr th:only-of-type {\n        vertical-align: middle;\n    }\n\n    .dataframe tbody tr th {\n        vertical-align: top;\n    }\n\n    .dataframe thead th {\n        text-align: right;\n    }\n</style>\n<table border=\"1\" class=\"dataframe\">\n  <thead>\n    <tr style=\"text-align: right;\">\n      <th></th>\n      <th>Film</th>\n      <th>Year</th>\n      <th>Actor</th>\n      <th>Director</th>\n      <th>Box Office</th>\n      <th>Budget</th>\n      <th>Bond Actor Salary</th>\n    </tr>\n  </thead>\n  <tbody>\n    <tr>\n      <th>0</th>\n      <td>Dr. No</td>\n      <td>1962</td>\n      <td>Sean Connery</td>\n      <td>Terence Young</td>\n      <td>448.8</td>\n      <td>7.0</td>\n      <td>0.6</td>\n    </tr>\n    <tr>\n      <th>1</th>\n      <td>From Russia with Love</td>\n      <td>1963</td>\n      <td>Sean Connery</td>\n      <td>Terence Young</td>\n      <td>543.8</td>\n      <td>12.6</td>\n      <td>1.6</td>\n    </tr>\n    <tr>\n      <th>2</th>\n      <td>Goldfinger</td>\n      <td>1964</td>\n      <td>Sean Connery</td>\n      <td>Guy Hamilton</td>\n      <td>820.4</td>\n      <td>18.6</td>\n      <td>3.2</td>\n    </tr>\n  </tbody>\n</table>\n</div>"
          },
          "metadata": {}
        }
      ]
    },
    {
      "cell_type": "markdown",
      "source": "# Retrieve Rows by Index Labels with .loc[] Accessor",
      "metadata": {}
    },
    {
      "cell_type": "code",
      "source": "bond = pd.read_csv(\"jamesbond.csv\", index_col = \"Film\")\nbond.sort_index(inplace = True) #sort keeps the low memory\nbond.head(3)",
      "metadata": {
        "trusted": true
      },
      "execution_count": 5,
      "outputs": [
        {
          "execution_count": 5,
          "output_type": "execute_result",
          "data": {
            "text/plain": "                  Year         Actor         Director  Box Office  Budget  \\\nFilm                                                                        \nA View to a Kill  1985   Roger Moore        John Glen       275.2    54.5   \nCasino Royale     2006  Daniel Craig  Martin Campbell       581.5   145.3   \nCasino Royale     1967   David Niven       Ken Hughes       315.0    85.0   \n\n                  Bond Actor Salary  \nFilm                                 \nA View to a Kill                9.1  \nCasino Royale                   3.3  \nCasino Royale                   NaN  ",
            "text/html": "<div>\n<style scoped>\n    .dataframe tbody tr th:only-of-type {\n        vertical-align: middle;\n    }\n\n    .dataframe tbody tr th {\n        vertical-align: top;\n    }\n\n    .dataframe thead th {\n        text-align: right;\n    }\n</style>\n<table border=\"1\" class=\"dataframe\">\n  <thead>\n    <tr style=\"text-align: right;\">\n      <th></th>\n      <th>Year</th>\n      <th>Actor</th>\n      <th>Director</th>\n      <th>Box Office</th>\n      <th>Budget</th>\n      <th>Bond Actor Salary</th>\n    </tr>\n    <tr>\n      <th>Film</th>\n      <th></th>\n      <th></th>\n      <th></th>\n      <th></th>\n      <th></th>\n      <th></th>\n    </tr>\n  </thead>\n  <tbody>\n    <tr>\n      <th>A View to a Kill</th>\n      <td>1985</td>\n      <td>Roger Moore</td>\n      <td>John Glen</td>\n      <td>275.2</td>\n      <td>54.5</td>\n      <td>9.1</td>\n    </tr>\n    <tr>\n      <th>Casino Royale</th>\n      <td>2006</td>\n      <td>Daniel Craig</td>\n      <td>Martin Campbell</td>\n      <td>581.5</td>\n      <td>145.3</td>\n      <td>3.3</td>\n    </tr>\n    <tr>\n      <th>Casino Royale</th>\n      <td>1967</td>\n      <td>David Niven</td>\n      <td>Ken Hughes</td>\n      <td>315.0</td>\n      <td>85.0</td>\n      <td>NaN</td>\n    </tr>\n  </tbody>\n</table>\n</div>"
          },
          "metadata": {}
        }
      ]
    },
    {
      "cell_type": "code",
      "source": "bond.loc[\"Goldfinger\"] #key in the roll name, series",
      "metadata": {
        "trusted": true
      },
      "execution_count": 7,
      "outputs": [
        {
          "execution_count": 7,
          "output_type": "execute_result",
          "data": {
            "text/plain": "Year                         1964\nActor                Sean Connery\nDirector             Guy Hamilton\nBox Office                  820.4\nBudget                       18.6\nBond Actor Salary             3.2\nName: Goldfinger, dtype: object"
          },
          "metadata": {}
        }
      ]
    },
    {
      "cell_type": "code",
      "source": "bond.loc[\"Casino Royale\"] #multiple rolls, dataframe",
      "metadata": {
        "trusted": true
      },
      "execution_count": 9,
      "outputs": [
        {
          "execution_count": 9,
          "output_type": "execute_result",
          "data": {
            "text/plain": "               Year         Actor         Director  Box Office  Budget  \\\nFilm                                                                     \nCasino Royale  2006  Daniel Craig  Martin Campbell       581.5   145.3   \nCasino Royale  1967   David Niven       Ken Hughes       315.0    85.0   \n\n               Bond Actor Salary  \nFilm                              \nCasino Royale                3.3  \nCasino Royale                NaN  ",
            "text/html": "<div>\n<style scoped>\n    .dataframe tbody tr th:only-of-type {\n        vertical-align: middle;\n    }\n\n    .dataframe tbody tr th {\n        vertical-align: top;\n    }\n\n    .dataframe thead th {\n        text-align: right;\n    }\n</style>\n<table border=\"1\" class=\"dataframe\">\n  <thead>\n    <tr style=\"text-align: right;\">\n      <th></th>\n      <th>Year</th>\n      <th>Actor</th>\n      <th>Director</th>\n      <th>Box Office</th>\n      <th>Budget</th>\n      <th>Bond Actor Salary</th>\n    </tr>\n    <tr>\n      <th>Film</th>\n      <th></th>\n      <th></th>\n      <th></th>\n      <th></th>\n      <th></th>\n      <th></th>\n    </tr>\n  </thead>\n  <tbody>\n    <tr>\n      <th>Casino Royale</th>\n      <td>2006</td>\n      <td>Daniel Craig</td>\n      <td>Martin Campbell</td>\n      <td>581.5</td>\n      <td>145.3</td>\n      <td>3.3</td>\n    </tr>\n    <tr>\n      <th>Casino Royale</th>\n      <td>1967</td>\n      <td>David Niven</td>\n      <td>Ken Hughes</td>\n      <td>315.0</td>\n      <td>85.0</td>\n      <td>NaN</td>\n    </tr>\n  </tbody>\n</table>\n</div>"
          },
          "metadata": {}
        }
      ]
    },
    {
      "cell_type": "code",
      "source": "bond.loc[\"Diamonde Are Forever\":\"From Russia with Love\"] \n# in list, a value after : is excluded, but index label will include",
      "metadata": {
        "trusted": true
      },
      "execution_count": 11,
      "outputs": [
        {
          "execution_count": 11,
          "output_type": "execute_result",
          "data": {
            "text/plain": "                       Year           Actor       Director  Box Office  \\\nFilm                                                                     \nDiamonds Are Forever   1971    Sean Connery   Guy Hamilton       442.5   \nDie Another Day        2002  Pierce Brosnan   Lee Tamahori       465.4   \nDr. No                 1962    Sean Connery  Terence Young       448.8   \nFor Your Eyes Only     1981     Roger Moore      John Glen       449.4   \nFrom Russia with Love  1963    Sean Connery  Terence Young       543.8   \n\n                       Budget  Bond Actor Salary  \nFilm                                              \nDiamonds Are Forever     34.7                5.8  \nDie Another Day         154.2               17.9  \nDr. No                    7.0                0.6  \nFor Your Eyes Only       60.2                NaN  \nFrom Russia with Love    12.6                1.6  ",
            "text/html": "<div>\n<style scoped>\n    .dataframe tbody tr th:only-of-type {\n        vertical-align: middle;\n    }\n\n    .dataframe tbody tr th {\n        vertical-align: top;\n    }\n\n    .dataframe thead th {\n        text-align: right;\n    }\n</style>\n<table border=\"1\" class=\"dataframe\">\n  <thead>\n    <tr style=\"text-align: right;\">\n      <th></th>\n      <th>Year</th>\n      <th>Actor</th>\n      <th>Director</th>\n      <th>Box Office</th>\n      <th>Budget</th>\n      <th>Bond Actor Salary</th>\n    </tr>\n    <tr>\n      <th>Film</th>\n      <th></th>\n      <th></th>\n      <th></th>\n      <th></th>\n      <th></th>\n      <th></th>\n    </tr>\n  </thead>\n  <tbody>\n    <tr>\n      <th>Diamonds Are Forever</th>\n      <td>1971</td>\n      <td>Sean Connery</td>\n      <td>Guy Hamilton</td>\n      <td>442.5</td>\n      <td>34.7</td>\n      <td>5.8</td>\n    </tr>\n    <tr>\n      <th>Die Another Day</th>\n      <td>2002</td>\n      <td>Pierce Brosnan</td>\n      <td>Lee Tamahori</td>\n      <td>465.4</td>\n      <td>154.2</td>\n      <td>17.9</td>\n    </tr>\n    <tr>\n      <th>Dr. No</th>\n      <td>1962</td>\n      <td>Sean Connery</td>\n      <td>Terence Young</td>\n      <td>448.8</td>\n      <td>7.0</td>\n      <td>0.6</td>\n    </tr>\n    <tr>\n      <th>For Your Eyes Only</th>\n      <td>1981</td>\n      <td>Roger Moore</td>\n      <td>John Glen</td>\n      <td>449.4</td>\n      <td>60.2</td>\n      <td>NaN</td>\n    </tr>\n    <tr>\n      <th>From Russia with Love</th>\n      <td>1963</td>\n      <td>Sean Connery</td>\n      <td>Terence Young</td>\n      <td>543.8</td>\n      <td>12.6</td>\n      <td>1.6</td>\n    </tr>\n  </tbody>\n</table>\n</div>"
          },
          "metadata": {}
        }
      ]
    },
    {
      "cell_type": "code",
      "source": "bond.loc[\"Diamonde Are Forever\":\"From Russia with Love\":2] ",
      "metadata": {
        "trusted": true
      },
      "execution_count": 12,
      "outputs": [
        {
          "execution_count": 12,
          "output_type": "execute_result",
          "data": {
            "text/plain": "                       Year         Actor       Director  Box Office  Budget  \\\nFilm                                                                           \nDiamonds Are Forever   1971  Sean Connery   Guy Hamilton       442.5    34.7   \nDr. No                 1962  Sean Connery  Terence Young       448.8     7.0   \nFrom Russia with Love  1963  Sean Connery  Terence Young       543.8    12.6   \n\n                       Bond Actor Salary  \nFilm                                      \nDiamonds Are Forever                 5.8  \nDr. No                               0.6  \nFrom Russia with Love                1.6  ",
            "text/html": "<div>\n<style scoped>\n    .dataframe tbody tr th:only-of-type {\n        vertical-align: middle;\n    }\n\n    .dataframe tbody tr th {\n        vertical-align: top;\n    }\n\n    .dataframe thead th {\n        text-align: right;\n    }\n</style>\n<table border=\"1\" class=\"dataframe\">\n  <thead>\n    <tr style=\"text-align: right;\">\n      <th></th>\n      <th>Year</th>\n      <th>Actor</th>\n      <th>Director</th>\n      <th>Box Office</th>\n      <th>Budget</th>\n      <th>Bond Actor Salary</th>\n    </tr>\n    <tr>\n      <th>Film</th>\n      <th></th>\n      <th></th>\n      <th></th>\n      <th></th>\n      <th></th>\n      <th></th>\n    </tr>\n  </thead>\n  <tbody>\n    <tr>\n      <th>Diamonds Are Forever</th>\n      <td>1971</td>\n      <td>Sean Connery</td>\n      <td>Guy Hamilton</td>\n      <td>442.5</td>\n      <td>34.7</td>\n      <td>5.8</td>\n    </tr>\n    <tr>\n      <th>Dr. No</th>\n      <td>1962</td>\n      <td>Sean Connery</td>\n      <td>Terence Young</td>\n      <td>448.8</td>\n      <td>7.0</td>\n      <td>0.6</td>\n    </tr>\n    <tr>\n      <th>From Russia with Love</th>\n      <td>1963</td>\n      <td>Sean Connery</td>\n      <td>Terence Young</td>\n      <td>543.8</td>\n      <td>12.6</td>\n      <td>1.6</td>\n    </tr>\n  </tbody>\n</table>\n</div>"
          },
          "metadata": {}
        }
      ]
    },
    {
      "cell_type": "code",
      "source": "bond.loc[[\"Die Another Day\", \"Octopussy\"]]",
      "metadata": {
        "trusted": true
      },
      "execution_count": 13,
      "outputs": [
        {
          "execution_count": 13,
          "output_type": "execute_result",
          "data": {
            "text/plain": "                 Year           Actor      Director  Box Office  Budget  \\\nFilm                                                                      \nDie Another Day  2002  Pierce Brosnan  Lee Tamahori       465.4   154.2   \nOctopussy        1983     Roger Moore     John Glen       373.8    53.9   \n\n                 Bond Actor Salary  \nFilm                                \nDie Another Day               17.9  \nOctopussy                      7.8  ",
            "text/html": "<div>\n<style scoped>\n    .dataframe tbody tr th:only-of-type {\n        vertical-align: middle;\n    }\n\n    .dataframe tbody tr th {\n        vertical-align: top;\n    }\n\n    .dataframe thead th {\n        text-align: right;\n    }\n</style>\n<table border=\"1\" class=\"dataframe\">\n  <thead>\n    <tr style=\"text-align: right;\">\n      <th></th>\n      <th>Year</th>\n      <th>Actor</th>\n      <th>Director</th>\n      <th>Box Office</th>\n      <th>Budget</th>\n      <th>Bond Actor Salary</th>\n    </tr>\n    <tr>\n      <th>Film</th>\n      <th></th>\n      <th></th>\n      <th></th>\n      <th></th>\n      <th></th>\n      <th></th>\n    </tr>\n  </thead>\n  <tbody>\n    <tr>\n      <th>Die Another Day</th>\n      <td>2002</td>\n      <td>Pierce Brosnan</td>\n      <td>Lee Tamahori</td>\n      <td>465.4</td>\n      <td>154.2</td>\n      <td>17.9</td>\n    </tr>\n    <tr>\n      <th>Octopussy</th>\n      <td>1983</td>\n      <td>Roger Moore</td>\n      <td>John Glen</td>\n      <td>373.8</td>\n      <td>53.9</td>\n      <td>7.8</td>\n    </tr>\n  </tbody>\n</table>\n</div>"
          },
          "metadata": {}
        }
      ]
    },
    {
      "cell_type": "code",
      "source": "\"Octopussy\" in bond.index",
      "metadata": {
        "trusted": true
      },
      "execution_count": 15,
      "outputs": [
        {
          "execution_count": 15,
          "output_type": "execute_result",
          "data": {
            "text/plain": "True"
          },
          "metadata": {}
        }
      ]
    },
    {
      "cell_type": "markdown",
      "source": "# Retrieve Rows by Index Position with iloc[] Accessor",
      "metadata": {}
    },
    {
      "cell_type": "code",
      "source": "bond = pd.read_csv(\"jamesbond.csv\")\nbond.head(3)",
      "metadata": {
        "trusted": true
      },
      "execution_count": 16,
      "outputs": [
        {
          "execution_count": 16,
          "output_type": "execute_result",
          "data": {
            "text/plain": "                    Film  Year         Actor       Director  Box Office  \\\n0                 Dr. No  1962  Sean Connery  Terence Young       448.8   \n1  From Russia with Love  1963  Sean Connery  Terence Young       543.8   \n2             Goldfinger  1964  Sean Connery   Guy Hamilton       820.4   \n\n   Budget  Bond Actor Salary  \n0     7.0                0.6  \n1    12.6                1.6  \n2    18.6                3.2  ",
            "text/html": "<div>\n<style scoped>\n    .dataframe tbody tr th:only-of-type {\n        vertical-align: middle;\n    }\n\n    .dataframe tbody tr th {\n        vertical-align: top;\n    }\n\n    .dataframe thead th {\n        text-align: right;\n    }\n</style>\n<table border=\"1\" class=\"dataframe\">\n  <thead>\n    <tr style=\"text-align: right;\">\n      <th></th>\n      <th>Film</th>\n      <th>Year</th>\n      <th>Actor</th>\n      <th>Director</th>\n      <th>Box Office</th>\n      <th>Budget</th>\n      <th>Bond Actor Salary</th>\n    </tr>\n  </thead>\n  <tbody>\n    <tr>\n      <th>0</th>\n      <td>Dr. No</td>\n      <td>1962</td>\n      <td>Sean Connery</td>\n      <td>Terence Young</td>\n      <td>448.8</td>\n      <td>7.0</td>\n      <td>0.6</td>\n    </tr>\n    <tr>\n      <th>1</th>\n      <td>From Russia with Love</td>\n      <td>1963</td>\n      <td>Sean Connery</td>\n      <td>Terence Young</td>\n      <td>543.8</td>\n      <td>12.6</td>\n      <td>1.6</td>\n    </tr>\n    <tr>\n      <th>2</th>\n      <td>Goldfinger</td>\n      <td>1964</td>\n      <td>Sean Connery</td>\n      <td>Guy Hamilton</td>\n      <td>820.4</td>\n      <td>18.6</td>\n      <td>3.2</td>\n    </tr>\n  </tbody>\n</table>\n</div>"
          },
          "metadata": {}
        }
      ]
    },
    {
      "cell_type": "code",
      "source": "bond.iloc[[15,20]]",
      "metadata": {
        "trusted": true
      },
      "execution_count": 19,
      "outputs": [
        {
          "execution_count": 19,
          "output_type": "execute_result",
          "data": {
            "text/plain": "                       Film  Year           Actor       Director  Box Office  \\\n15         A View to a Kill  1985     Roger Moore      John Glen       275.2   \n20  The World Is Not Enough  1999  Pierce Brosnan  Michael Apted       439.5   \n\n    Budget  Bond Actor Salary  \n15    54.5                9.1  \n20   158.3               13.5  ",
            "text/html": "<div>\n<style scoped>\n    .dataframe tbody tr th:only-of-type {\n        vertical-align: middle;\n    }\n\n    .dataframe tbody tr th {\n        vertical-align: top;\n    }\n\n    .dataframe thead th {\n        text-align: right;\n    }\n</style>\n<table border=\"1\" class=\"dataframe\">\n  <thead>\n    <tr style=\"text-align: right;\">\n      <th></th>\n      <th>Film</th>\n      <th>Year</th>\n      <th>Actor</th>\n      <th>Director</th>\n      <th>Box Office</th>\n      <th>Budget</th>\n      <th>Bond Actor Salary</th>\n    </tr>\n  </thead>\n  <tbody>\n    <tr>\n      <th>15</th>\n      <td>A View to a Kill</td>\n      <td>1985</td>\n      <td>Roger Moore</td>\n      <td>John Glen</td>\n      <td>275.2</td>\n      <td>54.5</td>\n      <td>9.1</td>\n    </tr>\n    <tr>\n      <th>20</th>\n      <td>The World Is Not Enough</td>\n      <td>1999</td>\n      <td>Pierce Brosnan</td>\n      <td>Michael Apted</td>\n      <td>439.5</td>\n      <td>158.3</td>\n      <td>13.5</td>\n    </tr>\n  </tbody>\n</table>\n</div>"
          },
          "metadata": {}
        }
      ]
    },
    {
      "cell_type": "code",
      "source": "bond.iloc[2]",
      "metadata": {
        "trusted": true
      },
      "execution_count": 20,
      "outputs": [
        {
          "execution_count": 20,
          "output_type": "execute_result",
          "data": {
            "text/plain": "Film                   Goldfinger\nYear                         1964\nActor                Sean Connery\nDirector             Guy Hamilton\nBox Office                  820.4\nBudget                       18.6\nBond Actor Salary             3.2\nName: 2, dtype: object"
          },
          "metadata": {}
        }
      ]
    },
    {
      "cell_type": "code",
      "source": "bond.iloc[4:8] #the end point is excluded",
      "metadata": {
        "trusted": true
      },
      "execution_count": 22,
      "outputs": [
        {
          "execution_count": 22,
          "output_type": "execute_result",
          "data": {
            "text/plain": "                              Film  Year           Actor       Director  \\\n4                    Casino Royale  1967     David Niven     Ken Hughes   \n5              You Only Live Twice  1967    Sean Connery  Lewis Gilbert   \n6  On Her Majesty's Secret Service  1969  George Lazenby  Peter R. Hunt   \n7             Diamonds Are Forever  1971    Sean Connery   Guy Hamilton   \n\n   Box Office  Budget  Bond Actor Salary  \n4       315.0    85.0                NaN  \n5       514.2    59.9                4.4  \n6       291.5    37.3                0.6  \n7       442.5    34.7                5.8  ",
            "text/html": "<div>\n<style scoped>\n    .dataframe tbody tr th:only-of-type {\n        vertical-align: middle;\n    }\n\n    .dataframe tbody tr th {\n        vertical-align: top;\n    }\n\n    .dataframe thead th {\n        text-align: right;\n    }\n</style>\n<table border=\"1\" class=\"dataframe\">\n  <thead>\n    <tr style=\"text-align: right;\">\n      <th></th>\n      <th>Film</th>\n      <th>Year</th>\n      <th>Actor</th>\n      <th>Director</th>\n      <th>Box Office</th>\n      <th>Budget</th>\n      <th>Bond Actor Salary</th>\n    </tr>\n  </thead>\n  <tbody>\n    <tr>\n      <th>4</th>\n      <td>Casino Royale</td>\n      <td>1967</td>\n      <td>David Niven</td>\n      <td>Ken Hughes</td>\n      <td>315.0</td>\n      <td>85.0</td>\n      <td>NaN</td>\n    </tr>\n    <tr>\n      <th>5</th>\n      <td>You Only Live Twice</td>\n      <td>1967</td>\n      <td>Sean Connery</td>\n      <td>Lewis Gilbert</td>\n      <td>514.2</td>\n      <td>59.9</td>\n      <td>4.4</td>\n    </tr>\n    <tr>\n      <th>6</th>\n      <td>On Her Majesty's Secret Service</td>\n      <td>1969</td>\n      <td>George Lazenby</td>\n      <td>Peter R. Hunt</td>\n      <td>291.5</td>\n      <td>37.3</td>\n      <td>0.6</td>\n    </tr>\n    <tr>\n      <th>7</th>\n      <td>Diamonds Are Forever</td>\n      <td>1971</td>\n      <td>Sean Connery</td>\n      <td>Guy Hamilton</td>\n      <td>442.5</td>\n      <td>34.7</td>\n      <td>5.8</td>\n    </tr>\n  </tbody>\n</table>\n</div>"
          },
          "metadata": {}
        }
      ]
    },
    {
      "cell_type": "code",
      "source": "bond.set_index(\"Film\", inplace = True)\nbond.sort_index(inplace = True)\nbond.head(3)",
      "metadata": {
        "trusted": true
      },
      "execution_count": 23,
      "outputs": [
        {
          "execution_count": 23,
          "output_type": "execute_result",
          "data": {
            "text/plain": "                  Year         Actor         Director  Box Office  Budget  \\\nFilm                                                                        \nA View to a Kill  1985   Roger Moore        John Glen       275.2    54.5   \nCasino Royale     2006  Daniel Craig  Martin Campbell       581.5   145.3   \nCasino Royale     1967   David Niven       Ken Hughes       315.0    85.0   \n\n                  Bond Actor Salary  \nFilm                                 \nA View to a Kill                9.1  \nCasino Royale                   3.3  \nCasino Royale                   NaN  ",
            "text/html": "<div>\n<style scoped>\n    .dataframe tbody tr th:only-of-type {\n        vertical-align: middle;\n    }\n\n    .dataframe tbody tr th {\n        vertical-align: top;\n    }\n\n    .dataframe thead th {\n        text-align: right;\n    }\n</style>\n<table border=\"1\" class=\"dataframe\">\n  <thead>\n    <tr style=\"text-align: right;\">\n      <th></th>\n      <th>Year</th>\n      <th>Actor</th>\n      <th>Director</th>\n      <th>Box Office</th>\n      <th>Budget</th>\n      <th>Bond Actor Salary</th>\n    </tr>\n    <tr>\n      <th>Film</th>\n      <th></th>\n      <th></th>\n      <th></th>\n      <th></th>\n      <th></th>\n      <th></th>\n    </tr>\n  </thead>\n  <tbody>\n    <tr>\n      <th>A View to a Kill</th>\n      <td>1985</td>\n      <td>Roger Moore</td>\n      <td>John Glen</td>\n      <td>275.2</td>\n      <td>54.5</td>\n      <td>9.1</td>\n    </tr>\n    <tr>\n      <th>Casino Royale</th>\n      <td>2006</td>\n      <td>Daniel Craig</td>\n      <td>Martin Campbell</td>\n      <td>581.5</td>\n      <td>145.3</td>\n      <td>3.3</td>\n    </tr>\n    <tr>\n      <th>Casino Royale</th>\n      <td>1967</td>\n      <td>David Niven</td>\n      <td>Ken Hughes</td>\n      <td>315.0</td>\n      <td>85.0</td>\n      <td>NaN</td>\n    </tr>\n  </tbody>\n</table>\n</div>"
          },
          "metadata": {}
        }
      ]
    },
    {
      "cell_type": "code",
      "source": "bond.loc[\"GoldenEye\"]",
      "metadata": {
        "trusted": true
      },
      "execution_count": 24,
      "outputs": [
        {
          "execution_count": 24,
          "output_type": "execute_result",
          "data": {
            "text/plain": "Year                            1995\nActor                 Pierce Brosnan\nDirector             Martin Campbell\nBox Office                     518.5\nBudget                          76.9\nBond Actor Salary                5.1\nName: GoldenEye, dtype: object"
          },
          "metadata": {}
        }
      ]
    },
    {
      "cell_type": "code",
      "source": "bond.iloc[15:18]",
      "metadata": {
        "trusted": true
      },
      "execution_count": 26,
      "outputs": [
        {
          "execution_count": 26,
          "output_type": "execute_result",
          "data": {
            "text/plain": "                                 Year           Actor       Director  \\\nFilm                                                                   \nOn Her Majesty's Secret Service  1969  George Lazenby  Peter R. Hunt   \nQuantum of Solace                2008    Daniel Craig   Marc Forster   \nSkyfall                          2012    Daniel Craig     Sam Mendes   \n\n                                 Box Office  Budget  Bond Actor Salary  \nFilm                                                                    \nOn Her Majesty's Secret Service       291.5    37.3                0.6  \nQuantum of Solace                     514.2   181.4                8.1  \nSkyfall                               943.5   170.2               14.5  ",
            "text/html": "<div>\n<style scoped>\n    .dataframe tbody tr th:only-of-type {\n        vertical-align: middle;\n    }\n\n    .dataframe tbody tr th {\n        vertical-align: top;\n    }\n\n    .dataframe thead th {\n        text-align: right;\n    }\n</style>\n<table border=\"1\" class=\"dataframe\">\n  <thead>\n    <tr style=\"text-align: right;\">\n      <th></th>\n      <th>Year</th>\n      <th>Actor</th>\n      <th>Director</th>\n      <th>Box Office</th>\n      <th>Budget</th>\n      <th>Bond Actor Salary</th>\n    </tr>\n    <tr>\n      <th>Film</th>\n      <th></th>\n      <th></th>\n      <th></th>\n      <th></th>\n      <th></th>\n      <th></th>\n    </tr>\n  </thead>\n  <tbody>\n    <tr>\n      <th>On Her Majesty's Secret Service</th>\n      <td>1969</td>\n      <td>George Lazenby</td>\n      <td>Peter R. Hunt</td>\n      <td>291.5</td>\n      <td>37.3</td>\n      <td>0.6</td>\n    </tr>\n    <tr>\n      <th>Quantum of Solace</th>\n      <td>2008</td>\n      <td>Daniel Craig</td>\n      <td>Marc Forster</td>\n      <td>514.2</td>\n      <td>181.4</td>\n      <td>8.1</td>\n    </tr>\n    <tr>\n      <th>Skyfall</th>\n      <td>2012</td>\n      <td>Daniel Craig</td>\n      <td>Sam Mendes</td>\n      <td>943.5</td>\n      <td>170.2</td>\n      <td>14.5</td>\n    </tr>\n  </tbody>\n</table>\n</div>"
          },
          "metadata": {}
        }
      ]
    },
    {
      "cell_type": "markdown",
      "source": "# Second Arguments to loc and iloc Accessors",
      "metadata": {}
    },
    {
      "cell_type": "code",
      "source": "bond = pd.read_csv(\"jamesbond.csv\", index_col = \"Film\")\nbond.sort_index(inplace = True) #sort keeps the low memory\nbond.head(3)",
      "metadata": {
        "trusted": true
      },
      "execution_count": 27,
      "outputs": [
        {
          "execution_count": 27,
          "output_type": "execute_result",
          "data": {
            "text/plain": "                  Year         Actor         Director  Box Office  Budget  \\\nFilm                                                                        \nA View to a Kill  1985   Roger Moore        John Glen       275.2    54.5   \nCasino Royale     2006  Daniel Craig  Martin Campbell       581.5   145.3   \nCasino Royale     1967   David Niven       Ken Hughes       315.0    85.0   \n\n                  Bond Actor Salary  \nFilm                                 \nA View to a Kill                9.1  \nCasino Royale                   3.3  \nCasino Royale                   NaN  ",
            "text/html": "<div>\n<style scoped>\n    .dataframe tbody tr th:only-of-type {\n        vertical-align: middle;\n    }\n\n    .dataframe tbody tr th {\n        vertical-align: top;\n    }\n\n    .dataframe thead th {\n        text-align: right;\n    }\n</style>\n<table border=\"1\" class=\"dataframe\">\n  <thead>\n    <tr style=\"text-align: right;\">\n      <th></th>\n      <th>Year</th>\n      <th>Actor</th>\n      <th>Director</th>\n      <th>Box Office</th>\n      <th>Budget</th>\n      <th>Bond Actor Salary</th>\n    </tr>\n    <tr>\n      <th>Film</th>\n      <th></th>\n      <th></th>\n      <th></th>\n      <th></th>\n      <th></th>\n      <th></th>\n    </tr>\n  </thead>\n  <tbody>\n    <tr>\n      <th>A View to a Kill</th>\n      <td>1985</td>\n      <td>Roger Moore</td>\n      <td>John Glen</td>\n      <td>275.2</td>\n      <td>54.5</td>\n      <td>9.1</td>\n    </tr>\n    <tr>\n      <th>Casino Royale</th>\n      <td>2006</td>\n      <td>Daniel Craig</td>\n      <td>Martin Campbell</td>\n      <td>581.5</td>\n      <td>145.3</td>\n      <td>3.3</td>\n    </tr>\n    <tr>\n      <th>Casino Royale</th>\n      <td>1967</td>\n      <td>David Niven</td>\n      <td>Ken Hughes</td>\n      <td>315.0</td>\n      <td>85.0</td>\n      <td>NaN</td>\n    </tr>\n  </tbody>\n</table>\n</div>"
          },
          "metadata": {}
        }
      ]
    },
    {
      "cell_type": "code",
      "source": "bond.loc[\"Moonraker\", \"Actor\"]\n# find actor who played in Moonraker",
      "metadata": {
        "trusted": true
      },
      "execution_count": 29,
      "outputs": [
        {
          "execution_count": 29,
          "output_type": "execute_result",
          "data": {
            "text/plain": "'Roger Moore'"
          },
          "metadata": {}
        }
      ]
    },
    {
      "cell_type": "code",
      "source": "bond.loc[\"Moonraker\", [\"Director\",\"Box Office\"]]",
      "metadata": {
        "trusted": true
      },
      "execution_count": 31,
      "outputs": [
        {
          "execution_count": 31,
          "output_type": "execute_result",
          "data": {
            "text/plain": "Director      Lewis Gilbert\nBox Office            535.0\nName: Moonraker, dtype: object"
          },
          "metadata": {}
        }
      ]
    },
    {
      "cell_type": "code",
      "source": "bond.loc[[\"Moonraker\", \"A View to a Kill\"], [\"Director\",\"Box Office\"]]",
      "metadata": {
        "trusted": true
      },
      "execution_count": 33,
      "outputs": [
        {
          "execution_count": 33,
          "output_type": "execute_result",
          "data": {
            "text/plain": "                       Director  Box Office\nFilm                                       \nMoonraker         Lewis Gilbert       535.0\nA View to a Kill      John Glen       275.2",
            "text/html": "<div>\n<style scoped>\n    .dataframe tbody tr th:only-of-type {\n        vertical-align: middle;\n    }\n\n    .dataframe tbody tr th {\n        vertical-align: top;\n    }\n\n    .dataframe thead th {\n        text-align: right;\n    }\n</style>\n<table border=\"1\" class=\"dataframe\">\n  <thead>\n    <tr style=\"text-align: right;\">\n      <th></th>\n      <th>Director</th>\n      <th>Box Office</th>\n    </tr>\n    <tr>\n      <th>Film</th>\n      <th></th>\n      <th></th>\n    </tr>\n  </thead>\n  <tbody>\n    <tr>\n      <th>Moonraker</th>\n      <td>Lewis Gilbert</td>\n      <td>535.0</td>\n    </tr>\n    <tr>\n      <th>A View to a Kill</th>\n      <td>John Glen</td>\n      <td>275.2</td>\n    </tr>\n  </tbody>\n</table>\n</div>"
          },
          "metadata": {}
        }
      ]
    },
    {
      "cell_type": "code",
      "source": "bond.loc[\"Moonraker\", \"Director\":\"Budget\"]",
      "metadata": {
        "trusted": true
      },
      "execution_count": 35,
      "outputs": [
        {
          "execution_count": 35,
          "output_type": "execute_result",
          "data": {
            "text/plain": "Director      Lewis Gilbert\nBox Office            535.0\nBudget                 91.5\nName: Moonraker, dtype: object"
          },
          "metadata": {}
        }
      ]
    },
    {
      "cell_type": "code",
      "source": "bond.loc[\"Moonraker\":\"Thunderball\", \"Director\":\"Budget\"]",
      "metadata": {
        "trusted": true
      },
      "execution_count": 36,
      "outputs": [
        {
          "execution_count": 36,
          "output_type": "execute_result",
          "data": {
            "text/plain": "                                       Director  Box Office  Budget\nFilm                                                               \nMoonraker                         Lewis Gilbert       535.0    91.5\nNever Say Never Again            Irvin Kershner       380.0    86.0\nOctopussy                             John Glen       373.8    53.9\nOn Her Majesty's Secret Service   Peter R. Hunt       291.5    37.3\nQuantum of Solace                  Marc Forster       514.2   181.4\nSkyfall                              Sam Mendes       943.5   170.2\nSpectre                              Sam Mendes       726.7   206.3\nThe Living Daylights                  John Glen       313.5    68.8\nThe Man with the Golden Gun        Guy Hamilton       334.0    27.7\nThe Spy Who Loved Me              Lewis Gilbert       533.0    45.1\nThe World Is Not Enough           Michael Apted       439.5   158.3\nThunderball                       Terence Young       848.1    41.9",
            "text/html": "<div>\n<style scoped>\n    .dataframe tbody tr th:only-of-type {\n        vertical-align: middle;\n    }\n\n    .dataframe tbody tr th {\n        vertical-align: top;\n    }\n\n    .dataframe thead th {\n        text-align: right;\n    }\n</style>\n<table border=\"1\" class=\"dataframe\">\n  <thead>\n    <tr style=\"text-align: right;\">\n      <th></th>\n      <th>Director</th>\n      <th>Box Office</th>\n      <th>Budget</th>\n    </tr>\n    <tr>\n      <th>Film</th>\n      <th></th>\n      <th></th>\n      <th></th>\n    </tr>\n  </thead>\n  <tbody>\n    <tr>\n      <th>Moonraker</th>\n      <td>Lewis Gilbert</td>\n      <td>535.0</td>\n      <td>91.5</td>\n    </tr>\n    <tr>\n      <th>Never Say Never Again</th>\n      <td>Irvin Kershner</td>\n      <td>380.0</td>\n      <td>86.0</td>\n    </tr>\n    <tr>\n      <th>Octopussy</th>\n      <td>John Glen</td>\n      <td>373.8</td>\n      <td>53.9</td>\n    </tr>\n    <tr>\n      <th>On Her Majesty's Secret Service</th>\n      <td>Peter R. Hunt</td>\n      <td>291.5</td>\n      <td>37.3</td>\n    </tr>\n    <tr>\n      <th>Quantum of Solace</th>\n      <td>Marc Forster</td>\n      <td>514.2</td>\n      <td>181.4</td>\n    </tr>\n    <tr>\n      <th>Skyfall</th>\n      <td>Sam Mendes</td>\n      <td>943.5</td>\n      <td>170.2</td>\n    </tr>\n    <tr>\n      <th>Spectre</th>\n      <td>Sam Mendes</td>\n      <td>726.7</td>\n      <td>206.3</td>\n    </tr>\n    <tr>\n      <th>The Living Daylights</th>\n      <td>John Glen</td>\n      <td>313.5</td>\n      <td>68.8</td>\n    </tr>\n    <tr>\n      <th>The Man with the Golden Gun</th>\n      <td>Guy Hamilton</td>\n      <td>334.0</td>\n      <td>27.7</td>\n    </tr>\n    <tr>\n      <th>The Spy Who Loved Me</th>\n      <td>Lewis Gilbert</td>\n      <td>533.0</td>\n      <td>45.1</td>\n    </tr>\n    <tr>\n      <th>The World Is Not Enough</th>\n      <td>Michael Apted</td>\n      <td>439.5</td>\n      <td>158.3</td>\n    </tr>\n    <tr>\n      <th>Thunderball</th>\n      <td>Terence Young</td>\n      <td>848.1</td>\n      <td>41.9</td>\n    </tr>\n  </tbody>\n</table>\n</div>"
          },
          "metadata": {}
        }
      ]
    },
    {
      "cell_type": "code",
      "source": "bond.iloc[14,2]",
      "metadata": {
        "trusted": true
      },
      "execution_count": 38,
      "outputs": [
        {
          "execution_count": 38,
          "output_type": "execute_result",
          "data": {
            "text/plain": "'John Glen'"
          },
          "metadata": {}
        }
      ]
    },
    {
      "cell_type": "code",
      "source": "bond.iloc[14,2:5]",
      "metadata": {
        "trusted": true
      },
      "execution_count": 39,
      "outputs": [
        {
          "execution_count": 39,
          "output_type": "execute_result",
          "data": {
            "text/plain": "Director      John Glen\nBox Office        373.8\nBudget             53.9\nName: Octopussy, dtype: object"
          },
          "metadata": {}
        }
      ]
    },
    {
      "cell_type": "code",
      "source": "bond.iloc[:14,2:]",
      "metadata": {
        "trusted": true
      },
      "execution_count": 40,
      "outputs": [
        {
          "execution_count": 40,
          "output_type": "execute_result",
          "data": {
            "text/plain": "                              Director  Box Office  Budget  Bond Actor Salary\nFilm                                                                         \nA View to a Kill             John Glen       275.2    54.5                9.1\nCasino Royale          Martin Campbell       581.5   145.3                3.3\nCasino Royale               Ken Hughes       315.0    85.0                NaN\nDiamonds Are Forever      Guy Hamilton       442.5    34.7                5.8\nDie Another Day           Lee Tamahori       465.4   154.2               17.9\nDr. No                   Terence Young       448.8     7.0                0.6\nFor Your Eyes Only           John Glen       449.4    60.2                NaN\nFrom Russia with Love    Terence Young       543.8    12.6                1.6\nGoldenEye              Martin Campbell       518.5    76.9                5.1\nGoldfinger                Guy Hamilton       820.4    18.6                3.2\nLicence to Kill              John Glen       250.9    56.7                7.9\nLive and Let Die          Guy Hamilton       460.3    30.8                NaN\nMoonraker                Lewis Gilbert       535.0    91.5                NaN\nNever Say Never Again   Irvin Kershner       380.0    86.0                NaN",
            "text/html": "<div>\n<style scoped>\n    .dataframe tbody tr th:only-of-type {\n        vertical-align: middle;\n    }\n\n    .dataframe tbody tr th {\n        vertical-align: top;\n    }\n\n    .dataframe thead th {\n        text-align: right;\n    }\n</style>\n<table border=\"1\" class=\"dataframe\">\n  <thead>\n    <tr style=\"text-align: right;\">\n      <th></th>\n      <th>Director</th>\n      <th>Box Office</th>\n      <th>Budget</th>\n      <th>Bond Actor Salary</th>\n    </tr>\n    <tr>\n      <th>Film</th>\n      <th></th>\n      <th></th>\n      <th></th>\n      <th></th>\n    </tr>\n  </thead>\n  <tbody>\n    <tr>\n      <th>A View to a Kill</th>\n      <td>John Glen</td>\n      <td>275.2</td>\n      <td>54.5</td>\n      <td>9.1</td>\n    </tr>\n    <tr>\n      <th>Casino Royale</th>\n      <td>Martin Campbell</td>\n      <td>581.5</td>\n      <td>145.3</td>\n      <td>3.3</td>\n    </tr>\n    <tr>\n      <th>Casino Royale</th>\n      <td>Ken Hughes</td>\n      <td>315.0</td>\n      <td>85.0</td>\n      <td>NaN</td>\n    </tr>\n    <tr>\n      <th>Diamonds Are Forever</th>\n      <td>Guy Hamilton</td>\n      <td>442.5</td>\n      <td>34.7</td>\n      <td>5.8</td>\n    </tr>\n    <tr>\n      <th>Die Another Day</th>\n      <td>Lee Tamahori</td>\n      <td>465.4</td>\n      <td>154.2</td>\n      <td>17.9</td>\n    </tr>\n    <tr>\n      <th>Dr. No</th>\n      <td>Terence Young</td>\n      <td>448.8</td>\n      <td>7.0</td>\n      <td>0.6</td>\n    </tr>\n    <tr>\n      <th>For Your Eyes Only</th>\n      <td>John Glen</td>\n      <td>449.4</td>\n      <td>60.2</td>\n      <td>NaN</td>\n    </tr>\n    <tr>\n      <th>From Russia with Love</th>\n      <td>Terence Young</td>\n      <td>543.8</td>\n      <td>12.6</td>\n      <td>1.6</td>\n    </tr>\n    <tr>\n      <th>GoldenEye</th>\n      <td>Martin Campbell</td>\n      <td>518.5</td>\n      <td>76.9</td>\n      <td>5.1</td>\n    </tr>\n    <tr>\n      <th>Goldfinger</th>\n      <td>Guy Hamilton</td>\n      <td>820.4</td>\n      <td>18.6</td>\n      <td>3.2</td>\n    </tr>\n    <tr>\n      <th>Licence to Kill</th>\n      <td>John Glen</td>\n      <td>250.9</td>\n      <td>56.7</td>\n      <td>7.9</td>\n    </tr>\n    <tr>\n      <th>Live and Let Die</th>\n      <td>Guy Hamilton</td>\n      <td>460.3</td>\n      <td>30.8</td>\n      <td>NaN</td>\n    </tr>\n    <tr>\n      <th>Moonraker</th>\n      <td>Lewis Gilbert</td>\n      <td>535.0</td>\n      <td>91.5</td>\n      <td>NaN</td>\n    </tr>\n    <tr>\n      <th>Never Say Never Again</th>\n      <td>Irvin Kershner</td>\n      <td>380.0</td>\n      <td>86.0</td>\n      <td>NaN</td>\n    </tr>\n  </tbody>\n</table>\n</div>"
          },
          "metadata": {}
        }
      ]
    },
    {
      "cell_type": "markdown",
      "source": "# Set New Value for a Specific Cell",
      "metadata": {}
    },
    {
      "cell_type": "code",
      "source": "bond = pd.read_csv(\"jamesbond.csv\", index_col = \"Film\")\nbond.sort_index(inplace = True) #sort keeps the low memory\nbond.head(3)",
      "metadata": {
        "trusted": true
      },
      "execution_count": 41,
      "outputs": [
        {
          "execution_count": 41,
          "output_type": "execute_result",
          "data": {
            "text/plain": "                  Year         Actor         Director  Box Office  Budget  \\\nFilm                                                                        \nA View to a Kill  1985   Roger Moore        John Glen       275.2    54.5   \nCasino Royale     2006  Daniel Craig  Martin Campbell       581.5   145.3   \nCasino Royale     1967   David Niven       Ken Hughes       315.0    85.0   \n\n                  Bond Actor Salary  \nFilm                                 \nA View to a Kill                9.1  \nCasino Royale                   3.3  \nCasino Royale                   NaN  ",
            "text/html": "<div>\n<style scoped>\n    .dataframe tbody tr th:only-of-type {\n        vertical-align: middle;\n    }\n\n    .dataframe tbody tr th {\n        vertical-align: top;\n    }\n\n    .dataframe thead th {\n        text-align: right;\n    }\n</style>\n<table border=\"1\" class=\"dataframe\">\n  <thead>\n    <tr style=\"text-align: right;\">\n      <th></th>\n      <th>Year</th>\n      <th>Actor</th>\n      <th>Director</th>\n      <th>Box Office</th>\n      <th>Budget</th>\n      <th>Bond Actor Salary</th>\n    </tr>\n    <tr>\n      <th>Film</th>\n      <th></th>\n      <th></th>\n      <th></th>\n      <th></th>\n      <th></th>\n      <th></th>\n    </tr>\n  </thead>\n  <tbody>\n    <tr>\n      <th>A View to a Kill</th>\n      <td>1985</td>\n      <td>Roger Moore</td>\n      <td>John Glen</td>\n      <td>275.2</td>\n      <td>54.5</td>\n      <td>9.1</td>\n    </tr>\n    <tr>\n      <th>Casino Royale</th>\n      <td>2006</td>\n      <td>Daniel Craig</td>\n      <td>Martin Campbell</td>\n      <td>581.5</td>\n      <td>145.3</td>\n      <td>3.3</td>\n    </tr>\n    <tr>\n      <th>Casino Royale</th>\n      <td>1967</td>\n      <td>David Niven</td>\n      <td>Ken Hughes</td>\n      <td>315.0</td>\n      <td>85.0</td>\n      <td>NaN</td>\n    </tr>\n  </tbody>\n</table>\n</div>"
          },
          "metadata": {}
        }
      ]
    },
    {
      "cell_type": "code",
      "source": "bond.loc[\"Dr. No\", \"Actor\"]",
      "metadata": {
        "trusted": true
      },
      "execution_count": 42,
      "outputs": [
        {
          "execution_count": 42,
          "output_type": "execute_result",
          "data": {
            "text/plain": "'Sean Connery'"
          },
          "metadata": {}
        }
      ]
    },
    {
      "cell_type": "code",
      "source": "bond.loc[\"Dr. No\", \"Actor\"] = \"Sir Sean Connery\"",
      "metadata": {
        "trusted": true
      },
      "execution_count": 43,
      "outputs": []
    },
    {
      "cell_type": "code",
      "source": "bond.loc[\"Dr. No\", \"Actor\"]",
      "metadata": {
        "trusted": true
      },
      "execution_count": 44,
      "outputs": [
        {
          "execution_count": 44,
          "output_type": "execute_result",
          "data": {
            "text/plain": "'Sir Sean Connery'"
          },
          "metadata": {}
        }
      ]
    },
    {
      "cell_type": "code",
      "source": "bond.loc[\"Dr. No\", [\"Box Office\",\"Budget\",\"Bond Actor Salary\"]]",
      "metadata": {
        "trusted": true
      },
      "execution_count": 45,
      "outputs": [
        {
          "execution_count": 45,
          "output_type": "execute_result",
          "data": {
            "text/plain": "Box Office           448.8\nBudget                 7.0\nBond Actor Salary      0.6\nName: Dr. No, dtype: object"
          },
          "metadata": {}
        }
      ]
    },
    {
      "cell_type": "code",
      "source": "bond.loc[\"Dr. No\", [\"Box Office\",\"Budget\",\"Bond Actor Salary\"]] = [448000000,7000000,600000]",
      "metadata": {
        "trusted": true
      },
      "execution_count": 46,
      "outputs": []
    },
    {
      "cell_type": "code",
      "source": "bond.loc[\"Dr. No\", [\"Box Office\",\"Budget\",\"Bond Actor Salary\"]]",
      "metadata": {
        "trusted": true
      },
      "execution_count": 47,
      "outputs": [
        {
          "execution_count": 47,
          "output_type": "execute_result",
          "data": {
            "text/plain": "Box Office           448000000.0\nBudget                 7000000.0\nBond Actor Salary       600000.0\nName: Dr. No, dtype: object"
          },
          "metadata": {}
        }
      ]
    },
    {
      "cell_type": "markdown",
      "source": "# Set Multiple Values in DataFrame",
      "metadata": {}
    },
    {
      "cell_type": "code",
      "source": "actor_is_sean_connery = bond[\"Actor\"] == \"Sean Connery\"",
      "metadata": {
        "trusted": true
      },
      "execution_count": 49,
      "outputs": []
    },
    {
      "cell_type": "code",
      "source": "bond[actor_is_sean_connery][\"Actor\"] #new dataframe",
      "metadata": {
        "trusted": true
      },
      "execution_count": 55,
      "outputs": [
        {
          "execution_count": 55,
          "output_type": "execute_result",
          "data": {
            "text/plain": "Film\nDiamonds Are Forever     Sean Connery\nFrom Russia with Love    Sean Connery\nGoldfinger               Sean Connery\nNever Say Never Again    Sean Connery\nThunderball              Sean Connery\nYou Only Live Twice      Sean Connery\nName: Actor, dtype: object"
          },
          "metadata": {}
        }
      ]
    },
    {
      "cell_type": "code",
      "source": "bond[actor_is_sean_connery][\"Actor\"] = \"Sir Sean Connery\"",
      "metadata": {
        "trusted": true
      },
      "execution_count": 57,
      "outputs": [
        {
          "name": "stderr",
          "text": "<ipython-input-57-86910edcf75f>:1: SettingWithCopyWarning: \nA value is trying to be set on a copy of a slice from a DataFrame.\nTry using .loc[row_indexer,col_indexer] = value instead\n\nSee the caveats in the documentation: https://pandas.pydata.org/pandas-docs/stable/user_guide/indexing.html#returning-a-view-versus-a-copy\n  bond[actor_is_sean_connery][\"Actor\"] = \"Sir Sean Connery\"\n",
          "output_type": "stream"
        }
      ]
    },
    {
      "cell_type": "code",
      "source": "bond.loc[actor_is_sean_connery, \"Actor\"] = \"Sir Sean Connery\" \n#ref to same dataframe\nbond.head(10)",
      "metadata": {
        "trusted": true
      },
      "execution_count": 78,
      "outputs": [
        {
          "execution_count": 78,
          "output_type": "execute_result",
          "data": {
            "text/plain": "                       Year             Actor         Director   Box Office  \\\nFilm                                                                          \nA View to a Kill       1985       Roger Moore        John Glen        275.2   \nCasino Royale          2006      Daniel Craig  Martin Campbell        581.5   \nCasino Royale          1967       David Niven       Ken Hughes        315.0   \nDiamonds Are Forever   1971  Sir Sean Connery     Guy Hamilton        442.5   \nDie Another Day        2002    Pierce Brosnan     Lee Tamahori        465.4   \nDr. No                 1962  Sir Sean Connery    Terence Young  448000000.0   \nFor Your Eyes Only     1981       Roger Moore        John Glen        449.4   \nFrom Russia with Love  1963  Sir Sean Connery    Terence Young        543.8   \nGoldenEye              1995    Pierce Brosnan  Martin Campbell        518.5   \nGoldfinger             1964  Sir Sean Connery     Guy Hamilton        820.4   \n\n                          Budget  Bond Actor Salary  \nFilm                                                 \nA View to a Kill            54.5                9.1  \nCasino Royale              145.3                3.3  \nCasino Royale               85.0                NaN  \nDiamonds Are Forever        34.7                5.8  \nDie Another Day            154.2               17.9  \nDr. No                 7000000.0           600000.0  \nFor Your Eyes Only          60.2                NaN  \nFrom Russia with Love       12.6                1.6  \nGoldenEye                   76.9                5.1  \nGoldfinger                  18.6                3.2  ",
            "text/html": "<div>\n<style scoped>\n    .dataframe tbody tr th:only-of-type {\n        vertical-align: middle;\n    }\n\n    .dataframe tbody tr th {\n        vertical-align: top;\n    }\n\n    .dataframe thead th {\n        text-align: right;\n    }\n</style>\n<table border=\"1\" class=\"dataframe\">\n  <thead>\n    <tr style=\"text-align: right;\">\n      <th></th>\n      <th>Year</th>\n      <th>Actor</th>\n      <th>Director</th>\n      <th>Box Office</th>\n      <th>Budget</th>\n      <th>Bond Actor Salary</th>\n    </tr>\n    <tr>\n      <th>Film</th>\n      <th></th>\n      <th></th>\n      <th></th>\n      <th></th>\n      <th></th>\n      <th></th>\n    </tr>\n  </thead>\n  <tbody>\n    <tr>\n      <th>A View to a Kill</th>\n      <td>1985</td>\n      <td>Roger Moore</td>\n      <td>John Glen</td>\n      <td>275.2</td>\n      <td>54.5</td>\n      <td>9.1</td>\n    </tr>\n    <tr>\n      <th>Casino Royale</th>\n      <td>2006</td>\n      <td>Daniel Craig</td>\n      <td>Martin Campbell</td>\n      <td>581.5</td>\n      <td>145.3</td>\n      <td>3.3</td>\n    </tr>\n    <tr>\n      <th>Casino Royale</th>\n      <td>1967</td>\n      <td>David Niven</td>\n      <td>Ken Hughes</td>\n      <td>315.0</td>\n      <td>85.0</td>\n      <td>NaN</td>\n    </tr>\n    <tr>\n      <th>Diamonds Are Forever</th>\n      <td>1971</td>\n      <td>Sir Sean Connery</td>\n      <td>Guy Hamilton</td>\n      <td>442.5</td>\n      <td>34.7</td>\n      <td>5.8</td>\n    </tr>\n    <tr>\n      <th>Die Another Day</th>\n      <td>2002</td>\n      <td>Pierce Brosnan</td>\n      <td>Lee Tamahori</td>\n      <td>465.4</td>\n      <td>154.2</td>\n      <td>17.9</td>\n    </tr>\n    <tr>\n      <th>Dr. No</th>\n      <td>1962</td>\n      <td>Sir Sean Connery</td>\n      <td>Terence Young</td>\n      <td>448000000.0</td>\n      <td>7000000.0</td>\n      <td>600000.0</td>\n    </tr>\n    <tr>\n      <th>For Your Eyes Only</th>\n      <td>1981</td>\n      <td>Roger Moore</td>\n      <td>John Glen</td>\n      <td>449.4</td>\n      <td>60.2</td>\n      <td>NaN</td>\n    </tr>\n    <tr>\n      <th>From Russia with Love</th>\n      <td>1963</td>\n      <td>Sir Sean Connery</td>\n      <td>Terence Young</td>\n      <td>543.8</td>\n      <td>12.6</td>\n      <td>1.6</td>\n    </tr>\n    <tr>\n      <th>GoldenEye</th>\n      <td>1995</td>\n      <td>Pierce Brosnan</td>\n      <td>Martin Campbell</td>\n      <td>518.5</td>\n      <td>76.9</td>\n      <td>5.1</td>\n    </tr>\n    <tr>\n      <th>Goldfinger</th>\n      <td>1964</td>\n      <td>Sir Sean Connery</td>\n      <td>Guy Hamilton</td>\n      <td>820.4</td>\n      <td>18.6</td>\n      <td>3.2</td>\n    </tr>\n  </tbody>\n</table>\n</div>"
          },
          "metadata": {}
        }
      ]
    },
    {
      "cell_type": "markdown",
      "source": "# Rename Index Labels or Columns in a DataFrame",
      "metadata": {}
    },
    {
      "cell_type": "code",
      "source": "bond = pd.read_csv(\"jamesbond.csv\", index_col = \"Film\")\nbond.sort_index(inplace = True) #sort keeps the low memory\nbond.head(3)",
      "metadata": {
        "trusted": true
      },
      "execution_count": 79,
      "outputs": [
        {
          "execution_count": 79,
          "output_type": "execute_result",
          "data": {
            "text/plain": "                  Year         Actor         Director  Box Office  Budget  \\\nFilm                                                                        \nA View to a Kill  1985   Roger Moore        John Glen       275.2    54.5   \nCasino Royale     2006  Daniel Craig  Martin Campbell       581.5   145.3   \nCasino Royale     1967   David Niven       Ken Hughes       315.0    85.0   \n\n                  Bond Actor Salary  \nFilm                                 \nA View to a Kill                9.1  \nCasino Royale                   3.3  \nCasino Royale                   NaN  ",
            "text/html": "<div>\n<style scoped>\n    .dataframe tbody tr th:only-of-type {\n        vertical-align: middle;\n    }\n\n    .dataframe tbody tr th {\n        vertical-align: top;\n    }\n\n    .dataframe thead th {\n        text-align: right;\n    }\n</style>\n<table border=\"1\" class=\"dataframe\">\n  <thead>\n    <tr style=\"text-align: right;\">\n      <th></th>\n      <th>Year</th>\n      <th>Actor</th>\n      <th>Director</th>\n      <th>Box Office</th>\n      <th>Budget</th>\n      <th>Bond Actor Salary</th>\n    </tr>\n    <tr>\n      <th>Film</th>\n      <th></th>\n      <th></th>\n      <th></th>\n      <th></th>\n      <th></th>\n      <th></th>\n    </tr>\n  </thead>\n  <tbody>\n    <tr>\n      <th>A View to a Kill</th>\n      <td>1985</td>\n      <td>Roger Moore</td>\n      <td>John Glen</td>\n      <td>275.2</td>\n      <td>54.5</td>\n      <td>9.1</td>\n    </tr>\n    <tr>\n      <th>Casino Royale</th>\n      <td>2006</td>\n      <td>Daniel Craig</td>\n      <td>Martin Campbell</td>\n      <td>581.5</td>\n      <td>145.3</td>\n      <td>3.3</td>\n    </tr>\n    <tr>\n      <th>Casino Royale</th>\n      <td>1967</td>\n      <td>David Niven</td>\n      <td>Ken Hughes</td>\n      <td>315.0</td>\n      <td>85.0</td>\n      <td>NaN</td>\n    </tr>\n  </tbody>\n</table>\n</div>"
          },
          "metadata": {}
        }
      ]
    },
    {
      "cell_type": "code",
      "source": "bond.rename(mapper= {\"GoldenEye\": \"Golden Eye\", \n                     \"The World Is Not Enough\": \"Best Bond Movie Ever\"})",
      "metadata": {
        "trusted": true
      },
      "execution_count": 80,
      "outputs": [
        {
          "execution_count": 80,
          "output_type": "execute_result",
          "data": {
            "text/plain": "                                 Year           Actor            Director  \\\nFilm                                                                        \nA View to a Kill                 1985     Roger Moore           John Glen   \nCasino Royale                    2006    Daniel Craig     Martin Campbell   \nCasino Royale                    1967     David Niven          Ken Hughes   \nDiamonds Are Forever             1971    Sean Connery        Guy Hamilton   \nDie Another Day                  2002  Pierce Brosnan        Lee Tamahori   \nDr. No                           1962    Sean Connery       Terence Young   \nFor Your Eyes Only               1981     Roger Moore           John Glen   \nFrom Russia with Love            1963    Sean Connery       Terence Young   \nGolden Eye                       1995  Pierce Brosnan     Martin Campbell   \nGoldfinger                       1964    Sean Connery        Guy Hamilton   \nLicence to Kill                  1989  Timothy Dalton           John Glen   \nLive and Let Die                 1973     Roger Moore        Guy Hamilton   \nMoonraker                        1979     Roger Moore       Lewis Gilbert   \nNever Say Never Again            1983    Sean Connery      Irvin Kershner   \nOctopussy                        1983     Roger Moore           John Glen   \nOn Her Majesty's Secret Service  1969  George Lazenby       Peter R. Hunt   \nQuantum of Solace                2008    Daniel Craig        Marc Forster   \nSkyfall                          2012    Daniel Craig          Sam Mendes   \nSpectre                          2015    Daniel Craig          Sam Mendes   \nThe Living Daylights             1987  Timothy Dalton           John Glen   \nThe Man with the Golden Gun      1974     Roger Moore        Guy Hamilton   \nThe Spy Who Loved Me             1977     Roger Moore       Lewis Gilbert   \nBest Bond Movie Ever             1999  Pierce Brosnan       Michael Apted   \nThunderball                      1965    Sean Connery       Terence Young   \nTomorrow Never Dies              1997  Pierce Brosnan  Roger Spottiswoode   \nYou Only Live Twice              1967    Sean Connery       Lewis Gilbert   \n\n                                 Box Office  Budget  Bond Actor Salary  \nFilm                                                                    \nA View to a Kill                      275.2    54.5                9.1  \nCasino Royale                         581.5   145.3                3.3  \nCasino Royale                         315.0    85.0                NaN  \nDiamonds Are Forever                  442.5    34.7                5.8  \nDie Another Day                       465.4   154.2               17.9  \nDr. No                                448.8     7.0                0.6  \nFor Your Eyes Only                    449.4    60.2                NaN  \nFrom Russia with Love                 543.8    12.6                1.6  \nGolden Eye                            518.5    76.9                5.1  \nGoldfinger                            820.4    18.6                3.2  \nLicence to Kill                       250.9    56.7                7.9  \nLive and Let Die                      460.3    30.8                NaN  \nMoonraker                             535.0    91.5                NaN  \nNever Say Never Again                 380.0    86.0                NaN  \nOctopussy                             373.8    53.9                7.8  \nOn Her Majesty's Secret Service       291.5    37.3                0.6  \nQuantum of Solace                     514.2   181.4                8.1  \nSkyfall                               943.5   170.2               14.5  \nSpectre                               726.7   206.3                NaN  \nThe Living Daylights                  313.5    68.8                5.2  \nThe Man with the Golden Gun           334.0    27.7                NaN  \nThe Spy Who Loved Me                  533.0    45.1                NaN  \nBest Bond Movie Ever                  439.5   158.3               13.5  \nThunderball                           848.1    41.9                4.7  \nTomorrow Never Dies                   463.2   133.9               10.0  \nYou Only Live Twice                   514.2    59.9                4.4  ",
            "text/html": "<div>\n<style scoped>\n    .dataframe tbody tr th:only-of-type {\n        vertical-align: middle;\n    }\n\n    .dataframe tbody tr th {\n        vertical-align: top;\n    }\n\n    .dataframe thead th {\n        text-align: right;\n    }\n</style>\n<table border=\"1\" class=\"dataframe\">\n  <thead>\n    <tr style=\"text-align: right;\">\n      <th></th>\n      <th>Year</th>\n      <th>Actor</th>\n      <th>Director</th>\n      <th>Box Office</th>\n      <th>Budget</th>\n      <th>Bond Actor Salary</th>\n    </tr>\n    <tr>\n      <th>Film</th>\n      <th></th>\n      <th></th>\n      <th></th>\n      <th></th>\n      <th></th>\n      <th></th>\n    </tr>\n  </thead>\n  <tbody>\n    <tr>\n      <th>A View to a Kill</th>\n      <td>1985</td>\n      <td>Roger Moore</td>\n      <td>John Glen</td>\n      <td>275.2</td>\n      <td>54.5</td>\n      <td>9.1</td>\n    </tr>\n    <tr>\n      <th>Casino Royale</th>\n      <td>2006</td>\n      <td>Daniel Craig</td>\n      <td>Martin Campbell</td>\n      <td>581.5</td>\n      <td>145.3</td>\n      <td>3.3</td>\n    </tr>\n    <tr>\n      <th>Casino Royale</th>\n      <td>1967</td>\n      <td>David Niven</td>\n      <td>Ken Hughes</td>\n      <td>315.0</td>\n      <td>85.0</td>\n      <td>NaN</td>\n    </tr>\n    <tr>\n      <th>Diamonds Are Forever</th>\n      <td>1971</td>\n      <td>Sean Connery</td>\n      <td>Guy Hamilton</td>\n      <td>442.5</td>\n      <td>34.7</td>\n      <td>5.8</td>\n    </tr>\n    <tr>\n      <th>Die Another Day</th>\n      <td>2002</td>\n      <td>Pierce Brosnan</td>\n      <td>Lee Tamahori</td>\n      <td>465.4</td>\n      <td>154.2</td>\n      <td>17.9</td>\n    </tr>\n    <tr>\n      <th>Dr. No</th>\n      <td>1962</td>\n      <td>Sean Connery</td>\n      <td>Terence Young</td>\n      <td>448.8</td>\n      <td>7.0</td>\n      <td>0.6</td>\n    </tr>\n    <tr>\n      <th>For Your Eyes Only</th>\n      <td>1981</td>\n      <td>Roger Moore</td>\n      <td>John Glen</td>\n      <td>449.4</td>\n      <td>60.2</td>\n      <td>NaN</td>\n    </tr>\n    <tr>\n      <th>From Russia with Love</th>\n      <td>1963</td>\n      <td>Sean Connery</td>\n      <td>Terence Young</td>\n      <td>543.8</td>\n      <td>12.6</td>\n      <td>1.6</td>\n    </tr>\n    <tr>\n      <th>Golden Eye</th>\n      <td>1995</td>\n      <td>Pierce Brosnan</td>\n      <td>Martin Campbell</td>\n      <td>518.5</td>\n      <td>76.9</td>\n      <td>5.1</td>\n    </tr>\n    <tr>\n      <th>Goldfinger</th>\n      <td>1964</td>\n      <td>Sean Connery</td>\n      <td>Guy Hamilton</td>\n      <td>820.4</td>\n      <td>18.6</td>\n      <td>3.2</td>\n    </tr>\n    <tr>\n      <th>Licence to Kill</th>\n      <td>1989</td>\n      <td>Timothy Dalton</td>\n      <td>John Glen</td>\n      <td>250.9</td>\n      <td>56.7</td>\n      <td>7.9</td>\n    </tr>\n    <tr>\n      <th>Live and Let Die</th>\n      <td>1973</td>\n      <td>Roger Moore</td>\n      <td>Guy Hamilton</td>\n      <td>460.3</td>\n      <td>30.8</td>\n      <td>NaN</td>\n    </tr>\n    <tr>\n      <th>Moonraker</th>\n      <td>1979</td>\n      <td>Roger Moore</td>\n      <td>Lewis Gilbert</td>\n      <td>535.0</td>\n      <td>91.5</td>\n      <td>NaN</td>\n    </tr>\n    <tr>\n      <th>Never Say Never Again</th>\n      <td>1983</td>\n      <td>Sean Connery</td>\n      <td>Irvin Kershner</td>\n      <td>380.0</td>\n      <td>86.0</td>\n      <td>NaN</td>\n    </tr>\n    <tr>\n      <th>Octopussy</th>\n      <td>1983</td>\n      <td>Roger Moore</td>\n      <td>John Glen</td>\n      <td>373.8</td>\n      <td>53.9</td>\n      <td>7.8</td>\n    </tr>\n    <tr>\n      <th>On Her Majesty's Secret Service</th>\n      <td>1969</td>\n      <td>George Lazenby</td>\n      <td>Peter R. Hunt</td>\n      <td>291.5</td>\n      <td>37.3</td>\n      <td>0.6</td>\n    </tr>\n    <tr>\n      <th>Quantum of Solace</th>\n      <td>2008</td>\n      <td>Daniel Craig</td>\n      <td>Marc Forster</td>\n      <td>514.2</td>\n      <td>181.4</td>\n      <td>8.1</td>\n    </tr>\n    <tr>\n      <th>Skyfall</th>\n      <td>2012</td>\n      <td>Daniel Craig</td>\n      <td>Sam Mendes</td>\n      <td>943.5</td>\n      <td>170.2</td>\n      <td>14.5</td>\n    </tr>\n    <tr>\n      <th>Spectre</th>\n      <td>2015</td>\n      <td>Daniel Craig</td>\n      <td>Sam Mendes</td>\n      <td>726.7</td>\n      <td>206.3</td>\n      <td>NaN</td>\n    </tr>\n    <tr>\n      <th>The Living Daylights</th>\n      <td>1987</td>\n      <td>Timothy Dalton</td>\n      <td>John Glen</td>\n      <td>313.5</td>\n      <td>68.8</td>\n      <td>5.2</td>\n    </tr>\n    <tr>\n      <th>The Man with the Golden Gun</th>\n      <td>1974</td>\n      <td>Roger Moore</td>\n      <td>Guy Hamilton</td>\n      <td>334.0</td>\n      <td>27.7</td>\n      <td>NaN</td>\n    </tr>\n    <tr>\n      <th>The Spy Who Loved Me</th>\n      <td>1977</td>\n      <td>Roger Moore</td>\n      <td>Lewis Gilbert</td>\n      <td>533.0</td>\n      <td>45.1</td>\n      <td>NaN</td>\n    </tr>\n    <tr>\n      <th>Best Bond Movie Ever</th>\n      <td>1999</td>\n      <td>Pierce Brosnan</td>\n      <td>Michael Apted</td>\n      <td>439.5</td>\n      <td>158.3</td>\n      <td>13.5</td>\n    </tr>\n    <tr>\n      <th>Thunderball</th>\n      <td>1965</td>\n      <td>Sean Connery</td>\n      <td>Terence Young</td>\n      <td>848.1</td>\n      <td>41.9</td>\n      <td>4.7</td>\n    </tr>\n    <tr>\n      <th>Tomorrow Never Dies</th>\n      <td>1997</td>\n      <td>Pierce Brosnan</td>\n      <td>Roger Spottiswoode</td>\n      <td>463.2</td>\n      <td>133.9</td>\n      <td>10.0</td>\n    </tr>\n    <tr>\n      <th>You Only Live Twice</th>\n      <td>1967</td>\n      <td>Sean Connery</td>\n      <td>Lewis Gilbert</td>\n      <td>514.2</td>\n      <td>59.9</td>\n      <td>4.4</td>\n    </tr>\n  </tbody>\n</table>\n</div>"
          },
          "metadata": {}
        }
      ]
    },
    {
      "cell_type": "code",
      "source": "bond.rename(mapper= {\"GoldenEye\": \"Golden Eye\", \n                     \"The World Is Not Enough\": \"Best Bond Movie Ever\"}, axis = 0)",
      "metadata": {
        "tags": [],
        "collapsed": true,
        "jupyter": {
          "outputs_hidden": true
        },
        "trusted": true
      },
      "execution_count": 81,
      "outputs": [
        {
          "execution_count": 81,
          "output_type": "execute_result",
          "data": {
            "text/plain": "                                 Year           Actor            Director  \\\nFilm                                                                        \nA View to a Kill                 1985     Roger Moore           John Glen   \nCasino Royale                    2006    Daniel Craig     Martin Campbell   \nCasino Royale                    1967     David Niven          Ken Hughes   \nDiamonds Are Forever             1971    Sean Connery        Guy Hamilton   \nDie Another Day                  2002  Pierce Brosnan        Lee Tamahori   \nDr. No                           1962    Sean Connery       Terence Young   \nFor Your Eyes Only               1981     Roger Moore           John Glen   \nFrom Russia with Love            1963    Sean Connery       Terence Young   \nGolden Eye                       1995  Pierce Brosnan     Martin Campbell   \nGoldfinger                       1964    Sean Connery        Guy Hamilton   \nLicence to Kill                  1989  Timothy Dalton           John Glen   \nLive and Let Die                 1973     Roger Moore        Guy Hamilton   \nMoonraker                        1979     Roger Moore       Lewis Gilbert   \nNever Say Never Again            1983    Sean Connery      Irvin Kershner   \nOctopussy                        1983     Roger Moore           John Glen   \nOn Her Majesty's Secret Service  1969  George Lazenby       Peter R. Hunt   \nQuantum of Solace                2008    Daniel Craig        Marc Forster   \nSkyfall                          2012    Daniel Craig          Sam Mendes   \nSpectre                          2015    Daniel Craig          Sam Mendes   \nThe Living Daylights             1987  Timothy Dalton           John Glen   \nThe Man with the Golden Gun      1974     Roger Moore        Guy Hamilton   \nThe Spy Who Loved Me             1977     Roger Moore       Lewis Gilbert   \nBest Bond Movie Ever             1999  Pierce Brosnan       Michael Apted   \nThunderball                      1965    Sean Connery       Terence Young   \nTomorrow Never Dies              1997  Pierce Brosnan  Roger Spottiswoode   \nYou Only Live Twice              1967    Sean Connery       Lewis Gilbert   \n\n                                 Box Office  Budget  Bond Actor Salary  \nFilm                                                                    \nA View to a Kill                      275.2    54.5                9.1  \nCasino Royale                         581.5   145.3                3.3  \nCasino Royale                         315.0    85.0                NaN  \nDiamonds Are Forever                  442.5    34.7                5.8  \nDie Another Day                       465.4   154.2               17.9  \nDr. No                                448.8     7.0                0.6  \nFor Your Eyes Only                    449.4    60.2                NaN  \nFrom Russia with Love                 543.8    12.6                1.6  \nGolden Eye                            518.5    76.9                5.1  \nGoldfinger                            820.4    18.6                3.2  \nLicence to Kill                       250.9    56.7                7.9  \nLive and Let Die                      460.3    30.8                NaN  \nMoonraker                             535.0    91.5                NaN  \nNever Say Never Again                 380.0    86.0                NaN  \nOctopussy                             373.8    53.9                7.8  \nOn Her Majesty's Secret Service       291.5    37.3                0.6  \nQuantum of Solace                     514.2   181.4                8.1  \nSkyfall                               943.5   170.2               14.5  \nSpectre                               726.7   206.3                NaN  \nThe Living Daylights                  313.5    68.8                5.2  \nThe Man with the Golden Gun           334.0    27.7                NaN  \nThe Spy Who Loved Me                  533.0    45.1                NaN  \nBest Bond Movie Ever                  439.5   158.3               13.5  \nThunderball                           848.1    41.9                4.7  \nTomorrow Never Dies                   463.2   133.9               10.0  \nYou Only Live Twice                   514.2    59.9                4.4  ",
            "text/html": "<div>\n<style scoped>\n    .dataframe tbody tr th:only-of-type {\n        vertical-align: middle;\n    }\n\n    .dataframe tbody tr th {\n        vertical-align: top;\n    }\n\n    .dataframe thead th {\n        text-align: right;\n    }\n</style>\n<table border=\"1\" class=\"dataframe\">\n  <thead>\n    <tr style=\"text-align: right;\">\n      <th></th>\n      <th>Year</th>\n      <th>Actor</th>\n      <th>Director</th>\n      <th>Box Office</th>\n      <th>Budget</th>\n      <th>Bond Actor Salary</th>\n    </tr>\n    <tr>\n      <th>Film</th>\n      <th></th>\n      <th></th>\n      <th></th>\n      <th></th>\n      <th></th>\n      <th></th>\n    </tr>\n  </thead>\n  <tbody>\n    <tr>\n      <th>A View to a Kill</th>\n      <td>1985</td>\n      <td>Roger Moore</td>\n      <td>John Glen</td>\n      <td>275.2</td>\n      <td>54.5</td>\n      <td>9.1</td>\n    </tr>\n    <tr>\n      <th>Casino Royale</th>\n      <td>2006</td>\n      <td>Daniel Craig</td>\n      <td>Martin Campbell</td>\n      <td>581.5</td>\n      <td>145.3</td>\n      <td>3.3</td>\n    </tr>\n    <tr>\n      <th>Casino Royale</th>\n      <td>1967</td>\n      <td>David Niven</td>\n      <td>Ken Hughes</td>\n      <td>315.0</td>\n      <td>85.0</td>\n      <td>NaN</td>\n    </tr>\n    <tr>\n      <th>Diamonds Are Forever</th>\n      <td>1971</td>\n      <td>Sean Connery</td>\n      <td>Guy Hamilton</td>\n      <td>442.5</td>\n      <td>34.7</td>\n      <td>5.8</td>\n    </tr>\n    <tr>\n      <th>Die Another Day</th>\n      <td>2002</td>\n      <td>Pierce Brosnan</td>\n      <td>Lee Tamahori</td>\n      <td>465.4</td>\n      <td>154.2</td>\n      <td>17.9</td>\n    </tr>\n    <tr>\n      <th>Dr. No</th>\n      <td>1962</td>\n      <td>Sean Connery</td>\n      <td>Terence Young</td>\n      <td>448.8</td>\n      <td>7.0</td>\n      <td>0.6</td>\n    </tr>\n    <tr>\n      <th>For Your Eyes Only</th>\n      <td>1981</td>\n      <td>Roger Moore</td>\n      <td>John Glen</td>\n      <td>449.4</td>\n      <td>60.2</td>\n      <td>NaN</td>\n    </tr>\n    <tr>\n      <th>From Russia with Love</th>\n      <td>1963</td>\n      <td>Sean Connery</td>\n      <td>Terence Young</td>\n      <td>543.8</td>\n      <td>12.6</td>\n      <td>1.6</td>\n    </tr>\n    <tr>\n      <th>Golden Eye</th>\n      <td>1995</td>\n      <td>Pierce Brosnan</td>\n      <td>Martin Campbell</td>\n      <td>518.5</td>\n      <td>76.9</td>\n      <td>5.1</td>\n    </tr>\n    <tr>\n      <th>Goldfinger</th>\n      <td>1964</td>\n      <td>Sean Connery</td>\n      <td>Guy Hamilton</td>\n      <td>820.4</td>\n      <td>18.6</td>\n      <td>3.2</td>\n    </tr>\n    <tr>\n      <th>Licence to Kill</th>\n      <td>1989</td>\n      <td>Timothy Dalton</td>\n      <td>John Glen</td>\n      <td>250.9</td>\n      <td>56.7</td>\n      <td>7.9</td>\n    </tr>\n    <tr>\n      <th>Live and Let Die</th>\n      <td>1973</td>\n      <td>Roger Moore</td>\n      <td>Guy Hamilton</td>\n      <td>460.3</td>\n      <td>30.8</td>\n      <td>NaN</td>\n    </tr>\n    <tr>\n      <th>Moonraker</th>\n      <td>1979</td>\n      <td>Roger Moore</td>\n      <td>Lewis Gilbert</td>\n      <td>535.0</td>\n      <td>91.5</td>\n      <td>NaN</td>\n    </tr>\n    <tr>\n      <th>Never Say Never Again</th>\n      <td>1983</td>\n      <td>Sean Connery</td>\n      <td>Irvin Kershner</td>\n      <td>380.0</td>\n      <td>86.0</td>\n      <td>NaN</td>\n    </tr>\n    <tr>\n      <th>Octopussy</th>\n      <td>1983</td>\n      <td>Roger Moore</td>\n      <td>John Glen</td>\n      <td>373.8</td>\n      <td>53.9</td>\n      <td>7.8</td>\n    </tr>\n    <tr>\n      <th>On Her Majesty's Secret Service</th>\n      <td>1969</td>\n      <td>George Lazenby</td>\n      <td>Peter R. Hunt</td>\n      <td>291.5</td>\n      <td>37.3</td>\n      <td>0.6</td>\n    </tr>\n    <tr>\n      <th>Quantum of Solace</th>\n      <td>2008</td>\n      <td>Daniel Craig</td>\n      <td>Marc Forster</td>\n      <td>514.2</td>\n      <td>181.4</td>\n      <td>8.1</td>\n    </tr>\n    <tr>\n      <th>Skyfall</th>\n      <td>2012</td>\n      <td>Daniel Craig</td>\n      <td>Sam Mendes</td>\n      <td>943.5</td>\n      <td>170.2</td>\n      <td>14.5</td>\n    </tr>\n    <tr>\n      <th>Spectre</th>\n      <td>2015</td>\n      <td>Daniel Craig</td>\n      <td>Sam Mendes</td>\n      <td>726.7</td>\n      <td>206.3</td>\n      <td>NaN</td>\n    </tr>\n    <tr>\n      <th>The Living Daylights</th>\n      <td>1987</td>\n      <td>Timothy Dalton</td>\n      <td>John Glen</td>\n      <td>313.5</td>\n      <td>68.8</td>\n      <td>5.2</td>\n    </tr>\n    <tr>\n      <th>The Man with the Golden Gun</th>\n      <td>1974</td>\n      <td>Roger Moore</td>\n      <td>Guy Hamilton</td>\n      <td>334.0</td>\n      <td>27.7</td>\n      <td>NaN</td>\n    </tr>\n    <tr>\n      <th>The Spy Who Loved Me</th>\n      <td>1977</td>\n      <td>Roger Moore</td>\n      <td>Lewis Gilbert</td>\n      <td>533.0</td>\n      <td>45.1</td>\n      <td>NaN</td>\n    </tr>\n    <tr>\n      <th>Best Bond Movie Ever</th>\n      <td>1999</td>\n      <td>Pierce Brosnan</td>\n      <td>Michael Apted</td>\n      <td>439.5</td>\n      <td>158.3</td>\n      <td>13.5</td>\n    </tr>\n    <tr>\n      <th>Thunderball</th>\n      <td>1965</td>\n      <td>Sean Connery</td>\n      <td>Terence Young</td>\n      <td>848.1</td>\n      <td>41.9</td>\n      <td>4.7</td>\n    </tr>\n    <tr>\n      <th>Tomorrow Never Dies</th>\n      <td>1997</td>\n      <td>Pierce Brosnan</td>\n      <td>Roger Spottiswoode</td>\n      <td>463.2</td>\n      <td>133.9</td>\n      <td>10.0</td>\n    </tr>\n    <tr>\n      <th>You Only Live Twice</th>\n      <td>1967</td>\n      <td>Sean Connery</td>\n      <td>Lewis Gilbert</td>\n      <td>514.2</td>\n      <td>59.9</td>\n      <td>4.4</td>\n    </tr>\n  </tbody>\n</table>\n</div>"
          },
          "metadata": {}
        }
      ]
    },
    {
      "cell_type": "code",
      "source": "bond.rename(mapper= {\"GoldenEye\": \"Golden Eye\", \n                     \"The World Is Not Enough\": \"Best Bond Movie Ever\"}, axis = \"rows\")",
      "metadata": {
        "collapsed": true,
        "jupyter": {
          "outputs_hidden": true
        },
        "tags": [],
        "trusted": true
      },
      "execution_count": 82,
      "outputs": [
        {
          "execution_count": 82,
          "output_type": "execute_result",
          "data": {
            "text/plain": "                                 Year           Actor            Director  \\\nFilm                                                                        \nA View to a Kill                 1985     Roger Moore           John Glen   \nCasino Royale                    2006    Daniel Craig     Martin Campbell   \nCasino Royale                    1967     David Niven          Ken Hughes   \nDiamonds Are Forever             1971    Sean Connery        Guy Hamilton   \nDie Another Day                  2002  Pierce Brosnan        Lee Tamahori   \nDr. No                           1962    Sean Connery       Terence Young   \nFor Your Eyes Only               1981     Roger Moore           John Glen   \nFrom Russia with Love            1963    Sean Connery       Terence Young   \nGolden Eye                       1995  Pierce Brosnan     Martin Campbell   \nGoldfinger                       1964    Sean Connery        Guy Hamilton   \nLicence to Kill                  1989  Timothy Dalton           John Glen   \nLive and Let Die                 1973     Roger Moore        Guy Hamilton   \nMoonraker                        1979     Roger Moore       Lewis Gilbert   \nNever Say Never Again            1983    Sean Connery      Irvin Kershner   \nOctopussy                        1983     Roger Moore           John Glen   \nOn Her Majesty's Secret Service  1969  George Lazenby       Peter R. Hunt   \nQuantum of Solace                2008    Daniel Craig        Marc Forster   \nSkyfall                          2012    Daniel Craig          Sam Mendes   \nSpectre                          2015    Daniel Craig          Sam Mendes   \nThe Living Daylights             1987  Timothy Dalton           John Glen   \nThe Man with the Golden Gun      1974     Roger Moore        Guy Hamilton   \nThe Spy Who Loved Me             1977     Roger Moore       Lewis Gilbert   \nBest Bond Movie Ever             1999  Pierce Brosnan       Michael Apted   \nThunderball                      1965    Sean Connery       Terence Young   \nTomorrow Never Dies              1997  Pierce Brosnan  Roger Spottiswoode   \nYou Only Live Twice              1967    Sean Connery       Lewis Gilbert   \n\n                                 Box Office  Budget  Bond Actor Salary  \nFilm                                                                    \nA View to a Kill                      275.2    54.5                9.1  \nCasino Royale                         581.5   145.3                3.3  \nCasino Royale                         315.0    85.0                NaN  \nDiamonds Are Forever                  442.5    34.7                5.8  \nDie Another Day                       465.4   154.2               17.9  \nDr. No                                448.8     7.0                0.6  \nFor Your Eyes Only                    449.4    60.2                NaN  \nFrom Russia with Love                 543.8    12.6                1.6  \nGolden Eye                            518.5    76.9                5.1  \nGoldfinger                            820.4    18.6                3.2  \nLicence to Kill                       250.9    56.7                7.9  \nLive and Let Die                      460.3    30.8                NaN  \nMoonraker                             535.0    91.5                NaN  \nNever Say Never Again                 380.0    86.0                NaN  \nOctopussy                             373.8    53.9                7.8  \nOn Her Majesty's Secret Service       291.5    37.3                0.6  \nQuantum of Solace                     514.2   181.4                8.1  \nSkyfall                               943.5   170.2               14.5  \nSpectre                               726.7   206.3                NaN  \nThe Living Daylights                  313.5    68.8                5.2  \nThe Man with the Golden Gun           334.0    27.7                NaN  \nThe Spy Who Loved Me                  533.0    45.1                NaN  \nBest Bond Movie Ever                  439.5   158.3               13.5  \nThunderball                           848.1    41.9                4.7  \nTomorrow Never Dies                   463.2   133.9               10.0  \nYou Only Live Twice                   514.2    59.9                4.4  ",
            "text/html": "<div>\n<style scoped>\n    .dataframe tbody tr th:only-of-type {\n        vertical-align: middle;\n    }\n\n    .dataframe tbody tr th {\n        vertical-align: top;\n    }\n\n    .dataframe thead th {\n        text-align: right;\n    }\n</style>\n<table border=\"1\" class=\"dataframe\">\n  <thead>\n    <tr style=\"text-align: right;\">\n      <th></th>\n      <th>Year</th>\n      <th>Actor</th>\n      <th>Director</th>\n      <th>Box Office</th>\n      <th>Budget</th>\n      <th>Bond Actor Salary</th>\n    </tr>\n    <tr>\n      <th>Film</th>\n      <th></th>\n      <th></th>\n      <th></th>\n      <th></th>\n      <th></th>\n      <th></th>\n    </tr>\n  </thead>\n  <tbody>\n    <tr>\n      <th>A View to a Kill</th>\n      <td>1985</td>\n      <td>Roger Moore</td>\n      <td>John Glen</td>\n      <td>275.2</td>\n      <td>54.5</td>\n      <td>9.1</td>\n    </tr>\n    <tr>\n      <th>Casino Royale</th>\n      <td>2006</td>\n      <td>Daniel Craig</td>\n      <td>Martin Campbell</td>\n      <td>581.5</td>\n      <td>145.3</td>\n      <td>3.3</td>\n    </tr>\n    <tr>\n      <th>Casino Royale</th>\n      <td>1967</td>\n      <td>David Niven</td>\n      <td>Ken Hughes</td>\n      <td>315.0</td>\n      <td>85.0</td>\n      <td>NaN</td>\n    </tr>\n    <tr>\n      <th>Diamonds Are Forever</th>\n      <td>1971</td>\n      <td>Sean Connery</td>\n      <td>Guy Hamilton</td>\n      <td>442.5</td>\n      <td>34.7</td>\n      <td>5.8</td>\n    </tr>\n    <tr>\n      <th>Die Another Day</th>\n      <td>2002</td>\n      <td>Pierce Brosnan</td>\n      <td>Lee Tamahori</td>\n      <td>465.4</td>\n      <td>154.2</td>\n      <td>17.9</td>\n    </tr>\n    <tr>\n      <th>Dr. No</th>\n      <td>1962</td>\n      <td>Sean Connery</td>\n      <td>Terence Young</td>\n      <td>448.8</td>\n      <td>7.0</td>\n      <td>0.6</td>\n    </tr>\n    <tr>\n      <th>For Your Eyes Only</th>\n      <td>1981</td>\n      <td>Roger Moore</td>\n      <td>John Glen</td>\n      <td>449.4</td>\n      <td>60.2</td>\n      <td>NaN</td>\n    </tr>\n    <tr>\n      <th>From Russia with Love</th>\n      <td>1963</td>\n      <td>Sean Connery</td>\n      <td>Terence Young</td>\n      <td>543.8</td>\n      <td>12.6</td>\n      <td>1.6</td>\n    </tr>\n    <tr>\n      <th>Golden Eye</th>\n      <td>1995</td>\n      <td>Pierce Brosnan</td>\n      <td>Martin Campbell</td>\n      <td>518.5</td>\n      <td>76.9</td>\n      <td>5.1</td>\n    </tr>\n    <tr>\n      <th>Goldfinger</th>\n      <td>1964</td>\n      <td>Sean Connery</td>\n      <td>Guy Hamilton</td>\n      <td>820.4</td>\n      <td>18.6</td>\n      <td>3.2</td>\n    </tr>\n    <tr>\n      <th>Licence to Kill</th>\n      <td>1989</td>\n      <td>Timothy Dalton</td>\n      <td>John Glen</td>\n      <td>250.9</td>\n      <td>56.7</td>\n      <td>7.9</td>\n    </tr>\n    <tr>\n      <th>Live and Let Die</th>\n      <td>1973</td>\n      <td>Roger Moore</td>\n      <td>Guy Hamilton</td>\n      <td>460.3</td>\n      <td>30.8</td>\n      <td>NaN</td>\n    </tr>\n    <tr>\n      <th>Moonraker</th>\n      <td>1979</td>\n      <td>Roger Moore</td>\n      <td>Lewis Gilbert</td>\n      <td>535.0</td>\n      <td>91.5</td>\n      <td>NaN</td>\n    </tr>\n    <tr>\n      <th>Never Say Never Again</th>\n      <td>1983</td>\n      <td>Sean Connery</td>\n      <td>Irvin Kershner</td>\n      <td>380.0</td>\n      <td>86.0</td>\n      <td>NaN</td>\n    </tr>\n    <tr>\n      <th>Octopussy</th>\n      <td>1983</td>\n      <td>Roger Moore</td>\n      <td>John Glen</td>\n      <td>373.8</td>\n      <td>53.9</td>\n      <td>7.8</td>\n    </tr>\n    <tr>\n      <th>On Her Majesty's Secret Service</th>\n      <td>1969</td>\n      <td>George Lazenby</td>\n      <td>Peter R. Hunt</td>\n      <td>291.5</td>\n      <td>37.3</td>\n      <td>0.6</td>\n    </tr>\n    <tr>\n      <th>Quantum of Solace</th>\n      <td>2008</td>\n      <td>Daniel Craig</td>\n      <td>Marc Forster</td>\n      <td>514.2</td>\n      <td>181.4</td>\n      <td>8.1</td>\n    </tr>\n    <tr>\n      <th>Skyfall</th>\n      <td>2012</td>\n      <td>Daniel Craig</td>\n      <td>Sam Mendes</td>\n      <td>943.5</td>\n      <td>170.2</td>\n      <td>14.5</td>\n    </tr>\n    <tr>\n      <th>Spectre</th>\n      <td>2015</td>\n      <td>Daniel Craig</td>\n      <td>Sam Mendes</td>\n      <td>726.7</td>\n      <td>206.3</td>\n      <td>NaN</td>\n    </tr>\n    <tr>\n      <th>The Living Daylights</th>\n      <td>1987</td>\n      <td>Timothy Dalton</td>\n      <td>John Glen</td>\n      <td>313.5</td>\n      <td>68.8</td>\n      <td>5.2</td>\n    </tr>\n    <tr>\n      <th>The Man with the Golden Gun</th>\n      <td>1974</td>\n      <td>Roger Moore</td>\n      <td>Guy Hamilton</td>\n      <td>334.0</td>\n      <td>27.7</td>\n      <td>NaN</td>\n    </tr>\n    <tr>\n      <th>The Spy Who Loved Me</th>\n      <td>1977</td>\n      <td>Roger Moore</td>\n      <td>Lewis Gilbert</td>\n      <td>533.0</td>\n      <td>45.1</td>\n      <td>NaN</td>\n    </tr>\n    <tr>\n      <th>Best Bond Movie Ever</th>\n      <td>1999</td>\n      <td>Pierce Brosnan</td>\n      <td>Michael Apted</td>\n      <td>439.5</td>\n      <td>158.3</td>\n      <td>13.5</td>\n    </tr>\n    <tr>\n      <th>Thunderball</th>\n      <td>1965</td>\n      <td>Sean Connery</td>\n      <td>Terence Young</td>\n      <td>848.1</td>\n      <td>41.9</td>\n      <td>4.7</td>\n    </tr>\n    <tr>\n      <th>Tomorrow Never Dies</th>\n      <td>1997</td>\n      <td>Pierce Brosnan</td>\n      <td>Roger Spottiswoode</td>\n      <td>463.2</td>\n      <td>133.9</td>\n      <td>10.0</td>\n    </tr>\n    <tr>\n      <th>You Only Live Twice</th>\n      <td>1967</td>\n      <td>Sean Connery</td>\n      <td>Lewis Gilbert</td>\n      <td>514.2</td>\n      <td>59.9</td>\n      <td>4.4</td>\n    </tr>\n  </tbody>\n</table>\n</div>"
          },
          "metadata": {}
        }
      ]
    },
    {
      "cell_type": "code",
      "source": "bond.rename(index= {\"GoldenEye\": \"Golden Eye\", \n                     \"The World Is Not Enough\": \"Best Bond Movie Ever\"}, inplace= True)\n# non mutational parameter\nbond.head(3)",
      "metadata": {
        "tags": [],
        "trusted": true
      },
      "execution_count": 87,
      "outputs": [
        {
          "execution_count": 87,
          "output_type": "execute_result",
          "data": {
            "text/plain": "                  Year         Actor         Director  Box Office  Budget  \\\nFilm                                                                        \nA View to a Kill  1985   Roger Moore        John Glen       275.2    54.5   \nCasino Royale     2006  Daniel Craig  Martin Campbell       581.5   145.3   \nCasino Royale     1967   David Niven       Ken Hughes       315.0    85.0   \n\n                  Bond Actor Salary  \nFilm                                 \nA View to a Kill                9.1  \nCasino Royale                   3.3  \nCasino Royale                   NaN  ",
            "text/html": "<div>\n<style scoped>\n    .dataframe tbody tr th:only-of-type {\n        vertical-align: middle;\n    }\n\n    .dataframe tbody tr th {\n        vertical-align: top;\n    }\n\n    .dataframe thead th {\n        text-align: right;\n    }\n</style>\n<table border=\"1\" class=\"dataframe\">\n  <thead>\n    <tr style=\"text-align: right;\">\n      <th></th>\n      <th>Year</th>\n      <th>Actor</th>\n      <th>Director</th>\n      <th>Box Office</th>\n      <th>Budget</th>\n      <th>Bond Actor Salary</th>\n    </tr>\n    <tr>\n      <th>Film</th>\n      <th></th>\n      <th></th>\n      <th></th>\n      <th></th>\n      <th></th>\n      <th></th>\n    </tr>\n  </thead>\n  <tbody>\n    <tr>\n      <th>A View to a Kill</th>\n      <td>1985</td>\n      <td>Roger Moore</td>\n      <td>John Glen</td>\n      <td>275.2</td>\n      <td>54.5</td>\n      <td>9.1</td>\n    </tr>\n    <tr>\n      <th>Casino Royale</th>\n      <td>2006</td>\n      <td>Daniel Craig</td>\n      <td>Martin Campbell</td>\n      <td>581.5</td>\n      <td>145.3</td>\n      <td>3.3</td>\n    </tr>\n    <tr>\n      <th>Casino Royale</th>\n      <td>1967</td>\n      <td>David Niven</td>\n      <td>Ken Hughes</td>\n      <td>315.0</td>\n      <td>85.0</td>\n      <td>NaN</td>\n    </tr>\n  </tbody>\n</table>\n</div>"
          },
          "metadata": {}
        }
      ]
    },
    {
      "cell_type": "code",
      "source": "bond.rename(mapper = {\"Year\":\"Release Date\", \"Box Office\":\"Revenue\"}, axis=1)",
      "metadata": {
        "tags": [],
        "collapsed": true,
        "jupyter": {
          "outputs_hidden": true
        },
        "trusted": true
      },
      "execution_count": 97,
      "outputs": [
        {
          "execution_count": 97,
          "output_type": "execute_result",
          "data": {
            "text/plain": "                                 Release Date           Actor  \\\nFilm                                                            \nA View to a Kill                         1985     Roger Moore   \nCasino Royale                            2006    Daniel Craig   \nCasino Royale                            1967     David Niven   \nDiamonds Are Forever                     1971    Sean Connery   \nDie Another Day                          2002  Pierce Brosnan   \nDr. No                                   1962    Sean Connery   \nFor Your Eyes Only                       1981     Roger Moore   \nFrom Russia with Love                    1963    Sean Connery   \nGolden Eye                               1995  Pierce Brosnan   \nGoldfinger                               1964    Sean Connery   \nLicence to Kill                          1989  Timothy Dalton   \nLive and Let Die                         1973     Roger Moore   \nMoonraker                                1979     Roger Moore   \nNever Say Never Again                    1983    Sean Connery   \nOctopussy                                1983     Roger Moore   \nOn Her Majesty's Secret Service          1969  George Lazenby   \nQuantum of Solace                        2008    Daniel Craig   \nSkyfall                                  2012    Daniel Craig   \nSpectre                                  2015    Daniel Craig   \nThe Living Daylights                     1987  Timothy Dalton   \nThe Man with the Golden Gun              1974     Roger Moore   \nThe Spy Who Loved Me                     1977     Roger Moore   \nBest Bond Movie Ever                     1999  Pierce Brosnan   \nThunderball                              1965    Sean Connery   \nTomorrow Never Dies                      1997  Pierce Brosnan   \nYou Only Live Twice                      1967    Sean Connery   \n\n                                           Director  Revenue  Budget  \\\nFilm                                                                   \nA View to a Kill                          John Glen    275.2    54.5   \nCasino Royale                       Martin Campbell    581.5   145.3   \nCasino Royale                            Ken Hughes    315.0    85.0   \nDiamonds Are Forever                   Guy Hamilton    442.5    34.7   \nDie Another Day                        Lee Tamahori    465.4   154.2   \nDr. No                                Terence Young    448.8     7.0   \nFor Your Eyes Only                        John Glen    449.4    60.2   \nFrom Russia with Love                 Terence Young    543.8    12.6   \nGolden Eye                          Martin Campbell    518.5    76.9   \nGoldfinger                             Guy Hamilton    820.4    18.6   \nLicence to Kill                           John Glen    250.9    56.7   \nLive and Let Die                       Guy Hamilton    460.3    30.8   \nMoonraker                             Lewis Gilbert    535.0    91.5   \nNever Say Never Again                Irvin Kershner    380.0    86.0   \nOctopussy                                 John Glen    373.8    53.9   \nOn Her Majesty's Secret Service       Peter R. Hunt    291.5    37.3   \nQuantum of Solace                      Marc Forster    514.2   181.4   \nSkyfall                                  Sam Mendes    943.5   170.2   \nSpectre                                  Sam Mendes    726.7   206.3   \nThe Living Daylights                      John Glen    313.5    68.8   \nThe Man with the Golden Gun            Guy Hamilton    334.0    27.7   \nThe Spy Who Loved Me                  Lewis Gilbert    533.0    45.1   \nBest Bond Movie Ever                  Michael Apted    439.5   158.3   \nThunderball                           Terence Young    848.1    41.9   \nTomorrow Never Dies              Roger Spottiswoode    463.2   133.9   \nYou Only Live Twice                   Lewis Gilbert    514.2    59.9   \n\n                                 Bond Actor Salary  \nFilm                                                \nA View to a Kill                               9.1  \nCasino Royale                                  3.3  \nCasino Royale                                  NaN  \nDiamonds Are Forever                           5.8  \nDie Another Day                               17.9  \nDr. No                                         0.6  \nFor Your Eyes Only                             NaN  \nFrom Russia with Love                          1.6  \nGolden Eye                                     5.1  \nGoldfinger                                     3.2  \nLicence to Kill                                7.9  \nLive and Let Die                               NaN  \nMoonraker                                      NaN  \nNever Say Never Again                          NaN  \nOctopussy                                      7.8  \nOn Her Majesty's Secret Service                0.6  \nQuantum of Solace                              8.1  \nSkyfall                                       14.5  \nSpectre                                        NaN  \nThe Living Daylights                           5.2  \nThe Man with the Golden Gun                    NaN  \nThe Spy Who Loved Me                           NaN  \nBest Bond Movie Ever                          13.5  \nThunderball                                    4.7  \nTomorrow Never Dies                           10.0  \nYou Only Live Twice                            4.4  ",
            "text/html": "<div>\n<style scoped>\n    .dataframe tbody tr th:only-of-type {\n        vertical-align: middle;\n    }\n\n    .dataframe tbody tr th {\n        vertical-align: top;\n    }\n\n    .dataframe thead th {\n        text-align: right;\n    }\n</style>\n<table border=\"1\" class=\"dataframe\">\n  <thead>\n    <tr style=\"text-align: right;\">\n      <th></th>\n      <th>Release Date</th>\n      <th>Actor</th>\n      <th>Director</th>\n      <th>Revenue</th>\n      <th>Budget</th>\n      <th>Bond Actor Salary</th>\n    </tr>\n    <tr>\n      <th>Film</th>\n      <th></th>\n      <th></th>\n      <th></th>\n      <th></th>\n      <th></th>\n      <th></th>\n    </tr>\n  </thead>\n  <tbody>\n    <tr>\n      <th>A View to a Kill</th>\n      <td>1985</td>\n      <td>Roger Moore</td>\n      <td>John Glen</td>\n      <td>275.2</td>\n      <td>54.5</td>\n      <td>9.1</td>\n    </tr>\n    <tr>\n      <th>Casino Royale</th>\n      <td>2006</td>\n      <td>Daniel Craig</td>\n      <td>Martin Campbell</td>\n      <td>581.5</td>\n      <td>145.3</td>\n      <td>3.3</td>\n    </tr>\n    <tr>\n      <th>Casino Royale</th>\n      <td>1967</td>\n      <td>David Niven</td>\n      <td>Ken Hughes</td>\n      <td>315.0</td>\n      <td>85.0</td>\n      <td>NaN</td>\n    </tr>\n    <tr>\n      <th>Diamonds Are Forever</th>\n      <td>1971</td>\n      <td>Sean Connery</td>\n      <td>Guy Hamilton</td>\n      <td>442.5</td>\n      <td>34.7</td>\n      <td>5.8</td>\n    </tr>\n    <tr>\n      <th>Die Another Day</th>\n      <td>2002</td>\n      <td>Pierce Brosnan</td>\n      <td>Lee Tamahori</td>\n      <td>465.4</td>\n      <td>154.2</td>\n      <td>17.9</td>\n    </tr>\n    <tr>\n      <th>Dr. No</th>\n      <td>1962</td>\n      <td>Sean Connery</td>\n      <td>Terence Young</td>\n      <td>448.8</td>\n      <td>7.0</td>\n      <td>0.6</td>\n    </tr>\n    <tr>\n      <th>For Your Eyes Only</th>\n      <td>1981</td>\n      <td>Roger Moore</td>\n      <td>John Glen</td>\n      <td>449.4</td>\n      <td>60.2</td>\n      <td>NaN</td>\n    </tr>\n    <tr>\n      <th>From Russia with Love</th>\n      <td>1963</td>\n      <td>Sean Connery</td>\n      <td>Terence Young</td>\n      <td>543.8</td>\n      <td>12.6</td>\n      <td>1.6</td>\n    </tr>\n    <tr>\n      <th>Golden Eye</th>\n      <td>1995</td>\n      <td>Pierce Brosnan</td>\n      <td>Martin Campbell</td>\n      <td>518.5</td>\n      <td>76.9</td>\n      <td>5.1</td>\n    </tr>\n    <tr>\n      <th>Goldfinger</th>\n      <td>1964</td>\n      <td>Sean Connery</td>\n      <td>Guy Hamilton</td>\n      <td>820.4</td>\n      <td>18.6</td>\n      <td>3.2</td>\n    </tr>\n    <tr>\n      <th>Licence to Kill</th>\n      <td>1989</td>\n      <td>Timothy Dalton</td>\n      <td>John Glen</td>\n      <td>250.9</td>\n      <td>56.7</td>\n      <td>7.9</td>\n    </tr>\n    <tr>\n      <th>Live and Let Die</th>\n      <td>1973</td>\n      <td>Roger Moore</td>\n      <td>Guy Hamilton</td>\n      <td>460.3</td>\n      <td>30.8</td>\n      <td>NaN</td>\n    </tr>\n    <tr>\n      <th>Moonraker</th>\n      <td>1979</td>\n      <td>Roger Moore</td>\n      <td>Lewis Gilbert</td>\n      <td>535.0</td>\n      <td>91.5</td>\n      <td>NaN</td>\n    </tr>\n    <tr>\n      <th>Never Say Never Again</th>\n      <td>1983</td>\n      <td>Sean Connery</td>\n      <td>Irvin Kershner</td>\n      <td>380.0</td>\n      <td>86.0</td>\n      <td>NaN</td>\n    </tr>\n    <tr>\n      <th>Octopussy</th>\n      <td>1983</td>\n      <td>Roger Moore</td>\n      <td>John Glen</td>\n      <td>373.8</td>\n      <td>53.9</td>\n      <td>7.8</td>\n    </tr>\n    <tr>\n      <th>On Her Majesty's Secret Service</th>\n      <td>1969</td>\n      <td>George Lazenby</td>\n      <td>Peter R. Hunt</td>\n      <td>291.5</td>\n      <td>37.3</td>\n      <td>0.6</td>\n    </tr>\n    <tr>\n      <th>Quantum of Solace</th>\n      <td>2008</td>\n      <td>Daniel Craig</td>\n      <td>Marc Forster</td>\n      <td>514.2</td>\n      <td>181.4</td>\n      <td>8.1</td>\n    </tr>\n    <tr>\n      <th>Skyfall</th>\n      <td>2012</td>\n      <td>Daniel Craig</td>\n      <td>Sam Mendes</td>\n      <td>943.5</td>\n      <td>170.2</td>\n      <td>14.5</td>\n    </tr>\n    <tr>\n      <th>Spectre</th>\n      <td>2015</td>\n      <td>Daniel Craig</td>\n      <td>Sam Mendes</td>\n      <td>726.7</td>\n      <td>206.3</td>\n      <td>NaN</td>\n    </tr>\n    <tr>\n      <th>The Living Daylights</th>\n      <td>1987</td>\n      <td>Timothy Dalton</td>\n      <td>John Glen</td>\n      <td>313.5</td>\n      <td>68.8</td>\n      <td>5.2</td>\n    </tr>\n    <tr>\n      <th>The Man with the Golden Gun</th>\n      <td>1974</td>\n      <td>Roger Moore</td>\n      <td>Guy Hamilton</td>\n      <td>334.0</td>\n      <td>27.7</td>\n      <td>NaN</td>\n    </tr>\n    <tr>\n      <th>The Spy Who Loved Me</th>\n      <td>1977</td>\n      <td>Roger Moore</td>\n      <td>Lewis Gilbert</td>\n      <td>533.0</td>\n      <td>45.1</td>\n      <td>NaN</td>\n    </tr>\n    <tr>\n      <th>Best Bond Movie Ever</th>\n      <td>1999</td>\n      <td>Pierce Brosnan</td>\n      <td>Michael Apted</td>\n      <td>439.5</td>\n      <td>158.3</td>\n      <td>13.5</td>\n    </tr>\n    <tr>\n      <th>Thunderball</th>\n      <td>1965</td>\n      <td>Sean Connery</td>\n      <td>Terence Young</td>\n      <td>848.1</td>\n      <td>41.9</td>\n      <td>4.7</td>\n    </tr>\n    <tr>\n      <th>Tomorrow Never Dies</th>\n      <td>1997</td>\n      <td>Pierce Brosnan</td>\n      <td>Roger Spottiswoode</td>\n      <td>463.2</td>\n      <td>133.9</td>\n      <td>10.0</td>\n    </tr>\n    <tr>\n      <th>You Only Live Twice</th>\n      <td>1967</td>\n      <td>Sean Connery</td>\n      <td>Lewis Gilbert</td>\n      <td>514.2</td>\n      <td>59.9</td>\n      <td>4.4</td>\n    </tr>\n  </tbody>\n</table>\n</div>"
          },
          "metadata": {}
        }
      ]
    },
    {
      "cell_type": "code",
      "source": "bond.rename(mapper = {\"Year\":\"Release Date\", \"Box office\":\"Revenue\"}, axis=\"columns\")",
      "metadata": {
        "tags": [],
        "collapsed": true,
        "jupyter": {
          "outputs_hidden": true
        },
        "trusted": true
      },
      "execution_count": 98,
      "outputs": [
        {
          "execution_count": 98,
          "output_type": "execute_result",
          "data": {
            "text/plain": "                                 Release Date           Actor  \\\nFilm                                                            \nA View to a Kill                         1985     Roger Moore   \nCasino Royale                            2006    Daniel Craig   \nCasino Royale                            1967     David Niven   \nDiamonds Are Forever                     1971    Sean Connery   \nDie Another Day                          2002  Pierce Brosnan   \nDr. No                                   1962    Sean Connery   \nFor Your Eyes Only                       1981     Roger Moore   \nFrom Russia with Love                    1963    Sean Connery   \nGolden Eye                               1995  Pierce Brosnan   \nGoldfinger                               1964    Sean Connery   \nLicence to Kill                          1989  Timothy Dalton   \nLive and Let Die                         1973     Roger Moore   \nMoonraker                                1979     Roger Moore   \nNever Say Never Again                    1983    Sean Connery   \nOctopussy                                1983     Roger Moore   \nOn Her Majesty's Secret Service          1969  George Lazenby   \nQuantum of Solace                        2008    Daniel Craig   \nSkyfall                                  2012    Daniel Craig   \nSpectre                                  2015    Daniel Craig   \nThe Living Daylights                     1987  Timothy Dalton   \nThe Man with the Golden Gun              1974     Roger Moore   \nThe Spy Who Loved Me                     1977     Roger Moore   \nBest Bond Movie Ever                     1999  Pierce Brosnan   \nThunderball                              1965    Sean Connery   \nTomorrow Never Dies                      1997  Pierce Brosnan   \nYou Only Live Twice                      1967    Sean Connery   \n\n                                           Director  Box Office  Budget  \\\nFilm                                                                      \nA View to a Kill                          John Glen       275.2    54.5   \nCasino Royale                       Martin Campbell       581.5   145.3   \nCasino Royale                            Ken Hughes       315.0    85.0   \nDiamonds Are Forever                   Guy Hamilton       442.5    34.7   \nDie Another Day                        Lee Tamahori       465.4   154.2   \nDr. No                                Terence Young       448.8     7.0   \nFor Your Eyes Only                        John Glen       449.4    60.2   \nFrom Russia with Love                 Terence Young       543.8    12.6   \nGolden Eye                          Martin Campbell       518.5    76.9   \nGoldfinger                             Guy Hamilton       820.4    18.6   \nLicence to Kill                           John Glen       250.9    56.7   \nLive and Let Die                       Guy Hamilton       460.3    30.8   \nMoonraker                             Lewis Gilbert       535.0    91.5   \nNever Say Never Again                Irvin Kershner       380.0    86.0   \nOctopussy                                 John Glen       373.8    53.9   \nOn Her Majesty's Secret Service       Peter R. Hunt       291.5    37.3   \nQuantum of Solace                      Marc Forster       514.2   181.4   \nSkyfall                                  Sam Mendes       943.5   170.2   \nSpectre                                  Sam Mendes       726.7   206.3   \nThe Living Daylights                      John Glen       313.5    68.8   \nThe Man with the Golden Gun            Guy Hamilton       334.0    27.7   \nThe Spy Who Loved Me                  Lewis Gilbert       533.0    45.1   \nBest Bond Movie Ever                  Michael Apted       439.5   158.3   \nThunderball                           Terence Young       848.1    41.9   \nTomorrow Never Dies              Roger Spottiswoode       463.2   133.9   \nYou Only Live Twice                   Lewis Gilbert       514.2    59.9   \n\n                                 Bond Actor Salary  \nFilm                                                \nA View to a Kill                               9.1  \nCasino Royale                                  3.3  \nCasino Royale                                  NaN  \nDiamonds Are Forever                           5.8  \nDie Another Day                               17.9  \nDr. No                                         0.6  \nFor Your Eyes Only                             NaN  \nFrom Russia with Love                          1.6  \nGolden Eye                                     5.1  \nGoldfinger                                     3.2  \nLicence to Kill                                7.9  \nLive and Let Die                               NaN  \nMoonraker                                      NaN  \nNever Say Never Again                          NaN  \nOctopussy                                      7.8  \nOn Her Majesty's Secret Service                0.6  \nQuantum of Solace                              8.1  \nSkyfall                                       14.5  \nSpectre                                        NaN  \nThe Living Daylights                           5.2  \nThe Man with the Golden Gun                    NaN  \nThe Spy Who Loved Me                           NaN  \nBest Bond Movie Ever                          13.5  \nThunderball                                    4.7  \nTomorrow Never Dies                           10.0  \nYou Only Live Twice                            4.4  ",
            "text/html": "<div>\n<style scoped>\n    .dataframe tbody tr th:only-of-type {\n        vertical-align: middle;\n    }\n\n    .dataframe tbody tr th {\n        vertical-align: top;\n    }\n\n    .dataframe thead th {\n        text-align: right;\n    }\n</style>\n<table border=\"1\" class=\"dataframe\">\n  <thead>\n    <tr style=\"text-align: right;\">\n      <th></th>\n      <th>Release Date</th>\n      <th>Actor</th>\n      <th>Director</th>\n      <th>Box Office</th>\n      <th>Budget</th>\n      <th>Bond Actor Salary</th>\n    </tr>\n    <tr>\n      <th>Film</th>\n      <th></th>\n      <th></th>\n      <th></th>\n      <th></th>\n      <th></th>\n      <th></th>\n    </tr>\n  </thead>\n  <tbody>\n    <tr>\n      <th>A View to a Kill</th>\n      <td>1985</td>\n      <td>Roger Moore</td>\n      <td>John Glen</td>\n      <td>275.2</td>\n      <td>54.5</td>\n      <td>9.1</td>\n    </tr>\n    <tr>\n      <th>Casino Royale</th>\n      <td>2006</td>\n      <td>Daniel Craig</td>\n      <td>Martin Campbell</td>\n      <td>581.5</td>\n      <td>145.3</td>\n      <td>3.3</td>\n    </tr>\n    <tr>\n      <th>Casino Royale</th>\n      <td>1967</td>\n      <td>David Niven</td>\n      <td>Ken Hughes</td>\n      <td>315.0</td>\n      <td>85.0</td>\n      <td>NaN</td>\n    </tr>\n    <tr>\n      <th>Diamonds Are Forever</th>\n      <td>1971</td>\n      <td>Sean Connery</td>\n      <td>Guy Hamilton</td>\n      <td>442.5</td>\n      <td>34.7</td>\n      <td>5.8</td>\n    </tr>\n    <tr>\n      <th>Die Another Day</th>\n      <td>2002</td>\n      <td>Pierce Brosnan</td>\n      <td>Lee Tamahori</td>\n      <td>465.4</td>\n      <td>154.2</td>\n      <td>17.9</td>\n    </tr>\n    <tr>\n      <th>Dr. No</th>\n      <td>1962</td>\n      <td>Sean Connery</td>\n      <td>Terence Young</td>\n      <td>448.8</td>\n      <td>7.0</td>\n      <td>0.6</td>\n    </tr>\n    <tr>\n      <th>For Your Eyes Only</th>\n      <td>1981</td>\n      <td>Roger Moore</td>\n      <td>John Glen</td>\n      <td>449.4</td>\n      <td>60.2</td>\n      <td>NaN</td>\n    </tr>\n    <tr>\n      <th>From Russia with Love</th>\n      <td>1963</td>\n      <td>Sean Connery</td>\n      <td>Terence Young</td>\n      <td>543.8</td>\n      <td>12.6</td>\n      <td>1.6</td>\n    </tr>\n    <tr>\n      <th>Golden Eye</th>\n      <td>1995</td>\n      <td>Pierce Brosnan</td>\n      <td>Martin Campbell</td>\n      <td>518.5</td>\n      <td>76.9</td>\n      <td>5.1</td>\n    </tr>\n    <tr>\n      <th>Goldfinger</th>\n      <td>1964</td>\n      <td>Sean Connery</td>\n      <td>Guy Hamilton</td>\n      <td>820.4</td>\n      <td>18.6</td>\n      <td>3.2</td>\n    </tr>\n    <tr>\n      <th>Licence to Kill</th>\n      <td>1989</td>\n      <td>Timothy Dalton</td>\n      <td>John Glen</td>\n      <td>250.9</td>\n      <td>56.7</td>\n      <td>7.9</td>\n    </tr>\n    <tr>\n      <th>Live and Let Die</th>\n      <td>1973</td>\n      <td>Roger Moore</td>\n      <td>Guy Hamilton</td>\n      <td>460.3</td>\n      <td>30.8</td>\n      <td>NaN</td>\n    </tr>\n    <tr>\n      <th>Moonraker</th>\n      <td>1979</td>\n      <td>Roger Moore</td>\n      <td>Lewis Gilbert</td>\n      <td>535.0</td>\n      <td>91.5</td>\n      <td>NaN</td>\n    </tr>\n    <tr>\n      <th>Never Say Never Again</th>\n      <td>1983</td>\n      <td>Sean Connery</td>\n      <td>Irvin Kershner</td>\n      <td>380.0</td>\n      <td>86.0</td>\n      <td>NaN</td>\n    </tr>\n    <tr>\n      <th>Octopussy</th>\n      <td>1983</td>\n      <td>Roger Moore</td>\n      <td>John Glen</td>\n      <td>373.8</td>\n      <td>53.9</td>\n      <td>7.8</td>\n    </tr>\n    <tr>\n      <th>On Her Majesty's Secret Service</th>\n      <td>1969</td>\n      <td>George Lazenby</td>\n      <td>Peter R. Hunt</td>\n      <td>291.5</td>\n      <td>37.3</td>\n      <td>0.6</td>\n    </tr>\n    <tr>\n      <th>Quantum of Solace</th>\n      <td>2008</td>\n      <td>Daniel Craig</td>\n      <td>Marc Forster</td>\n      <td>514.2</td>\n      <td>181.4</td>\n      <td>8.1</td>\n    </tr>\n    <tr>\n      <th>Skyfall</th>\n      <td>2012</td>\n      <td>Daniel Craig</td>\n      <td>Sam Mendes</td>\n      <td>943.5</td>\n      <td>170.2</td>\n      <td>14.5</td>\n    </tr>\n    <tr>\n      <th>Spectre</th>\n      <td>2015</td>\n      <td>Daniel Craig</td>\n      <td>Sam Mendes</td>\n      <td>726.7</td>\n      <td>206.3</td>\n      <td>NaN</td>\n    </tr>\n    <tr>\n      <th>The Living Daylights</th>\n      <td>1987</td>\n      <td>Timothy Dalton</td>\n      <td>John Glen</td>\n      <td>313.5</td>\n      <td>68.8</td>\n      <td>5.2</td>\n    </tr>\n    <tr>\n      <th>The Man with the Golden Gun</th>\n      <td>1974</td>\n      <td>Roger Moore</td>\n      <td>Guy Hamilton</td>\n      <td>334.0</td>\n      <td>27.7</td>\n      <td>NaN</td>\n    </tr>\n    <tr>\n      <th>The Spy Who Loved Me</th>\n      <td>1977</td>\n      <td>Roger Moore</td>\n      <td>Lewis Gilbert</td>\n      <td>533.0</td>\n      <td>45.1</td>\n      <td>NaN</td>\n    </tr>\n    <tr>\n      <th>Best Bond Movie Ever</th>\n      <td>1999</td>\n      <td>Pierce Brosnan</td>\n      <td>Michael Apted</td>\n      <td>439.5</td>\n      <td>158.3</td>\n      <td>13.5</td>\n    </tr>\n    <tr>\n      <th>Thunderball</th>\n      <td>1965</td>\n      <td>Sean Connery</td>\n      <td>Terence Young</td>\n      <td>848.1</td>\n      <td>41.9</td>\n      <td>4.7</td>\n    </tr>\n    <tr>\n      <th>Tomorrow Never Dies</th>\n      <td>1997</td>\n      <td>Pierce Brosnan</td>\n      <td>Roger Spottiswoode</td>\n      <td>463.2</td>\n      <td>133.9</td>\n      <td>10.0</td>\n    </tr>\n    <tr>\n      <th>You Only Live Twice</th>\n      <td>1967</td>\n      <td>Sean Connery</td>\n      <td>Lewis Gilbert</td>\n      <td>514.2</td>\n      <td>59.9</td>\n      <td>4.4</td>\n    </tr>\n  </tbody>\n</table>\n</div>"
          },
          "metadata": {}
        }
      ]
    },
    {
      "cell_type": "code",
      "source": "bond.rename(columns = {\"Year\":\"Release Date\", \"Box Office\":\"Revenue\"}, inplace = True)\nbond.head(1)",
      "metadata": {
        "trusted": true
      },
      "execution_count": 100,
      "outputs": [
        {
          "execution_count": 100,
          "output_type": "execute_result",
          "data": {
            "text/plain": "                  Release Date        Actor   Director  Revenue  Budget  \\\nFilm                                                                      \nA View to a Kill          1985  Roger Moore  John Glen    275.2    54.5   \n\n                  Bond Actor Salary  \nFilm                                 \nA View to a Kill                9.1  ",
            "text/html": "<div>\n<style scoped>\n    .dataframe tbody tr th:only-of-type {\n        vertical-align: middle;\n    }\n\n    .dataframe tbody tr th {\n        vertical-align: top;\n    }\n\n    .dataframe thead th {\n        text-align: right;\n    }\n</style>\n<table border=\"1\" class=\"dataframe\">\n  <thead>\n    <tr style=\"text-align: right;\">\n      <th></th>\n      <th>Release Date</th>\n      <th>Actor</th>\n      <th>Director</th>\n      <th>Revenue</th>\n      <th>Budget</th>\n      <th>Bond Actor Salary</th>\n    </tr>\n    <tr>\n      <th>Film</th>\n      <th></th>\n      <th></th>\n      <th></th>\n      <th></th>\n      <th></th>\n      <th></th>\n    </tr>\n  </thead>\n  <tbody>\n    <tr>\n      <th>A View to a Kill</th>\n      <td>1985</td>\n      <td>Roger Moore</td>\n      <td>John Glen</td>\n      <td>275.2</td>\n      <td>54.5</td>\n      <td>9.1</td>\n    </tr>\n  </tbody>\n</table>\n</div>"
          },
          "metadata": {}
        }
      ]
    },
    {
      "cell_type": "code",
      "source": "bond.columns",
      "metadata": {
        "trusted": true
      },
      "execution_count": 101,
      "outputs": [
        {
          "execution_count": 101,
          "output_type": "execute_result",
          "data": {
            "text/plain": "Index(['Release Date', 'Actor', 'Director', 'Revenue', 'Budget',\n       'Bond Actor Salary'],\n      dtype='object')"
          },
          "metadata": {}
        }
      ]
    },
    {
      "cell_type": "code",
      "source": "bond.columns = ['Release Date', 'Actor', 'Director', 'Box Office', 'Budget',\n       'Bond Actor Salary']\nbond.head(1)",
      "metadata": {
        "trusted": true
      },
      "execution_count": 102,
      "outputs": [
        {
          "execution_count": 102,
          "output_type": "execute_result",
          "data": {
            "text/plain": "                  Release Date        Actor   Director  Box Office  Budget  \\\nFilm                                                                         \nA View to a Kill          1985  Roger Moore  John Glen       275.2    54.5   \n\n                  Bond Actor Salary  \nFilm                                 \nA View to a Kill                9.1  ",
            "text/html": "<div>\n<style scoped>\n    .dataframe tbody tr th:only-of-type {\n        vertical-align: middle;\n    }\n\n    .dataframe tbody tr th {\n        vertical-align: top;\n    }\n\n    .dataframe thead th {\n        text-align: right;\n    }\n</style>\n<table border=\"1\" class=\"dataframe\">\n  <thead>\n    <tr style=\"text-align: right;\">\n      <th></th>\n      <th>Release Date</th>\n      <th>Actor</th>\n      <th>Director</th>\n      <th>Box Office</th>\n      <th>Budget</th>\n      <th>Bond Actor Salary</th>\n    </tr>\n    <tr>\n      <th>Film</th>\n      <th></th>\n      <th></th>\n      <th></th>\n      <th></th>\n      <th></th>\n      <th></th>\n    </tr>\n  </thead>\n  <tbody>\n    <tr>\n      <th>A View to a Kill</th>\n      <td>1985</td>\n      <td>Roger Moore</td>\n      <td>John Glen</td>\n      <td>275.2</td>\n      <td>54.5</td>\n      <td>9.1</td>\n    </tr>\n  </tbody>\n</table>\n</div>"
          },
          "metadata": {}
        }
      ]
    },
    {
      "cell_type": "markdown",
      "source": "# Delete Rows or Columns from a DataFrame\n* .drop()\n* .pop()\n* del x[]",
      "metadata": {}
    },
    {
      "cell_type": "code",
      "source": "import pandas as pd\nbond = pd.read_csv(\"jamesbond.csv\", index_col = \"Film\")\nbond.sort_index(inplace = True) #sort keeps the low memory\nbond.head(3)",
      "metadata": {
        "trusted": true
      },
      "execution_count": 27,
      "outputs": [
        {
          "execution_count": 27,
          "output_type": "execute_result",
          "data": {
            "text/plain": "                  Year         Actor         Director  Box Office  Budget  \\\nFilm                                                                        \nA View to a Kill  1985   Roger Moore        John Glen       275.2    54.5   \nCasino Royale     2006  Daniel Craig  Martin Campbell       581.5   145.3   \nCasino Royale     1967   David Niven       Ken Hughes       315.0    85.0   \n\n                  Bond Actor Salary  \nFilm                                 \nA View to a Kill                9.1  \nCasino Royale                   3.3  \nCasino Royale                   NaN  ",
            "text/html": "<div>\n<style scoped>\n    .dataframe tbody tr th:only-of-type {\n        vertical-align: middle;\n    }\n\n    .dataframe tbody tr th {\n        vertical-align: top;\n    }\n\n    .dataframe thead th {\n        text-align: right;\n    }\n</style>\n<table border=\"1\" class=\"dataframe\">\n  <thead>\n    <tr style=\"text-align: right;\">\n      <th></th>\n      <th>Year</th>\n      <th>Actor</th>\n      <th>Director</th>\n      <th>Box Office</th>\n      <th>Budget</th>\n      <th>Bond Actor Salary</th>\n    </tr>\n    <tr>\n      <th>Film</th>\n      <th></th>\n      <th></th>\n      <th></th>\n      <th></th>\n      <th></th>\n      <th></th>\n    </tr>\n  </thead>\n  <tbody>\n    <tr>\n      <th>A View to a Kill</th>\n      <td>1985</td>\n      <td>Roger Moore</td>\n      <td>John Glen</td>\n      <td>275.2</td>\n      <td>54.5</td>\n      <td>9.1</td>\n    </tr>\n    <tr>\n      <th>Casino Royale</th>\n      <td>2006</td>\n      <td>Daniel Craig</td>\n      <td>Martin Campbell</td>\n      <td>581.5</td>\n      <td>145.3</td>\n      <td>3.3</td>\n    </tr>\n    <tr>\n      <th>Casino Royale</th>\n      <td>1967</td>\n      <td>David Niven</td>\n      <td>Ken Hughes</td>\n      <td>315.0</td>\n      <td>85.0</td>\n      <td>NaN</td>\n    </tr>\n  </tbody>\n</table>\n</div>"
          },
          "metadata": {}
        }
      ]
    },
    {
      "cell_type": "code",
      "source": "bond.drop(\"A View to a Kill\").head(3)",
      "metadata": {
        "trusted": true
      },
      "execution_count": 4,
      "outputs": [
        {
          "execution_count": 4,
          "output_type": "execute_result",
          "data": {
            "text/plain": "                      Year         Actor         Director  Box Office  Budget  \\\nFilm                                                                            \nCasino Royale         2006  Daniel Craig  Martin Campbell       581.5   145.3   \nCasino Royale         1967   David Niven       Ken Hughes       315.0    85.0   \nDiamonds Are Forever  1971  Sean Connery     Guy Hamilton       442.5    34.7   \n\n                      Bond Actor Salary  \nFilm                                     \nCasino Royale                       3.3  \nCasino Royale                       NaN  \nDiamonds Are Forever                5.8  ",
            "text/html": "<div>\n<style scoped>\n    .dataframe tbody tr th:only-of-type {\n        vertical-align: middle;\n    }\n\n    .dataframe tbody tr th {\n        vertical-align: top;\n    }\n\n    .dataframe thead th {\n        text-align: right;\n    }\n</style>\n<table border=\"1\" class=\"dataframe\">\n  <thead>\n    <tr style=\"text-align: right;\">\n      <th></th>\n      <th>Year</th>\n      <th>Actor</th>\n      <th>Director</th>\n      <th>Box Office</th>\n      <th>Budget</th>\n      <th>Bond Actor Salary</th>\n    </tr>\n    <tr>\n      <th>Film</th>\n      <th></th>\n      <th></th>\n      <th></th>\n      <th></th>\n      <th></th>\n      <th></th>\n    </tr>\n  </thead>\n  <tbody>\n    <tr>\n      <th>Casino Royale</th>\n      <td>2006</td>\n      <td>Daniel Craig</td>\n      <td>Martin Campbell</td>\n      <td>581.5</td>\n      <td>145.3</td>\n      <td>3.3</td>\n    </tr>\n    <tr>\n      <th>Casino Royale</th>\n      <td>1967</td>\n      <td>David Niven</td>\n      <td>Ken Hughes</td>\n      <td>315.0</td>\n      <td>85.0</td>\n      <td>NaN</td>\n    </tr>\n    <tr>\n      <th>Diamonds Are Forever</th>\n      <td>1971</td>\n      <td>Sean Connery</td>\n      <td>Guy Hamilton</td>\n      <td>442.5</td>\n      <td>34.7</td>\n      <td>5.8</td>\n    </tr>\n  </tbody>\n</table>\n</div>"
          },
          "metadata": {}
        }
      ]
    },
    {
      "cell_type": "code",
      "source": "bond.drop([\"A View to a Kill\",\"Casino Royale\"]).head(3)",
      "metadata": {
        "trusted": true
      },
      "execution_count": 10,
      "outputs": [
        {
          "execution_count": 10,
          "output_type": "execute_result",
          "data": {
            "text/plain": "                      Year           Actor       Director  Box Office  Budget  \\\nFilm                                                                            \nDiamonds Are Forever  1971    Sean Connery   Guy Hamilton       442.5    34.7   \nDie Another Day       2002  Pierce Brosnan   Lee Tamahori       465.4   154.2   \nDr. No                1962    Sean Connery  Terence Young       448.8     7.0   \n\n                      Bond Actor Salary  \nFilm                                     \nDiamonds Are Forever                5.8  \nDie Another Day                    17.9  \nDr. No                              0.6  ",
            "text/html": "<div>\n<style scoped>\n    .dataframe tbody tr th:only-of-type {\n        vertical-align: middle;\n    }\n\n    .dataframe tbody tr th {\n        vertical-align: top;\n    }\n\n    .dataframe thead th {\n        text-align: right;\n    }\n</style>\n<table border=\"1\" class=\"dataframe\">\n  <thead>\n    <tr style=\"text-align: right;\">\n      <th></th>\n      <th>Year</th>\n      <th>Actor</th>\n      <th>Director</th>\n      <th>Box Office</th>\n      <th>Budget</th>\n      <th>Bond Actor Salary</th>\n    </tr>\n    <tr>\n      <th>Film</th>\n      <th></th>\n      <th></th>\n      <th></th>\n      <th></th>\n      <th></th>\n      <th></th>\n    </tr>\n  </thead>\n  <tbody>\n    <tr>\n      <th>Diamonds Are Forever</th>\n      <td>1971</td>\n      <td>Sean Connery</td>\n      <td>Guy Hamilton</td>\n      <td>442.5</td>\n      <td>34.7</td>\n      <td>5.8</td>\n    </tr>\n    <tr>\n      <th>Die Another Day</th>\n      <td>2002</td>\n      <td>Pierce Brosnan</td>\n      <td>Lee Tamahori</td>\n      <td>465.4</td>\n      <td>154.2</td>\n      <td>17.9</td>\n    </tr>\n    <tr>\n      <th>Dr. No</th>\n      <td>1962</td>\n      <td>Sean Connery</td>\n      <td>Terence Young</td>\n      <td>448.8</td>\n      <td>7.0</td>\n      <td>0.6</td>\n    </tr>\n  </tbody>\n</table>\n</div>"
          },
          "metadata": {}
        }
      ]
    },
    {
      "cell_type": "code",
      "source": "bond.drop(\"Box Office\", axis=1).head(1)\n# axis = 0, row, index\n# axix = 1, columns",
      "metadata": {
        "trusted": true
      },
      "execution_count": 16,
      "outputs": [
        {
          "execution_count": 16,
          "output_type": "execute_result",
          "data": {
            "text/plain": "                  Year        Actor   Director  Budget  Bond Actor Salary\nFilm                                                                     \nA View to a Kill  1985  Roger Moore  John Glen    54.5                9.1",
            "text/html": "<div>\n<style scoped>\n    .dataframe tbody tr th:only-of-type {\n        vertical-align: middle;\n    }\n\n    .dataframe tbody tr th {\n        vertical-align: top;\n    }\n\n    .dataframe thead th {\n        text-align: right;\n    }\n</style>\n<table border=\"1\" class=\"dataframe\">\n  <thead>\n    <tr style=\"text-align: right;\">\n      <th></th>\n      <th>Year</th>\n      <th>Actor</th>\n      <th>Director</th>\n      <th>Budget</th>\n      <th>Bond Actor Salary</th>\n    </tr>\n    <tr>\n      <th>Film</th>\n      <th></th>\n      <th></th>\n      <th></th>\n      <th></th>\n      <th></th>\n    </tr>\n  </thead>\n  <tbody>\n    <tr>\n      <th>A View to a Kill</th>\n      <td>1985</td>\n      <td>Roger Moore</td>\n      <td>John Glen</td>\n      <td>54.5</td>\n      <td>9.1</td>\n    </tr>\n  </tbody>\n</table>\n</div>"
          },
          "metadata": {}
        }
      ]
    },
    {
      "cell_type": "code",
      "source": "bond.drop([\"Box Office\",\"Director\"], axis=\"columns\", inplace = True)\nbond.head(3)",
      "metadata": {
        "trusted": true
      },
      "execution_count": 29,
      "outputs": [
        {
          "execution_count": 29,
          "output_type": "execute_result",
          "data": {
            "text/plain": "                  Year         Actor  Budget  Bond Actor Salary\nFilm                                                           \nA View to a Kill  1985   Roger Moore    54.5                9.1\nCasino Royale     2006  Daniel Craig   145.3                3.3\nCasino Royale     1967   David Niven    85.0                NaN",
            "text/html": "<div>\n<style scoped>\n    .dataframe tbody tr th:only-of-type {\n        vertical-align: middle;\n    }\n\n    .dataframe tbody tr th {\n        vertical-align: top;\n    }\n\n    .dataframe thead th {\n        text-align: right;\n    }\n</style>\n<table border=\"1\" class=\"dataframe\">\n  <thead>\n    <tr style=\"text-align: right;\">\n      <th></th>\n      <th>Year</th>\n      <th>Actor</th>\n      <th>Budget</th>\n      <th>Bond Actor Salary</th>\n    </tr>\n    <tr>\n      <th>Film</th>\n      <th></th>\n      <th></th>\n      <th></th>\n      <th></th>\n    </tr>\n  </thead>\n  <tbody>\n    <tr>\n      <th>A View to a Kill</th>\n      <td>1985</td>\n      <td>Roger Moore</td>\n      <td>54.5</td>\n      <td>9.1</td>\n    </tr>\n    <tr>\n      <th>Casino Royale</th>\n      <td>2006</td>\n      <td>Daniel Craig</td>\n      <td>145.3</td>\n      <td>3.3</td>\n    </tr>\n    <tr>\n      <th>Casino Royale</th>\n      <td>1967</td>\n      <td>David Niven</td>\n      <td>85.0</td>\n      <td>NaN</td>\n    </tr>\n  </tbody>\n</table>\n</div>"
          },
          "metadata": {}
        }
      ]
    },
    {
      "cell_type": "code",
      "source": "bond = pd.read_csv(\"jamesbond.csv\", index_col = \"Film\")\nbond.sort_index(inplace = True) #sort keeps the low memory",
      "metadata": {
        "trusted": true
      },
      "execution_count": 42,
      "outputs": []
    },
    {
      "cell_type": "code",
      "source": "actor = bond.pop(\"Actor\") # pop will remove column also store in a series\nactor.head(3)",
      "metadata": {
        "trusted": true
      },
      "execution_count": 43,
      "outputs": [
        {
          "execution_count": 43,
          "output_type": "execute_result",
          "data": {
            "text/plain": "Film\nA View to a Kill     Roger Moore\nCasino Royale       Daniel Craig\nCasino Royale        David Niven\nName: Actor, dtype: object"
          },
          "metadata": {}
        }
      ]
    },
    {
      "cell_type": "code",
      "source": "bond.head(3)",
      "metadata": {
        "trusted": true
      },
      "execution_count": 39,
      "outputs": [
        {
          "execution_count": 39,
          "output_type": "execute_result",
          "data": {
            "text/plain": "                  Year         Director  Box Office  Budget  Bond Actor Salary\nFilm                                                                          \nA View to a Kill  1985        John Glen       275.2    54.5                9.1\nCasino Royale     2006  Martin Campbell       581.5   145.3                3.3\nCasino Royale     1967       Ken Hughes       315.0    85.0                NaN",
            "text/html": "<div>\n<style scoped>\n    .dataframe tbody tr th:only-of-type {\n        vertical-align: middle;\n    }\n\n    .dataframe tbody tr th {\n        vertical-align: top;\n    }\n\n    .dataframe thead th {\n        text-align: right;\n    }\n</style>\n<table border=\"1\" class=\"dataframe\">\n  <thead>\n    <tr style=\"text-align: right;\">\n      <th></th>\n      <th>Year</th>\n      <th>Director</th>\n      <th>Box Office</th>\n      <th>Budget</th>\n      <th>Bond Actor Salary</th>\n    </tr>\n    <tr>\n      <th>Film</th>\n      <th></th>\n      <th></th>\n      <th></th>\n      <th></th>\n      <th></th>\n    </tr>\n  </thead>\n  <tbody>\n    <tr>\n      <th>A View to a Kill</th>\n      <td>1985</td>\n      <td>John Glen</td>\n      <td>275.2</td>\n      <td>54.5</td>\n      <td>9.1</td>\n    </tr>\n    <tr>\n      <th>Casino Royale</th>\n      <td>2006</td>\n      <td>Martin Campbell</td>\n      <td>581.5</td>\n      <td>145.3</td>\n      <td>3.3</td>\n    </tr>\n    <tr>\n      <th>Casino Royale</th>\n      <td>1967</td>\n      <td>Ken Hughes</td>\n      <td>315.0</td>\n      <td>85.0</td>\n      <td>NaN</td>\n    </tr>\n  </tbody>\n</table>\n</div>"
          },
          "metadata": {}
        }
      ]
    },
    {
      "cell_type": "code",
      "source": "bond.drop([\"Box Office\",\"Director\"], axis=\"columns\", inplace = True)\nbond.head(3)",
      "metadata": {
        "trusted": true
      },
      "execution_count": 44,
      "outputs": [
        {
          "execution_count": 44,
          "output_type": "execute_result",
          "data": {
            "text/plain": "                  Year  Budget  Bond Actor Salary\nFilm                                             \nA View to a Kill  1985    54.5                9.1\nCasino Royale     2006   145.3                3.3\nCasino Royale     1967    85.0                NaN",
            "text/html": "<div>\n<style scoped>\n    .dataframe tbody tr th:only-of-type {\n        vertical-align: middle;\n    }\n\n    .dataframe tbody tr th {\n        vertical-align: top;\n    }\n\n    .dataframe thead th {\n        text-align: right;\n    }\n</style>\n<table border=\"1\" class=\"dataframe\">\n  <thead>\n    <tr style=\"text-align: right;\">\n      <th></th>\n      <th>Year</th>\n      <th>Budget</th>\n      <th>Bond Actor Salary</th>\n    </tr>\n    <tr>\n      <th>Film</th>\n      <th></th>\n      <th></th>\n      <th></th>\n    </tr>\n  </thead>\n  <tbody>\n    <tr>\n      <th>A View to a Kill</th>\n      <td>1985</td>\n      <td>54.5</td>\n      <td>9.1</td>\n    </tr>\n    <tr>\n      <th>Casino Royale</th>\n      <td>2006</td>\n      <td>145.3</td>\n      <td>3.3</td>\n    </tr>\n    <tr>\n      <th>Casino Royale</th>\n      <td>1967</td>\n      <td>85.0</td>\n      <td>NaN</td>\n    </tr>\n  </tbody>\n</table>\n</div>"
          },
          "metadata": {}
        }
      ]
    },
    {
      "cell_type": "code",
      "source": "bond = pd.read_csv(\"jamesbond.csv\", index_col = \"Film\")\nbond.sort_index(inplace = True) \ndel bond[\"Director\"]\nbond.head(3)",
      "metadata": {
        "trusted": true
      },
      "execution_count": 47,
      "outputs": [
        {
          "execution_count": 47,
          "output_type": "execute_result",
          "data": {
            "text/plain": "                  Year         Actor  Box Office  Budget  Bond Actor Salary\nFilm                                                                       \nA View to a Kill  1985   Roger Moore       275.2    54.5                9.1\nCasino Royale     2006  Daniel Craig       581.5   145.3                3.3\nCasino Royale     1967   David Niven       315.0    85.0                NaN",
            "text/html": "<div>\n<style scoped>\n    .dataframe tbody tr th:only-of-type {\n        vertical-align: middle;\n    }\n\n    .dataframe tbody tr th {\n        vertical-align: top;\n    }\n\n    .dataframe thead th {\n        text-align: right;\n    }\n</style>\n<table border=\"1\" class=\"dataframe\">\n  <thead>\n    <tr style=\"text-align: right;\">\n      <th></th>\n      <th>Year</th>\n      <th>Actor</th>\n      <th>Box Office</th>\n      <th>Budget</th>\n      <th>Bond Actor Salary</th>\n    </tr>\n    <tr>\n      <th>Film</th>\n      <th></th>\n      <th></th>\n      <th></th>\n      <th></th>\n      <th></th>\n    </tr>\n  </thead>\n  <tbody>\n    <tr>\n      <th>A View to a Kill</th>\n      <td>1985</td>\n      <td>Roger Moore</td>\n      <td>275.2</td>\n      <td>54.5</td>\n      <td>9.1</td>\n    </tr>\n    <tr>\n      <th>Casino Royale</th>\n      <td>2006</td>\n      <td>Daniel Craig</td>\n      <td>581.5</td>\n      <td>145.3</td>\n      <td>3.3</td>\n    </tr>\n    <tr>\n      <th>Casino Royale</th>\n      <td>1967</td>\n      <td>David Niven</td>\n      <td>315.0</td>\n      <td>85.0</td>\n      <td>NaN</td>\n    </tr>\n  </tbody>\n</table>\n</div>"
          },
          "metadata": {}
        }
      ]
    },
    {
      "cell_type": "markdown",
      "source": "# Create Random Sample\n* .sample()",
      "metadata": {}
    },
    {
      "cell_type": "code",
      "source": "bond = pd.read_csv(\"jamesbond.csv\", index_col = \"Film\")\nbond.sort_index(inplace = True) \nbond.head(3)",
      "metadata": {
        "trusted": true
      },
      "execution_count": 48,
      "outputs": [
        {
          "execution_count": 48,
          "output_type": "execute_result",
          "data": {
            "text/plain": "                  Year         Actor         Director  Box Office  Budget  \\\nFilm                                                                        \nA View to a Kill  1985   Roger Moore        John Glen       275.2    54.5   \nCasino Royale     2006  Daniel Craig  Martin Campbell       581.5   145.3   \nCasino Royale     1967   David Niven       Ken Hughes       315.0    85.0   \n\n                  Bond Actor Salary  \nFilm                                 \nA View to a Kill                9.1  \nCasino Royale                   3.3  \nCasino Royale                   NaN  ",
            "text/html": "<div>\n<style scoped>\n    .dataframe tbody tr th:only-of-type {\n        vertical-align: middle;\n    }\n\n    .dataframe tbody tr th {\n        vertical-align: top;\n    }\n\n    .dataframe thead th {\n        text-align: right;\n    }\n</style>\n<table border=\"1\" class=\"dataframe\">\n  <thead>\n    <tr style=\"text-align: right;\">\n      <th></th>\n      <th>Year</th>\n      <th>Actor</th>\n      <th>Director</th>\n      <th>Box Office</th>\n      <th>Budget</th>\n      <th>Bond Actor Salary</th>\n    </tr>\n    <tr>\n      <th>Film</th>\n      <th></th>\n      <th></th>\n      <th></th>\n      <th></th>\n      <th></th>\n      <th></th>\n    </tr>\n  </thead>\n  <tbody>\n    <tr>\n      <th>A View to a Kill</th>\n      <td>1985</td>\n      <td>Roger Moore</td>\n      <td>John Glen</td>\n      <td>275.2</td>\n      <td>54.5</td>\n      <td>9.1</td>\n    </tr>\n    <tr>\n      <th>Casino Royale</th>\n      <td>2006</td>\n      <td>Daniel Craig</td>\n      <td>Martin Campbell</td>\n      <td>581.5</td>\n      <td>145.3</td>\n      <td>3.3</td>\n    </tr>\n    <tr>\n      <th>Casino Royale</th>\n      <td>1967</td>\n      <td>David Niven</td>\n      <td>Ken Hughes</td>\n      <td>315.0</td>\n      <td>85.0</td>\n      <td>NaN</td>\n    </tr>\n  </tbody>\n</table>\n</div>"
          },
          "metadata": {}
        }
      ]
    },
    {
      "cell_type": "code",
      "source": "bond.sample() # single random roll from the DF",
      "metadata": {
        "trusted": true
      },
      "execution_count": 50,
      "outputs": [
        {
          "execution_count": 50,
          "output_type": "execute_result",
          "data": {
            "text/plain": "         Year         Actor    Director  Box Office  Budget  Bond Actor Salary\nFilm                                                                          \nSkyfall  2012  Daniel Craig  Sam Mendes       943.5   170.2               14.5",
            "text/html": "<div>\n<style scoped>\n    .dataframe tbody tr th:only-of-type {\n        vertical-align: middle;\n    }\n\n    .dataframe tbody tr th {\n        vertical-align: top;\n    }\n\n    .dataframe thead th {\n        text-align: right;\n    }\n</style>\n<table border=\"1\" class=\"dataframe\">\n  <thead>\n    <tr style=\"text-align: right;\">\n      <th></th>\n      <th>Year</th>\n      <th>Actor</th>\n      <th>Director</th>\n      <th>Box Office</th>\n      <th>Budget</th>\n      <th>Bond Actor Salary</th>\n    </tr>\n    <tr>\n      <th>Film</th>\n      <th></th>\n      <th></th>\n      <th></th>\n      <th></th>\n      <th></th>\n      <th></th>\n    </tr>\n  </thead>\n  <tbody>\n    <tr>\n      <th>Skyfall</th>\n      <td>2012</td>\n      <td>Daniel Craig</td>\n      <td>Sam Mendes</td>\n      <td>943.5</td>\n      <td>170.2</td>\n      <td>14.5</td>\n    </tr>\n  </tbody>\n</table>\n</div>"
          },
          "metadata": {}
        }
      ]
    },
    {
      "cell_type": "code",
      "source": "bond.sample(n=3)",
      "metadata": {
        "trusted": true
      },
      "execution_count": 51,
      "outputs": [
        {
          "execution_count": 51,
          "output_type": "execute_result",
          "data": {
            "text/plain": "                  Year         Actor      Director  Box Office  Budget  \\\nFilm                                                                     \nA View to a Kill  1985   Roger Moore     John Glen       275.2    54.5   \nLive and Let Die  1973   Roger Moore  Guy Hamilton       460.3    30.8   \nSpectre           2015  Daniel Craig    Sam Mendes       726.7   206.3   \n\n                  Bond Actor Salary  \nFilm                                 \nA View to a Kill                9.1  \nLive and Let Die                NaN  \nSpectre                         NaN  ",
            "text/html": "<div>\n<style scoped>\n    .dataframe tbody tr th:only-of-type {\n        vertical-align: middle;\n    }\n\n    .dataframe tbody tr th {\n        vertical-align: top;\n    }\n\n    .dataframe thead th {\n        text-align: right;\n    }\n</style>\n<table border=\"1\" class=\"dataframe\">\n  <thead>\n    <tr style=\"text-align: right;\">\n      <th></th>\n      <th>Year</th>\n      <th>Actor</th>\n      <th>Director</th>\n      <th>Box Office</th>\n      <th>Budget</th>\n      <th>Bond Actor Salary</th>\n    </tr>\n    <tr>\n      <th>Film</th>\n      <th></th>\n      <th></th>\n      <th></th>\n      <th></th>\n      <th></th>\n      <th></th>\n    </tr>\n  </thead>\n  <tbody>\n    <tr>\n      <th>A View to a Kill</th>\n      <td>1985</td>\n      <td>Roger Moore</td>\n      <td>John Glen</td>\n      <td>275.2</td>\n      <td>54.5</td>\n      <td>9.1</td>\n    </tr>\n    <tr>\n      <th>Live and Let Die</th>\n      <td>1973</td>\n      <td>Roger Moore</td>\n      <td>Guy Hamilton</td>\n      <td>460.3</td>\n      <td>30.8</td>\n      <td>NaN</td>\n    </tr>\n    <tr>\n      <th>Spectre</th>\n      <td>2015</td>\n      <td>Daniel Craig</td>\n      <td>Sam Mendes</td>\n      <td>726.7</td>\n      <td>206.3</td>\n      <td>NaN</td>\n    </tr>\n  </tbody>\n</table>\n</div>"
          },
          "metadata": {}
        }
      ]
    },
    {
      "cell_type": "code",
      "source": "bond.sample(n=3, axis=1)",
      "metadata": {
        "trusted": true
      },
      "execution_count": 52,
      "outputs": [
        {
          "execution_count": 52,
          "output_type": "execute_result",
          "data": {
            "text/plain": "                                           Director  Budget  Year\nFilm                                                             \nA View to a Kill                          John Glen    54.5  1985\nCasino Royale                       Martin Campbell   145.3  2006\nCasino Royale                            Ken Hughes    85.0  1967\nDiamonds Are Forever                   Guy Hamilton    34.7  1971\nDie Another Day                        Lee Tamahori   154.2  2002\nDr. No                                Terence Young     7.0  1962\nFor Your Eyes Only                        John Glen    60.2  1981\nFrom Russia with Love                 Terence Young    12.6  1963\nGoldenEye                           Martin Campbell    76.9  1995\nGoldfinger                             Guy Hamilton    18.6  1964\nLicence to Kill                           John Glen    56.7  1989\nLive and Let Die                       Guy Hamilton    30.8  1973\nMoonraker                             Lewis Gilbert    91.5  1979\nNever Say Never Again                Irvin Kershner    86.0  1983\nOctopussy                                 John Glen    53.9  1983\nOn Her Majesty's Secret Service       Peter R. Hunt    37.3  1969\nQuantum of Solace                      Marc Forster   181.4  2008\nSkyfall                                  Sam Mendes   170.2  2012\nSpectre                                  Sam Mendes   206.3  2015\nThe Living Daylights                      John Glen    68.8  1987\nThe Man with the Golden Gun            Guy Hamilton    27.7  1974\nThe Spy Who Loved Me                  Lewis Gilbert    45.1  1977\nThe World Is Not Enough               Michael Apted   158.3  1999\nThunderball                           Terence Young    41.9  1965\nTomorrow Never Dies              Roger Spottiswoode   133.9  1997\nYou Only Live Twice                   Lewis Gilbert    59.9  1967",
            "text/html": "<div>\n<style scoped>\n    .dataframe tbody tr th:only-of-type {\n        vertical-align: middle;\n    }\n\n    .dataframe tbody tr th {\n        vertical-align: top;\n    }\n\n    .dataframe thead th {\n        text-align: right;\n    }\n</style>\n<table border=\"1\" class=\"dataframe\">\n  <thead>\n    <tr style=\"text-align: right;\">\n      <th></th>\n      <th>Director</th>\n      <th>Budget</th>\n      <th>Year</th>\n    </tr>\n    <tr>\n      <th>Film</th>\n      <th></th>\n      <th></th>\n      <th></th>\n    </tr>\n  </thead>\n  <tbody>\n    <tr>\n      <th>A View to a Kill</th>\n      <td>John Glen</td>\n      <td>54.5</td>\n      <td>1985</td>\n    </tr>\n    <tr>\n      <th>Casino Royale</th>\n      <td>Martin Campbell</td>\n      <td>145.3</td>\n      <td>2006</td>\n    </tr>\n    <tr>\n      <th>Casino Royale</th>\n      <td>Ken Hughes</td>\n      <td>85.0</td>\n      <td>1967</td>\n    </tr>\n    <tr>\n      <th>Diamonds Are Forever</th>\n      <td>Guy Hamilton</td>\n      <td>34.7</td>\n      <td>1971</td>\n    </tr>\n    <tr>\n      <th>Die Another Day</th>\n      <td>Lee Tamahori</td>\n      <td>154.2</td>\n      <td>2002</td>\n    </tr>\n    <tr>\n      <th>Dr. No</th>\n      <td>Terence Young</td>\n      <td>7.0</td>\n      <td>1962</td>\n    </tr>\n    <tr>\n      <th>For Your Eyes Only</th>\n      <td>John Glen</td>\n      <td>60.2</td>\n      <td>1981</td>\n    </tr>\n    <tr>\n      <th>From Russia with Love</th>\n      <td>Terence Young</td>\n      <td>12.6</td>\n      <td>1963</td>\n    </tr>\n    <tr>\n      <th>GoldenEye</th>\n      <td>Martin Campbell</td>\n      <td>76.9</td>\n      <td>1995</td>\n    </tr>\n    <tr>\n      <th>Goldfinger</th>\n      <td>Guy Hamilton</td>\n      <td>18.6</td>\n      <td>1964</td>\n    </tr>\n    <tr>\n      <th>Licence to Kill</th>\n      <td>John Glen</td>\n      <td>56.7</td>\n      <td>1989</td>\n    </tr>\n    <tr>\n      <th>Live and Let Die</th>\n      <td>Guy Hamilton</td>\n      <td>30.8</td>\n      <td>1973</td>\n    </tr>\n    <tr>\n      <th>Moonraker</th>\n      <td>Lewis Gilbert</td>\n      <td>91.5</td>\n      <td>1979</td>\n    </tr>\n    <tr>\n      <th>Never Say Never Again</th>\n      <td>Irvin Kershner</td>\n      <td>86.0</td>\n      <td>1983</td>\n    </tr>\n    <tr>\n      <th>Octopussy</th>\n      <td>John Glen</td>\n      <td>53.9</td>\n      <td>1983</td>\n    </tr>\n    <tr>\n      <th>On Her Majesty's Secret Service</th>\n      <td>Peter R. Hunt</td>\n      <td>37.3</td>\n      <td>1969</td>\n    </tr>\n    <tr>\n      <th>Quantum of Solace</th>\n      <td>Marc Forster</td>\n      <td>181.4</td>\n      <td>2008</td>\n    </tr>\n    <tr>\n      <th>Skyfall</th>\n      <td>Sam Mendes</td>\n      <td>170.2</td>\n      <td>2012</td>\n    </tr>\n    <tr>\n      <th>Spectre</th>\n      <td>Sam Mendes</td>\n      <td>206.3</td>\n      <td>2015</td>\n    </tr>\n    <tr>\n      <th>The Living Daylights</th>\n      <td>John Glen</td>\n      <td>68.8</td>\n      <td>1987</td>\n    </tr>\n    <tr>\n      <th>The Man with the Golden Gun</th>\n      <td>Guy Hamilton</td>\n      <td>27.7</td>\n      <td>1974</td>\n    </tr>\n    <tr>\n      <th>The Spy Who Loved Me</th>\n      <td>Lewis Gilbert</td>\n      <td>45.1</td>\n      <td>1977</td>\n    </tr>\n    <tr>\n      <th>The World Is Not Enough</th>\n      <td>Michael Apted</td>\n      <td>158.3</td>\n      <td>1999</td>\n    </tr>\n    <tr>\n      <th>Thunderball</th>\n      <td>Terence Young</td>\n      <td>41.9</td>\n      <td>1965</td>\n    </tr>\n    <tr>\n      <th>Tomorrow Never Dies</th>\n      <td>Roger Spottiswoode</td>\n      <td>133.9</td>\n      <td>1997</td>\n    </tr>\n    <tr>\n      <th>You Only Live Twice</th>\n      <td>Lewis Gilbert</td>\n      <td>59.9</td>\n      <td>1967</td>\n    </tr>\n  </tbody>\n</table>\n</div>"
          },
          "metadata": {}
        }
      ]
    },
    {
      "cell_type": "code",
      "source": "bond.sample(frac = .1) # percentage",
      "metadata": {
        "trusted": true
      },
      "execution_count": 57,
      "outputs": [
        {
          "execution_count": 57,
          "output_type": "execute_result",
          "data": {
            "text/plain": "                         Year           Actor       Director  Box Office  \\\nFilm                                                                       \nMoonraker                1979     Roger Moore  Lewis Gilbert       535.0   \nDie Another Day          2002  Pierce Brosnan   Lee Tamahori       465.4   \nThe World Is Not Enough  1999  Pierce Brosnan  Michael Apted       439.5   \n\n                         Budget  Bond Actor Salary  \nFilm                                                \nMoonraker                  91.5                NaN  \nDie Another Day           154.2               17.9  \nThe World Is Not Enough   158.3               13.5  ",
            "text/html": "<div>\n<style scoped>\n    .dataframe tbody tr th:only-of-type {\n        vertical-align: middle;\n    }\n\n    .dataframe tbody tr th {\n        vertical-align: top;\n    }\n\n    .dataframe thead th {\n        text-align: right;\n    }\n</style>\n<table border=\"1\" class=\"dataframe\">\n  <thead>\n    <tr style=\"text-align: right;\">\n      <th></th>\n      <th>Year</th>\n      <th>Actor</th>\n      <th>Director</th>\n      <th>Box Office</th>\n      <th>Budget</th>\n      <th>Bond Actor Salary</th>\n    </tr>\n    <tr>\n      <th>Film</th>\n      <th></th>\n      <th></th>\n      <th></th>\n      <th></th>\n      <th></th>\n      <th></th>\n    </tr>\n  </thead>\n  <tbody>\n    <tr>\n      <th>Moonraker</th>\n      <td>1979</td>\n      <td>Roger Moore</td>\n      <td>Lewis Gilbert</td>\n      <td>535.0</td>\n      <td>91.5</td>\n      <td>NaN</td>\n    </tr>\n    <tr>\n      <th>Die Another Day</th>\n      <td>2002</td>\n      <td>Pierce Brosnan</td>\n      <td>Lee Tamahori</td>\n      <td>465.4</td>\n      <td>154.2</td>\n      <td>17.9</td>\n    </tr>\n    <tr>\n      <th>The World Is Not Enough</th>\n      <td>1999</td>\n      <td>Pierce Brosnan</td>\n      <td>Michael Apted</td>\n      <td>439.5</td>\n      <td>158.3</td>\n      <td>13.5</td>\n    </tr>\n  </tbody>\n</table>\n</div>"
          },
          "metadata": {}
        }
      ]
    },
    {
      "cell_type": "markdown",
      "source": "# The .nsmallest() and .nlargest() Method",
      "metadata": {}
    },
    {
      "cell_type": "code",
      "source": "bond = pd.read_csv(\"jamesbond.csv\", index_col = \"Film\")\nbond.sort_index(inplace = True) \nbond.head(3)",
      "metadata": {
        "trusted": true
      },
      "execution_count": 58,
      "outputs": [
        {
          "execution_count": 58,
          "output_type": "execute_result",
          "data": {
            "text/plain": "                  Year         Actor         Director  Box Office  Budget  \\\nFilm                                                                        \nA View to a Kill  1985   Roger Moore        John Glen       275.2    54.5   \nCasino Royale     2006  Daniel Craig  Martin Campbell       581.5   145.3   \nCasino Royale     1967   David Niven       Ken Hughes       315.0    85.0   \n\n                  Bond Actor Salary  \nFilm                                 \nA View to a Kill                9.1  \nCasino Royale                   3.3  \nCasino Royale                   NaN  ",
            "text/html": "<div>\n<style scoped>\n    .dataframe tbody tr th:only-of-type {\n        vertical-align: middle;\n    }\n\n    .dataframe tbody tr th {\n        vertical-align: top;\n    }\n\n    .dataframe thead th {\n        text-align: right;\n    }\n</style>\n<table border=\"1\" class=\"dataframe\">\n  <thead>\n    <tr style=\"text-align: right;\">\n      <th></th>\n      <th>Year</th>\n      <th>Actor</th>\n      <th>Director</th>\n      <th>Box Office</th>\n      <th>Budget</th>\n      <th>Bond Actor Salary</th>\n    </tr>\n    <tr>\n      <th>Film</th>\n      <th></th>\n      <th></th>\n      <th></th>\n      <th></th>\n      <th></th>\n      <th></th>\n    </tr>\n  </thead>\n  <tbody>\n    <tr>\n      <th>A View to a Kill</th>\n      <td>1985</td>\n      <td>Roger Moore</td>\n      <td>John Glen</td>\n      <td>275.2</td>\n      <td>54.5</td>\n      <td>9.1</td>\n    </tr>\n    <tr>\n      <th>Casino Royale</th>\n      <td>2006</td>\n      <td>Daniel Craig</td>\n      <td>Martin Campbell</td>\n      <td>581.5</td>\n      <td>145.3</td>\n      <td>3.3</td>\n    </tr>\n    <tr>\n      <th>Casino Royale</th>\n      <td>1967</td>\n      <td>David Niven</td>\n      <td>Ken Hughes</td>\n      <td>315.0</td>\n      <td>85.0</td>\n      <td>NaN</td>\n    </tr>\n  </tbody>\n</table>\n</div>"
          },
          "metadata": {}
        }
      ]
    },
    {
      "cell_type": "code",
      "source": "bond.sort_values(\"Box Office\", ascending = False).head(1)",
      "metadata": {
        "trusted": true
      },
      "execution_count": 61,
      "outputs": [
        {
          "execution_count": 61,
          "output_type": "execute_result",
          "data": {
            "text/plain": "         Year         Actor    Director  Box Office  Budget  Bond Actor Salary\nFilm                                                                          \nSkyfall  2012  Daniel Craig  Sam Mendes       943.5   170.2               14.5",
            "text/html": "<div>\n<style scoped>\n    .dataframe tbody tr th:only-of-type {\n        vertical-align: middle;\n    }\n\n    .dataframe tbody tr th {\n        vertical-align: top;\n    }\n\n    .dataframe thead th {\n        text-align: right;\n    }\n</style>\n<table border=\"1\" class=\"dataframe\">\n  <thead>\n    <tr style=\"text-align: right;\">\n      <th></th>\n      <th>Year</th>\n      <th>Actor</th>\n      <th>Director</th>\n      <th>Box Office</th>\n      <th>Budget</th>\n      <th>Bond Actor Salary</th>\n    </tr>\n    <tr>\n      <th>Film</th>\n      <th></th>\n      <th></th>\n      <th></th>\n      <th></th>\n      <th></th>\n      <th></th>\n    </tr>\n  </thead>\n  <tbody>\n    <tr>\n      <th>Skyfall</th>\n      <td>2012</td>\n      <td>Daniel Craig</td>\n      <td>Sam Mendes</td>\n      <td>943.5</td>\n      <td>170.2</td>\n      <td>14.5</td>\n    </tr>\n  </tbody>\n</table>\n</div>"
          },
          "metadata": {}
        }
      ]
    },
    {
      "cell_type": "code",
      "source": "bond.nlargest(n=1, columns = \"Box Office\")",
      "metadata": {
        "trusted": true
      },
      "execution_count": 63,
      "outputs": [
        {
          "execution_count": 63,
          "output_type": "execute_result",
          "data": {
            "text/plain": "         Year         Actor    Director  Box Office  Budget  Bond Actor Salary\nFilm                                                                          \nSkyfall  2012  Daniel Craig  Sam Mendes       943.5   170.2               14.5",
            "text/html": "<div>\n<style scoped>\n    .dataframe tbody tr th:only-of-type {\n        vertical-align: middle;\n    }\n\n    .dataframe tbody tr th {\n        vertical-align: top;\n    }\n\n    .dataframe thead th {\n        text-align: right;\n    }\n</style>\n<table border=\"1\" class=\"dataframe\">\n  <thead>\n    <tr style=\"text-align: right;\">\n      <th></th>\n      <th>Year</th>\n      <th>Actor</th>\n      <th>Director</th>\n      <th>Box Office</th>\n      <th>Budget</th>\n      <th>Bond Actor Salary</th>\n    </tr>\n    <tr>\n      <th>Film</th>\n      <th></th>\n      <th></th>\n      <th></th>\n      <th></th>\n      <th></th>\n      <th></th>\n    </tr>\n  </thead>\n  <tbody>\n    <tr>\n      <th>Skyfall</th>\n      <td>2012</td>\n      <td>Daniel Craig</td>\n      <td>Sam Mendes</td>\n      <td>943.5</td>\n      <td>170.2</td>\n      <td>14.5</td>\n    </tr>\n  </tbody>\n</table>\n</div>"
          },
          "metadata": {}
        }
      ]
    },
    {
      "cell_type": "code",
      "source": "bond.nlargest(n = 3, columns = \"Budget\")",
      "metadata": {
        "trusted": true
      },
      "execution_count": 64,
      "outputs": [
        {
          "execution_count": 64,
          "output_type": "execute_result",
          "data": {
            "text/plain": "                   Year         Actor      Director  Box Office  Budget  \\\nFilm                                                                      \nSpectre            2015  Daniel Craig    Sam Mendes       726.7   206.3   \nQuantum of Solace  2008  Daniel Craig  Marc Forster       514.2   181.4   \nSkyfall            2012  Daniel Craig    Sam Mendes       943.5   170.2   \n\n                   Bond Actor Salary  \nFilm                                  \nSpectre                          NaN  \nQuantum of Solace                8.1  \nSkyfall                         14.5  ",
            "text/html": "<div>\n<style scoped>\n    .dataframe tbody tr th:only-of-type {\n        vertical-align: middle;\n    }\n\n    .dataframe tbody tr th {\n        vertical-align: top;\n    }\n\n    .dataframe thead th {\n        text-align: right;\n    }\n</style>\n<table border=\"1\" class=\"dataframe\">\n  <thead>\n    <tr style=\"text-align: right;\">\n      <th></th>\n      <th>Year</th>\n      <th>Actor</th>\n      <th>Director</th>\n      <th>Box Office</th>\n      <th>Budget</th>\n      <th>Bond Actor Salary</th>\n    </tr>\n    <tr>\n      <th>Film</th>\n      <th></th>\n      <th></th>\n      <th></th>\n      <th></th>\n      <th></th>\n      <th></th>\n    </tr>\n  </thead>\n  <tbody>\n    <tr>\n      <th>Spectre</th>\n      <td>2015</td>\n      <td>Daniel Craig</td>\n      <td>Sam Mendes</td>\n      <td>726.7</td>\n      <td>206.3</td>\n      <td>NaN</td>\n    </tr>\n    <tr>\n      <th>Quantum of Solace</th>\n      <td>2008</td>\n      <td>Daniel Craig</td>\n      <td>Marc Forster</td>\n      <td>514.2</td>\n      <td>181.4</td>\n      <td>8.1</td>\n    </tr>\n    <tr>\n      <th>Skyfall</th>\n      <td>2012</td>\n      <td>Daniel Craig</td>\n      <td>Sam Mendes</td>\n      <td>943.5</td>\n      <td>170.2</td>\n      <td>14.5</td>\n    </tr>\n  </tbody>\n</table>\n</div>"
          },
          "metadata": {}
        }
      ]
    },
    {
      "cell_type": "code",
      "source": "bond.nsmallest(n = 6, columns = \"Bond Actor Salary\")",
      "metadata": {
        "trusted": true
      },
      "execution_count": 66,
      "outputs": [
        {
          "execution_count": 66,
          "output_type": "execute_result",
          "data": {
            "text/plain": "                                 Year           Actor         Director  \\\nFilm                                                                     \nDr. No                           1962    Sean Connery    Terence Young   \nOn Her Majesty's Secret Service  1969  George Lazenby    Peter R. Hunt   \nFrom Russia with Love            1963    Sean Connery    Terence Young   \nGoldfinger                       1964    Sean Connery     Guy Hamilton   \nCasino Royale                    2006    Daniel Craig  Martin Campbell   \nYou Only Live Twice              1967    Sean Connery    Lewis Gilbert   \n\n                                 Box Office  Budget  Bond Actor Salary  \nFilm                                                                    \nDr. No                                448.8     7.0                0.6  \nOn Her Majesty's Secret Service       291.5    37.3                0.6  \nFrom Russia with Love                 543.8    12.6                1.6  \nGoldfinger                            820.4    18.6                3.2  \nCasino Royale                         581.5   145.3                3.3  \nYou Only Live Twice                   514.2    59.9                4.4  ",
            "text/html": "<div>\n<style scoped>\n    .dataframe tbody tr th:only-of-type {\n        vertical-align: middle;\n    }\n\n    .dataframe tbody tr th {\n        vertical-align: top;\n    }\n\n    .dataframe thead th {\n        text-align: right;\n    }\n</style>\n<table border=\"1\" class=\"dataframe\">\n  <thead>\n    <tr style=\"text-align: right;\">\n      <th></th>\n      <th>Year</th>\n      <th>Actor</th>\n      <th>Director</th>\n      <th>Box Office</th>\n      <th>Budget</th>\n      <th>Bond Actor Salary</th>\n    </tr>\n    <tr>\n      <th>Film</th>\n      <th></th>\n      <th></th>\n      <th></th>\n      <th></th>\n      <th></th>\n      <th></th>\n    </tr>\n  </thead>\n  <tbody>\n    <tr>\n      <th>Dr. No</th>\n      <td>1962</td>\n      <td>Sean Connery</td>\n      <td>Terence Young</td>\n      <td>448.8</td>\n      <td>7.0</td>\n      <td>0.6</td>\n    </tr>\n    <tr>\n      <th>On Her Majesty's Secret Service</th>\n      <td>1969</td>\n      <td>George Lazenby</td>\n      <td>Peter R. Hunt</td>\n      <td>291.5</td>\n      <td>37.3</td>\n      <td>0.6</td>\n    </tr>\n    <tr>\n      <th>From Russia with Love</th>\n      <td>1963</td>\n      <td>Sean Connery</td>\n      <td>Terence Young</td>\n      <td>543.8</td>\n      <td>12.6</td>\n      <td>1.6</td>\n    </tr>\n    <tr>\n      <th>Goldfinger</th>\n      <td>1964</td>\n      <td>Sean Connery</td>\n      <td>Guy Hamilton</td>\n      <td>820.4</td>\n      <td>18.6</td>\n      <td>3.2</td>\n    </tr>\n    <tr>\n      <th>Casino Royale</th>\n      <td>2006</td>\n      <td>Daniel Craig</td>\n      <td>Martin Campbell</td>\n      <td>581.5</td>\n      <td>145.3</td>\n      <td>3.3</td>\n    </tr>\n    <tr>\n      <th>You Only Live Twice</th>\n      <td>1967</td>\n      <td>Sean Connery</td>\n      <td>Lewis Gilbert</td>\n      <td>514.2</td>\n      <td>59.9</td>\n      <td>4.4</td>\n    </tr>\n  </tbody>\n</table>\n</div>"
          },
          "metadata": {}
        }
      ]
    },
    {
      "cell_type": "code",
      "source": "bond[\"Box Office\"].nlargest(3)",
      "metadata": {
        "trusted": true
      },
      "execution_count": 67,
      "outputs": [
        {
          "execution_count": 67,
          "output_type": "execute_result",
          "data": {
            "text/plain": "Film\nSkyfall        943.5\nThunderball    848.1\nGoldfinger     820.4\nName: Box Office, dtype: float64"
          },
          "metadata": {}
        }
      ]
    },
    {
      "cell_type": "markdown",
      "source": "# Filtering with the where Method",
      "metadata": {}
    },
    {
      "cell_type": "code",
      "source": "import pandas as pd\nbond = pd.read_csv(\"jamesbond.csv\", index_col = \"Film\")\nbond.sort_index(inplace = True) \nbond.head(3)",
      "metadata": {
        "trusted": true
      },
      "execution_count": 2,
      "outputs": [
        {
          "execution_count": 2,
          "output_type": "execute_result",
          "data": {
            "text/plain": "                  Year         Actor         Director  Box Office  Budget  \\\nFilm                                                                        \nA View to a Kill  1985   Roger Moore        John Glen       275.2    54.5   \nCasino Royale     2006  Daniel Craig  Martin Campbell       581.5   145.3   \nCasino Royale     1967   David Niven       Ken Hughes       315.0    85.0   \n\n                  Bond Actor Salary  \nFilm                                 \nA View to a Kill                9.1  \nCasino Royale                   3.3  \nCasino Royale                   NaN  ",
            "text/html": "<div>\n<style scoped>\n    .dataframe tbody tr th:only-of-type {\n        vertical-align: middle;\n    }\n\n    .dataframe tbody tr th {\n        vertical-align: top;\n    }\n\n    .dataframe thead th {\n        text-align: right;\n    }\n</style>\n<table border=\"1\" class=\"dataframe\">\n  <thead>\n    <tr style=\"text-align: right;\">\n      <th></th>\n      <th>Year</th>\n      <th>Actor</th>\n      <th>Director</th>\n      <th>Box Office</th>\n      <th>Budget</th>\n      <th>Bond Actor Salary</th>\n    </tr>\n    <tr>\n      <th>Film</th>\n      <th></th>\n      <th></th>\n      <th></th>\n      <th></th>\n      <th></th>\n      <th></th>\n    </tr>\n  </thead>\n  <tbody>\n    <tr>\n      <th>A View to a Kill</th>\n      <td>1985</td>\n      <td>Roger Moore</td>\n      <td>John Glen</td>\n      <td>275.2</td>\n      <td>54.5</td>\n      <td>9.1</td>\n    </tr>\n    <tr>\n      <th>Casino Royale</th>\n      <td>2006</td>\n      <td>Daniel Craig</td>\n      <td>Martin Campbell</td>\n      <td>581.5</td>\n      <td>145.3</td>\n      <td>3.3</td>\n    </tr>\n    <tr>\n      <th>Casino Royale</th>\n      <td>1967</td>\n      <td>David Niven</td>\n      <td>Ken Hughes</td>\n      <td>315.0</td>\n      <td>85.0</td>\n      <td>NaN</td>\n    </tr>\n  </tbody>\n</table>\n</div>"
          },
          "metadata": {}
        }
      ]
    },
    {
      "cell_type": "code",
      "source": "mask = bond[\"Actor\"] == \"Sean Connery\"\nbond[mask]",
      "metadata": {
        "trusted": true
      },
      "execution_count": 4,
      "outputs": [
        {
          "execution_count": 4,
          "output_type": "execute_result",
          "data": {
            "text/plain": "                       Year         Actor        Director  Box Office  Budget  \\\nFilm                                                                            \nDiamonds Are Forever   1971  Sean Connery    Guy Hamilton       442.5    34.7   \nDr. No                 1962  Sean Connery   Terence Young       448.8     7.0   \nFrom Russia with Love  1963  Sean Connery   Terence Young       543.8    12.6   \nGoldfinger             1964  Sean Connery    Guy Hamilton       820.4    18.6   \nNever Say Never Again  1983  Sean Connery  Irvin Kershner       380.0    86.0   \nThunderball            1965  Sean Connery   Terence Young       848.1    41.9   \nYou Only Live Twice    1967  Sean Connery   Lewis Gilbert       514.2    59.9   \n\n                       Bond Actor Salary  \nFilm                                      \nDiamonds Are Forever                 5.8  \nDr. No                               0.6  \nFrom Russia with Love                1.6  \nGoldfinger                           3.2  \nNever Say Never Again                NaN  \nThunderball                          4.7  \nYou Only Live Twice                  4.4  ",
            "text/html": "<div>\n<style scoped>\n    .dataframe tbody tr th:only-of-type {\n        vertical-align: middle;\n    }\n\n    .dataframe tbody tr th {\n        vertical-align: top;\n    }\n\n    .dataframe thead th {\n        text-align: right;\n    }\n</style>\n<table border=\"1\" class=\"dataframe\">\n  <thead>\n    <tr style=\"text-align: right;\">\n      <th></th>\n      <th>Year</th>\n      <th>Actor</th>\n      <th>Director</th>\n      <th>Box Office</th>\n      <th>Budget</th>\n      <th>Bond Actor Salary</th>\n    </tr>\n    <tr>\n      <th>Film</th>\n      <th></th>\n      <th></th>\n      <th></th>\n      <th></th>\n      <th></th>\n      <th></th>\n    </tr>\n  </thead>\n  <tbody>\n    <tr>\n      <th>Diamonds Are Forever</th>\n      <td>1971</td>\n      <td>Sean Connery</td>\n      <td>Guy Hamilton</td>\n      <td>442.5</td>\n      <td>34.7</td>\n      <td>5.8</td>\n    </tr>\n    <tr>\n      <th>Dr. No</th>\n      <td>1962</td>\n      <td>Sean Connery</td>\n      <td>Terence Young</td>\n      <td>448.8</td>\n      <td>7.0</td>\n      <td>0.6</td>\n    </tr>\n    <tr>\n      <th>From Russia with Love</th>\n      <td>1963</td>\n      <td>Sean Connery</td>\n      <td>Terence Young</td>\n      <td>543.8</td>\n      <td>12.6</td>\n      <td>1.6</td>\n    </tr>\n    <tr>\n      <th>Goldfinger</th>\n      <td>1964</td>\n      <td>Sean Connery</td>\n      <td>Guy Hamilton</td>\n      <td>820.4</td>\n      <td>18.6</td>\n      <td>3.2</td>\n    </tr>\n    <tr>\n      <th>Never Say Never Again</th>\n      <td>1983</td>\n      <td>Sean Connery</td>\n      <td>Irvin Kershner</td>\n      <td>380.0</td>\n      <td>86.0</td>\n      <td>NaN</td>\n    </tr>\n    <tr>\n      <th>Thunderball</th>\n      <td>1965</td>\n      <td>Sean Connery</td>\n      <td>Terence Young</td>\n      <td>848.1</td>\n      <td>41.9</td>\n      <td>4.7</td>\n    </tr>\n    <tr>\n      <th>You Only Live Twice</th>\n      <td>1967</td>\n      <td>Sean Connery</td>\n      <td>Lewis Gilbert</td>\n      <td>514.2</td>\n      <td>59.9</td>\n      <td>4.4</td>\n    </tr>\n  </tbody>\n</table>\n</div>"
          },
          "metadata": {}
        }
      ]
    },
    {
      "cell_type": "code",
      "source": "bond.where(mask).head(5)",
      "metadata": {
        "trusted": true
      },
      "execution_count": 6,
      "outputs": [
        {
          "execution_count": 6,
          "output_type": "execute_result",
          "data": {
            "text/plain": "                        Year         Actor      Director  Box Office  Budget  \\\nFilm                                                                           \nA View to a Kill         NaN           NaN           NaN         NaN     NaN   \nCasino Royale            NaN           NaN           NaN         NaN     NaN   \nCasino Royale            NaN           NaN           NaN         NaN     NaN   \nDiamonds Are Forever  1971.0  Sean Connery  Guy Hamilton       442.5    34.7   \nDie Another Day          NaN           NaN           NaN         NaN     NaN   \n\n                      Bond Actor Salary  \nFilm                                     \nA View to a Kill                    NaN  \nCasino Royale                       NaN  \nCasino Royale                       NaN  \nDiamonds Are Forever                5.8  \nDie Another Day                     NaN  ",
            "text/html": "<div>\n<style scoped>\n    .dataframe tbody tr th:only-of-type {\n        vertical-align: middle;\n    }\n\n    .dataframe tbody tr th {\n        vertical-align: top;\n    }\n\n    .dataframe thead th {\n        text-align: right;\n    }\n</style>\n<table border=\"1\" class=\"dataframe\">\n  <thead>\n    <tr style=\"text-align: right;\">\n      <th></th>\n      <th>Year</th>\n      <th>Actor</th>\n      <th>Director</th>\n      <th>Box Office</th>\n      <th>Budget</th>\n      <th>Bond Actor Salary</th>\n    </tr>\n    <tr>\n      <th>Film</th>\n      <th></th>\n      <th></th>\n      <th></th>\n      <th></th>\n      <th></th>\n      <th></th>\n    </tr>\n  </thead>\n  <tbody>\n    <tr>\n      <th>A View to a Kill</th>\n      <td>NaN</td>\n      <td>NaN</td>\n      <td>NaN</td>\n      <td>NaN</td>\n      <td>NaN</td>\n      <td>NaN</td>\n    </tr>\n    <tr>\n      <th>Casino Royale</th>\n      <td>NaN</td>\n      <td>NaN</td>\n      <td>NaN</td>\n      <td>NaN</td>\n      <td>NaN</td>\n      <td>NaN</td>\n    </tr>\n    <tr>\n      <th>Casino Royale</th>\n      <td>NaN</td>\n      <td>NaN</td>\n      <td>NaN</td>\n      <td>NaN</td>\n      <td>NaN</td>\n      <td>NaN</td>\n    </tr>\n    <tr>\n      <th>Diamonds Are Forever</th>\n      <td>1971.0</td>\n      <td>Sean Connery</td>\n      <td>Guy Hamilton</td>\n      <td>442.5</td>\n      <td>34.7</td>\n      <td>5.8</td>\n    </tr>\n    <tr>\n      <th>Die Another Day</th>\n      <td>NaN</td>\n      <td>NaN</td>\n      <td>NaN</td>\n      <td>NaN</td>\n      <td>NaN</td>\n      <td>NaN</td>\n    </tr>\n  </tbody>\n</table>\n</div>"
          },
          "metadata": {}
        }
      ]
    },
    {
      "cell_type": "code",
      "source": "bond.where(bond[\"Box Office\"] > 800).head(10)",
      "metadata": {
        "trusted": true
      },
      "execution_count": 8,
      "outputs": [
        {
          "execution_count": 8,
          "output_type": "execute_result",
          "data": {
            "text/plain": "                         Year         Actor      Director  Box Office  Budget  \\\nFilm                                                                            \nA View to a Kill          NaN           NaN           NaN         NaN     NaN   \nCasino Royale             NaN           NaN           NaN         NaN     NaN   \nCasino Royale             NaN           NaN           NaN         NaN     NaN   \nDiamonds Are Forever      NaN           NaN           NaN         NaN     NaN   \nDie Another Day           NaN           NaN           NaN         NaN     NaN   \nDr. No                    NaN           NaN           NaN         NaN     NaN   \nFor Your Eyes Only        NaN           NaN           NaN         NaN     NaN   \nFrom Russia with Love     NaN           NaN           NaN         NaN     NaN   \nGoldenEye                 NaN           NaN           NaN         NaN     NaN   \nGoldfinger             1964.0  Sean Connery  Guy Hamilton       820.4    18.6   \n\n                       Bond Actor Salary  \nFilm                                      \nA View to a Kill                     NaN  \nCasino Royale                        NaN  \nCasino Royale                        NaN  \nDiamonds Are Forever                 NaN  \nDie Another Day                      NaN  \nDr. No                               NaN  \nFor Your Eyes Only                   NaN  \nFrom Russia with Love                NaN  \nGoldenEye                            NaN  \nGoldfinger                           3.2  ",
            "text/html": "<div>\n<style scoped>\n    .dataframe tbody tr th:only-of-type {\n        vertical-align: middle;\n    }\n\n    .dataframe tbody tr th {\n        vertical-align: top;\n    }\n\n    .dataframe thead th {\n        text-align: right;\n    }\n</style>\n<table border=\"1\" class=\"dataframe\">\n  <thead>\n    <tr style=\"text-align: right;\">\n      <th></th>\n      <th>Year</th>\n      <th>Actor</th>\n      <th>Director</th>\n      <th>Box Office</th>\n      <th>Budget</th>\n      <th>Bond Actor Salary</th>\n    </tr>\n    <tr>\n      <th>Film</th>\n      <th></th>\n      <th></th>\n      <th></th>\n      <th></th>\n      <th></th>\n      <th></th>\n    </tr>\n  </thead>\n  <tbody>\n    <tr>\n      <th>A View to a Kill</th>\n      <td>NaN</td>\n      <td>NaN</td>\n      <td>NaN</td>\n      <td>NaN</td>\n      <td>NaN</td>\n      <td>NaN</td>\n    </tr>\n    <tr>\n      <th>Casino Royale</th>\n      <td>NaN</td>\n      <td>NaN</td>\n      <td>NaN</td>\n      <td>NaN</td>\n      <td>NaN</td>\n      <td>NaN</td>\n    </tr>\n    <tr>\n      <th>Casino Royale</th>\n      <td>NaN</td>\n      <td>NaN</td>\n      <td>NaN</td>\n      <td>NaN</td>\n      <td>NaN</td>\n      <td>NaN</td>\n    </tr>\n    <tr>\n      <th>Diamonds Are Forever</th>\n      <td>NaN</td>\n      <td>NaN</td>\n      <td>NaN</td>\n      <td>NaN</td>\n      <td>NaN</td>\n      <td>NaN</td>\n    </tr>\n    <tr>\n      <th>Die Another Day</th>\n      <td>NaN</td>\n      <td>NaN</td>\n      <td>NaN</td>\n      <td>NaN</td>\n      <td>NaN</td>\n      <td>NaN</td>\n    </tr>\n    <tr>\n      <th>Dr. No</th>\n      <td>NaN</td>\n      <td>NaN</td>\n      <td>NaN</td>\n      <td>NaN</td>\n      <td>NaN</td>\n      <td>NaN</td>\n    </tr>\n    <tr>\n      <th>For Your Eyes Only</th>\n      <td>NaN</td>\n      <td>NaN</td>\n      <td>NaN</td>\n      <td>NaN</td>\n      <td>NaN</td>\n      <td>NaN</td>\n    </tr>\n    <tr>\n      <th>From Russia with Love</th>\n      <td>NaN</td>\n      <td>NaN</td>\n      <td>NaN</td>\n      <td>NaN</td>\n      <td>NaN</td>\n      <td>NaN</td>\n    </tr>\n    <tr>\n      <th>GoldenEye</th>\n      <td>NaN</td>\n      <td>NaN</td>\n      <td>NaN</td>\n      <td>NaN</td>\n      <td>NaN</td>\n      <td>NaN</td>\n    </tr>\n    <tr>\n      <th>Goldfinger</th>\n      <td>1964.0</td>\n      <td>Sean Connery</td>\n      <td>Guy Hamilton</td>\n      <td>820.4</td>\n      <td>18.6</td>\n      <td>3.2</td>\n    </tr>\n  </tbody>\n</table>\n</div>"
          },
          "metadata": {}
        }
      ]
    },
    {
      "cell_type": "code",
      "source": "mask2 = bond[\"Box Office\"] > 800\nbond.where(mask & mask2)",
      "metadata": {
        "trusted": true
      },
      "execution_count": 11,
      "outputs": [
        {
          "execution_count": 11,
          "output_type": "execute_result",
          "data": {
            "text/plain": "                                   Year         Actor       Director  \\\nFilm                                                                   \nA View to a Kill                    NaN           NaN            NaN   \nCasino Royale                       NaN           NaN            NaN   \nCasino Royale                       NaN           NaN            NaN   \nDiamonds Are Forever                NaN           NaN            NaN   \nDie Another Day                     NaN           NaN            NaN   \nDr. No                              NaN           NaN            NaN   \nFor Your Eyes Only                  NaN           NaN            NaN   \nFrom Russia with Love               NaN           NaN            NaN   \nGoldenEye                           NaN           NaN            NaN   \nGoldfinger                       1964.0  Sean Connery   Guy Hamilton   \nLicence to Kill                     NaN           NaN            NaN   \nLive and Let Die                    NaN           NaN            NaN   \nMoonraker                           NaN           NaN            NaN   \nNever Say Never Again               NaN           NaN            NaN   \nOctopussy                           NaN           NaN            NaN   \nOn Her Majesty's Secret Service     NaN           NaN            NaN   \nQuantum of Solace                   NaN           NaN            NaN   \nSkyfall                             NaN           NaN            NaN   \nSpectre                             NaN           NaN            NaN   \nThe Living Daylights                NaN           NaN            NaN   \nThe Man with the Golden Gun         NaN           NaN            NaN   \nThe Spy Who Loved Me                NaN           NaN            NaN   \nThe World Is Not Enough             NaN           NaN            NaN   \nThunderball                      1965.0  Sean Connery  Terence Young   \nTomorrow Never Dies                 NaN           NaN            NaN   \nYou Only Live Twice                 NaN           NaN            NaN   \n\n                                 Box Office  Budget  Bond Actor Salary  \nFilm                                                                    \nA View to a Kill                        NaN     NaN                NaN  \nCasino Royale                           NaN     NaN                NaN  \nCasino Royale                           NaN     NaN                NaN  \nDiamonds Are Forever                    NaN     NaN                NaN  \nDie Another Day                         NaN     NaN                NaN  \nDr. No                                  NaN     NaN                NaN  \nFor Your Eyes Only                      NaN     NaN                NaN  \nFrom Russia with Love                   NaN     NaN                NaN  \nGoldenEye                               NaN     NaN                NaN  \nGoldfinger                            820.4    18.6                3.2  \nLicence to Kill                         NaN     NaN                NaN  \nLive and Let Die                        NaN     NaN                NaN  \nMoonraker                               NaN     NaN                NaN  \nNever Say Never Again                   NaN     NaN                NaN  \nOctopussy                               NaN     NaN                NaN  \nOn Her Majesty's Secret Service         NaN     NaN                NaN  \nQuantum of Solace                       NaN     NaN                NaN  \nSkyfall                                 NaN     NaN                NaN  \nSpectre                                 NaN     NaN                NaN  \nThe Living Daylights                    NaN     NaN                NaN  \nThe Man with the Golden Gun             NaN     NaN                NaN  \nThe Spy Who Loved Me                    NaN     NaN                NaN  \nThe World Is Not Enough                 NaN     NaN                NaN  \nThunderball                           848.1    41.9                4.7  \nTomorrow Never Dies                     NaN     NaN                NaN  \nYou Only Live Twice                     NaN     NaN                NaN  ",
            "text/html": "<div>\n<style scoped>\n    .dataframe tbody tr th:only-of-type {\n        vertical-align: middle;\n    }\n\n    .dataframe tbody tr th {\n        vertical-align: top;\n    }\n\n    .dataframe thead th {\n        text-align: right;\n    }\n</style>\n<table border=\"1\" class=\"dataframe\">\n  <thead>\n    <tr style=\"text-align: right;\">\n      <th></th>\n      <th>Year</th>\n      <th>Actor</th>\n      <th>Director</th>\n      <th>Box Office</th>\n      <th>Budget</th>\n      <th>Bond Actor Salary</th>\n    </tr>\n    <tr>\n      <th>Film</th>\n      <th></th>\n      <th></th>\n      <th></th>\n      <th></th>\n      <th></th>\n      <th></th>\n    </tr>\n  </thead>\n  <tbody>\n    <tr>\n      <th>A View to a Kill</th>\n      <td>NaN</td>\n      <td>NaN</td>\n      <td>NaN</td>\n      <td>NaN</td>\n      <td>NaN</td>\n      <td>NaN</td>\n    </tr>\n    <tr>\n      <th>Casino Royale</th>\n      <td>NaN</td>\n      <td>NaN</td>\n      <td>NaN</td>\n      <td>NaN</td>\n      <td>NaN</td>\n      <td>NaN</td>\n    </tr>\n    <tr>\n      <th>Casino Royale</th>\n      <td>NaN</td>\n      <td>NaN</td>\n      <td>NaN</td>\n      <td>NaN</td>\n      <td>NaN</td>\n      <td>NaN</td>\n    </tr>\n    <tr>\n      <th>Diamonds Are Forever</th>\n      <td>NaN</td>\n      <td>NaN</td>\n      <td>NaN</td>\n      <td>NaN</td>\n      <td>NaN</td>\n      <td>NaN</td>\n    </tr>\n    <tr>\n      <th>Die Another Day</th>\n      <td>NaN</td>\n      <td>NaN</td>\n      <td>NaN</td>\n      <td>NaN</td>\n      <td>NaN</td>\n      <td>NaN</td>\n    </tr>\n    <tr>\n      <th>Dr. No</th>\n      <td>NaN</td>\n      <td>NaN</td>\n      <td>NaN</td>\n      <td>NaN</td>\n      <td>NaN</td>\n      <td>NaN</td>\n    </tr>\n    <tr>\n      <th>For Your Eyes Only</th>\n      <td>NaN</td>\n      <td>NaN</td>\n      <td>NaN</td>\n      <td>NaN</td>\n      <td>NaN</td>\n      <td>NaN</td>\n    </tr>\n    <tr>\n      <th>From Russia with Love</th>\n      <td>NaN</td>\n      <td>NaN</td>\n      <td>NaN</td>\n      <td>NaN</td>\n      <td>NaN</td>\n      <td>NaN</td>\n    </tr>\n    <tr>\n      <th>GoldenEye</th>\n      <td>NaN</td>\n      <td>NaN</td>\n      <td>NaN</td>\n      <td>NaN</td>\n      <td>NaN</td>\n      <td>NaN</td>\n    </tr>\n    <tr>\n      <th>Goldfinger</th>\n      <td>1964.0</td>\n      <td>Sean Connery</td>\n      <td>Guy Hamilton</td>\n      <td>820.4</td>\n      <td>18.6</td>\n      <td>3.2</td>\n    </tr>\n    <tr>\n      <th>Licence to Kill</th>\n      <td>NaN</td>\n      <td>NaN</td>\n      <td>NaN</td>\n      <td>NaN</td>\n      <td>NaN</td>\n      <td>NaN</td>\n    </tr>\n    <tr>\n      <th>Live and Let Die</th>\n      <td>NaN</td>\n      <td>NaN</td>\n      <td>NaN</td>\n      <td>NaN</td>\n      <td>NaN</td>\n      <td>NaN</td>\n    </tr>\n    <tr>\n      <th>Moonraker</th>\n      <td>NaN</td>\n      <td>NaN</td>\n      <td>NaN</td>\n      <td>NaN</td>\n      <td>NaN</td>\n      <td>NaN</td>\n    </tr>\n    <tr>\n      <th>Never Say Never Again</th>\n      <td>NaN</td>\n      <td>NaN</td>\n      <td>NaN</td>\n      <td>NaN</td>\n      <td>NaN</td>\n      <td>NaN</td>\n    </tr>\n    <tr>\n      <th>Octopussy</th>\n      <td>NaN</td>\n      <td>NaN</td>\n      <td>NaN</td>\n      <td>NaN</td>\n      <td>NaN</td>\n      <td>NaN</td>\n    </tr>\n    <tr>\n      <th>On Her Majesty's Secret Service</th>\n      <td>NaN</td>\n      <td>NaN</td>\n      <td>NaN</td>\n      <td>NaN</td>\n      <td>NaN</td>\n      <td>NaN</td>\n    </tr>\n    <tr>\n      <th>Quantum of Solace</th>\n      <td>NaN</td>\n      <td>NaN</td>\n      <td>NaN</td>\n      <td>NaN</td>\n      <td>NaN</td>\n      <td>NaN</td>\n    </tr>\n    <tr>\n      <th>Skyfall</th>\n      <td>NaN</td>\n      <td>NaN</td>\n      <td>NaN</td>\n      <td>NaN</td>\n      <td>NaN</td>\n      <td>NaN</td>\n    </tr>\n    <tr>\n      <th>Spectre</th>\n      <td>NaN</td>\n      <td>NaN</td>\n      <td>NaN</td>\n      <td>NaN</td>\n      <td>NaN</td>\n      <td>NaN</td>\n    </tr>\n    <tr>\n      <th>The Living Daylights</th>\n      <td>NaN</td>\n      <td>NaN</td>\n      <td>NaN</td>\n      <td>NaN</td>\n      <td>NaN</td>\n      <td>NaN</td>\n    </tr>\n    <tr>\n      <th>The Man with the Golden Gun</th>\n      <td>NaN</td>\n      <td>NaN</td>\n      <td>NaN</td>\n      <td>NaN</td>\n      <td>NaN</td>\n      <td>NaN</td>\n    </tr>\n    <tr>\n      <th>The Spy Who Loved Me</th>\n      <td>NaN</td>\n      <td>NaN</td>\n      <td>NaN</td>\n      <td>NaN</td>\n      <td>NaN</td>\n      <td>NaN</td>\n    </tr>\n    <tr>\n      <th>The World Is Not Enough</th>\n      <td>NaN</td>\n      <td>NaN</td>\n      <td>NaN</td>\n      <td>NaN</td>\n      <td>NaN</td>\n      <td>NaN</td>\n    </tr>\n    <tr>\n      <th>Thunderball</th>\n      <td>1965.0</td>\n      <td>Sean Connery</td>\n      <td>Terence Young</td>\n      <td>848.1</td>\n      <td>41.9</td>\n      <td>4.7</td>\n    </tr>\n    <tr>\n      <th>Tomorrow Never Dies</th>\n      <td>NaN</td>\n      <td>NaN</td>\n      <td>NaN</td>\n      <td>NaN</td>\n      <td>NaN</td>\n      <td>NaN</td>\n    </tr>\n    <tr>\n      <th>You Only Live Twice</th>\n      <td>NaN</td>\n      <td>NaN</td>\n      <td>NaN</td>\n      <td>NaN</td>\n      <td>NaN</td>\n      <td>NaN</td>\n    </tr>\n  </tbody>\n</table>\n</div>"
          },
          "metadata": {}
        }
      ]
    },
    {
      "cell_type": "markdown",
      "source": "# The .query() Method\n* Only works if column name No space\n* Argument needs to be a String",
      "metadata": {}
    },
    {
      "cell_type": "code",
      "source": "bond = pd.read_csv(\"jamesbond.csv\", index_col = \"Film\")\nbond.sort_index(inplace = True) \nbond.head(3)",
      "metadata": {
        "trusted": true
      },
      "execution_count": 14,
      "outputs": [
        {
          "execution_count": 14,
          "output_type": "execute_result",
          "data": {
            "text/plain": "                  Year         Actor         Director  Box Office  Budget  \\\nFilm                                                                        \nA View to a Kill  1985   Roger Moore        John Glen       275.2    54.5   \nCasino Royale     2006  Daniel Craig  Martin Campbell       581.5   145.3   \nCasino Royale     1967   David Niven       Ken Hughes       315.0    85.0   \n\n                  Bond Actor Salary  \nFilm                                 \nA View to a Kill                9.1  \nCasino Royale                   3.3  \nCasino Royale                   NaN  ",
            "text/html": "<div>\n<style scoped>\n    .dataframe tbody tr th:only-of-type {\n        vertical-align: middle;\n    }\n\n    .dataframe tbody tr th {\n        vertical-align: top;\n    }\n\n    .dataframe thead th {\n        text-align: right;\n    }\n</style>\n<table border=\"1\" class=\"dataframe\">\n  <thead>\n    <tr style=\"text-align: right;\">\n      <th></th>\n      <th>Year</th>\n      <th>Actor</th>\n      <th>Director</th>\n      <th>Box Office</th>\n      <th>Budget</th>\n      <th>Bond Actor Salary</th>\n    </tr>\n    <tr>\n      <th>Film</th>\n      <th></th>\n      <th></th>\n      <th></th>\n      <th></th>\n      <th></th>\n      <th></th>\n    </tr>\n  </thead>\n  <tbody>\n    <tr>\n      <th>A View to a Kill</th>\n      <td>1985</td>\n      <td>Roger Moore</td>\n      <td>John Glen</td>\n      <td>275.2</td>\n      <td>54.5</td>\n      <td>9.1</td>\n    </tr>\n    <tr>\n      <th>Casino Royale</th>\n      <td>2006</td>\n      <td>Daniel Craig</td>\n      <td>Martin Campbell</td>\n      <td>581.5</td>\n      <td>145.3</td>\n      <td>3.3</td>\n    </tr>\n    <tr>\n      <th>Casino Royale</th>\n      <td>1967</td>\n      <td>David Niven</td>\n      <td>Ken Hughes</td>\n      <td>315.0</td>\n      <td>85.0</td>\n      <td>NaN</td>\n    </tr>\n  </tbody>\n</table>\n</div>"
          },
          "metadata": {}
        }
      ]
    },
    {
      "cell_type": "code",
      "source": "bond.columns",
      "metadata": {
        "trusted": true
      },
      "execution_count": 21,
      "outputs": [
        {
          "execution_count": 21,
          "output_type": "execute_result",
          "data": {
            "text/plain": "Index(['Year', 'Actor', 'Director', 'Box Office', 'Budget',\n       'Bond Actor Salary'],\n      dtype='object')"
          },
          "metadata": {}
        }
      ]
    },
    {
      "cell_type": "code",
      "source": "[column_name.replace(\" \",\"_\") for column_name in bond.columns]",
      "metadata": {
        "trusted": true
      },
      "execution_count": 22,
      "outputs": [
        {
          "execution_count": 22,
          "output_type": "execute_result",
          "data": {
            "text/plain": "['Year', 'Actor', 'Director', 'Box_Office', 'Budget', 'Bond_Actor_Salary']"
          },
          "metadata": {}
        }
      ]
    },
    {
      "cell_type": "code",
      "source": "bond.columns = [column_name.replace(\" \",\"_\") for column_name in bond.columns]\nbond.head(1)",
      "metadata": {
        "trusted": true
      },
      "execution_count": 24,
      "outputs": [
        {
          "execution_count": 24,
          "output_type": "execute_result",
          "data": {
            "text/plain": "                  Year        Actor   Director  Box_Office  Budget  \\\nFilm                                                                 \nA View to a Kill  1985  Roger Moore  John Glen       275.2    54.5   \n\n                  Bond_Actor_Salary  \nFilm                                 \nA View to a Kill                9.1  ",
            "text/html": "<div>\n<style scoped>\n    .dataframe tbody tr th:only-of-type {\n        vertical-align: middle;\n    }\n\n    .dataframe tbody tr th {\n        vertical-align: top;\n    }\n\n    .dataframe thead th {\n        text-align: right;\n    }\n</style>\n<table border=\"1\" class=\"dataframe\">\n  <thead>\n    <tr style=\"text-align: right;\">\n      <th></th>\n      <th>Year</th>\n      <th>Actor</th>\n      <th>Director</th>\n      <th>Box_Office</th>\n      <th>Budget</th>\n      <th>Bond_Actor_Salary</th>\n    </tr>\n    <tr>\n      <th>Film</th>\n      <th></th>\n      <th></th>\n      <th></th>\n      <th></th>\n      <th></th>\n      <th></th>\n    </tr>\n  </thead>\n  <tbody>\n    <tr>\n      <th>A View to a Kill</th>\n      <td>1985</td>\n      <td>Roger Moore</td>\n      <td>John Glen</td>\n      <td>275.2</td>\n      <td>54.5</td>\n      <td>9.1</td>\n    </tr>\n  </tbody>\n</table>\n</div>"
          },
          "metadata": {}
        }
      ]
    },
    {
      "cell_type": "code",
      "source": "bond.query('Actor == \"Sean Connery\"') # '' for string- to differentiate",
      "metadata": {
        "trusted": true
      },
      "execution_count": 33,
      "outputs": [
        {
          "execution_count": 33,
          "output_type": "execute_result",
          "data": {
            "text/plain": "                       Year         Actor        Director  Box_Office  Budget  \\\nFilm                                                                            \nDiamonds Are Forever   1971  Sean Connery    Guy Hamilton       442.5    34.7   \nDr. No                 1962  Sean Connery   Terence Young       448.8     7.0   \nFrom Russia with Love  1963  Sean Connery   Terence Young       543.8    12.6   \nGoldfinger             1964  Sean Connery    Guy Hamilton       820.4    18.6   \nNever Say Never Again  1983  Sean Connery  Irvin Kershner       380.0    86.0   \nThunderball            1965  Sean Connery   Terence Young       848.1    41.9   \nYou Only Live Twice    1967  Sean Connery   Lewis Gilbert       514.2    59.9   \n\n                       Bond_Actor_Salary  \nFilm                                      \nDiamonds Are Forever                 5.8  \nDr. No                               0.6  \nFrom Russia with Love                1.6  \nGoldfinger                           3.2  \nNever Say Never Again                NaN  \nThunderball                          4.7  \nYou Only Live Twice                  4.4  ",
            "text/html": "<div>\n<style scoped>\n    .dataframe tbody tr th:only-of-type {\n        vertical-align: middle;\n    }\n\n    .dataframe tbody tr th {\n        vertical-align: top;\n    }\n\n    .dataframe thead th {\n        text-align: right;\n    }\n</style>\n<table border=\"1\" class=\"dataframe\">\n  <thead>\n    <tr style=\"text-align: right;\">\n      <th></th>\n      <th>Year</th>\n      <th>Actor</th>\n      <th>Director</th>\n      <th>Box_Office</th>\n      <th>Budget</th>\n      <th>Bond_Actor_Salary</th>\n    </tr>\n    <tr>\n      <th>Film</th>\n      <th></th>\n      <th></th>\n      <th></th>\n      <th></th>\n      <th></th>\n      <th></th>\n    </tr>\n  </thead>\n  <tbody>\n    <tr>\n      <th>Diamonds Are Forever</th>\n      <td>1971</td>\n      <td>Sean Connery</td>\n      <td>Guy Hamilton</td>\n      <td>442.5</td>\n      <td>34.7</td>\n      <td>5.8</td>\n    </tr>\n    <tr>\n      <th>Dr. No</th>\n      <td>1962</td>\n      <td>Sean Connery</td>\n      <td>Terence Young</td>\n      <td>448.8</td>\n      <td>7.0</td>\n      <td>0.6</td>\n    </tr>\n    <tr>\n      <th>From Russia with Love</th>\n      <td>1963</td>\n      <td>Sean Connery</td>\n      <td>Terence Young</td>\n      <td>543.8</td>\n      <td>12.6</td>\n      <td>1.6</td>\n    </tr>\n    <tr>\n      <th>Goldfinger</th>\n      <td>1964</td>\n      <td>Sean Connery</td>\n      <td>Guy Hamilton</td>\n      <td>820.4</td>\n      <td>18.6</td>\n      <td>3.2</td>\n    </tr>\n    <tr>\n      <th>Never Say Never Again</th>\n      <td>1983</td>\n      <td>Sean Connery</td>\n      <td>Irvin Kershner</td>\n      <td>380.0</td>\n      <td>86.0</td>\n      <td>NaN</td>\n    </tr>\n    <tr>\n      <th>Thunderball</th>\n      <td>1965</td>\n      <td>Sean Connery</td>\n      <td>Terence Young</td>\n      <td>848.1</td>\n      <td>41.9</td>\n      <td>4.7</td>\n    </tr>\n    <tr>\n      <th>You Only Live Twice</th>\n      <td>1967</td>\n      <td>Sean Connery</td>\n      <td>Lewis Gilbert</td>\n      <td>514.2</td>\n      <td>59.9</td>\n      <td>4.4</td>\n    </tr>\n  </tbody>\n</table>\n</div>"
          },
          "metadata": {}
        }
      ]
    },
    {
      "cell_type": "code",
      "source": "bond.query(\"Director == 'Terence Young'\") # does not matter \" or ', only to differentiate",
      "metadata": {
        "trusted": true
      },
      "execution_count": 34,
      "outputs": [
        {
          "execution_count": 34,
          "output_type": "execute_result",
          "data": {
            "text/plain": "                       Year         Actor       Director  Box_Office  Budget  \\\nFilm                                                                           \nDr. No                 1962  Sean Connery  Terence Young       448.8     7.0   \nFrom Russia with Love  1963  Sean Connery  Terence Young       543.8    12.6   \nThunderball            1965  Sean Connery  Terence Young       848.1    41.9   \n\n                       Bond_Actor_Salary  \nFilm                                      \nDr. No                               0.6  \nFrom Russia with Love                1.6  \nThunderball                          4.7  ",
            "text/html": "<div>\n<style scoped>\n    .dataframe tbody tr th:only-of-type {\n        vertical-align: middle;\n    }\n\n    .dataframe tbody tr th {\n        vertical-align: top;\n    }\n\n    .dataframe thead th {\n        text-align: right;\n    }\n</style>\n<table border=\"1\" class=\"dataframe\">\n  <thead>\n    <tr style=\"text-align: right;\">\n      <th></th>\n      <th>Year</th>\n      <th>Actor</th>\n      <th>Director</th>\n      <th>Box_Office</th>\n      <th>Budget</th>\n      <th>Bond_Actor_Salary</th>\n    </tr>\n    <tr>\n      <th>Film</th>\n      <th></th>\n      <th></th>\n      <th></th>\n      <th></th>\n      <th></th>\n      <th></th>\n    </tr>\n  </thead>\n  <tbody>\n    <tr>\n      <th>Dr. No</th>\n      <td>1962</td>\n      <td>Sean Connery</td>\n      <td>Terence Young</td>\n      <td>448.8</td>\n      <td>7.0</td>\n      <td>0.6</td>\n    </tr>\n    <tr>\n      <th>From Russia with Love</th>\n      <td>1963</td>\n      <td>Sean Connery</td>\n      <td>Terence Young</td>\n      <td>543.8</td>\n      <td>12.6</td>\n      <td>1.6</td>\n    </tr>\n    <tr>\n      <th>Thunderball</th>\n      <td>1965</td>\n      <td>Sean Connery</td>\n      <td>Terence Young</td>\n      <td>848.1</td>\n      <td>41.9</td>\n      <td>4.7</td>\n    </tr>\n  </tbody>\n</table>\n</div>"
          },
          "metadata": {}
        }
      ]
    },
    {
      "cell_type": "code",
      "source": "bond.query('Actor != \"Roger Moore\"')",
      "metadata": {
        "trusted": true
      },
      "execution_count": 35,
      "outputs": [
        {
          "execution_count": 35,
          "output_type": "execute_result",
          "data": {
            "text/plain": "                                 Year           Actor            Director  \\\nFilm                                                                        \nCasino Royale                    2006    Daniel Craig     Martin Campbell   \nCasino Royale                    1967     David Niven          Ken Hughes   \nDiamonds Are Forever             1971    Sean Connery        Guy Hamilton   \nDie Another Day                  2002  Pierce Brosnan        Lee Tamahori   \nDr. No                           1962    Sean Connery       Terence Young   \nFrom Russia with Love            1963    Sean Connery       Terence Young   \nGoldenEye                        1995  Pierce Brosnan     Martin Campbell   \nGoldfinger                       1964    Sean Connery        Guy Hamilton   \nLicence to Kill                  1989  Timothy Dalton           John Glen   \nNever Say Never Again            1983    Sean Connery      Irvin Kershner   \nOn Her Majesty's Secret Service  1969  George Lazenby       Peter R. Hunt   \nQuantum of Solace                2008    Daniel Craig        Marc Forster   \nSkyfall                          2012    Daniel Craig          Sam Mendes   \nSpectre                          2015    Daniel Craig          Sam Mendes   \nThe Living Daylights             1987  Timothy Dalton           John Glen   \nThe World Is Not Enough          1999  Pierce Brosnan       Michael Apted   \nThunderball                      1965    Sean Connery       Terence Young   \nTomorrow Never Dies              1997  Pierce Brosnan  Roger Spottiswoode   \nYou Only Live Twice              1967    Sean Connery       Lewis Gilbert   \n\n                                 Box_Office  Budget  Bond_Actor_Salary  \nFilm                                                                    \nCasino Royale                         581.5   145.3                3.3  \nCasino Royale                         315.0    85.0                NaN  \nDiamonds Are Forever                  442.5    34.7                5.8  \nDie Another Day                       465.4   154.2               17.9  \nDr. No                                448.8     7.0                0.6  \nFrom Russia with Love                 543.8    12.6                1.6  \nGoldenEye                             518.5    76.9                5.1  \nGoldfinger                            820.4    18.6                3.2  \nLicence to Kill                       250.9    56.7                7.9  \nNever Say Never Again                 380.0    86.0                NaN  \nOn Her Majesty's Secret Service       291.5    37.3                0.6  \nQuantum of Solace                     514.2   181.4                8.1  \nSkyfall                               943.5   170.2               14.5  \nSpectre                               726.7   206.3                NaN  \nThe Living Daylights                  313.5    68.8                5.2  \nThe World Is Not Enough               439.5   158.3               13.5  \nThunderball                           848.1    41.9                4.7  \nTomorrow Never Dies                   463.2   133.9               10.0  \nYou Only Live Twice                   514.2    59.9                4.4  ",
            "text/html": "<div>\n<style scoped>\n    .dataframe tbody tr th:only-of-type {\n        vertical-align: middle;\n    }\n\n    .dataframe tbody tr th {\n        vertical-align: top;\n    }\n\n    .dataframe thead th {\n        text-align: right;\n    }\n</style>\n<table border=\"1\" class=\"dataframe\">\n  <thead>\n    <tr style=\"text-align: right;\">\n      <th></th>\n      <th>Year</th>\n      <th>Actor</th>\n      <th>Director</th>\n      <th>Box_Office</th>\n      <th>Budget</th>\n      <th>Bond_Actor_Salary</th>\n    </tr>\n    <tr>\n      <th>Film</th>\n      <th></th>\n      <th></th>\n      <th></th>\n      <th></th>\n      <th></th>\n      <th></th>\n    </tr>\n  </thead>\n  <tbody>\n    <tr>\n      <th>Casino Royale</th>\n      <td>2006</td>\n      <td>Daniel Craig</td>\n      <td>Martin Campbell</td>\n      <td>581.5</td>\n      <td>145.3</td>\n      <td>3.3</td>\n    </tr>\n    <tr>\n      <th>Casino Royale</th>\n      <td>1967</td>\n      <td>David Niven</td>\n      <td>Ken Hughes</td>\n      <td>315.0</td>\n      <td>85.0</td>\n      <td>NaN</td>\n    </tr>\n    <tr>\n      <th>Diamonds Are Forever</th>\n      <td>1971</td>\n      <td>Sean Connery</td>\n      <td>Guy Hamilton</td>\n      <td>442.5</td>\n      <td>34.7</td>\n      <td>5.8</td>\n    </tr>\n    <tr>\n      <th>Die Another Day</th>\n      <td>2002</td>\n      <td>Pierce Brosnan</td>\n      <td>Lee Tamahori</td>\n      <td>465.4</td>\n      <td>154.2</td>\n      <td>17.9</td>\n    </tr>\n    <tr>\n      <th>Dr. No</th>\n      <td>1962</td>\n      <td>Sean Connery</td>\n      <td>Terence Young</td>\n      <td>448.8</td>\n      <td>7.0</td>\n      <td>0.6</td>\n    </tr>\n    <tr>\n      <th>From Russia with Love</th>\n      <td>1963</td>\n      <td>Sean Connery</td>\n      <td>Terence Young</td>\n      <td>543.8</td>\n      <td>12.6</td>\n      <td>1.6</td>\n    </tr>\n    <tr>\n      <th>GoldenEye</th>\n      <td>1995</td>\n      <td>Pierce Brosnan</td>\n      <td>Martin Campbell</td>\n      <td>518.5</td>\n      <td>76.9</td>\n      <td>5.1</td>\n    </tr>\n    <tr>\n      <th>Goldfinger</th>\n      <td>1964</td>\n      <td>Sean Connery</td>\n      <td>Guy Hamilton</td>\n      <td>820.4</td>\n      <td>18.6</td>\n      <td>3.2</td>\n    </tr>\n    <tr>\n      <th>Licence to Kill</th>\n      <td>1989</td>\n      <td>Timothy Dalton</td>\n      <td>John Glen</td>\n      <td>250.9</td>\n      <td>56.7</td>\n      <td>7.9</td>\n    </tr>\n    <tr>\n      <th>Never Say Never Again</th>\n      <td>1983</td>\n      <td>Sean Connery</td>\n      <td>Irvin Kershner</td>\n      <td>380.0</td>\n      <td>86.0</td>\n      <td>NaN</td>\n    </tr>\n    <tr>\n      <th>On Her Majesty's Secret Service</th>\n      <td>1969</td>\n      <td>George Lazenby</td>\n      <td>Peter R. Hunt</td>\n      <td>291.5</td>\n      <td>37.3</td>\n      <td>0.6</td>\n    </tr>\n    <tr>\n      <th>Quantum of Solace</th>\n      <td>2008</td>\n      <td>Daniel Craig</td>\n      <td>Marc Forster</td>\n      <td>514.2</td>\n      <td>181.4</td>\n      <td>8.1</td>\n    </tr>\n    <tr>\n      <th>Skyfall</th>\n      <td>2012</td>\n      <td>Daniel Craig</td>\n      <td>Sam Mendes</td>\n      <td>943.5</td>\n      <td>170.2</td>\n      <td>14.5</td>\n    </tr>\n    <tr>\n      <th>Spectre</th>\n      <td>2015</td>\n      <td>Daniel Craig</td>\n      <td>Sam Mendes</td>\n      <td>726.7</td>\n      <td>206.3</td>\n      <td>NaN</td>\n    </tr>\n    <tr>\n      <th>The Living Daylights</th>\n      <td>1987</td>\n      <td>Timothy Dalton</td>\n      <td>John Glen</td>\n      <td>313.5</td>\n      <td>68.8</td>\n      <td>5.2</td>\n    </tr>\n    <tr>\n      <th>The World Is Not Enough</th>\n      <td>1999</td>\n      <td>Pierce Brosnan</td>\n      <td>Michael Apted</td>\n      <td>439.5</td>\n      <td>158.3</td>\n      <td>13.5</td>\n    </tr>\n    <tr>\n      <th>Thunderball</th>\n      <td>1965</td>\n      <td>Sean Connery</td>\n      <td>Terence Young</td>\n      <td>848.1</td>\n      <td>41.9</td>\n      <td>4.7</td>\n    </tr>\n    <tr>\n      <th>Tomorrow Never Dies</th>\n      <td>1997</td>\n      <td>Pierce Brosnan</td>\n      <td>Roger Spottiswoode</td>\n      <td>463.2</td>\n      <td>133.9</td>\n      <td>10.0</td>\n    </tr>\n    <tr>\n      <th>You Only Live Twice</th>\n      <td>1967</td>\n      <td>Sean Connery</td>\n      <td>Lewis Gilbert</td>\n      <td>514.2</td>\n      <td>59.9</td>\n      <td>4.4</td>\n    </tr>\n  </tbody>\n</table>\n</div>"
          },
          "metadata": {}
        }
      ]
    },
    {
      "cell_type": "code",
      "source": "bond.query(\"Box_Office > 600\")",
      "metadata": {
        "trusted": true
      },
      "execution_count": 36,
      "outputs": [
        {
          "execution_count": 36,
          "output_type": "execute_result",
          "data": {
            "text/plain": "             Year         Actor       Director  Box_Office  Budget  \\\nFilm                                                                 \nGoldfinger   1964  Sean Connery   Guy Hamilton       820.4    18.6   \nSkyfall      2012  Daniel Craig     Sam Mendes       943.5   170.2   \nSpectre      2015  Daniel Craig     Sam Mendes       726.7   206.3   \nThunderball  1965  Sean Connery  Terence Young       848.1    41.9   \n\n             Bond_Actor_Salary  \nFilm                            \nGoldfinger                 3.2  \nSkyfall                   14.5  \nSpectre                    NaN  \nThunderball                4.7  ",
            "text/html": "<div>\n<style scoped>\n    .dataframe tbody tr th:only-of-type {\n        vertical-align: middle;\n    }\n\n    .dataframe tbody tr th {\n        vertical-align: top;\n    }\n\n    .dataframe thead th {\n        text-align: right;\n    }\n</style>\n<table border=\"1\" class=\"dataframe\">\n  <thead>\n    <tr style=\"text-align: right;\">\n      <th></th>\n      <th>Year</th>\n      <th>Actor</th>\n      <th>Director</th>\n      <th>Box_Office</th>\n      <th>Budget</th>\n      <th>Bond_Actor_Salary</th>\n    </tr>\n    <tr>\n      <th>Film</th>\n      <th></th>\n      <th></th>\n      <th></th>\n      <th></th>\n      <th></th>\n      <th></th>\n    </tr>\n  </thead>\n  <tbody>\n    <tr>\n      <th>Goldfinger</th>\n      <td>1964</td>\n      <td>Sean Connery</td>\n      <td>Guy Hamilton</td>\n      <td>820.4</td>\n      <td>18.6</td>\n      <td>3.2</td>\n    </tr>\n    <tr>\n      <th>Skyfall</th>\n      <td>2012</td>\n      <td>Daniel Craig</td>\n      <td>Sam Mendes</td>\n      <td>943.5</td>\n      <td>170.2</td>\n      <td>14.5</td>\n    </tr>\n    <tr>\n      <th>Spectre</th>\n      <td>2015</td>\n      <td>Daniel Craig</td>\n      <td>Sam Mendes</td>\n      <td>726.7</td>\n      <td>206.3</td>\n      <td>NaN</td>\n    </tr>\n    <tr>\n      <th>Thunderball</th>\n      <td>1965</td>\n      <td>Sean Connery</td>\n      <td>Terence Young</td>\n      <td>848.1</td>\n      <td>41.9</td>\n      <td>4.7</td>\n    </tr>\n  </tbody>\n</table>\n</div>"
          },
          "metadata": {}
        }
      ]
    },
    {
      "cell_type": "code",
      "source": "bond.query(\"Actor == 'Roger Moore' and Director == 'John Glen'\")",
      "metadata": {
        "trusted": true
      },
      "execution_count": 41,
      "outputs": [
        {
          "execution_count": 41,
          "output_type": "execute_result",
          "data": {
            "text/plain": "                    Year        Actor   Director  Box_Office  Budget  \\\nFilm                                                                   \nA View to a Kill    1985  Roger Moore  John Glen       275.2    54.5   \nFor Your Eyes Only  1981  Roger Moore  John Glen       449.4    60.2   \nOctopussy           1983  Roger Moore  John Glen       373.8    53.9   \n\n                    Bond_Actor_Salary  \nFilm                                   \nA View to a Kill                  9.1  \nFor Your Eyes Only                NaN  \nOctopussy                         7.8  ",
            "text/html": "<div>\n<style scoped>\n    .dataframe tbody tr th:only-of-type {\n        vertical-align: middle;\n    }\n\n    .dataframe tbody tr th {\n        vertical-align: top;\n    }\n\n    .dataframe thead th {\n        text-align: right;\n    }\n</style>\n<table border=\"1\" class=\"dataframe\">\n  <thead>\n    <tr style=\"text-align: right;\">\n      <th></th>\n      <th>Year</th>\n      <th>Actor</th>\n      <th>Director</th>\n      <th>Box_Office</th>\n      <th>Budget</th>\n      <th>Bond_Actor_Salary</th>\n    </tr>\n    <tr>\n      <th>Film</th>\n      <th></th>\n      <th></th>\n      <th></th>\n      <th></th>\n      <th></th>\n      <th></th>\n    </tr>\n  </thead>\n  <tbody>\n    <tr>\n      <th>A View to a Kill</th>\n      <td>1985</td>\n      <td>Roger Moore</td>\n      <td>John Glen</td>\n      <td>275.2</td>\n      <td>54.5</td>\n      <td>9.1</td>\n    </tr>\n    <tr>\n      <th>For Your Eyes Only</th>\n      <td>1981</td>\n      <td>Roger Moore</td>\n      <td>John Glen</td>\n      <td>449.4</td>\n      <td>60.2</td>\n      <td>NaN</td>\n    </tr>\n    <tr>\n      <th>Octopussy</th>\n      <td>1983</td>\n      <td>Roger Moore</td>\n      <td>John Glen</td>\n      <td>373.8</td>\n      <td>53.9</td>\n      <td>7.8</td>\n    </tr>\n  </tbody>\n</table>\n</div>"
          },
          "metadata": {}
        }
      ]
    },
    {
      "cell_type": "code",
      "source": "bond.query(\"Actor == 'Roger Moore' or Director == 'John Glen'\")",
      "metadata": {
        "trusted": true
      },
      "execution_count": 38,
      "outputs": [
        {
          "execution_count": 38,
          "output_type": "execute_result",
          "data": {
            "text/plain": "                             Year           Actor       Director  Box_Office  \\\nFilm                                                                           \nA View to a Kill             1985     Roger Moore      John Glen       275.2   \nFor Your Eyes Only           1981     Roger Moore      John Glen       449.4   \nLicence to Kill              1989  Timothy Dalton      John Glen       250.9   \nLive and Let Die             1973     Roger Moore   Guy Hamilton       460.3   \nMoonraker                    1979     Roger Moore  Lewis Gilbert       535.0   \nOctopussy                    1983     Roger Moore      John Glen       373.8   \nThe Living Daylights         1987  Timothy Dalton      John Glen       313.5   \nThe Man with the Golden Gun  1974     Roger Moore   Guy Hamilton       334.0   \nThe Spy Who Loved Me         1977     Roger Moore  Lewis Gilbert       533.0   \n\n                             Budget  Bond_Actor_Salary  \nFilm                                                    \nA View to a Kill               54.5                9.1  \nFor Your Eyes Only             60.2                NaN  \nLicence to Kill                56.7                7.9  \nLive and Let Die               30.8                NaN  \nMoonraker                      91.5                NaN  \nOctopussy                      53.9                7.8  \nThe Living Daylights           68.8                5.2  \nThe Man with the Golden Gun    27.7                NaN  \nThe Spy Who Loved Me           45.1                NaN  ",
            "text/html": "<div>\n<style scoped>\n    .dataframe tbody tr th:only-of-type {\n        vertical-align: middle;\n    }\n\n    .dataframe tbody tr th {\n        vertical-align: top;\n    }\n\n    .dataframe thead th {\n        text-align: right;\n    }\n</style>\n<table border=\"1\" class=\"dataframe\">\n  <thead>\n    <tr style=\"text-align: right;\">\n      <th></th>\n      <th>Year</th>\n      <th>Actor</th>\n      <th>Director</th>\n      <th>Box_Office</th>\n      <th>Budget</th>\n      <th>Bond_Actor_Salary</th>\n    </tr>\n    <tr>\n      <th>Film</th>\n      <th></th>\n      <th></th>\n      <th></th>\n      <th></th>\n      <th></th>\n      <th></th>\n    </tr>\n  </thead>\n  <tbody>\n    <tr>\n      <th>A View to a Kill</th>\n      <td>1985</td>\n      <td>Roger Moore</td>\n      <td>John Glen</td>\n      <td>275.2</td>\n      <td>54.5</td>\n      <td>9.1</td>\n    </tr>\n    <tr>\n      <th>For Your Eyes Only</th>\n      <td>1981</td>\n      <td>Roger Moore</td>\n      <td>John Glen</td>\n      <td>449.4</td>\n      <td>60.2</td>\n      <td>NaN</td>\n    </tr>\n    <tr>\n      <th>Licence to Kill</th>\n      <td>1989</td>\n      <td>Timothy Dalton</td>\n      <td>John Glen</td>\n      <td>250.9</td>\n      <td>56.7</td>\n      <td>7.9</td>\n    </tr>\n    <tr>\n      <th>Live and Let Die</th>\n      <td>1973</td>\n      <td>Roger Moore</td>\n      <td>Guy Hamilton</td>\n      <td>460.3</td>\n      <td>30.8</td>\n      <td>NaN</td>\n    </tr>\n    <tr>\n      <th>Moonraker</th>\n      <td>1979</td>\n      <td>Roger Moore</td>\n      <td>Lewis Gilbert</td>\n      <td>535.0</td>\n      <td>91.5</td>\n      <td>NaN</td>\n    </tr>\n    <tr>\n      <th>Octopussy</th>\n      <td>1983</td>\n      <td>Roger Moore</td>\n      <td>John Glen</td>\n      <td>373.8</td>\n      <td>53.9</td>\n      <td>7.8</td>\n    </tr>\n    <tr>\n      <th>The Living Daylights</th>\n      <td>1987</td>\n      <td>Timothy Dalton</td>\n      <td>John Glen</td>\n      <td>313.5</td>\n      <td>68.8</td>\n      <td>5.2</td>\n    </tr>\n    <tr>\n      <th>The Man with the Golden Gun</th>\n      <td>1974</td>\n      <td>Roger Moore</td>\n      <td>Guy Hamilton</td>\n      <td>334.0</td>\n      <td>27.7</td>\n      <td>NaN</td>\n    </tr>\n    <tr>\n      <th>The Spy Who Loved Me</th>\n      <td>1977</td>\n      <td>Roger Moore</td>\n      <td>Lewis Gilbert</td>\n      <td>533.0</td>\n      <td>45.1</td>\n      <td>NaN</td>\n    </tr>\n  </tbody>\n</table>\n</div>"
          },
          "metadata": {}
        }
      ]
    },
    {
      "cell_type": "code",
      "source": "bond.query(\"Actor in ['Timothy Dalton','George Lazenby']\")",
      "metadata": {
        "trusted": true
      },
      "execution_count": 39,
      "outputs": [
        {
          "execution_count": 39,
          "output_type": "execute_result",
          "data": {
            "text/plain": "                                 Year           Actor       Director  \\\nFilm                                                                   \nLicence to Kill                  1989  Timothy Dalton      John Glen   \nOn Her Majesty's Secret Service  1969  George Lazenby  Peter R. Hunt   \nThe Living Daylights             1987  Timothy Dalton      John Glen   \n\n                                 Box_Office  Budget  Bond_Actor_Salary  \nFilm                                                                    \nLicence to Kill                       250.9    56.7                7.9  \nOn Her Majesty's Secret Service       291.5    37.3                0.6  \nThe Living Daylights                  313.5    68.8                5.2  ",
            "text/html": "<div>\n<style scoped>\n    .dataframe tbody tr th:only-of-type {\n        vertical-align: middle;\n    }\n\n    .dataframe tbody tr th {\n        vertical-align: top;\n    }\n\n    .dataframe thead th {\n        text-align: right;\n    }\n</style>\n<table border=\"1\" class=\"dataframe\">\n  <thead>\n    <tr style=\"text-align: right;\">\n      <th></th>\n      <th>Year</th>\n      <th>Actor</th>\n      <th>Director</th>\n      <th>Box_Office</th>\n      <th>Budget</th>\n      <th>Bond_Actor_Salary</th>\n    </tr>\n    <tr>\n      <th>Film</th>\n      <th></th>\n      <th></th>\n      <th></th>\n      <th></th>\n      <th></th>\n      <th></th>\n    </tr>\n  </thead>\n  <tbody>\n    <tr>\n      <th>Licence to Kill</th>\n      <td>1989</td>\n      <td>Timothy Dalton</td>\n      <td>John Glen</td>\n      <td>250.9</td>\n      <td>56.7</td>\n      <td>7.9</td>\n    </tr>\n    <tr>\n      <th>On Her Majesty's Secret Service</th>\n      <td>1969</td>\n      <td>George Lazenby</td>\n      <td>Peter R. Hunt</td>\n      <td>291.5</td>\n      <td>37.3</td>\n      <td>0.6</td>\n    </tr>\n    <tr>\n      <th>The Living Daylights</th>\n      <td>1987</td>\n      <td>Timothy Dalton</td>\n      <td>John Glen</td>\n      <td>313.5</td>\n      <td>68.8</td>\n      <td>5.2</td>\n    </tr>\n  </tbody>\n</table>\n</div>"
          },
          "metadata": {}
        }
      ]
    },
    {
      "cell_type": "code",
      "source": "bond.query(\"Actor not in ['Sean Connery','Roger Moore']\")",
      "metadata": {
        "trusted": true
      },
      "execution_count": 40,
      "outputs": [
        {
          "execution_count": 40,
          "output_type": "execute_result",
          "data": {
            "text/plain": "                                 Year           Actor            Director  \\\nFilm                                                                        \nCasino Royale                    2006    Daniel Craig     Martin Campbell   \nCasino Royale                    1967     David Niven          Ken Hughes   \nDie Another Day                  2002  Pierce Brosnan        Lee Tamahori   \nGoldenEye                        1995  Pierce Brosnan     Martin Campbell   \nLicence to Kill                  1989  Timothy Dalton           John Glen   \nOn Her Majesty's Secret Service  1969  George Lazenby       Peter R. Hunt   \nQuantum of Solace                2008    Daniel Craig        Marc Forster   \nSkyfall                          2012    Daniel Craig          Sam Mendes   \nSpectre                          2015    Daniel Craig          Sam Mendes   \nThe Living Daylights             1987  Timothy Dalton           John Glen   \nThe World Is Not Enough          1999  Pierce Brosnan       Michael Apted   \nTomorrow Never Dies              1997  Pierce Brosnan  Roger Spottiswoode   \n\n                                 Box_Office  Budget  Bond_Actor_Salary  \nFilm                                                                    \nCasino Royale                         581.5   145.3                3.3  \nCasino Royale                         315.0    85.0                NaN  \nDie Another Day                       465.4   154.2               17.9  \nGoldenEye                             518.5    76.9                5.1  \nLicence to Kill                       250.9    56.7                7.9  \nOn Her Majesty's Secret Service       291.5    37.3                0.6  \nQuantum of Solace                     514.2   181.4                8.1  \nSkyfall                               943.5   170.2               14.5  \nSpectre                               726.7   206.3                NaN  \nThe Living Daylights                  313.5    68.8                5.2  \nThe World Is Not Enough               439.5   158.3               13.5  \nTomorrow Never Dies                   463.2   133.9               10.0  ",
            "text/html": "<div>\n<style scoped>\n    .dataframe tbody tr th:only-of-type {\n        vertical-align: middle;\n    }\n\n    .dataframe tbody tr th {\n        vertical-align: top;\n    }\n\n    .dataframe thead th {\n        text-align: right;\n    }\n</style>\n<table border=\"1\" class=\"dataframe\">\n  <thead>\n    <tr style=\"text-align: right;\">\n      <th></th>\n      <th>Year</th>\n      <th>Actor</th>\n      <th>Director</th>\n      <th>Box_Office</th>\n      <th>Budget</th>\n      <th>Bond_Actor_Salary</th>\n    </tr>\n    <tr>\n      <th>Film</th>\n      <th></th>\n      <th></th>\n      <th></th>\n      <th></th>\n      <th></th>\n      <th></th>\n    </tr>\n  </thead>\n  <tbody>\n    <tr>\n      <th>Casino Royale</th>\n      <td>2006</td>\n      <td>Daniel Craig</td>\n      <td>Martin Campbell</td>\n      <td>581.5</td>\n      <td>145.3</td>\n      <td>3.3</td>\n    </tr>\n    <tr>\n      <th>Casino Royale</th>\n      <td>1967</td>\n      <td>David Niven</td>\n      <td>Ken Hughes</td>\n      <td>315.0</td>\n      <td>85.0</td>\n      <td>NaN</td>\n    </tr>\n    <tr>\n      <th>Die Another Day</th>\n      <td>2002</td>\n      <td>Pierce Brosnan</td>\n      <td>Lee Tamahori</td>\n      <td>465.4</td>\n      <td>154.2</td>\n      <td>17.9</td>\n    </tr>\n    <tr>\n      <th>GoldenEye</th>\n      <td>1995</td>\n      <td>Pierce Brosnan</td>\n      <td>Martin Campbell</td>\n      <td>518.5</td>\n      <td>76.9</td>\n      <td>5.1</td>\n    </tr>\n    <tr>\n      <th>Licence to Kill</th>\n      <td>1989</td>\n      <td>Timothy Dalton</td>\n      <td>John Glen</td>\n      <td>250.9</td>\n      <td>56.7</td>\n      <td>7.9</td>\n    </tr>\n    <tr>\n      <th>On Her Majesty's Secret Service</th>\n      <td>1969</td>\n      <td>George Lazenby</td>\n      <td>Peter R. Hunt</td>\n      <td>291.5</td>\n      <td>37.3</td>\n      <td>0.6</td>\n    </tr>\n    <tr>\n      <th>Quantum of Solace</th>\n      <td>2008</td>\n      <td>Daniel Craig</td>\n      <td>Marc Forster</td>\n      <td>514.2</td>\n      <td>181.4</td>\n      <td>8.1</td>\n    </tr>\n    <tr>\n      <th>Skyfall</th>\n      <td>2012</td>\n      <td>Daniel Craig</td>\n      <td>Sam Mendes</td>\n      <td>943.5</td>\n      <td>170.2</td>\n      <td>14.5</td>\n    </tr>\n    <tr>\n      <th>Spectre</th>\n      <td>2015</td>\n      <td>Daniel Craig</td>\n      <td>Sam Mendes</td>\n      <td>726.7</td>\n      <td>206.3</td>\n      <td>NaN</td>\n    </tr>\n    <tr>\n      <th>The Living Daylights</th>\n      <td>1987</td>\n      <td>Timothy Dalton</td>\n      <td>John Glen</td>\n      <td>313.5</td>\n      <td>68.8</td>\n      <td>5.2</td>\n    </tr>\n    <tr>\n      <th>The World Is Not Enough</th>\n      <td>1999</td>\n      <td>Pierce Brosnan</td>\n      <td>Michael Apted</td>\n      <td>439.5</td>\n      <td>158.3</td>\n      <td>13.5</td>\n    </tr>\n    <tr>\n      <th>Tomorrow Never Dies</th>\n      <td>1997</td>\n      <td>Pierce Brosnan</td>\n      <td>Roger Spottiswoode</td>\n      <td>463.2</td>\n      <td>133.9</td>\n      <td>10.0</td>\n    </tr>\n  </tbody>\n</table>\n</div>"
          },
          "metadata": {}
        }
      ]
    },
    {
      "cell_type": "markdown",
      "source": "# Review of the .apply() Method on Single Columns",
      "metadata": {}
    },
    {
      "cell_type": "code",
      "source": "bond = pd.read_csv(\"jamesbond.csv\", index_col = \"Film\")\nbond.sort_index(inplace = True) \nbond.head(3)",
      "metadata": {
        "trusted": true
      },
      "execution_count": 42,
      "outputs": [
        {
          "execution_count": 42,
          "output_type": "execute_result",
          "data": {
            "text/plain": "                  Year         Actor         Director  Box Office  Budget  \\\nFilm                                                                        \nA View to a Kill  1985   Roger Moore        John Glen       275.2    54.5   \nCasino Royale     2006  Daniel Craig  Martin Campbell       581.5   145.3   \nCasino Royale     1967   David Niven       Ken Hughes       315.0    85.0   \n\n                  Bond Actor Salary  \nFilm                                 \nA View to a Kill                9.1  \nCasino Royale                   3.3  \nCasino Royale                   NaN  ",
            "text/html": "<div>\n<style scoped>\n    .dataframe tbody tr th:only-of-type {\n        vertical-align: middle;\n    }\n\n    .dataframe tbody tr th {\n        vertical-align: top;\n    }\n\n    .dataframe thead th {\n        text-align: right;\n    }\n</style>\n<table border=\"1\" class=\"dataframe\">\n  <thead>\n    <tr style=\"text-align: right;\">\n      <th></th>\n      <th>Year</th>\n      <th>Actor</th>\n      <th>Director</th>\n      <th>Box Office</th>\n      <th>Budget</th>\n      <th>Bond Actor Salary</th>\n    </tr>\n    <tr>\n      <th>Film</th>\n      <th></th>\n      <th></th>\n      <th></th>\n      <th></th>\n      <th></th>\n      <th></th>\n    </tr>\n  </thead>\n  <tbody>\n    <tr>\n      <th>A View to a Kill</th>\n      <td>1985</td>\n      <td>Roger Moore</td>\n      <td>John Glen</td>\n      <td>275.2</td>\n      <td>54.5</td>\n      <td>9.1</td>\n    </tr>\n    <tr>\n      <th>Casino Royale</th>\n      <td>2006</td>\n      <td>Daniel Craig</td>\n      <td>Martin Campbell</td>\n      <td>581.5</td>\n      <td>145.3</td>\n      <td>3.3</td>\n    </tr>\n    <tr>\n      <th>Casino Royale</th>\n      <td>1967</td>\n      <td>David Niven</td>\n      <td>Ken Hughes</td>\n      <td>315.0</td>\n      <td>85.0</td>\n      <td>NaN</td>\n    </tr>\n  </tbody>\n</table>\n</div>"
          },
          "metadata": {}
        }
      ]
    },
    {
      "cell_type": "code",
      "source": "def convert_to_string_and_add_millions (number):\n    return str(number) + \"MILLIONS!\"\nbond[\"Box Office\"] = bond[\"Box Office\"].apply(convert_to_string_and_add_millions)\nbond[\"Box Office\"]",
      "metadata": {
        "trusted": true
      },
      "execution_count": 46,
      "outputs": [
        {
          "execution_count": 46,
          "output_type": "execute_result",
          "data": {
            "text/plain": "Film\nA View to a Kill                   275.2MILLIONS!MILLIONS!\nCasino Royale                      581.5MILLIONS!MILLIONS!\nCasino Royale                      315.0MILLIONS!MILLIONS!\nDiamonds Are Forever               442.5MILLIONS!MILLIONS!\nDie Another Day                    465.4MILLIONS!MILLIONS!\nDr. No                             448.8MILLIONS!MILLIONS!\nFor Your Eyes Only                 449.4MILLIONS!MILLIONS!\nFrom Russia with Love              543.8MILLIONS!MILLIONS!\nGoldenEye                          518.5MILLIONS!MILLIONS!\nGoldfinger                         820.4MILLIONS!MILLIONS!\nLicence to Kill                    250.9MILLIONS!MILLIONS!\nLive and Let Die                   460.3MILLIONS!MILLIONS!\nMoonraker                          535.0MILLIONS!MILLIONS!\nNever Say Never Again              380.0MILLIONS!MILLIONS!\nOctopussy                          373.8MILLIONS!MILLIONS!\nOn Her Majesty's Secret Service    291.5MILLIONS!MILLIONS!\nQuantum of Solace                  514.2MILLIONS!MILLIONS!\nSkyfall                            943.5MILLIONS!MILLIONS!\nSpectre                            726.7MILLIONS!MILLIONS!\nThe Living Daylights               313.5MILLIONS!MILLIONS!\nThe Man with the Golden Gun        334.0MILLIONS!MILLIONS!\nThe Spy Who Loved Me               533.0MILLIONS!MILLIONS!\nThe World Is Not Enough            439.5MILLIONS!MILLIONS!\nThunderball                        848.1MILLIONS!MILLIONS!\nTomorrow Never Dies                463.2MILLIONS!MILLIONS!\nYou Only Live Twice                514.2MILLIONS!MILLIONS!\nName: Box Office, dtype: object"
          },
          "metadata": {}
        }
      ]
    },
    {
      "cell_type": "code",
      "source": "bond[\"Budget\"] = bond[\"Budget\"].apply(convert_to_string_and_add_millions)\nbond[\"Budget\"] ",
      "metadata": {
        "trusted": true
      },
      "execution_count": 48,
      "outputs": [
        {
          "execution_count": 48,
          "output_type": "execute_result",
          "data": {
            "text/plain": "Film\nA View to a Kill                    54.5MILLIONS!MILLIONS!\nCasino Royale                      145.3MILLIONS!MILLIONS!\nCasino Royale                       85.0MILLIONS!MILLIONS!\nDiamonds Are Forever                34.7MILLIONS!MILLIONS!\nDie Another Day                    154.2MILLIONS!MILLIONS!\nDr. No                               7.0MILLIONS!MILLIONS!\nFor Your Eyes Only                  60.2MILLIONS!MILLIONS!\nFrom Russia with Love               12.6MILLIONS!MILLIONS!\nGoldenEye                           76.9MILLIONS!MILLIONS!\nGoldfinger                          18.6MILLIONS!MILLIONS!\nLicence to Kill                     56.7MILLIONS!MILLIONS!\nLive and Let Die                    30.8MILLIONS!MILLIONS!\nMoonraker                           91.5MILLIONS!MILLIONS!\nNever Say Never Again               86.0MILLIONS!MILLIONS!\nOctopussy                           53.9MILLIONS!MILLIONS!\nOn Her Majesty's Secret Service     37.3MILLIONS!MILLIONS!\nQuantum of Solace                  181.4MILLIONS!MILLIONS!\nSkyfall                            170.2MILLIONS!MILLIONS!\nSpectre                            206.3MILLIONS!MILLIONS!\nThe Living Daylights                68.8MILLIONS!MILLIONS!\nThe Man with the Golden Gun         27.7MILLIONS!MILLIONS!\nThe Spy Who Loved Me                45.1MILLIONS!MILLIONS!\nThe World Is Not Enough            158.3MILLIONS!MILLIONS!\nThunderball                         41.9MILLIONS!MILLIONS!\nTomorrow Never Dies                133.9MILLIONS!MILLIONS!\nYou Only Live Twice                 59.9MILLIONS!MILLIONS!\nName: Budget, dtype: object"
          },
          "metadata": {}
        }
      ]
    },
    {
      "cell_type": "code",
      "source": "def convert_to_string_and_add_millions (number):\n    return str(number) + \"MILLIONS!\"",
      "metadata": {
        "trusted": true
      },
      "execution_count": 49,
      "outputs": []
    },
    {
      "cell_type": "code",
      "source": "columns = [\"Box Office\",\"Budget\",\"Bond Actor Salary\"]\nfor col in columns: \n    bond[col] = bond[col].apply(convert_to_string_and_add_millions)\nbond.head(3)",
      "metadata": {
        "trusted": true
      },
      "execution_count": 50,
      "outputs": [
        {
          "execution_count": 50,
          "output_type": "execute_result",
          "data": {
            "text/plain": "                  Year         Actor         Director  \\\nFilm                                                    \nA View to a Kill  1985   Roger Moore        John Glen   \nCasino Royale     2006  Daniel Craig  Martin Campbell   \nCasino Royale     1967   David Niven       Ken Hughes   \n\n                                        Box Office  \\\nFilm                                                 \nA View to a Kill  275.2MILLIONS!MILLIONS!MILLIONS!   \nCasino Royale     581.5MILLIONS!MILLIONS!MILLIONS!   \nCasino Royale     315.0MILLIONS!MILLIONS!MILLIONS!   \n\n                                            Budget Bond Actor Salary  \nFilm                                                                  \nA View to a Kill   54.5MILLIONS!MILLIONS!MILLIONS!      9.1MILLIONS!  \nCasino Royale     145.3MILLIONS!MILLIONS!MILLIONS!      3.3MILLIONS!  \nCasino Royale      85.0MILLIONS!MILLIONS!MILLIONS!      nanMILLIONS!  ",
            "text/html": "<div>\n<style scoped>\n    .dataframe tbody tr th:only-of-type {\n        vertical-align: middle;\n    }\n\n    .dataframe tbody tr th {\n        vertical-align: top;\n    }\n\n    .dataframe thead th {\n        text-align: right;\n    }\n</style>\n<table border=\"1\" class=\"dataframe\">\n  <thead>\n    <tr style=\"text-align: right;\">\n      <th></th>\n      <th>Year</th>\n      <th>Actor</th>\n      <th>Director</th>\n      <th>Box Office</th>\n      <th>Budget</th>\n      <th>Bond Actor Salary</th>\n    </tr>\n    <tr>\n      <th>Film</th>\n      <th></th>\n      <th></th>\n      <th></th>\n      <th></th>\n      <th></th>\n      <th></th>\n    </tr>\n  </thead>\n  <tbody>\n    <tr>\n      <th>A View to a Kill</th>\n      <td>1985</td>\n      <td>Roger Moore</td>\n      <td>John Glen</td>\n      <td>275.2MILLIONS!MILLIONS!MILLIONS!</td>\n      <td>54.5MILLIONS!MILLIONS!MILLIONS!</td>\n      <td>9.1MILLIONS!</td>\n    </tr>\n    <tr>\n      <th>Casino Royale</th>\n      <td>2006</td>\n      <td>Daniel Craig</td>\n      <td>Martin Campbell</td>\n      <td>581.5MILLIONS!MILLIONS!MILLIONS!</td>\n      <td>145.3MILLIONS!MILLIONS!MILLIONS!</td>\n      <td>3.3MILLIONS!</td>\n    </tr>\n    <tr>\n      <th>Casino Royale</th>\n      <td>1967</td>\n      <td>David Niven</td>\n      <td>Ken Hughes</td>\n      <td>315.0MILLIONS!MILLIONS!MILLIONS!</td>\n      <td>85.0MILLIONS!MILLIONS!MILLIONS!</td>\n      <td>nanMILLIONS!</td>\n    </tr>\n  </tbody>\n</table>\n</div>"
          },
          "metadata": {}
        }
      ]
    },
    {
      "cell_type": "markdown",
      "source": "# The .apply() Method with Row Values",
      "metadata": {}
    },
    {
      "cell_type": "code",
      "source": "bond = pd.read_csv(\"jamesbond.csv\", index_col = \"Film\")\nbond.sort_index(inplace = True) \nbond.head(3)",
      "metadata": {
        "trusted": true
      },
      "execution_count": 51,
      "outputs": [
        {
          "execution_count": 51,
          "output_type": "execute_result",
          "data": {
            "text/plain": "                  Year         Actor         Director  Box Office  Budget  \\\nFilm                                                                        \nA View to a Kill  1985   Roger Moore        John Glen       275.2    54.5   \nCasino Royale     2006  Daniel Craig  Martin Campbell       581.5   145.3   \nCasino Royale     1967   David Niven       Ken Hughes       315.0    85.0   \n\n                  Bond Actor Salary  \nFilm                                 \nA View to a Kill                9.1  \nCasino Royale                   3.3  \nCasino Royale                   NaN  ",
            "text/html": "<div>\n<style scoped>\n    .dataframe tbody tr th:only-of-type {\n        vertical-align: middle;\n    }\n\n    .dataframe tbody tr th {\n        vertical-align: top;\n    }\n\n    .dataframe thead th {\n        text-align: right;\n    }\n</style>\n<table border=\"1\" class=\"dataframe\">\n  <thead>\n    <tr style=\"text-align: right;\">\n      <th></th>\n      <th>Year</th>\n      <th>Actor</th>\n      <th>Director</th>\n      <th>Box Office</th>\n      <th>Budget</th>\n      <th>Bond Actor Salary</th>\n    </tr>\n    <tr>\n      <th>Film</th>\n      <th></th>\n      <th></th>\n      <th></th>\n      <th></th>\n      <th></th>\n      <th></th>\n    </tr>\n  </thead>\n  <tbody>\n    <tr>\n      <th>A View to a Kill</th>\n      <td>1985</td>\n      <td>Roger Moore</td>\n      <td>John Glen</td>\n      <td>275.2</td>\n      <td>54.5</td>\n      <td>9.1</td>\n    </tr>\n    <tr>\n      <th>Casino Royale</th>\n      <td>2006</td>\n      <td>Daniel Craig</td>\n      <td>Martin Campbell</td>\n      <td>581.5</td>\n      <td>145.3</td>\n      <td>3.3</td>\n    </tr>\n    <tr>\n      <th>Casino Royale</th>\n      <td>1967</td>\n      <td>David Niven</td>\n      <td>Ken Hughes</td>\n      <td>315.0</td>\n      <td>85.0</td>\n      <td>NaN</td>\n    </tr>\n  </tbody>\n</table>\n</div>"
          },
          "metadata": {}
        }
      ]
    },
    {
      "cell_type": "code",
      "source": "def good_movie(row):  \n    actor = row[1]\n    budget = row[4]\n    \n    if actor == \"Pierce Brosnan\":\n        return \"The Best\"\n    elif actor == \"Roger Moore\" and budget > 40:\n        return \"Enjoyable\"\n    else:\n        return \"I have no clue\"\n\nbond.apply(good_movie, axis = \"columns\")",
      "metadata": {
        "trusted": true
      },
      "execution_count": 56,
      "outputs": [
        {
          "execution_count": 56,
          "output_type": "execute_result",
          "data": {
            "text/plain": "Film\nA View to a Kill                        Enjoyable\nCasino Royale                      I have no clue\nCasino Royale                      I have no clue\nDiamonds Are Forever               I have no clue\nDie Another Day                          The Best\nDr. No                             I have no clue\nFor Your Eyes Only                      Enjoyable\nFrom Russia with Love              I have no clue\nGoldenEye                                The Best\nGoldfinger                         I have no clue\nLicence to Kill                    I have no clue\nLive and Let Die                   I have no clue\nMoonraker                               Enjoyable\nNever Say Never Again              I have no clue\nOctopussy                               Enjoyable\nOn Her Majesty's Secret Service    I have no clue\nQuantum of Solace                  I have no clue\nSkyfall                            I have no clue\nSpectre                            I have no clue\nThe Living Daylights               I have no clue\nThe Man with the Golden Gun        I have no clue\nThe Spy Who Loved Me                    Enjoyable\nThe World Is Not Enough                  The Best\nThunderball                        I have no clue\nTomorrow Never Dies                      The Best\nYou Only Live Twice                I have no clue\ndtype: object"
          },
          "metadata": {}
        }
      ]
    },
    {
      "cell_type": "markdown",
      "source": "# The .copy() Method",
      "metadata": {}
    },
    {
      "cell_type": "code",
      "source": "bond = pd.read_csv(\"jamesbond.csv\", index_col = \"Film\")\nbond.sort_index(inplace = True) \nbond.head(3)",
      "metadata": {
        "trusted": true
      },
      "execution_count": 57,
      "outputs": [
        {
          "execution_count": 57,
          "output_type": "execute_result",
          "data": {
            "text/plain": "                  Year         Actor         Director  Box Office  Budget  \\\nFilm                                                                        \nA View to a Kill  1985   Roger Moore        John Glen       275.2    54.5   \nCasino Royale     2006  Daniel Craig  Martin Campbell       581.5   145.3   \nCasino Royale     1967   David Niven       Ken Hughes       315.0    85.0   \n\n                  Bond Actor Salary  \nFilm                                 \nA View to a Kill                9.1  \nCasino Royale                   3.3  \nCasino Royale                   NaN  ",
            "text/html": "<div>\n<style scoped>\n    .dataframe tbody tr th:only-of-type {\n        vertical-align: middle;\n    }\n\n    .dataframe tbody tr th {\n        vertical-align: top;\n    }\n\n    .dataframe thead th {\n        text-align: right;\n    }\n</style>\n<table border=\"1\" class=\"dataframe\">\n  <thead>\n    <tr style=\"text-align: right;\">\n      <th></th>\n      <th>Year</th>\n      <th>Actor</th>\n      <th>Director</th>\n      <th>Box Office</th>\n      <th>Budget</th>\n      <th>Bond Actor Salary</th>\n    </tr>\n    <tr>\n      <th>Film</th>\n      <th></th>\n      <th></th>\n      <th></th>\n      <th></th>\n      <th></th>\n      <th></th>\n    </tr>\n  </thead>\n  <tbody>\n    <tr>\n      <th>A View to a Kill</th>\n      <td>1985</td>\n      <td>Roger Moore</td>\n      <td>John Glen</td>\n      <td>275.2</td>\n      <td>54.5</td>\n      <td>9.1</td>\n    </tr>\n    <tr>\n      <th>Casino Royale</th>\n      <td>2006</td>\n      <td>Daniel Craig</td>\n      <td>Martin Campbell</td>\n      <td>581.5</td>\n      <td>145.3</td>\n      <td>3.3</td>\n    </tr>\n    <tr>\n      <th>Casino Royale</th>\n      <td>1967</td>\n      <td>David Niven</td>\n      <td>Ken Hughes</td>\n      <td>315.0</td>\n      <td>85.0</td>\n      <td>NaN</td>\n    </tr>\n  </tbody>\n</table>\n</div>"
          },
          "metadata": {}
        }
      ]
    },
    {
      "cell_type": "code",
      "source": "directors = bond[\"Director\"]\ndirectors.head(3)",
      "metadata": {
        "trusted": true
      },
      "execution_count": 59,
      "outputs": [
        {
          "execution_count": 59,
          "output_type": "execute_result",
          "data": {
            "text/plain": "Film\nA View to a Kill          John Glen\nCasino Royale       Martin Campbell\nCasino Royale            Ken Hughes\nName: Director, dtype: object"
          },
          "metadata": {}
        }
      ]
    },
    {
      "cell_type": "code",
      "source": "directors[\"A View to a Kill\"] = \"Mister John Glen\" ",
      "metadata": {
        "trusted": true
      },
      "execution_count": 60,
      "outputs": [
        {
          "name": "stderr",
          "text": "<ipython-input-60-a252507705a5>:1: SettingWithCopyWarning: \nA value is trying to be set on a copy of a slice from a DataFrame\n\nSee the caveats in the documentation: https://pandas.pydata.org/pandas-docs/stable/user_guide/indexing.html#returning-a-view-versus-a-copy\n  directors[\"A View to a Kill\"] = \"Mister John Glen\"\n",
          "output_type": "stream"
        }
      ]
    },
    {
      "cell_type": "code",
      "source": "directors.head(3) #the data got changed.",
      "metadata": {
        "trusted": true
      },
      "execution_count": 63,
      "outputs": [
        {
          "execution_count": 63,
          "output_type": "execute_result",
          "data": {
            "text/plain": "Film\nA View to a Kill    Mister John Glen\nCasino Royale        Martin Campbell\nCasino Royale             Ken Hughes\nName: Director, dtype: object"
          },
          "metadata": {}
        }
      ]
    },
    {
      "cell_type": "code",
      "source": "bond.head(3)",
      "metadata": {
        "trusted": true
      },
      "execution_count": 62,
      "outputs": [
        {
          "execution_count": 62,
          "output_type": "execute_result",
          "data": {
            "text/plain": "                  Year         Actor          Director  Box Office  Budget  \\\nFilm                                                                         \nA View to a Kill  1985   Roger Moore  Mister John Glen       275.2    54.5   \nCasino Royale     2006  Daniel Craig   Martin Campbell       581.5   145.3   \nCasino Royale     1967   David Niven        Ken Hughes       315.0    85.0   \n\n                  Bond Actor Salary  \nFilm                                 \nA View to a Kill                9.1  \nCasino Royale                   3.3  \nCasino Royale                   NaN  ",
            "text/html": "<div>\n<style scoped>\n    .dataframe tbody tr th:only-of-type {\n        vertical-align: middle;\n    }\n\n    .dataframe tbody tr th {\n        vertical-align: top;\n    }\n\n    .dataframe thead th {\n        text-align: right;\n    }\n</style>\n<table border=\"1\" class=\"dataframe\">\n  <thead>\n    <tr style=\"text-align: right;\">\n      <th></th>\n      <th>Year</th>\n      <th>Actor</th>\n      <th>Director</th>\n      <th>Box Office</th>\n      <th>Budget</th>\n      <th>Bond Actor Salary</th>\n    </tr>\n    <tr>\n      <th>Film</th>\n      <th></th>\n      <th></th>\n      <th></th>\n      <th></th>\n      <th></th>\n      <th></th>\n    </tr>\n  </thead>\n  <tbody>\n    <tr>\n      <th>A View to a Kill</th>\n      <td>1985</td>\n      <td>Roger Moore</td>\n      <td>Mister John Glen</td>\n      <td>275.2</td>\n      <td>54.5</td>\n      <td>9.1</td>\n    </tr>\n    <tr>\n      <th>Casino Royale</th>\n      <td>2006</td>\n      <td>Daniel Craig</td>\n      <td>Martin Campbell</td>\n      <td>581.5</td>\n      <td>145.3</td>\n      <td>3.3</td>\n    </tr>\n    <tr>\n      <th>Casino Royale</th>\n      <td>1967</td>\n      <td>David Niven</td>\n      <td>Ken Hughes</td>\n      <td>315.0</td>\n      <td>85.0</td>\n      <td>NaN</td>\n    </tr>\n  </tbody>\n</table>\n</div>"
          },
          "metadata": {}
        }
      ]
    },
    {
      "cell_type": "code",
      "source": "bond = pd.read_csv(\"jamesbond.csv\", index_col = \"Film\")\nbond.sort_index(inplace = True) \nbond.head(3)",
      "metadata": {
        "trusted": true
      },
      "execution_count": 64,
      "outputs": [
        {
          "execution_count": 64,
          "output_type": "execute_result",
          "data": {
            "text/plain": "                  Year         Actor         Director  Box Office  Budget  \\\nFilm                                                                        \nA View to a Kill  1985   Roger Moore        John Glen       275.2    54.5   \nCasino Royale     2006  Daniel Craig  Martin Campbell       581.5   145.3   \nCasino Royale     1967   David Niven       Ken Hughes       315.0    85.0   \n\n                  Bond Actor Salary  \nFilm                                 \nA View to a Kill                9.1  \nCasino Royale                   3.3  \nCasino Royale                   NaN  ",
            "text/html": "<div>\n<style scoped>\n    .dataframe tbody tr th:only-of-type {\n        vertical-align: middle;\n    }\n\n    .dataframe tbody tr th {\n        vertical-align: top;\n    }\n\n    .dataframe thead th {\n        text-align: right;\n    }\n</style>\n<table border=\"1\" class=\"dataframe\">\n  <thead>\n    <tr style=\"text-align: right;\">\n      <th></th>\n      <th>Year</th>\n      <th>Actor</th>\n      <th>Director</th>\n      <th>Box Office</th>\n      <th>Budget</th>\n      <th>Bond Actor Salary</th>\n    </tr>\n    <tr>\n      <th>Film</th>\n      <th></th>\n      <th></th>\n      <th></th>\n      <th></th>\n      <th></th>\n      <th></th>\n    </tr>\n  </thead>\n  <tbody>\n    <tr>\n      <th>A View to a Kill</th>\n      <td>1985</td>\n      <td>Roger Moore</td>\n      <td>John Glen</td>\n      <td>275.2</td>\n      <td>54.5</td>\n      <td>9.1</td>\n    </tr>\n    <tr>\n      <th>Casino Royale</th>\n      <td>2006</td>\n      <td>Daniel Craig</td>\n      <td>Martin Campbell</td>\n      <td>581.5</td>\n      <td>145.3</td>\n      <td>3.3</td>\n    </tr>\n    <tr>\n      <th>Casino Royale</th>\n      <td>1967</td>\n      <td>David Niven</td>\n      <td>Ken Hughes</td>\n      <td>315.0</td>\n      <td>85.0</td>\n      <td>NaN</td>\n    </tr>\n  </tbody>\n</table>\n</div>"
          },
          "metadata": {}
        }
      ]
    },
    {
      "cell_type": "code",
      "source": "directors = bond[\"Director\"].copy()\ndirectors.head(3)",
      "metadata": {
        "trusted": true
      },
      "execution_count": 71,
      "outputs": [
        {
          "execution_count": 71,
          "output_type": "execute_result",
          "data": {
            "text/plain": "Film\nA View to a Kill          John Glen\nCasino Royale       Martin Campbell\nCasino Royale            Ken Hughes\nName: Director, dtype: object"
          },
          "metadata": {}
        }
      ]
    },
    {
      "cell_type": "code",
      "source": "directors[\"A View to a Kill\"] = \"Mister John Glen\"\ndirectors.head(3)",
      "metadata": {
        "trusted": true
      },
      "execution_count": 72,
      "outputs": [
        {
          "execution_count": 72,
          "output_type": "execute_result",
          "data": {
            "text/plain": "Film\nA View to a Kill    Mister John Glen\nCasino Royale        Martin Campbell\nCasino Royale             Ken Hughes\nName: Director, dtype: object"
          },
          "metadata": {}
        }
      ]
    },
    {
      "cell_type": "code",
      "source": "bond.head(3)",
      "metadata": {
        "trusted": true
      },
      "execution_count": 73,
      "outputs": [
        {
          "execution_count": 73,
          "output_type": "execute_result",
          "data": {
            "text/plain": "                  Year         Actor         Director  Box Office  Budget  \\\nFilm                                                                        \nA View to a Kill  1985   Roger Moore        John Glen       275.2    54.5   \nCasino Royale     2006  Daniel Craig  Martin Campbell       581.5   145.3   \nCasino Royale     1967   David Niven       Ken Hughes       315.0    85.0   \n\n                  Bond Actor Salary  \nFilm                                 \nA View to a Kill                9.1  \nCasino Royale                   3.3  \nCasino Royale                   NaN  ",
            "text/html": "<div>\n<style scoped>\n    .dataframe tbody tr th:only-of-type {\n        vertical-align: middle;\n    }\n\n    .dataframe tbody tr th {\n        vertical-align: top;\n    }\n\n    .dataframe thead th {\n        text-align: right;\n    }\n</style>\n<table border=\"1\" class=\"dataframe\">\n  <thead>\n    <tr style=\"text-align: right;\">\n      <th></th>\n      <th>Year</th>\n      <th>Actor</th>\n      <th>Director</th>\n      <th>Box Office</th>\n      <th>Budget</th>\n      <th>Bond Actor Salary</th>\n    </tr>\n    <tr>\n      <th>Film</th>\n      <th></th>\n      <th></th>\n      <th></th>\n      <th></th>\n      <th></th>\n      <th></th>\n    </tr>\n  </thead>\n  <tbody>\n    <tr>\n      <th>A View to a Kill</th>\n      <td>1985</td>\n      <td>Roger Moore</td>\n      <td>John Glen</td>\n      <td>275.2</td>\n      <td>54.5</td>\n      <td>9.1</td>\n    </tr>\n    <tr>\n      <th>Casino Royale</th>\n      <td>2006</td>\n      <td>Daniel Craig</td>\n      <td>Martin Campbell</td>\n      <td>581.5</td>\n      <td>145.3</td>\n      <td>3.3</td>\n    </tr>\n    <tr>\n      <th>Casino Royale</th>\n      <td>1967</td>\n      <td>David Niven</td>\n      <td>Ken Hughes</td>\n      <td>315.0</td>\n      <td>85.0</td>\n      <td>NaN</td>\n    </tr>\n  </tbody>\n</table>\n</div>"
          },
          "metadata": {}
        }
      ]
    },
    {
      "cell_type": "code",
      "source": "",
      "metadata": {},
      "execution_count": null,
      "outputs": []
    }
  ]
}