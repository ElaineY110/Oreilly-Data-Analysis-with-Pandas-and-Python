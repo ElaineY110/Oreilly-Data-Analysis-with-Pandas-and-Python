{
  "metadata": {
    "language_info": {
      "codemirror_mode": {
        "name": "python",
        "version": 3
      },
      "file_extension": ".py",
      "mimetype": "text/x-python",
      "name": "python",
      "nbconvert_exporter": "python",
      "pygments_lexer": "ipython3",
      "version": "3.8"
    },
    "kernelspec": {
      "name": "python",
      "display_name": "Python (Pyodide)",
      "language": "python"
    }
  },
  "nbformat_minor": 4,
  "nbformat": 4,
  "cells": [
    {
      "cell_type": "markdown",
      "source": "### DataFrame\n* Series needs one reference to extract value, one dimensional, \n* Dataframe needs more than one reference to extract value, two dimensional",
      "metadata": {}
    },
    {
      "cell_type": "code",
      "source": "import pandas as pd",
      "metadata": {
        "trusted": true
      },
      "execution_count": 1,
      "outputs": []
    },
    {
      "cell_type": "code",
      "source": "nba= pd.read_csv(\"nba.csv\")\n#some values or complete roll values are missing, \"NaN\".\n#excel is integer value, but panda show as float.\n#first index is added by panda\nnba",
      "metadata": {
        "trusted": true
      },
      "execution_count": 4,
      "outputs": [
        {
          "execution_count": 4,
          "output_type": "execute_result",
          "data": {
            "text/plain": "              Name            Team  Number Position   Age Height  Weight  \\\n0    Avery Bradley  Boston Celtics     0.0       PG  25.0    6-2   180.0   \n1      Jae Crowder  Boston Celtics    99.0       SF  25.0    6-6   235.0   \n2     John Holland  Boston Celtics    30.0       SG  27.0    6-5   205.0   \n3      R.J. Hunter  Boston Celtics    28.0       SG  22.0    6-5   185.0   \n4    Jonas Jerebko  Boston Celtics     8.0       PF  29.0   6-10   231.0   \n..             ...             ...     ...      ...   ...    ...     ...   \n453   Shelvin Mack       Utah Jazz     8.0       PG  26.0    6-3   203.0   \n454      Raul Neto       Utah Jazz    25.0       PG  24.0    6-1   179.0   \n455   Tibor Pleiss       Utah Jazz    21.0        C  26.0    7-3   256.0   \n456    Jeff Withey       Utah Jazz    24.0        C  26.0    7-0   231.0   \n457            NaN             NaN     NaN      NaN   NaN    NaN     NaN   \n\n               College     Salary  \n0                Texas  7730337.0  \n1            Marquette  6796117.0  \n2    Boston University        NaN  \n3        Georgia State  1148640.0  \n4                  NaN  5000000.0  \n..                 ...        ...  \n453             Butler  2433333.0  \n454                NaN   900000.0  \n455                NaN  2900000.0  \n456             Kansas   947276.0  \n457                NaN        NaN  \n\n[458 rows x 9 columns]",
            "text/html": "<div>\n<style scoped>\n    .dataframe tbody tr th:only-of-type {\n        vertical-align: middle;\n    }\n\n    .dataframe tbody tr th {\n        vertical-align: top;\n    }\n\n    .dataframe thead th {\n        text-align: right;\n    }\n</style>\n<table border=\"1\" class=\"dataframe\">\n  <thead>\n    <tr style=\"text-align: right;\">\n      <th></th>\n      <th>Name</th>\n      <th>Team</th>\n      <th>Number</th>\n      <th>Position</th>\n      <th>Age</th>\n      <th>Height</th>\n      <th>Weight</th>\n      <th>College</th>\n      <th>Salary</th>\n    </tr>\n  </thead>\n  <tbody>\n    <tr>\n      <th>0</th>\n      <td>Avery Bradley</td>\n      <td>Boston Celtics</td>\n      <td>0.0</td>\n      <td>PG</td>\n      <td>25.0</td>\n      <td>6-2</td>\n      <td>180.0</td>\n      <td>Texas</td>\n      <td>7730337.0</td>\n    </tr>\n    <tr>\n      <th>1</th>\n      <td>Jae Crowder</td>\n      <td>Boston Celtics</td>\n      <td>99.0</td>\n      <td>SF</td>\n      <td>25.0</td>\n      <td>6-6</td>\n      <td>235.0</td>\n      <td>Marquette</td>\n      <td>6796117.0</td>\n    </tr>\n    <tr>\n      <th>2</th>\n      <td>John Holland</td>\n      <td>Boston Celtics</td>\n      <td>30.0</td>\n      <td>SG</td>\n      <td>27.0</td>\n      <td>6-5</td>\n      <td>205.0</td>\n      <td>Boston University</td>\n      <td>NaN</td>\n    </tr>\n    <tr>\n      <th>3</th>\n      <td>R.J. Hunter</td>\n      <td>Boston Celtics</td>\n      <td>28.0</td>\n      <td>SG</td>\n      <td>22.0</td>\n      <td>6-5</td>\n      <td>185.0</td>\n      <td>Georgia State</td>\n      <td>1148640.0</td>\n    </tr>\n    <tr>\n      <th>4</th>\n      <td>Jonas Jerebko</td>\n      <td>Boston Celtics</td>\n      <td>8.0</td>\n      <td>PF</td>\n      <td>29.0</td>\n      <td>6-10</td>\n      <td>231.0</td>\n      <td>NaN</td>\n      <td>5000000.0</td>\n    </tr>\n    <tr>\n      <th>...</th>\n      <td>...</td>\n      <td>...</td>\n      <td>...</td>\n      <td>...</td>\n      <td>...</td>\n      <td>...</td>\n      <td>...</td>\n      <td>...</td>\n      <td>...</td>\n    </tr>\n    <tr>\n      <th>453</th>\n      <td>Shelvin Mack</td>\n      <td>Utah Jazz</td>\n      <td>8.0</td>\n      <td>PG</td>\n      <td>26.0</td>\n      <td>6-3</td>\n      <td>203.0</td>\n      <td>Butler</td>\n      <td>2433333.0</td>\n    </tr>\n    <tr>\n      <th>454</th>\n      <td>Raul Neto</td>\n      <td>Utah Jazz</td>\n      <td>25.0</td>\n      <td>PG</td>\n      <td>24.0</td>\n      <td>6-1</td>\n      <td>179.0</td>\n      <td>NaN</td>\n      <td>900000.0</td>\n    </tr>\n    <tr>\n      <th>455</th>\n      <td>Tibor Pleiss</td>\n      <td>Utah Jazz</td>\n      <td>21.0</td>\n      <td>C</td>\n      <td>26.0</td>\n      <td>7-3</td>\n      <td>256.0</td>\n      <td>NaN</td>\n      <td>2900000.0</td>\n    </tr>\n    <tr>\n      <th>456</th>\n      <td>Jeff Withey</td>\n      <td>Utah Jazz</td>\n      <td>24.0</td>\n      <td>C</td>\n      <td>26.0</td>\n      <td>7-0</td>\n      <td>231.0</td>\n      <td>Kansas</td>\n      <td>947276.0</td>\n    </tr>\n    <tr>\n      <th>457</th>\n      <td>NaN</td>\n      <td>NaN</td>\n      <td>NaN</td>\n      <td>NaN</td>\n      <td>NaN</td>\n      <td>NaN</td>\n      <td>NaN</td>\n      <td>NaN</td>\n      <td>NaN</td>\n    </tr>\n  </tbody>\n</table>\n<p>458 rows × 9 columns</p>\n</div>"
          },
          "metadata": {}
        }
      ]
    },
    {
      "cell_type": "markdown",
      "source": "### Shared Methods and Attributes Between Series and DataFrames",
      "metadata": {}
    },
    {
      "cell_type": "code",
      "source": "nba.head(5)",
      "metadata": {
        "trusted": true
      },
      "execution_count": 5,
      "outputs": [
        {
          "execution_count": 5,
          "output_type": "execute_result",
          "data": {
            "text/plain": "            Name            Team  Number Position   Age Height  Weight  \\\n0  Avery Bradley  Boston Celtics     0.0       PG  25.0    6-2   180.0   \n1    Jae Crowder  Boston Celtics    99.0       SF  25.0    6-6   235.0   \n2   John Holland  Boston Celtics    30.0       SG  27.0    6-5   205.0   \n3    R.J. Hunter  Boston Celtics    28.0       SG  22.0    6-5   185.0   \n4  Jonas Jerebko  Boston Celtics     8.0       PF  29.0   6-10   231.0   \n\n             College     Salary  \n0              Texas  7730337.0  \n1          Marquette  6796117.0  \n2  Boston University        NaN  \n3      Georgia State  1148640.0  \n4                NaN  5000000.0  ",
            "text/html": "<div>\n<style scoped>\n    .dataframe tbody tr th:only-of-type {\n        vertical-align: middle;\n    }\n\n    .dataframe tbody tr th {\n        vertical-align: top;\n    }\n\n    .dataframe thead th {\n        text-align: right;\n    }\n</style>\n<table border=\"1\" class=\"dataframe\">\n  <thead>\n    <tr style=\"text-align: right;\">\n      <th></th>\n      <th>Name</th>\n      <th>Team</th>\n      <th>Number</th>\n      <th>Position</th>\n      <th>Age</th>\n      <th>Height</th>\n      <th>Weight</th>\n      <th>College</th>\n      <th>Salary</th>\n    </tr>\n  </thead>\n  <tbody>\n    <tr>\n      <th>0</th>\n      <td>Avery Bradley</td>\n      <td>Boston Celtics</td>\n      <td>0.0</td>\n      <td>PG</td>\n      <td>25.0</td>\n      <td>6-2</td>\n      <td>180.0</td>\n      <td>Texas</td>\n      <td>7730337.0</td>\n    </tr>\n    <tr>\n      <th>1</th>\n      <td>Jae Crowder</td>\n      <td>Boston Celtics</td>\n      <td>99.0</td>\n      <td>SF</td>\n      <td>25.0</td>\n      <td>6-6</td>\n      <td>235.0</td>\n      <td>Marquette</td>\n      <td>6796117.0</td>\n    </tr>\n    <tr>\n      <th>2</th>\n      <td>John Holland</td>\n      <td>Boston Celtics</td>\n      <td>30.0</td>\n      <td>SG</td>\n      <td>27.0</td>\n      <td>6-5</td>\n      <td>205.0</td>\n      <td>Boston University</td>\n      <td>NaN</td>\n    </tr>\n    <tr>\n      <th>3</th>\n      <td>R.J. Hunter</td>\n      <td>Boston Celtics</td>\n      <td>28.0</td>\n      <td>SG</td>\n      <td>22.0</td>\n      <td>6-5</td>\n      <td>185.0</td>\n      <td>Georgia State</td>\n      <td>1148640.0</td>\n    </tr>\n    <tr>\n      <th>4</th>\n      <td>Jonas Jerebko</td>\n      <td>Boston Celtics</td>\n      <td>8.0</td>\n      <td>PF</td>\n      <td>29.0</td>\n      <td>6-10</td>\n      <td>231.0</td>\n      <td>NaN</td>\n      <td>5000000.0</td>\n    </tr>\n  </tbody>\n</table>\n</div>"
          },
          "metadata": {}
        }
      ]
    },
    {
      "cell_type": "code",
      "source": "nba.index",
      "metadata": {
        "trusted": true
      },
      "execution_count": 6,
      "outputs": [
        {
          "execution_count": 6,
          "output_type": "execute_result",
          "data": {
            "text/plain": "RangeIndex(start=0, stop=458, step=1)"
          },
          "metadata": {}
        }
      ]
    },
    {
      "cell_type": "code",
      "source": "nba.values\n#store in a numpy object",
      "metadata": {
        "trusted": true
      },
      "execution_count": 8,
      "outputs": [
        {
          "execution_count": 8,
          "output_type": "execute_result",
          "data": {
            "text/plain": "array([['Avery Bradley', 'Boston Celtics', 0.0, ..., 180.0, 'Texas',\n        7730337.0],\n       ['Jae Crowder', 'Boston Celtics', 99.0, ..., 235.0, 'Marquette',\n        6796117.0],\n       ['John Holland', 'Boston Celtics', 30.0, ..., 205.0,\n        'Boston University', nan],\n       ...,\n       ['Tibor Pleiss', 'Utah Jazz', 21.0, ..., 256.0, nan, 2900000.0],\n       ['Jeff Withey', 'Utah Jazz', 24.0, ..., 231.0, 'Kansas', 947276.0],\n       [nan, nan, nan, ..., nan, nan, nan]], dtype=object)"
          },
          "metadata": {}
        }
      ]
    },
    {
      "cell_type": "code",
      "source": "nba.shape",
      "metadata": {
        "trusted": true
      },
      "execution_count": 9,
      "outputs": [
        {
          "execution_count": 9,
          "output_type": "execute_result",
          "data": {
            "text/plain": "(458, 9)"
          },
          "metadata": {}
        }
      ]
    },
    {
      "cell_type": "code",
      "source": "nba.dtypes\n#object is panda internal lingual for strings",
      "metadata": {
        "trusted": true
      },
      "execution_count": 11,
      "outputs": [
        {
          "execution_count": 11,
          "output_type": "execute_result",
          "data": {
            "text/plain": "Name         object\nTeam         object\nNumber      float64\nPosition     object\nAge         float64\nHeight       object\nWeight      float64\nCollege      object\nSalary      float64\ndtype: object"
          },
          "metadata": {}
        }
      ]
    },
    {
      "cell_type": "code",
      "source": "nba.dtypes.value_counts()",
      "metadata": {
        "trusted": true
      },
      "execution_count": 14,
      "outputs": [
        {
          "execution_count": 14,
          "output_type": "execute_result",
          "data": {
            "text/plain": "object     5\nfloat64    4\ndtype: int64"
          },
          "metadata": {}
        }
      ]
    },
    {
      "cell_type": "code",
      "source": "nba.columns #datafrane unique",
      "metadata": {
        "trusted": true
      },
      "execution_count": 17,
      "outputs": [
        {
          "execution_count": 17,
          "output_type": "execute_result",
          "data": {
            "text/plain": "Index(['Name', 'Team', 'Number', 'Position', 'Age', 'Height', 'Weight',\n       'College', 'Salary'],\n      dtype='object')"
          },
          "metadata": {}
        }
      ]
    },
    {
      "cell_type": "code",
      "source": "nba.axes #datafrane unique",
      "metadata": {
        "trusted": true
      },
      "execution_count": 18,
      "outputs": [
        {
          "execution_count": 18,
          "output_type": "execute_result",
          "data": {
            "text/plain": "[RangeIndex(start=0, stop=458, step=1),\n Index(['Name', 'Team', 'Number', 'Position', 'Age', 'Height', 'Weight',\n        'College', 'Salary'],\n       dtype='object')]"
          },
          "metadata": {}
        }
      ]
    },
    {
      "cell_type": "code",
      "source": "nba.info() #datafrane unique",
      "metadata": {
        "trusted": true
      },
      "execution_count": 19,
      "outputs": [
        {
          "name": "stdout",
          "text": "<class 'pandas.core.frame.DataFrame'>\nRangeIndex: 458 entries, 0 to 457\nData columns (total 9 columns):\n #   Column    Non-Null Count  Dtype  \n---  ------    --------------  -----  \n 0   Name      457 non-null    object \n 1   Team      457 non-null    object \n 2   Number    457 non-null    float64\n 3   Position  457 non-null    object \n 4   Age       457 non-null    float64\n 5   Height    457 non-null    object \n 6   Weight    457 non-null    float64\n 7   College   373 non-null    object \n 8   Salary    446 non-null    float64\ndtypes: float64(4), object(5)\nmemory usage: 23.3+ KB\n",
          "output_type": "stream"
        }
      ]
    },
    {
      "cell_type": "markdown",
      "source": "### Differences Between Shared Methods",
      "metadata": {}
    },
    {
      "cell_type": "code",
      "source": "pd.read_csv(\"revenue.csv\")",
      "metadata": {
        "trusted": true
      },
      "execution_count": 21,
      "outputs": [
        {
          "execution_count": 21,
          "output_type": "execute_result",
          "data": {
            "text/plain": "      Date  New York  Los Angeles  Miami\n0   1/1/16       985          122    499\n1   1/2/16       738          788    534\n2   1/3/16        14           20    933\n3   1/4/16       730          904    885\n4   1/5/16       114           71    253\n5   1/6/16       936          502    497\n6   1/7/16       123          996    115\n7   1/8/16       935          492    886\n8   1/9/16       846          954    823\n9  1/10/16        54          285    216",
            "text/html": "<div>\n<style scoped>\n    .dataframe tbody tr th:only-of-type {\n        vertical-align: middle;\n    }\n\n    .dataframe tbody tr th {\n        vertical-align: top;\n    }\n\n    .dataframe thead th {\n        text-align: right;\n    }\n</style>\n<table border=\"1\" class=\"dataframe\">\n  <thead>\n    <tr style=\"text-align: right;\">\n      <th></th>\n      <th>Date</th>\n      <th>New York</th>\n      <th>Los Angeles</th>\n      <th>Miami</th>\n    </tr>\n  </thead>\n  <tbody>\n    <tr>\n      <th>0</th>\n      <td>1/1/16</td>\n      <td>985</td>\n      <td>122</td>\n      <td>499</td>\n    </tr>\n    <tr>\n      <th>1</th>\n      <td>1/2/16</td>\n      <td>738</td>\n      <td>788</td>\n      <td>534</td>\n    </tr>\n    <tr>\n      <th>2</th>\n      <td>1/3/16</td>\n      <td>14</td>\n      <td>20</td>\n      <td>933</td>\n    </tr>\n    <tr>\n      <th>3</th>\n      <td>1/4/16</td>\n      <td>730</td>\n      <td>904</td>\n      <td>885</td>\n    </tr>\n    <tr>\n      <th>4</th>\n      <td>1/5/16</td>\n      <td>114</td>\n      <td>71</td>\n      <td>253</td>\n    </tr>\n    <tr>\n      <th>5</th>\n      <td>1/6/16</td>\n      <td>936</td>\n      <td>502</td>\n      <td>497</td>\n    </tr>\n    <tr>\n      <th>6</th>\n      <td>1/7/16</td>\n      <td>123</td>\n      <td>996</td>\n      <td>115</td>\n    </tr>\n    <tr>\n      <th>7</th>\n      <td>1/8/16</td>\n      <td>935</td>\n      <td>492</td>\n      <td>886</td>\n    </tr>\n    <tr>\n      <th>8</th>\n      <td>1/9/16</td>\n      <td>846</td>\n      <td>954</td>\n      <td>823</td>\n    </tr>\n    <tr>\n      <th>9</th>\n      <td>1/10/16</td>\n      <td>54</td>\n      <td>285</td>\n      <td>216</td>\n    </tr>\n  </tbody>\n</table>\n</div>"
          },
          "metadata": {}
        }
      ]
    },
    {
      "cell_type": "code",
      "source": "rev = pd.read_csv(\"revenue.csv\", index_col=\"Date\")\nrev.head(5)",
      "metadata": {
        "trusted": true
      },
      "execution_count": 23,
      "outputs": [
        {
          "execution_count": 23,
          "output_type": "execute_result",
          "data": {
            "text/plain": "        New York  Los Angeles  Miami\nDate                                \n1/1/16       985          122    499\n1/2/16       738          788    534\n1/3/16        14           20    933\n1/4/16       730          904    885\n1/5/16       114           71    253",
            "text/html": "<div>\n<style scoped>\n    .dataframe tbody tr th:only-of-type {\n        vertical-align: middle;\n    }\n\n    .dataframe tbody tr th {\n        vertical-align: top;\n    }\n\n    .dataframe thead th {\n        text-align: right;\n    }\n</style>\n<table border=\"1\" class=\"dataframe\">\n  <thead>\n    <tr style=\"text-align: right;\">\n      <th></th>\n      <th>New York</th>\n      <th>Los Angeles</th>\n      <th>Miami</th>\n    </tr>\n    <tr>\n      <th>Date</th>\n      <th></th>\n      <th></th>\n      <th></th>\n    </tr>\n  </thead>\n  <tbody>\n    <tr>\n      <th>1/1/16</th>\n      <td>985</td>\n      <td>122</td>\n      <td>499</td>\n    </tr>\n    <tr>\n      <th>1/2/16</th>\n      <td>738</td>\n      <td>788</td>\n      <td>534</td>\n    </tr>\n    <tr>\n      <th>1/3/16</th>\n      <td>14</td>\n      <td>20</td>\n      <td>933</td>\n    </tr>\n    <tr>\n      <th>1/4/16</th>\n      <td>730</td>\n      <td>904</td>\n      <td>885</td>\n    </tr>\n    <tr>\n      <th>1/5/16</th>\n      <td>114</td>\n      <td>71</td>\n      <td>253</td>\n    </tr>\n  </tbody>\n</table>\n</div>"
          },
          "metadata": {}
        }
      ]
    },
    {
      "cell_type": "code",
      "source": "s = pd.Series([1,2,3])\ns",
      "metadata": {
        "trusted": true
      },
      "execution_count": 28,
      "outputs": [
        {
          "execution_count": 28,
          "output_type": "execute_result",
          "data": {
            "text/plain": "0    1\n1    2\n2    3\ndtype: int64"
          },
          "metadata": {}
        }
      ]
    },
    {
      "cell_type": "code",
      "source": "s.sum()",
      "metadata": {
        "trusted": true
      },
      "execution_count": 29,
      "outputs": [
        {
          "execution_count": 29,
          "output_type": "execute_result",
          "data": {
            "text/plain": "6"
          },
          "metadata": {}
        }
      ]
    },
    {
      "cell_type": "code",
      "source": "rev.sum()",
      "metadata": {
        "trusted": true
      },
      "execution_count": 30,
      "outputs": [
        {
          "execution_count": 30,
          "output_type": "execute_result",
          "data": {
            "text/plain": "New York       5475\nLos Angeles    5134\nMiami          5641\ndtype: int64"
          },
          "metadata": {}
        }
      ]
    },
    {
      "cell_type": "code",
      "source": "rev.sum(axis=0)",
      "metadata": {
        "trusted": true
      },
      "execution_count": 31,
      "outputs": [
        {
          "execution_count": 31,
          "output_type": "execute_result",
          "data": {
            "text/plain": "New York       5475\nLos Angeles    5134\nMiami          5641\ndtype: int64"
          },
          "metadata": {}
        }
      ]
    },
    {
      "cell_type": "code",
      "source": "rev.sum(axis= \"index\")",
      "metadata": {
        "trusted": true
      },
      "execution_count": 32,
      "outputs": [
        {
          "execution_count": 32,
          "output_type": "execute_result",
          "data": {
            "text/plain": "New York       5475\nLos Angeles    5134\nMiami          5641\ndtype: int64"
          },
          "metadata": {}
        }
      ]
    },
    {
      "cell_type": "code",
      "source": "rev.sum(axis=1)",
      "metadata": {
        "trusted": true
      },
      "execution_count": 33,
      "outputs": [
        {
          "execution_count": 33,
          "output_type": "execute_result",
          "data": {
            "text/plain": "Date\n1/1/16     1606\n1/2/16     2060\n1/3/16      967\n1/4/16     2519\n1/5/16      438\n1/6/16     1935\n1/7/16     1234\n1/8/16     2313\n1/9/16     2623\n1/10/16     555\ndtype: int64"
          },
          "metadata": {}
        }
      ]
    },
    {
      "cell_type": "code",
      "source": "rev.sum(axis= \"columns\")",
      "metadata": {
        "trusted": true
      },
      "execution_count": 37,
      "outputs": [
        {
          "execution_count": 37,
          "output_type": "execute_result",
          "data": {
            "text/plain": "Date\n1/1/16     1606\n1/2/16     2060\n1/3/16      967\n1/4/16     2519\n1/5/16      438\n1/6/16     1935\n1/7/16     1234\n1/8/16     2313\n1/9/16     2623\n1/10/16     555\ndtype: int64"
          },
          "metadata": {}
        }
      ]
    },
    {
      "cell_type": "markdown",
      "source": "### Select One Column from a DataFrame",
      "metadata": {}
    },
    {
      "cell_type": "code",
      "source": "nba.head(3)",
      "metadata": {
        "trusted": true
      },
      "execution_count": 38,
      "outputs": [
        {
          "execution_count": 38,
          "output_type": "execute_result",
          "data": {
            "text/plain": "            Name            Team  Number Position   Age Height  Weight  \\\n0  Avery Bradley  Boston Celtics     0.0       PG  25.0    6-2   180.0   \n1    Jae Crowder  Boston Celtics    99.0       SF  25.0    6-6   235.0   \n2   John Holland  Boston Celtics    30.0       SG  27.0    6-5   205.0   \n\n             College     Salary  \n0              Texas  7730337.0  \n1          Marquette  6796117.0  \n2  Boston University        NaN  ",
            "text/html": "<div>\n<style scoped>\n    .dataframe tbody tr th:only-of-type {\n        vertical-align: middle;\n    }\n\n    .dataframe tbody tr th {\n        vertical-align: top;\n    }\n\n    .dataframe thead th {\n        text-align: right;\n    }\n</style>\n<table border=\"1\" class=\"dataframe\">\n  <thead>\n    <tr style=\"text-align: right;\">\n      <th></th>\n      <th>Name</th>\n      <th>Team</th>\n      <th>Number</th>\n      <th>Position</th>\n      <th>Age</th>\n      <th>Height</th>\n      <th>Weight</th>\n      <th>College</th>\n      <th>Salary</th>\n    </tr>\n  </thead>\n  <tbody>\n    <tr>\n      <th>0</th>\n      <td>Avery Bradley</td>\n      <td>Boston Celtics</td>\n      <td>0.0</td>\n      <td>PG</td>\n      <td>25.0</td>\n      <td>6-2</td>\n      <td>180.0</td>\n      <td>Texas</td>\n      <td>7730337.0</td>\n    </tr>\n    <tr>\n      <th>1</th>\n      <td>Jae Crowder</td>\n      <td>Boston Celtics</td>\n      <td>99.0</td>\n      <td>SF</td>\n      <td>25.0</td>\n      <td>6-6</td>\n      <td>235.0</td>\n      <td>Marquette</td>\n      <td>6796117.0</td>\n    </tr>\n    <tr>\n      <th>2</th>\n      <td>John Holland</td>\n      <td>Boston Celtics</td>\n      <td>30.0</td>\n      <td>SG</td>\n      <td>27.0</td>\n      <td>6-5</td>\n      <td>205.0</td>\n      <td>Boston University</td>\n      <td>NaN</td>\n    </tr>\n  </tbody>\n</table>\n</div>"
          },
          "metadata": {}
        }
      ]
    },
    {
      "cell_type": "code",
      "source": "nba.Name\n#single column is extracted as a Serie\n#only works when there is no space in colunn name",
      "metadata": {
        "trusted": true
      },
      "execution_count": 42,
      "outputs": [
        {
          "execution_count": 42,
          "output_type": "execute_result",
          "data": {
            "text/plain": "0      Avery Bradley\n1        Jae Crowder\n2       John Holland\n3        R.J. Hunter\n4      Jonas Jerebko\n           ...      \n453     Shelvin Mack\n454        Raul Neto\n455     Tibor Pleiss\n456      Jeff Withey\n457              NaN\nName: Name, Length: 458, dtype: object"
          },
          "metadata": {}
        }
      ]
    },
    {
      "cell_type": "code",
      "source": "nba[\"Name\"]",
      "metadata": {
        "trusted": true
      },
      "execution_count": 46,
      "outputs": [
        {
          "execution_count": 46,
          "output_type": "execute_result",
          "data": {
            "text/plain": "0      Avery Bradley\n1        Jae Crowder\n2       John Holland\n3        R.J. Hunter\n4      Jonas Jerebko\n           ...      \n453     Shelvin Mack\n454        Raul Neto\n455     Tibor Pleiss\n456      Jeff Withey\n457              NaN\nName: Name, Length: 458, dtype: object"
          },
          "metadata": {}
        }
      ]
    },
    {
      "cell_type": "code",
      "source": "type(nba[\"Name\"])",
      "metadata": {
        "trusted": true
      },
      "execution_count": 47,
      "outputs": [
        {
          "execution_count": 47,
          "output_type": "execute_result",
          "data": {
            "text/plain": "pandas.core.series.Series"
          },
          "metadata": {}
        }
      ]
    },
    {
      "cell_type": "code",
      "source": "nba[\"Name\"].head(1)",
      "metadata": {
        "trusted": true
      },
      "execution_count": 48,
      "outputs": [
        {
          "execution_count": 48,
          "output_type": "execute_result",
          "data": {
            "text/plain": "0    Avery Bradley\nName: Name, dtype: object"
          },
          "metadata": {}
        }
      ]
    },
    {
      "cell_type": "markdown",
      "source": "### Select Two or More Columns from a DataFrame",
      "metadata": {}
    },
    {
      "cell_type": "code",
      "source": "nba[[\"Name\",\"Salary\"]]\n#extra column that consist like a list",
      "metadata": {
        "trusted": true
      },
      "execution_count": 52,
      "outputs": [
        {
          "execution_count": 52,
          "output_type": "execute_result",
          "data": {
            "text/plain": "              Name     Salary\n0    Avery Bradley  7730337.0\n1      Jae Crowder  6796117.0\n2     John Holland        NaN\n3      R.J. Hunter  1148640.0\n4    Jonas Jerebko  5000000.0\n..             ...        ...\n453   Shelvin Mack  2433333.0\n454      Raul Neto   900000.0\n455   Tibor Pleiss  2900000.0\n456    Jeff Withey   947276.0\n457            NaN        NaN\n\n[458 rows x 2 columns]",
            "text/html": "<div>\n<style scoped>\n    .dataframe tbody tr th:only-of-type {\n        vertical-align: middle;\n    }\n\n    .dataframe tbody tr th {\n        vertical-align: top;\n    }\n\n    .dataframe thead th {\n        text-align: right;\n    }\n</style>\n<table border=\"1\" class=\"dataframe\">\n  <thead>\n    <tr style=\"text-align: right;\">\n      <th></th>\n      <th>Name</th>\n      <th>Salary</th>\n    </tr>\n  </thead>\n  <tbody>\n    <tr>\n      <th>0</th>\n      <td>Avery Bradley</td>\n      <td>7730337.0</td>\n    </tr>\n    <tr>\n      <th>1</th>\n      <td>Jae Crowder</td>\n      <td>6796117.0</td>\n    </tr>\n    <tr>\n      <th>2</th>\n      <td>John Holland</td>\n      <td>NaN</td>\n    </tr>\n    <tr>\n      <th>3</th>\n      <td>R.J. Hunter</td>\n      <td>1148640.0</td>\n    </tr>\n    <tr>\n      <th>4</th>\n      <td>Jonas Jerebko</td>\n      <td>5000000.0</td>\n    </tr>\n    <tr>\n      <th>...</th>\n      <td>...</td>\n      <td>...</td>\n    </tr>\n    <tr>\n      <th>453</th>\n      <td>Shelvin Mack</td>\n      <td>2433333.0</td>\n    </tr>\n    <tr>\n      <th>454</th>\n      <td>Raul Neto</td>\n      <td>900000.0</td>\n    </tr>\n    <tr>\n      <th>455</th>\n      <td>Tibor Pleiss</td>\n      <td>2900000.0</td>\n    </tr>\n    <tr>\n      <th>456</th>\n      <td>Jeff Withey</td>\n      <td>947276.0</td>\n    </tr>\n    <tr>\n      <th>457</th>\n      <td>NaN</td>\n      <td>NaN</td>\n    </tr>\n  </tbody>\n</table>\n<p>458 rows × 2 columns</p>\n</div>"
          },
          "metadata": {}
        }
      ]
    },
    {
      "cell_type": "code",
      "source": "nba[[\"Salary\",\"Name\",\"Team\"]]",
      "metadata": {
        "trusted": true
      },
      "execution_count": 54,
      "outputs": [
        {
          "execution_count": 54,
          "output_type": "execute_result",
          "data": {
            "text/plain": "        Salary           Name            Team\n0    7730337.0  Avery Bradley  Boston Celtics\n1    6796117.0    Jae Crowder  Boston Celtics\n2          NaN   John Holland  Boston Celtics\n3    1148640.0    R.J. Hunter  Boston Celtics\n4    5000000.0  Jonas Jerebko  Boston Celtics\n..         ...            ...             ...\n453  2433333.0   Shelvin Mack       Utah Jazz\n454   900000.0      Raul Neto       Utah Jazz\n455  2900000.0   Tibor Pleiss       Utah Jazz\n456   947276.0    Jeff Withey       Utah Jazz\n457        NaN            NaN             NaN\n\n[458 rows x 3 columns]",
            "text/html": "<div>\n<style scoped>\n    .dataframe tbody tr th:only-of-type {\n        vertical-align: middle;\n    }\n\n    .dataframe tbody tr th {\n        vertical-align: top;\n    }\n\n    .dataframe thead th {\n        text-align: right;\n    }\n</style>\n<table border=\"1\" class=\"dataframe\">\n  <thead>\n    <tr style=\"text-align: right;\">\n      <th></th>\n      <th>Salary</th>\n      <th>Name</th>\n      <th>Team</th>\n    </tr>\n  </thead>\n  <tbody>\n    <tr>\n      <th>0</th>\n      <td>7730337.0</td>\n      <td>Avery Bradley</td>\n      <td>Boston Celtics</td>\n    </tr>\n    <tr>\n      <th>1</th>\n      <td>6796117.0</td>\n      <td>Jae Crowder</td>\n      <td>Boston Celtics</td>\n    </tr>\n    <tr>\n      <th>2</th>\n      <td>NaN</td>\n      <td>John Holland</td>\n      <td>Boston Celtics</td>\n    </tr>\n    <tr>\n      <th>3</th>\n      <td>1148640.0</td>\n      <td>R.J. Hunter</td>\n      <td>Boston Celtics</td>\n    </tr>\n    <tr>\n      <th>4</th>\n      <td>5000000.0</td>\n      <td>Jonas Jerebko</td>\n      <td>Boston Celtics</td>\n    </tr>\n    <tr>\n      <th>...</th>\n      <td>...</td>\n      <td>...</td>\n      <td>...</td>\n    </tr>\n    <tr>\n      <th>453</th>\n      <td>2433333.0</td>\n      <td>Shelvin Mack</td>\n      <td>Utah Jazz</td>\n    </tr>\n    <tr>\n      <th>454</th>\n      <td>900000.0</td>\n      <td>Raul Neto</td>\n      <td>Utah Jazz</td>\n    </tr>\n    <tr>\n      <th>455</th>\n      <td>2900000.0</td>\n      <td>Tibor Pleiss</td>\n      <td>Utah Jazz</td>\n    </tr>\n    <tr>\n      <th>456</th>\n      <td>947276.0</td>\n      <td>Jeff Withey</td>\n      <td>Utah Jazz</td>\n    </tr>\n    <tr>\n      <th>457</th>\n      <td>NaN</td>\n      <td>NaN</td>\n      <td>NaN</td>\n    </tr>\n  </tbody>\n</table>\n<p>458 rows × 3 columns</p>\n</div>"
          },
          "metadata": {}
        }
      ]
    },
    {
      "cell_type": "code",
      "source": "select= [\"Salary\",\"Team\",\"Name\"]\nnba[select]",
      "metadata": {
        "trusted": true
      },
      "execution_count": 57,
      "outputs": [
        {
          "execution_count": 57,
          "output_type": "execute_result",
          "data": {
            "text/plain": "        Salary            Team           Name\n0    7730337.0  Boston Celtics  Avery Bradley\n1    6796117.0  Boston Celtics    Jae Crowder\n2          NaN  Boston Celtics   John Holland\n3    1148640.0  Boston Celtics    R.J. Hunter\n4    5000000.0  Boston Celtics  Jonas Jerebko\n..         ...             ...            ...\n453  2433333.0       Utah Jazz   Shelvin Mack\n454   900000.0       Utah Jazz      Raul Neto\n455  2900000.0       Utah Jazz   Tibor Pleiss\n456   947276.0       Utah Jazz    Jeff Withey\n457        NaN             NaN            NaN\n\n[458 rows x 3 columns]",
            "text/html": "<div>\n<style scoped>\n    .dataframe tbody tr th:only-of-type {\n        vertical-align: middle;\n    }\n\n    .dataframe tbody tr th {\n        vertical-align: top;\n    }\n\n    .dataframe thead th {\n        text-align: right;\n    }\n</style>\n<table border=\"1\" class=\"dataframe\">\n  <thead>\n    <tr style=\"text-align: right;\">\n      <th></th>\n      <th>Salary</th>\n      <th>Team</th>\n      <th>Name</th>\n    </tr>\n  </thead>\n  <tbody>\n    <tr>\n      <th>0</th>\n      <td>7730337.0</td>\n      <td>Boston Celtics</td>\n      <td>Avery Bradley</td>\n    </tr>\n    <tr>\n      <th>1</th>\n      <td>6796117.0</td>\n      <td>Boston Celtics</td>\n      <td>Jae Crowder</td>\n    </tr>\n    <tr>\n      <th>2</th>\n      <td>NaN</td>\n      <td>Boston Celtics</td>\n      <td>John Holland</td>\n    </tr>\n    <tr>\n      <th>3</th>\n      <td>1148640.0</td>\n      <td>Boston Celtics</td>\n      <td>R.J. Hunter</td>\n    </tr>\n    <tr>\n      <th>4</th>\n      <td>5000000.0</td>\n      <td>Boston Celtics</td>\n      <td>Jonas Jerebko</td>\n    </tr>\n    <tr>\n      <th>...</th>\n      <td>...</td>\n      <td>...</td>\n      <td>...</td>\n    </tr>\n    <tr>\n      <th>453</th>\n      <td>2433333.0</td>\n      <td>Utah Jazz</td>\n      <td>Shelvin Mack</td>\n    </tr>\n    <tr>\n      <th>454</th>\n      <td>900000.0</td>\n      <td>Utah Jazz</td>\n      <td>Raul Neto</td>\n    </tr>\n    <tr>\n      <th>455</th>\n      <td>2900000.0</td>\n      <td>Utah Jazz</td>\n      <td>Tibor Pleiss</td>\n    </tr>\n    <tr>\n      <th>456</th>\n      <td>947276.0</td>\n      <td>Utah Jazz</td>\n      <td>Jeff Withey</td>\n    </tr>\n    <tr>\n      <th>457</th>\n      <td>NaN</td>\n      <td>NaN</td>\n      <td>NaN</td>\n    </tr>\n  </tbody>\n</table>\n<p>458 rows × 3 columns</p>\n</div>"
          },
          "metadata": {}
        }
      ]
    },
    {
      "cell_type": "markdown",
      "source": "### Add a New Column to DataFrame",
      "metadata": {}
    },
    {
      "cell_type": "code",
      "source": "nba[\"Sport\"]",
      "metadata": {
        "collapsed": true,
        "jupyter": {
          "outputs_hidden": true
        },
        "tags": [],
        "trusted": true
      },
      "execution_count": 58,
      "outputs": [
        {
          "ename": "<class 'KeyError'>",
          "evalue": "'Sport'",
          "traceback": [
            "\u001b[0;31m---------------------------------------------------------------------------\u001b[0m",
            "\u001b[0;31mKeyError\u001b[0m                                  Traceback (most recent call last)",
            "File \u001b[0;32m/lib/python3.10/site-packages/pandas/core/indexes/base.py:3621\u001b[0m, in \u001b[0;36mIndex.get_loc\u001b[0;34m(self, key, method, tolerance)\u001b[0m\n\u001b[1;32m   3620\u001b[0m \u001b[38;5;28;01mtry\u001b[39;00m:\n\u001b[0;32m-> 3621\u001b[0m     \u001b[38;5;28;01mreturn\u001b[39;00m \u001b[38;5;28;43mself\u001b[39;49m\u001b[38;5;241;43m.\u001b[39;49m\u001b[43m_engine\u001b[49m\u001b[38;5;241;43m.\u001b[39;49m\u001b[43mget_loc\u001b[49m\u001b[43m(\u001b[49m\u001b[43mcasted_key\u001b[49m\u001b[43m)\u001b[49m\n\u001b[1;32m   3622\u001b[0m \u001b[38;5;28;01mexcept\u001b[39;00m \u001b[38;5;167;01mKeyError\u001b[39;00m \u001b[38;5;28;01mas\u001b[39;00m err:\n",
            "File \u001b[0;32m/lib/python3.10/site-packages/pandas/_libs/index.pyx:136\u001b[0m, in \u001b[0;36mpandas._libs.index.IndexEngine.get_loc\u001b[0;34m()\u001b[0m\n",
            "File \u001b[0;32m/lib/python3.10/site-packages/pandas/_libs/index.pyx:163\u001b[0m, in \u001b[0;36mpandas._libs.index.IndexEngine.get_loc\u001b[0;34m()\u001b[0m\n",
            "File \u001b[0;32mpandas/_libs/hashtable_class_helper.pxi:5198\u001b[0m, in \u001b[0;36mpandas._libs.hashtable.PyObjectHashTable.get_item\u001b[0;34m()\u001b[0m\n",
            "File \u001b[0;32mpandas/_libs/hashtable_class_helper.pxi:5206\u001b[0m, in \u001b[0;36mpandas._libs.hashtable.PyObjectHashTable.get_item\u001b[0;34m()\u001b[0m\n",
            "\u001b[0;31mKeyError\u001b[0m: 'Sport'",
            "\nThe above exception was the direct cause of the following exception:\n",
            "\u001b[0;31mKeyError\u001b[0m                                  Traceback (most recent call last)",
            "Cell \u001b[0;32mIn [58], line 1\u001b[0m\n\u001b[0;32m----> 1\u001b[0m \u001b[43mnba\u001b[49m\u001b[43m[\u001b[49m\u001b[38;5;124;43m\"\u001b[39;49m\u001b[38;5;124;43mSport\u001b[39;49m\u001b[38;5;124;43m\"\u001b[39;49m\u001b[43m]\u001b[49m\n",
            "File \u001b[0;32m/lib/python3.10/site-packages/pandas/core/frame.py:3505\u001b[0m, in \u001b[0;36mDataFrame.__getitem__\u001b[0;34m(self, key)\u001b[0m\n\u001b[1;32m   3503\u001b[0m \u001b[38;5;28;01mif\u001b[39;00m \u001b[38;5;28mself\u001b[39m\u001b[38;5;241m.\u001b[39mcolumns\u001b[38;5;241m.\u001b[39mnlevels \u001b[38;5;241m>\u001b[39m \u001b[38;5;241m1\u001b[39m:\n\u001b[1;32m   3504\u001b[0m     \u001b[38;5;28;01mreturn\u001b[39;00m \u001b[38;5;28mself\u001b[39m\u001b[38;5;241m.\u001b[39m_getitem_multilevel(key)\n\u001b[0;32m-> 3505\u001b[0m indexer \u001b[38;5;241m=\u001b[39m \u001b[38;5;28;43mself\u001b[39;49m\u001b[38;5;241;43m.\u001b[39;49m\u001b[43mcolumns\u001b[49m\u001b[38;5;241;43m.\u001b[39;49m\u001b[43mget_loc\u001b[49m\u001b[43m(\u001b[49m\u001b[43mkey\u001b[49m\u001b[43m)\u001b[49m\n\u001b[1;32m   3506\u001b[0m \u001b[38;5;28;01mif\u001b[39;00m is_integer(indexer):\n\u001b[1;32m   3507\u001b[0m     indexer \u001b[38;5;241m=\u001b[39m [indexer]\n",
            "File \u001b[0;32m/lib/python3.10/site-packages/pandas/core/indexes/base.py:3623\u001b[0m, in \u001b[0;36mIndex.get_loc\u001b[0;34m(self, key, method, tolerance)\u001b[0m\n\u001b[1;32m   3621\u001b[0m     \u001b[38;5;28;01mreturn\u001b[39;00m \u001b[38;5;28mself\u001b[39m\u001b[38;5;241m.\u001b[39m_engine\u001b[38;5;241m.\u001b[39mget_loc(casted_key)\n\u001b[1;32m   3622\u001b[0m \u001b[38;5;28;01mexcept\u001b[39;00m \u001b[38;5;167;01mKeyError\u001b[39;00m \u001b[38;5;28;01mas\u001b[39;00m err:\n\u001b[0;32m-> 3623\u001b[0m     \u001b[38;5;28;01mraise\u001b[39;00m \u001b[38;5;167;01mKeyError\u001b[39;00m(key) \u001b[38;5;28;01mfrom\u001b[39;00m \u001b[38;5;21;01merr\u001b[39;00m\n\u001b[1;32m   3624\u001b[0m \u001b[38;5;28;01mexcept\u001b[39;00m \u001b[38;5;167;01mTypeError\u001b[39;00m:\n\u001b[1;32m   3625\u001b[0m     \u001b[38;5;66;03m# If we have a listlike key, _check_indexing_error will raise\u001b[39;00m\n\u001b[1;32m   3626\u001b[0m     \u001b[38;5;66;03m#  InvalidIndexError. Otherwise we fall through and re-raise\u001b[39;00m\n\u001b[1;32m   3627\u001b[0m     \u001b[38;5;66;03m#  the TypeError.\u001b[39;00m\n\u001b[1;32m   3628\u001b[0m     \u001b[38;5;28mself\u001b[39m\u001b[38;5;241m.\u001b[39m_check_indexing_error(key)\n",
            "\u001b[0;31mKeyError\u001b[0m: 'Sport'"
          ],
          "output_type": "error"
        }
      ]
    },
    {
      "cell_type": "code",
      "source": "nba[\"Sport\"] = \"Basketball\"\nnba",
      "metadata": {
        "tags": [],
        "trusted": true
      },
      "execution_count": 59,
      "outputs": [
        {
          "execution_count": 59,
          "output_type": "execute_result",
          "data": {
            "text/plain": "              Name            Team  Number Position   Age Height  Weight  \\\n0    Avery Bradley  Boston Celtics     0.0       PG  25.0    6-2   180.0   \n1      Jae Crowder  Boston Celtics    99.0       SF  25.0    6-6   235.0   \n2     John Holland  Boston Celtics    30.0       SG  27.0    6-5   205.0   \n3      R.J. Hunter  Boston Celtics    28.0       SG  22.0    6-5   185.0   \n4    Jonas Jerebko  Boston Celtics     8.0       PF  29.0   6-10   231.0   \n..             ...             ...     ...      ...   ...    ...     ...   \n453   Shelvin Mack       Utah Jazz     8.0       PG  26.0    6-3   203.0   \n454      Raul Neto       Utah Jazz    25.0       PG  24.0    6-1   179.0   \n455   Tibor Pleiss       Utah Jazz    21.0        C  26.0    7-3   256.0   \n456    Jeff Withey       Utah Jazz    24.0        C  26.0    7-0   231.0   \n457            NaN             NaN     NaN      NaN   NaN    NaN     NaN   \n\n               College     Salary       Sport  \n0                Texas  7730337.0  Basketball  \n1            Marquette  6796117.0  Basketball  \n2    Boston University        NaN  Basketball  \n3        Georgia State  1148640.0  Basketball  \n4                  NaN  5000000.0  Basketball  \n..                 ...        ...         ...  \n453             Butler  2433333.0  Basketball  \n454                NaN   900000.0  Basketball  \n455                NaN  2900000.0  Basketball  \n456             Kansas   947276.0  Basketball  \n457                NaN        NaN  Basketball  \n\n[458 rows x 10 columns]",
            "text/html": "<div>\n<style scoped>\n    .dataframe tbody tr th:only-of-type {\n        vertical-align: middle;\n    }\n\n    .dataframe tbody tr th {\n        vertical-align: top;\n    }\n\n    .dataframe thead th {\n        text-align: right;\n    }\n</style>\n<table border=\"1\" class=\"dataframe\">\n  <thead>\n    <tr style=\"text-align: right;\">\n      <th></th>\n      <th>Name</th>\n      <th>Team</th>\n      <th>Number</th>\n      <th>Position</th>\n      <th>Age</th>\n      <th>Height</th>\n      <th>Weight</th>\n      <th>College</th>\n      <th>Salary</th>\n      <th>Sport</th>\n    </tr>\n  </thead>\n  <tbody>\n    <tr>\n      <th>0</th>\n      <td>Avery Bradley</td>\n      <td>Boston Celtics</td>\n      <td>0.0</td>\n      <td>PG</td>\n      <td>25.0</td>\n      <td>6-2</td>\n      <td>180.0</td>\n      <td>Texas</td>\n      <td>7730337.0</td>\n      <td>Basketball</td>\n    </tr>\n    <tr>\n      <th>1</th>\n      <td>Jae Crowder</td>\n      <td>Boston Celtics</td>\n      <td>99.0</td>\n      <td>SF</td>\n      <td>25.0</td>\n      <td>6-6</td>\n      <td>235.0</td>\n      <td>Marquette</td>\n      <td>6796117.0</td>\n      <td>Basketball</td>\n    </tr>\n    <tr>\n      <th>2</th>\n      <td>John Holland</td>\n      <td>Boston Celtics</td>\n      <td>30.0</td>\n      <td>SG</td>\n      <td>27.0</td>\n      <td>6-5</td>\n      <td>205.0</td>\n      <td>Boston University</td>\n      <td>NaN</td>\n      <td>Basketball</td>\n    </tr>\n    <tr>\n      <th>3</th>\n      <td>R.J. Hunter</td>\n      <td>Boston Celtics</td>\n      <td>28.0</td>\n      <td>SG</td>\n      <td>22.0</td>\n      <td>6-5</td>\n      <td>185.0</td>\n      <td>Georgia State</td>\n      <td>1148640.0</td>\n      <td>Basketball</td>\n    </tr>\n    <tr>\n      <th>4</th>\n      <td>Jonas Jerebko</td>\n      <td>Boston Celtics</td>\n      <td>8.0</td>\n      <td>PF</td>\n      <td>29.0</td>\n      <td>6-10</td>\n      <td>231.0</td>\n      <td>NaN</td>\n      <td>5000000.0</td>\n      <td>Basketball</td>\n    </tr>\n    <tr>\n      <th>...</th>\n      <td>...</td>\n      <td>...</td>\n      <td>...</td>\n      <td>...</td>\n      <td>...</td>\n      <td>...</td>\n      <td>...</td>\n      <td>...</td>\n      <td>...</td>\n      <td>...</td>\n    </tr>\n    <tr>\n      <th>453</th>\n      <td>Shelvin Mack</td>\n      <td>Utah Jazz</td>\n      <td>8.0</td>\n      <td>PG</td>\n      <td>26.0</td>\n      <td>6-3</td>\n      <td>203.0</td>\n      <td>Butler</td>\n      <td>2433333.0</td>\n      <td>Basketball</td>\n    </tr>\n    <tr>\n      <th>454</th>\n      <td>Raul Neto</td>\n      <td>Utah Jazz</td>\n      <td>25.0</td>\n      <td>PG</td>\n      <td>24.0</td>\n      <td>6-1</td>\n      <td>179.0</td>\n      <td>NaN</td>\n      <td>900000.0</td>\n      <td>Basketball</td>\n    </tr>\n    <tr>\n      <th>455</th>\n      <td>Tibor Pleiss</td>\n      <td>Utah Jazz</td>\n      <td>21.0</td>\n      <td>C</td>\n      <td>26.0</td>\n      <td>7-3</td>\n      <td>256.0</td>\n      <td>NaN</td>\n      <td>2900000.0</td>\n      <td>Basketball</td>\n    </tr>\n    <tr>\n      <th>456</th>\n      <td>Jeff Withey</td>\n      <td>Utah Jazz</td>\n      <td>24.0</td>\n      <td>C</td>\n      <td>26.0</td>\n      <td>7-0</td>\n      <td>231.0</td>\n      <td>Kansas</td>\n      <td>947276.0</td>\n      <td>Basketball</td>\n    </tr>\n    <tr>\n      <th>457</th>\n      <td>NaN</td>\n      <td>NaN</td>\n      <td>NaN</td>\n      <td>NaN</td>\n      <td>NaN</td>\n      <td>NaN</td>\n      <td>NaN</td>\n      <td>NaN</td>\n      <td>NaN</td>\n      <td>Basketball</td>\n    </tr>\n  </tbody>\n</table>\n<p>458 rows × 10 columns</p>\n</div>"
          },
          "metadata": {}
        }
      ]
    },
    {
      "cell_type": "code",
      "source": "nba[\"League\"]= \"National Basketball Association\"\nnba",
      "metadata": {
        "trusted": true
      },
      "execution_count": 61,
      "outputs": [
        {
          "execution_count": 61,
          "output_type": "execute_result",
          "data": {
            "text/plain": "              Name            Team  Number Position   Age Height  Weight  \\\n0    Avery Bradley  Boston Celtics     0.0       PG  25.0    6-2   180.0   \n1      Jae Crowder  Boston Celtics    99.0       SF  25.0    6-6   235.0   \n2     John Holland  Boston Celtics    30.0       SG  27.0    6-5   205.0   \n3      R.J. Hunter  Boston Celtics    28.0       SG  22.0    6-5   185.0   \n4    Jonas Jerebko  Boston Celtics     8.0       PF  29.0   6-10   231.0   \n..             ...             ...     ...      ...   ...    ...     ...   \n453   Shelvin Mack       Utah Jazz     8.0       PG  26.0    6-3   203.0   \n454      Raul Neto       Utah Jazz    25.0       PG  24.0    6-1   179.0   \n455   Tibor Pleiss       Utah Jazz    21.0        C  26.0    7-3   256.0   \n456    Jeff Withey       Utah Jazz    24.0        C  26.0    7-0   231.0   \n457            NaN             NaN     NaN      NaN   NaN    NaN     NaN   \n\n               College     Salary       Sport                           League  \n0                Texas  7730337.0  Basketball  National Basketball Association  \n1            Marquette  6796117.0  Basketball  National Basketball Association  \n2    Boston University        NaN  Basketball  National Basketball Association  \n3        Georgia State  1148640.0  Basketball  National Basketball Association  \n4                  NaN  5000000.0  Basketball  National Basketball Association  \n..                 ...        ...         ...                              ...  \n453             Butler  2433333.0  Basketball  National Basketball Association  \n454                NaN   900000.0  Basketball  National Basketball Association  \n455                NaN  2900000.0  Basketball  National Basketball Association  \n456             Kansas   947276.0  Basketball  National Basketball Association  \n457                NaN        NaN  Basketball  National Basketball Association  \n\n[458 rows x 11 columns]",
            "text/html": "<div>\n<style scoped>\n    .dataframe tbody tr th:only-of-type {\n        vertical-align: middle;\n    }\n\n    .dataframe tbody tr th {\n        vertical-align: top;\n    }\n\n    .dataframe thead th {\n        text-align: right;\n    }\n</style>\n<table border=\"1\" class=\"dataframe\">\n  <thead>\n    <tr style=\"text-align: right;\">\n      <th></th>\n      <th>Name</th>\n      <th>Team</th>\n      <th>Number</th>\n      <th>Position</th>\n      <th>Age</th>\n      <th>Height</th>\n      <th>Weight</th>\n      <th>College</th>\n      <th>Salary</th>\n      <th>Sport</th>\n      <th>League</th>\n    </tr>\n  </thead>\n  <tbody>\n    <tr>\n      <th>0</th>\n      <td>Avery Bradley</td>\n      <td>Boston Celtics</td>\n      <td>0.0</td>\n      <td>PG</td>\n      <td>25.0</td>\n      <td>6-2</td>\n      <td>180.0</td>\n      <td>Texas</td>\n      <td>7730337.0</td>\n      <td>Basketball</td>\n      <td>National Basketball Association</td>\n    </tr>\n    <tr>\n      <th>1</th>\n      <td>Jae Crowder</td>\n      <td>Boston Celtics</td>\n      <td>99.0</td>\n      <td>SF</td>\n      <td>25.0</td>\n      <td>6-6</td>\n      <td>235.0</td>\n      <td>Marquette</td>\n      <td>6796117.0</td>\n      <td>Basketball</td>\n      <td>National Basketball Association</td>\n    </tr>\n    <tr>\n      <th>2</th>\n      <td>John Holland</td>\n      <td>Boston Celtics</td>\n      <td>30.0</td>\n      <td>SG</td>\n      <td>27.0</td>\n      <td>6-5</td>\n      <td>205.0</td>\n      <td>Boston University</td>\n      <td>NaN</td>\n      <td>Basketball</td>\n      <td>National Basketball Association</td>\n    </tr>\n    <tr>\n      <th>3</th>\n      <td>R.J. Hunter</td>\n      <td>Boston Celtics</td>\n      <td>28.0</td>\n      <td>SG</td>\n      <td>22.0</td>\n      <td>6-5</td>\n      <td>185.0</td>\n      <td>Georgia State</td>\n      <td>1148640.0</td>\n      <td>Basketball</td>\n      <td>National Basketball Association</td>\n    </tr>\n    <tr>\n      <th>4</th>\n      <td>Jonas Jerebko</td>\n      <td>Boston Celtics</td>\n      <td>8.0</td>\n      <td>PF</td>\n      <td>29.0</td>\n      <td>6-10</td>\n      <td>231.0</td>\n      <td>NaN</td>\n      <td>5000000.0</td>\n      <td>Basketball</td>\n      <td>National Basketball Association</td>\n    </tr>\n    <tr>\n      <th>...</th>\n      <td>...</td>\n      <td>...</td>\n      <td>...</td>\n      <td>...</td>\n      <td>...</td>\n      <td>...</td>\n      <td>...</td>\n      <td>...</td>\n      <td>...</td>\n      <td>...</td>\n      <td>...</td>\n    </tr>\n    <tr>\n      <th>453</th>\n      <td>Shelvin Mack</td>\n      <td>Utah Jazz</td>\n      <td>8.0</td>\n      <td>PG</td>\n      <td>26.0</td>\n      <td>6-3</td>\n      <td>203.0</td>\n      <td>Butler</td>\n      <td>2433333.0</td>\n      <td>Basketball</td>\n      <td>National Basketball Association</td>\n    </tr>\n    <tr>\n      <th>454</th>\n      <td>Raul Neto</td>\n      <td>Utah Jazz</td>\n      <td>25.0</td>\n      <td>PG</td>\n      <td>24.0</td>\n      <td>6-1</td>\n      <td>179.0</td>\n      <td>NaN</td>\n      <td>900000.0</td>\n      <td>Basketball</td>\n      <td>National Basketball Association</td>\n    </tr>\n    <tr>\n      <th>455</th>\n      <td>Tibor Pleiss</td>\n      <td>Utah Jazz</td>\n      <td>21.0</td>\n      <td>C</td>\n      <td>26.0</td>\n      <td>7-3</td>\n      <td>256.0</td>\n      <td>NaN</td>\n      <td>2900000.0</td>\n      <td>Basketball</td>\n      <td>National Basketball Association</td>\n    </tr>\n    <tr>\n      <th>456</th>\n      <td>Jeff Withey</td>\n      <td>Utah Jazz</td>\n      <td>24.0</td>\n      <td>C</td>\n      <td>26.0</td>\n      <td>7-0</td>\n      <td>231.0</td>\n      <td>Kansas</td>\n      <td>947276.0</td>\n      <td>Basketball</td>\n      <td>National Basketball Association</td>\n    </tr>\n    <tr>\n      <th>457</th>\n      <td>NaN</td>\n      <td>NaN</td>\n      <td>NaN</td>\n      <td>NaN</td>\n      <td>NaN</td>\n      <td>NaN</td>\n      <td>NaN</td>\n      <td>NaN</td>\n      <td>NaN</td>\n      <td>Basketball</td>\n      <td>National Basketball Association</td>\n    </tr>\n  </tbody>\n</table>\n<p>458 rows × 11 columns</p>\n</div>"
          },
          "metadata": {}
        }
      ]
    },
    {
      "cell_type": "code",
      "source": "nba= pd.read_csv(\"nba.csv\")\nnba.head(3)",
      "metadata": {
        "trusted": true
      },
      "execution_count": 74,
      "outputs": [
        {
          "execution_count": 74,
          "output_type": "execute_result",
          "data": {
            "text/plain": "            Name            Team  Number Position   Age Height  Weight  \\\n0  Avery Bradley  Boston Celtics     0.0       PG  25.0    6-2   180.0   \n1    Jae Crowder  Boston Celtics    99.0       SF  25.0    6-6   235.0   \n2   John Holland  Boston Celtics    30.0       SG  27.0    6-5   205.0   \n\n             College     Salary  \n0              Texas  7730337.0  \n1          Marquette  6796117.0  \n2  Boston University        NaN  ",
            "text/html": "<div>\n<style scoped>\n    .dataframe tbody tr th:only-of-type {\n        vertical-align: middle;\n    }\n\n    .dataframe tbody tr th {\n        vertical-align: top;\n    }\n\n    .dataframe thead th {\n        text-align: right;\n    }\n</style>\n<table border=\"1\" class=\"dataframe\">\n  <thead>\n    <tr style=\"text-align: right;\">\n      <th></th>\n      <th>Name</th>\n      <th>Team</th>\n      <th>Number</th>\n      <th>Position</th>\n      <th>Age</th>\n      <th>Height</th>\n      <th>Weight</th>\n      <th>College</th>\n      <th>Salary</th>\n    </tr>\n  </thead>\n  <tbody>\n    <tr>\n      <th>0</th>\n      <td>Avery Bradley</td>\n      <td>Boston Celtics</td>\n      <td>0.0</td>\n      <td>PG</td>\n      <td>25.0</td>\n      <td>6-2</td>\n      <td>180.0</td>\n      <td>Texas</td>\n      <td>7730337.0</td>\n    </tr>\n    <tr>\n      <th>1</th>\n      <td>Jae Crowder</td>\n      <td>Boston Celtics</td>\n      <td>99.0</td>\n      <td>SF</td>\n      <td>25.0</td>\n      <td>6-6</td>\n      <td>235.0</td>\n      <td>Marquette</td>\n      <td>6796117.0</td>\n    </tr>\n    <tr>\n      <th>2</th>\n      <td>John Holland</td>\n      <td>Boston Celtics</td>\n      <td>30.0</td>\n      <td>SG</td>\n      <td>27.0</td>\n      <td>6-5</td>\n      <td>205.0</td>\n      <td>Boston University</td>\n      <td>NaN</td>\n    </tr>\n  </tbody>\n</table>\n</div>"
          },
          "metadata": {}
        }
      ]
    },
    {
      "cell_type": "code",
      "source": "nba.insert(3, column= \"Sport\", value =\"Basketball\")\n#nba.insert(loc, column, value)\nnba.head(3)",
      "metadata": {
        "trusted": true
      },
      "execution_count": 75,
      "outputs": [
        {
          "execution_count": 75,
          "output_type": "execute_result",
          "data": {
            "text/plain": "            Name            Team  Number       Sport Position   Age Height  \\\n0  Avery Bradley  Boston Celtics     0.0  Basketball       PG  25.0    6-2   \n1    Jae Crowder  Boston Celtics    99.0  Basketball       SF  25.0    6-6   \n2   John Holland  Boston Celtics    30.0  Basketball       SG  27.0    6-5   \n\n   Weight            College     Salary  \n0   180.0              Texas  7730337.0  \n1   235.0          Marquette  6796117.0  \n2   205.0  Boston University        NaN  ",
            "text/html": "<div>\n<style scoped>\n    .dataframe tbody tr th:only-of-type {\n        vertical-align: middle;\n    }\n\n    .dataframe tbody tr th {\n        vertical-align: top;\n    }\n\n    .dataframe thead th {\n        text-align: right;\n    }\n</style>\n<table border=\"1\" class=\"dataframe\">\n  <thead>\n    <tr style=\"text-align: right;\">\n      <th></th>\n      <th>Name</th>\n      <th>Team</th>\n      <th>Number</th>\n      <th>Sport</th>\n      <th>Position</th>\n      <th>Age</th>\n      <th>Height</th>\n      <th>Weight</th>\n      <th>College</th>\n      <th>Salary</th>\n    </tr>\n  </thead>\n  <tbody>\n    <tr>\n      <th>0</th>\n      <td>Avery Bradley</td>\n      <td>Boston Celtics</td>\n      <td>0.0</td>\n      <td>Basketball</td>\n      <td>PG</td>\n      <td>25.0</td>\n      <td>6-2</td>\n      <td>180.0</td>\n      <td>Texas</td>\n      <td>7730337.0</td>\n    </tr>\n    <tr>\n      <th>1</th>\n      <td>Jae Crowder</td>\n      <td>Boston Celtics</td>\n      <td>99.0</td>\n      <td>Basketball</td>\n      <td>SF</td>\n      <td>25.0</td>\n      <td>6-6</td>\n      <td>235.0</td>\n      <td>Marquette</td>\n      <td>6796117.0</td>\n    </tr>\n    <tr>\n      <th>2</th>\n      <td>John Holland</td>\n      <td>Boston Celtics</td>\n      <td>30.0</td>\n      <td>Basketball</td>\n      <td>SG</td>\n      <td>27.0</td>\n      <td>6-5</td>\n      <td>205.0</td>\n      <td>Boston University</td>\n      <td>NaN</td>\n    </tr>\n  </tbody>\n</table>\n</div>"
          },
          "metadata": {}
        }
      ]
    },
    {
      "cell_type": "code",
      "source": "nba.insert(7,\"League\",\"National Basketball Association\")\nnba.head(3)",
      "metadata": {
        "trusted": true
      },
      "execution_count": 76,
      "outputs": [
        {
          "execution_count": 76,
          "output_type": "execute_result",
          "data": {
            "text/plain": "            Name            Team  Number       Sport Position   Age Height  \\\n0  Avery Bradley  Boston Celtics     0.0  Basketball       PG  25.0    6-2   \n1    Jae Crowder  Boston Celtics    99.0  Basketball       SF  25.0    6-6   \n2   John Holland  Boston Celtics    30.0  Basketball       SG  27.0    6-5   \n\n                            League  Weight            College     Salary  \n0  National Basketball Association   180.0              Texas  7730337.0  \n1  National Basketball Association   235.0          Marquette  6796117.0  \n2  National Basketball Association   205.0  Boston University        NaN  ",
            "text/html": "<div>\n<style scoped>\n    .dataframe tbody tr th:only-of-type {\n        vertical-align: middle;\n    }\n\n    .dataframe tbody tr th {\n        vertical-align: top;\n    }\n\n    .dataframe thead th {\n        text-align: right;\n    }\n</style>\n<table border=\"1\" class=\"dataframe\">\n  <thead>\n    <tr style=\"text-align: right;\">\n      <th></th>\n      <th>Name</th>\n      <th>Team</th>\n      <th>Number</th>\n      <th>Sport</th>\n      <th>Position</th>\n      <th>Age</th>\n      <th>Height</th>\n      <th>League</th>\n      <th>Weight</th>\n      <th>College</th>\n      <th>Salary</th>\n    </tr>\n  </thead>\n  <tbody>\n    <tr>\n      <th>0</th>\n      <td>Avery Bradley</td>\n      <td>Boston Celtics</td>\n      <td>0.0</td>\n      <td>Basketball</td>\n      <td>PG</td>\n      <td>25.0</td>\n      <td>6-2</td>\n      <td>National Basketball Association</td>\n      <td>180.0</td>\n      <td>Texas</td>\n      <td>7730337.0</td>\n    </tr>\n    <tr>\n      <th>1</th>\n      <td>Jae Crowder</td>\n      <td>Boston Celtics</td>\n      <td>99.0</td>\n      <td>Basketball</td>\n      <td>SF</td>\n      <td>25.0</td>\n      <td>6-6</td>\n      <td>National Basketball Association</td>\n      <td>235.0</td>\n      <td>Marquette</td>\n      <td>6796117.0</td>\n    </tr>\n    <tr>\n      <th>2</th>\n      <td>John Holland</td>\n      <td>Boston Celtics</td>\n      <td>30.0</td>\n      <td>Basketball</td>\n      <td>SG</td>\n      <td>27.0</td>\n      <td>6-5</td>\n      <td>National Basketball Association</td>\n      <td>205.0</td>\n      <td>Boston University</td>\n      <td>NaN</td>\n    </tr>\n  </tbody>\n</table>\n</div>"
          },
          "metadata": {}
        }
      ]
    },
    {
      "cell_type": "markdown",
      "source": "### Broadcasting Operations on DataFrames",
      "metadata": {}
    },
    {
      "cell_type": "code",
      "source": "import pandas as pd\nnba= pd.read_csv(\"nba.csv\")",
      "metadata": {
        "trusted": true
      },
      "execution_count": 26,
      "outputs": []
    },
    {
      "cell_type": "code",
      "source": "nba.head(3)",
      "metadata": {
        "trusted": true
      },
      "execution_count": 4,
      "outputs": [
        {
          "execution_count": 4,
          "output_type": "execute_result",
          "data": {
            "text/plain": "            Name            Team  Number Position   Age Height  Weight  \\\n0  Avery Bradley  Boston Celtics     0.0       PG  25.0    6-2   180.0   \n1    Jae Crowder  Boston Celtics    99.0       SF  25.0    6-6   235.0   \n2   John Holland  Boston Celtics    30.0       SG  27.0    6-5   205.0   \n\n             College     Salary  \n0              Texas  7730337.0  \n1          Marquette  6796117.0  \n2  Boston University        NaN  ",
            "text/html": "<div>\n<style scoped>\n    .dataframe tbody tr th:only-of-type {\n        vertical-align: middle;\n    }\n\n    .dataframe tbody tr th {\n        vertical-align: top;\n    }\n\n    .dataframe thead th {\n        text-align: right;\n    }\n</style>\n<table border=\"1\" class=\"dataframe\">\n  <thead>\n    <tr style=\"text-align: right;\">\n      <th></th>\n      <th>Name</th>\n      <th>Team</th>\n      <th>Number</th>\n      <th>Position</th>\n      <th>Age</th>\n      <th>Height</th>\n      <th>Weight</th>\n      <th>College</th>\n      <th>Salary</th>\n    </tr>\n  </thead>\n  <tbody>\n    <tr>\n      <th>0</th>\n      <td>Avery Bradley</td>\n      <td>Boston Celtics</td>\n      <td>0.0</td>\n      <td>PG</td>\n      <td>25.0</td>\n      <td>6-2</td>\n      <td>180.0</td>\n      <td>Texas</td>\n      <td>7730337.0</td>\n    </tr>\n    <tr>\n      <th>1</th>\n      <td>Jae Crowder</td>\n      <td>Boston Celtics</td>\n      <td>99.0</td>\n      <td>SF</td>\n      <td>25.0</td>\n      <td>6-6</td>\n      <td>235.0</td>\n      <td>Marquette</td>\n      <td>6796117.0</td>\n    </tr>\n    <tr>\n      <th>2</th>\n      <td>John Holland</td>\n      <td>Boston Celtics</td>\n      <td>30.0</td>\n      <td>SG</td>\n      <td>27.0</td>\n      <td>6-5</td>\n      <td>205.0</td>\n      <td>Boston University</td>\n      <td>NaN</td>\n    </tr>\n  </tbody>\n</table>\n</div>"
          },
          "metadata": {}
        }
      ]
    },
    {
      "cell_type": "code",
      "source": "nba[\"Age\"]",
      "metadata": {
        "trusted": true
      },
      "execution_count": 5,
      "outputs": [
        {
          "execution_count": 5,
          "output_type": "execute_result",
          "data": {
            "text/plain": "0      25.0\n1      25.0\n2      27.0\n3      22.0\n4      29.0\n       ... \n453    26.0\n454    24.0\n455    26.0\n456    26.0\n457     NaN\nName: Age, Length: 458, dtype: float64"
          },
          "metadata": {}
        }
      ]
    },
    {
      "cell_type": "code",
      "source": "nba[\"Age\"].add(5)",
      "metadata": {
        "collapsed": true,
        "jupyter": {
          "outputs_hidden": true
        },
        "tags": [],
        "trusted": true
      },
      "execution_count": 6,
      "outputs": [
        {
          "execution_count": 6,
          "output_type": "execute_result",
          "data": {
            "text/plain": "0      30.0\n1      30.0\n2      32.0\n3      27.0\n4      34.0\n       ... \n453    31.0\n454    29.0\n455    31.0\n456    31.0\n457     NaN\nName: Age, Length: 458, dtype: float64"
          },
          "metadata": {}
        }
      ]
    },
    {
      "cell_type": "code",
      "source": "nba[\"Age\"]+5",
      "metadata": {
        "trusted": true
      },
      "execution_count": 8,
      "outputs": [
        {
          "execution_count": 8,
          "output_type": "execute_result",
          "data": {
            "text/plain": "0      30.0\n1      30.0\n2      32.0\n3      27.0\n4      34.0\n       ... \n453    31.0\n454    29.0\n455    31.0\n456    31.0\n457     NaN\nName: Age, Length: 458, dtype: float64"
          },
          "metadata": {}
        }
      ]
    },
    {
      "cell_type": "code",
      "source": "nba[\"Salary\"].sub(5000000)",
      "metadata": {
        "collapsed": true,
        "jupyter": {
          "outputs_hidden": true
        },
        "tags": [],
        "trusted": true
      },
      "execution_count": 11,
      "outputs": [
        {
          "execution_count": 11,
          "output_type": "execute_result",
          "data": {
            "text/plain": "0      2730337.0\n1      1796117.0\n2            NaN\n3     -3851360.0\n4            0.0\n         ...    \n453   -2566667.0\n454   -4100000.0\n455   -2100000.0\n456   -4052724.0\n457          NaN\nName: Salary, Length: 458, dtype: float64"
          },
          "metadata": {}
        }
      ]
    },
    {
      "cell_type": "code",
      "source": "nba[\"Salary\"]-5000000",
      "metadata": {
        "trusted": true
      },
      "execution_count": 12,
      "outputs": [
        {
          "execution_count": 12,
          "output_type": "execute_result",
          "data": {
            "text/plain": "0      2730337.0\n1      1796117.0\n2            NaN\n3     -3851360.0\n4            0.0\n         ...    \n453   -2566667.0\n454   -4100000.0\n455   -2100000.0\n456   -4052724.0\n457          NaN\nName: Salary, Length: 458, dtype: float64"
          },
          "metadata": {}
        }
      ]
    },
    {
      "cell_type": "code",
      "source": "nba[\"Weight\"].mul(0.452592)\nnba[\"Weight in Kilograms\"] = nba[\"Weight\"]*0.452592\nnba.head(5)",
      "metadata": {
        "trusted": true
      },
      "execution_count": 27,
      "outputs": [
        {
          "execution_count": 27,
          "output_type": "execute_result",
          "data": {
            "text/plain": "            Name            Team  Number Position   Age Height  Weight  \\\n0  Avery Bradley  Boston Celtics     0.0       PG  25.0    6-2   180.0   \n1    Jae Crowder  Boston Celtics    99.0       SF  25.0    6-6   235.0   \n2   John Holland  Boston Celtics    30.0       SG  27.0    6-5   205.0   \n3    R.J. Hunter  Boston Celtics    28.0       SG  22.0    6-5   185.0   \n4  Jonas Jerebko  Boston Celtics     8.0       PF  29.0   6-10   231.0   \n\n             College     Salary  Weight in Kilograms  \n0              Texas  7730337.0            81.466560  \n1          Marquette  6796117.0           106.359120  \n2  Boston University        NaN            92.781360  \n3      Georgia State  1148640.0            83.729520  \n4                NaN  5000000.0           104.548752  ",
            "text/html": "<div>\n<style scoped>\n    .dataframe tbody tr th:only-of-type {\n        vertical-align: middle;\n    }\n\n    .dataframe tbody tr th {\n        vertical-align: top;\n    }\n\n    .dataframe thead th {\n        text-align: right;\n    }\n</style>\n<table border=\"1\" class=\"dataframe\">\n  <thead>\n    <tr style=\"text-align: right;\">\n      <th></th>\n      <th>Name</th>\n      <th>Team</th>\n      <th>Number</th>\n      <th>Position</th>\n      <th>Age</th>\n      <th>Height</th>\n      <th>Weight</th>\n      <th>College</th>\n      <th>Salary</th>\n      <th>Weight in Kilograms</th>\n    </tr>\n  </thead>\n  <tbody>\n    <tr>\n      <th>0</th>\n      <td>Avery Bradley</td>\n      <td>Boston Celtics</td>\n      <td>0.0</td>\n      <td>PG</td>\n      <td>25.0</td>\n      <td>6-2</td>\n      <td>180.0</td>\n      <td>Texas</td>\n      <td>7730337.0</td>\n      <td>81.466560</td>\n    </tr>\n    <tr>\n      <th>1</th>\n      <td>Jae Crowder</td>\n      <td>Boston Celtics</td>\n      <td>99.0</td>\n      <td>SF</td>\n      <td>25.0</td>\n      <td>6-6</td>\n      <td>235.0</td>\n      <td>Marquette</td>\n      <td>6796117.0</td>\n      <td>106.359120</td>\n    </tr>\n    <tr>\n      <th>2</th>\n      <td>John Holland</td>\n      <td>Boston Celtics</td>\n      <td>30.0</td>\n      <td>SG</td>\n      <td>27.0</td>\n      <td>6-5</td>\n      <td>205.0</td>\n      <td>Boston University</td>\n      <td>NaN</td>\n      <td>92.781360</td>\n    </tr>\n    <tr>\n      <th>3</th>\n      <td>R.J. Hunter</td>\n      <td>Boston Celtics</td>\n      <td>28.0</td>\n      <td>SG</td>\n      <td>22.0</td>\n      <td>6-5</td>\n      <td>185.0</td>\n      <td>Georgia State</td>\n      <td>1148640.0</td>\n      <td>83.729520</td>\n    </tr>\n    <tr>\n      <th>4</th>\n      <td>Jonas Jerebko</td>\n      <td>Boston Celtics</td>\n      <td>8.0</td>\n      <td>PF</td>\n      <td>29.0</td>\n      <td>6-10</td>\n      <td>231.0</td>\n      <td>NaN</td>\n      <td>5000000.0</td>\n      <td>104.548752</td>\n    </tr>\n  </tbody>\n</table>\n</div>"
          },
          "metadata": {}
        }
      ]
    },
    {
      "cell_type": "code",
      "source": "nba[\"Salary\"].div(1000000)\nnba[\"Salary\"]/1000000\nnba.insert(9, column= \"Salary in mio\", value= nba[\"Salary\"].div(1000000))\nnba",
      "metadata": {
        "trusted": true
      },
      "execution_count": 28,
      "outputs": [
        {
          "execution_count": 28,
          "output_type": "execute_result",
          "data": {
            "text/plain": "              Name            Team  Number Position   Age Height  Weight  \\\n0    Avery Bradley  Boston Celtics     0.0       PG  25.0    6-2   180.0   \n1      Jae Crowder  Boston Celtics    99.0       SF  25.0    6-6   235.0   \n2     John Holland  Boston Celtics    30.0       SG  27.0    6-5   205.0   \n3      R.J. Hunter  Boston Celtics    28.0       SG  22.0    6-5   185.0   \n4    Jonas Jerebko  Boston Celtics     8.0       PF  29.0   6-10   231.0   \n..             ...             ...     ...      ...   ...    ...     ...   \n453   Shelvin Mack       Utah Jazz     8.0       PG  26.0    6-3   203.0   \n454      Raul Neto       Utah Jazz    25.0       PG  24.0    6-1   179.0   \n455   Tibor Pleiss       Utah Jazz    21.0        C  26.0    7-3   256.0   \n456    Jeff Withey       Utah Jazz    24.0        C  26.0    7-0   231.0   \n457            NaN             NaN     NaN      NaN   NaN    NaN     NaN   \n\n               College     Salary  Salary in mio  Weight in Kilograms  \n0                Texas  7730337.0       7.730337            81.466560  \n1            Marquette  6796117.0       6.796117           106.359120  \n2    Boston University        NaN            NaN            92.781360  \n3        Georgia State  1148640.0       1.148640            83.729520  \n4                  NaN  5000000.0       5.000000           104.548752  \n..                 ...        ...            ...                  ...  \n453             Butler  2433333.0       2.433333            91.876176  \n454                NaN   900000.0       0.900000            81.013968  \n455                NaN  2900000.0       2.900000           115.863552  \n456             Kansas   947276.0       0.947276           104.548752  \n457                NaN        NaN            NaN                  NaN  \n\n[458 rows x 11 columns]",
            "text/html": "<div>\n<style scoped>\n    .dataframe tbody tr th:only-of-type {\n        vertical-align: middle;\n    }\n\n    .dataframe tbody tr th {\n        vertical-align: top;\n    }\n\n    .dataframe thead th {\n        text-align: right;\n    }\n</style>\n<table border=\"1\" class=\"dataframe\">\n  <thead>\n    <tr style=\"text-align: right;\">\n      <th></th>\n      <th>Name</th>\n      <th>Team</th>\n      <th>Number</th>\n      <th>Position</th>\n      <th>Age</th>\n      <th>Height</th>\n      <th>Weight</th>\n      <th>College</th>\n      <th>Salary</th>\n      <th>Salary in mio</th>\n      <th>Weight in Kilograms</th>\n    </tr>\n  </thead>\n  <tbody>\n    <tr>\n      <th>0</th>\n      <td>Avery Bradley</td>\n      <td>Boston Celtics</td>\n      <td>0.0</td>\n      <td>PG</td>\n      <td>25.0</td>\n      <td>6-2</td>\n      <td>180.0</td>\n      <td>Texas</td>\n      <td>7730337.0</td>\n      <td>7.730337</td>\n      <td>81.466560</td>\n    </tr>\n    <tr>\n      <th>1</th>\n      <td>Jae Crowder</td>\n      <td>Boston Celtics</td>\n      <td>99.0</td>\n      <td>SF</td>\n      <td>25.0</td>\n      <td>6-6</td>\n      <td>235.0</td>\n      <td>Marquette</td>\n      <td>6796117.0</td>\n      <td>6.796117</td>\n      <td>106.359120</td>\n    </tr>\n    <tr>\n      <th>2</th>\n      <td>John Holland</td>\n      <td>Boston Celtics</td>\n      <td>30.0</td>\n      <td>SG</td>\n      <td>27.0</td>\n      <td>6-5</td>\n      <td>205.0</td>\n      <td>Boston University</td>\n      <td>NaN</td>\n      <td>NaN</td>\n      <td>92.781360</td>\n    </tr>\n    <tr>\n      <th>3</th>\n      <td>R.J. Hunter</td>\n      <td>Boston Celtics</td>\n      <td>28.0</td>\n      <td>SG</td>\n      <td>22.0</td>\n      <td>6-5</td>\n      <td>185.0</td>\n      <td>Georgia State</td>\n      <td>1148640.0</td>\n      <td>1.148640</td>\n      <td>83.729520</td>\n    </tr>\n    <tr>\n      <th>4</th>\n      <td>Jonas Jerebko</td>\n      <td>Boston Celtics</td>\n      <td>8.0</td>\n      <td>PF</td>\n      <td>29.0</td>\n      <td>6-10</td>\n      <td>231.0</td>\n      <td>NaN</td>\n      <td>5000000.0</td>\n      <td>5.000000</td>\n      <td>104.548752</td>\n    </tr>\n    <tr>\n      <th>...</th>\n      <td>...</td>\n      <td>...</td>\n      <td>...</td>\n      <td>...</td>\n      <td>...</td>\n      <td>...</td>\n      <td>...</td>\n      <td>...</td>\n      <td>...</td>\n      <td>...</td>\n      <td>...</td>\n    </tr>\n    <tr>\n      <th>453</th>\n      <td>Shelvin Mack</td>\n      <td>Utah Jazz</td>\n      <td>8.0</td>\n      <td>PG</td>\n      <td>26.0</td>\n      <td>6-3</td>\n      <td>203.0</td>\n      <td>Butler</td>\n      <td>2433333.0</td>\n      <td>2.433333</td>\n      <td>91.876176</td>\n    </tr>\n    <tr>\n      <th>454</th>\n      <td>Raul Neto</td>\n      <td>Utah Jazz</td>\n      <td>25.0</td>\n      <td>PG</td>\n      <td>24.0</td>\n      <td>6-1</td>\n      <td>179.0</td>\n      <td>NaN</td>\n      <td>900000.0</td>\n      <td>0.900000</td>\n      <td>81.013968</td>\n    </tr>\n    <tr>\n      <th>455</th>\n      <td>Tibor Pleiss</td>\n      <td>Utah Jazz</td>\n      <td>21.0</td>\n      <td>C</td>\n      <td>26.0</td>\n      <td>7-3</td>\n      <td>256.0</td>\n      <td>NaN</td>\n      <td>2900000.0</td>\n      <td>2.900000</td>\n      <td>115.863552</td>\n    </tr>\n    <tr>\n      <th>456</th>\n      <td>Jeff Withey</td>\n      <td>Utah Jazz</td>\n      <td>24.0</td>\n      <td>C</td>\n      <td>26.0</td>\n      <td>7-0</td>\n      <td>231.0</td>\n      <td>Kansas</td>\n      <td>947276.0</td>\n      <td>0.947276</td>\n      <td>104.548752</td>\n    </tr>\n    <tr>\n      <th>457</th>\n      <td>NaN</td>\n      <td>NaN</td>\n      <td>NaN</td>\n      <td>NaN</td>\n      <td>NaN</td>\n      <td>NaN</td>\n      <td>NaN</td>\n      <td>NaN</td>\n      <td>NaN</td>\n      <td>NaN</td>\n      <td>NaN</td>\n    </tr>\n  </tbody>\n</table>\n<p>458 rows × 11 columns</p>\n</div>"
          },
          "metadata": {}
        }
      ]
    },
    {
      "cell_type": "markdown",
      "source": "### A Review of the .value_counts() Method",
      "metadata": {}
    },
    {
      "cell_type": "code",
      "source": "nba[\"Team\"].value_counts()",
      "metadata": {
        "collapsed": true,
        "jupyter": {
          "outputs_hidden": true
        },
        "tags": [],
        "trusted": true
      },
      "execution_count": 32,
      "outputs": [
        {
          "execution_count": 32,
          "output_type": "execute_result",
          "data": {
            "text/plain": "New Orleans Pelicans      19\nMemphis Grizzlies         18\nNew York Knicks           16\nMilwaukee Bucks           16\nBoston Celtics            15\nBrooklyn Nets             15\nPortland Trail Blazers    15\nOklahoma City Thunder     15\nDenver Nuggets            15\nWashington Wizards        15\nMiami Heat                15\nCharlotte Hornets         15\nAtlanta Hawks             15\nSan Antonio Spurs         15\nHouston Rockets           15\nDallas Mavericks          15\nIndiana Pacers            15\nDetroit Pistons           15\nCleveland Cavaliers       15\nChicago Bulls             15\nSacramento Kings          15\nPhoenix Suns              15\nLos Angeles Lakers        15\nLos Angeles Clippers      15\nGolden State Warriors     15\nToronto Raptors           15\nPhiladelphia 76ers        15\nUtah Jazz                 15\nOrlando Magic             14\nMinnesota Timberwolves    14\nName: Team, dtype: int64"
          },
          "metadata": {}
        }
      ]
    },
    {
      "cell_type": "code",
      "source": "nba[\"Position\"].value_counts().head(1)",
      "metadata": {
        "trusted": true
      },
      "execution_count": 35,
      "outputs": [
        {
          "execution_count": 35,
          "output_type": "execute_result",
          "data": {
            "text/plain": "SG    102\nName: Position, dtype: int64"
          },
          "metadata": {}
        }
      ]
    },
    {
      "cell_type": "code",
      "source": "nba[\"Weight\"].value_counts().tail()",
      "metadata": {
        "trusted": true
      },
      "execution_count": 39,
      "outputs": [
        {
          "execution_count": 39,
          "output_type": "execute_result",
          "data": {
            "text/plain": "249.0    1\n217.0    1\n202.0    1\n252.0    1\n256.0    1\nName: Weight, dtype: int64"
          },
          "metadata": {}
        }
      ]
    },
    {
      "cell_type": "code",
      "source": "nba[\"Salary\"].value_counts()",
      "metadata": {
        "trusted": true
      },
      "execution_count": 40,
      "outputs": [
        {
          "execution_count": 40,
          "output_type": "execute_result",
          "data": {
            "text/plain": "947276.0      31\n845059.0      18\n525093.0      13\n981348.0       6\n16407500.0     5\n              ..\n2100000.0      1\n1252440.0      1\n2891760.0      1\n3272091.0      1\n900000.0       1\nName: Salary, Length: 309, dtype: int64"
          },
          "metadata": {}
        }
      ]
    },
    {
      "cell_type": "markdown",
      "source": "### Drop Rows with Null Values",
      "metadata": {}
    },
    {
      "cell_type": "code",
      "source": "nba= pd.read_csv(\"nba.csv\")\nnba.tail(1)",
      "metadata": {
        "trusted": true
      },
      "execution_count": 51,
      "outputs": [
        {
          "execution_count": 51,
          "output_type": "execute_result",
          "data": {
            "text/plain": "    Name Team  Number Position  Age Height  Weight College  Salary\n457  NaN  NaN     NaN      NaN  NaN    NaN     NaN     NaN     NaN",
            "text/html": "<div>\n<style scoped>\n    .dataframe tbody tr th:only-of-type {\n        vertical-align: middle;\n    }\n\n    .dataframe tbody tr th {\n        vertical-align: top;\n    }\n\n    .dataframe thead th {\n        text-align: right;\n    }\n</style>\n<table border=\"1\" class=\"dataframe\">\n  <thead>\n    <tr style=\"text-align: right;\">\n      <th></th>\n      <th>Name</th>\n      <th>Team</th>\n      <th>Number</th>\n      <th>Position</th>\n      <th>Age</th>\n      <th>Height</th>\n      <th>Weight</th>\n      <th>College</th>\n      <th>Salary</th>\n    </tr>\n  </thead>\n  <tbody>\n    <tr>\n      <th>457</th>\n      <td>NaN</td>\n      <td>NaN</td>\n      <td>NaN</td>\n      <td>NaN</td>\n      <td>NaN</td>\n      <td>NaN</td>\n      <td>NaN</td>\n      <td>NaN</td>\n      <td>NaN</td>\n    </tr>\n  </tbody>\n</table>\n</div>"
          },
          "metadata": {}
        }
      ]
    },
    {
      "cell_type": "code",
      "source": "nba.dropna().head(3)\n#dropna will drop all rows where there is >1 NA",
      "metadata": {
        "trusted": true
      },
      "execution_count": 57,
      "outputs": [
        {
          "execution_count": 57,
          "output_type": "execute_result",
          "data": {
            "text/plain": "            Name            Team  Number Position   Age Height  Weight  \\\n0  Avery Bradley  Boston Celtics     0.0       PG  25.0    6-2   180.0   \n1    Jae Crowder  Boston Celtics    99.0       SF  25.0    6-6   235.0   \n3    R.J. Hunter  Boston Celtics    28.0       SG  22.0    6-5   185.0   \n\n         College     Salary  \n0          Texas  7730337.0  \n1      Marquette  6796117.0  \n3  Georgia State  1148640.0  ",
            "text/html": "<div>\n<style scoped>\n    .dataframe tbody tr th:only-of-type {\n        vertical-align: middle;\n    }\n\n    .dataframe tbody tr th {\n        vertical-align: top;\n    }\n\n    .dataframe thead th {\n        text-align: right;\n    }\n</style>\n<table border=\"1\" class=\"dataframe\">\n  <thead>\n    <tr style=\"text-align: right;\">\n      <th></th>\n      <th>Name</th>\n      <th>Team</th>\n      <th>Number</th>\n      <th>Position</th>\n      <th>Age</th>\n      <th>Height</th>\n      <th>Weight</th>\n      <th>College</th>\n      <th>Salary</th>\n    </tr>\n  </thead>\n  <tbody>\n    <tr>\n      <th>0</th>\n      <td>Avery Bradley</td>\n      <td>Boston Celtics</td>\n      <td>0.0</td>\n      <td>PG</td>\n      <td>25.0</td>\n      <td>6-2</td>\n      <td>180.0</td>\n      <td>Texas</td>\n      <td>7730337.0</td>\n    </tr>\n    <tr>\n      <th>1</th>\n      <td>Jae Crowder</td>\n      <td>Boston Celtics</td>\n      <td>99.0</td>\n      <td>SF</td>\n      <td>25.0</td>\n      <td>6-6</td>\n      <td>235.0</td>\n      <td>Marquette</td>\n      <td>6796117.0</td>\n    </tr>\n    <tr>\n      <th>3</th>\n      <td>R.J. Hunter</td>\n      <td>Boston Celtics</td>\n      <td>28.0</td>\n      <td>SG</td>\n      <td>22.0</td>\n      <td>6-5</td>\n      <td>185.0</td>\n      <td>Georgia State</td>\n      <td>1148640.0</td>\n    </tr>\n  </tbody>\n</table>\n</div>"
          },
          "metadata": {}
        }
      ]
    },
    {
      "cell_type": "code",
      "source": "nba.dropna(how=\"all\").head(3)\n# this will drop rolls that all is NA",
      "metadata": {
        "trusted": true
      },
      "execution_count": 56,
      "outputs": [
        {
          "execution_count": 56,
          "output_type": "execute_result",
          "data": {
            "text/plain": "            Name            Team  Number Position   Age Height  Weight  \\\n0  Avery Bradley  Boston Celtics     0.0       PG  25.0    6-2   180.0   \n1    Jae Crowder  Boston Celtics    99.0       SF  25.0    6-6   235.0   \n2   John Holland  Boston Celtics    30.0       SG  27.0    6-5   205.0   \n\n             College     Salary  \n0              Texas  7730337.0  \n1          Marquette  6796117.0  \n2  Boston University        NaN  ",
            "text/html": "<div>\n<style scoped>\n    .dataframe tbody tr th:only-of-type {\n        vertical-align: middle;\n    }\n\n    .dataframe tbody tr th {\n        vertical-align: top;\n    }\n\n    .dataframe thead th {\n        text-align: right;\n    }\n</style>\n<table border=\"1\" class=\"dataframe\">\n  <thead>\n    <tr style=\"text-align: right;\">\n      <th></th>\n      <th>Name</th>\n      <th>Team</th>\n      <th>Number</th>\n      <th>Position</th>\n      <th>Age</th>\n      <th>Height</th>\n      <th>Weight</th>\n      <th>College</th>\n      <th>Salary</th>\n    </tr>\n  </thead>\n  <tbody>\n    <tr>\n      <th>0</th>\n      <td>Avery Bradley</td>\n      <td>Boston Celtics</td>\n      <td>0.0</td>\n      <td>PG</td>\n      <td>25.0</td>\n      <td>6-2</td>\n      <td>180.0</td>\n      <td>Texas</td>\n      <td>7730337.0</td>\n    </tr>\n    <tr>\n      <th>1</th>\n      <td>Jae Crowder</td>\n      <td>Boston Celtics</td>\n      <td>99.0</td>\n      <td>SF</td>\n      <td>25.0</td>\n      <td>6-6</td>\n      <td>235.0</td>\n      <td>Marquette</td>\n      <td>6796117.0</td>\n    </tr>\n    <tr>\n      <th>2</th>\n      <td>John Holland</td>\n      <td>Boston Celtics</td>\n      <td>30.0</td>\n      <td>SG</td>\n      <td>27.0</td>\n      <td>6-5</td>\n      <td>205.0</td>\n      <td>Boston University</td>\n      <td>NaN</td>\n    </tr>\n  </tbody>\n</table>\n</div>"
          },
          "metadata": {}
        }
      ]
    },
    {
      "cell_type": "code",
      "source": "nba.dropna(how=\"all\", inplace=True)\nnba.tail(3)",
      "metadata": {
        "trusted": true
      },
      "execution_count": 54,
      "outputs": [
        {
          "execution_count": 54,
          "output_type": "execute_result",
          "data": {
            "text/plain": "             Name       Team  Number Position   Age Height  Weight College  \\\n454     Raul Neto  Utah Jazz    25.0       PG  24.0    6-1   179.0     NaN   \n455  Tibor Pleiss  Utah Jazz    21.0        C  26.0    7-3   256.0     NaN   \n456   Jeff Withey  Utah Jazz    24.0        C  26.0    7-0   231.0  Kansas   \n\n        Salary  \n454   900000.0  \n455  2900000.0  \n456   947276.0  ",
            "text/html": "<div>\n<style scoped>\n    .dataframe tbody tr th:only-of-type {\n        vertical-align: middle;\n    }\n\n    .dataframe tbody tr th {\n        vertical-align: top;\n    }\n\n    .dataframe thead th {\n        text-align: right;\n    }\n</style>\n<table border=\"1\" class=\"dataframe\">\n  <thead>\n    <tr style=\"text-align: right;\">\n      <th></th>\n      <th>Name</th>\n      <th>Team</th>\n      <th>Number</th>\n      <th>Position</th>\n      <th>Age</th>\n      <th>Height</th>\n      <th>Weight</th>\n      <th>College</th>\n      <th>Salary</th>\n    </tr>\n  </thead>\n  <tbody>\n    <tr>\n      <th>454</th>\n      <td>Raul Neto</td>\n      <td>Utah Jazz</td>\n      <td>25.0</td>\n      <td>PG</td>\n      <td>24.0</td>\n      <td>6-1</td>\n      <td>179.0</td>\n      <td>NaN</td>\n      <td>900000.0</td>\n    </tr>\n    <tr>\n      <th>455</th>\n      <td>Tibor Pleiss</td>\n      <td>Utah Jazz</td>\n      <td>21.0</td>\n      <td>C</td>\n      <td>26.0</td>\n      <td>7-3</td>\n      <td>256.0</td>\n      <td>NaN</td>\n      <td>2900000.0</td>\n    </tr>\n    <tr>\n      <th>456</th>\n      <td>Jeff Withey</td>\n      <td>Utah Jazz</td>\n      <td>24.0</td>\n      <td>C</td>\n      <td>26.0</td>\n      <td>7-0</td>\n      <td>231.0</td>\n      <td>Kansas</td>\n      <td>947276.0</td>\n    </tr>\n  </tbody>\n</table>\n</div>"
          },
          "metadata": {}
        }
      ]
    },
    {
      "cell_type": "code",
      "source": "nba.dropna(axis=1).head(3)",
      "metadata": {
        "trusted": true
      },
      "execution_count": 55,
      "outputs": [
        {
          "execution_count": 55,
          "output_type": "execute_result",
          "data": {
            "text/plain": "            Name            Team  Number Position   Age Height  Weight\n0  Avery Bradley  Boston Celtics     0.0       PG  25.0    6-2   180.0\n1    Jae Crowder  Boston Celtics    99.0       SF  25.0    6-6   235.0\n2   John Holland  Boston Celtics    30.0       SG  27.0    6-5   205.0",
            "text/html": "<div>\n<style scoped>\n    .dataframe tbody tr th:only-of-type {\n        vertical-align: middle;\n    }\n\n    .dataframe tbody tr th {\n        vertical-align: top;\n    }\n\n    .dataframe thead th {\n        text-align: right;\n    }\n</style>\n<table border=\"1\" class=\"dataframe\">\n  <thead>\n    <tr style=\"text-align: right;\">\n      <th></th>\n      <th>Name</th>\n      <th>Team</th>\n      <th>Number</th>\n      <th>Position</th>\n      <th>Age</th>\n      <th>Height</th>\n      <th>Weight</th>\n    </tr>\n  </thead>\n  <tbody>\n    <tr>\n      <th>0</th>\n      <td>Avery Bradley</td>\n      <td>Boston Celtics</td>\n      <td>0.0</td>\n      <td>PG</td>\n      <td>25.0</td>\n      <td>6-2</td>\n      <td>180.0</td>\n    </tr>\n    <tr>\n      <th>1</th>\n      <td>Jae Crowder</td>\n      <td>Boston Celtics</td>\n      <td>99.0</td>\n      <td>SF</td>\n      <td>25.0</td>\n      <td>6-6</td>\n      <td>235.0</td>\n    </tr>\n    <tr>\n      <th>2</th>\n      <td>John Holland</td>\n      <td>Boston Celtics</td>\n      <td>30.0</td>\n      <td>SG</td>\n      <td>27.0</td>\n      <td>6-5</td>\n      <td>205.0</td>\n    </tr>\n  </tbody>\n</table>\n</div>"
          },
          "metadata": {}
        }
      ]
    },
    {
      "cell_type": "code",
      "source": "nba.dropna(subset = [\"Salary\"])\n#to remove a roll is there is NA in a specific column",
      "metadata": {
        "trusted": true
      },
      "execution_count": 60,
      "outputs": [
        {
          "execution_count": 60,
          "output_type": "execute_result",
          "data": {
            "text/plain": "              Name            Team  Number Position   Age Height  Weight  \\\n0    Avery Bradley  Boston Celtics     0.0       PG  25.0    6-2   180.0   \n1      Jae Crowder  Boston Celtics    99.0       SF  25.0    6-6   235.0   \n3      R.J. Hunter  Boston Celtics    28.0       SG  22.0    6-5   185.0   \n4    Jonas Jerebko  Boston Celtics     8.0       PF  29.0   6-10   231.0   \n5     Amir Johnson  Boston Celtics    90.0       PF  29.0    6-9   240.0   \n..             ...             ...     ...      ...   ...    ...     ...   \n452     Trey Lyles       Utah Jazz    41.0       PF  20.0   6-10   234.0   \n453   Shelvin Mack       Utah Jazz     8.0       PG  26.0    6-3   203.0   \n454      Raul Neto       Utah Jazz    25.0       PG  24.0    6-1   179.0   \n455   Tibor Pleiss       Utah Jazz    21.0        C  26.0    7-3   256.0   \n456    Jeff Withey       Utah Jazz    24.0        C  26.0    7-0   231.0   \n\n           College      Salary  \n0            Texas   7730337.0  \n1        Marquette   6796117.0  \n3    Georgia State   1148640.0  \n4              NaN   5000000.0  \n5              NaN  12000000.0  \n..             ...         ...  \n452       Kentucky   2239800.0  \n453         Butler   2433333.0  \n454            NaN    900000.0  \n455            NaN   2900000.0  \n456         Kansas    947276.0  \n\n[446 rows x 9 columns]",
            "text/html": "<div>\n<style scoped>\n    .dataframe tbody tr th:only-of-type {\n        vertical-align: middle;\n    }\n\n    .dataframe tbody tr th {\n        vertical-align: top;\n    }\n\n    .dataframe thead th {\n        text-align: right;\n    }\n</style>\n<table border=\"1\" class=\"dataframe\">\n  <thead>\n    <tr style=\"text-align: right;\">\n      <th></th>\n      <th>Name</th>\n      <th>Team</th>\n      <th>Number</th>\n      <th>Position</th>\n      <th>Age</th>\n      <th>Height</th>\n      <th>Weight</th>\n      <th>College</th>\n      <th>Salary</th>\n    </tr>\n  </thead>\n  <tbody>\n    <tr>\n      <th>0</th>\n      <td>Avery Bradley</td>\n      <td>Boston Celtics</td>\n      <td>0.0</td>\n      <td>PG</td>\n      <td>25.0</td>\n      <td>6-2</td>\n      <td>180.0</td>\n      <td>Texas</td>\n      <td>7730337.0</td>\n    </tr>\n    <tr>\n      <th>1</th>\n      <td>Jae Crowder</td>\n      <td>Boston Celtics</td>\n      <td>99.0</td>\n      <td>SF</td>\n      <td>25.0</td>\n      <td>6-6</td>\n      <td>235.0</td>\n      <td>Marquette</td>\n      <td>6796117.0</td>\n    </tr>\n    <tr>\n      <th>3</th>\n      <td>R.J. Hunter</td>\n      <td>Boston Celtics</td>\n      <td>28.0</td>\n      <td>SG</td>\n      <td>22.0</td>\n      <td>6-5</td>\n      <td>185.0</td>\n      <td>Georgia State</td>\n      <td>1148640.0</td>\n    </tr>\n    <tr>\n      <th>4</th>\n      <td>Jonas Jerebko</td>\n      <td>Boston Celtics</td>\n      <td>8.0</td>\n      <td>PF</td>\n      <td>29.0</td>\n      <td>6-10</td>\n      <td>231.0</td>\n      <td>NaN</td>\n      <td>5000000.0</td>\n    </tr>\n    <tr>\n      <th>5</th>\n      <td>Amir Johnson</td>\n      <td>Boston Celtics</td>\n      <td>90.0</td>\n      <td>PF</td>\n      <td>29.0</td>\n      <td>6-9</td>\n      <td>240.0</td>\n      <td>NaN</td>\n      <td>12000000.0</td>\n    </tr>\n    <tr>\n      <th>...</th>\n      <td>...</td>\n      <td>...</td>\n      <td>...</td>\n      <td>...</td>\n      <td>...</td>\n      <td>...</td>\n      <td>...</td>\n      <td>...</td>\n      <td>...</td>\n    </tr>\n    <tr>\n      <th>452</th>\n      <td>Trey Lyles</td>\n      <td>Utah Jazz</td>\n      <td>41.0</td>\n      <td>PF</td>\n      <td>20.0</td>\n      <td>6-10</td>\n      <td>234.0</td>\n      <td>Kentucky</td>\n      <td>2239800.0</td>\n    </tr>\n    <tr>\n      <th>453</th>\n      <td>Shelvin Mack</td>\n      <td>Utah Jazz</td>\n      <td>8.0</td>\n      <td>PG</td>\n      <td>26.0</td>\n      <td>6-3</td>\n      <td>203.0</td>\n      <td>Butler</td>\n      <td>2433333.0</td>\n    </tr>\n    <tr>\n      <th>454</th>\n      <td>Raul Neto</td>\n      <td>Utah Jazz</td>\n      <td>25.0</td>\n      <td>PG</td>\n      <td>24.0</td>\n      <td>6-1</td>\n      <td>179.0</td>\n      <td>NaN</td>\n      <td>900000.0</td>\n    </tr>\n    <tr>\n      <th>455</th>\n      <td>Tibor Pleiss</td>\n      <td>Utah Jazz</td>\n      <td>21.0</td>\n      <td>C</td>\n      <td>26.0</td>\n      <td>7-3</td>\n      <td>256.0</td>\n      <td>NaN</td>\n      <td>2900000.0</td>\n    </tr>\n    <tr>\n      <th>456</th>\n      <td>Jeff Withey</td>\n      <td>Utah Jazz</td>\n      <td>24.0</td>\n      <td>C</td>\n      <td>26.0</td>\n      <td>7-0</td>\n      <td>231.0</td>\n      <td>Kansas</td>\n      <td>947276.0</td>\n    </tr>\n  </tbody>\n</table>\n<p>446 rows × 9 columns</p>\n</div>"
          },
          "metadata": {}
        }
      ]
    },
    {
      "cell_type": "code",
      "source": "nba.dropna(subset = [\"Salary\", \"College\"])",
      "metadata": {
        "trusted": true
      },
      "execution_count": 61,
      "outputs": [
        {
          "execution_count": 61,
          "output_type": "execute_result",
          "data": {
            "text/plain": "              Name            Team  Number Position   Age Height  Weight  \\\n0    Avery Bradley  Boston Celtics     0.0       PG  25.0    6-2   180.0   \n1      Jae Crowder  Boston Celtics    99.0       SF  25.0    6-6   235.0   \n3      R.J. Hunter  Boston Celtics    28.0       SG  22.0    6-5   185.0   \n6    Jordan Mickey  Boston Celtics    55.0       PF  21.0    6-8   235.0   \n7     Kelly Olynyk  Boston Celtics    41.0        C  25.0    7-0   238.0   \n..             ...             ...     ...      ...   ...    ...     ...   \n449    Rodney Hood       Utah Jazz     5.0       SG  23.0    6-8   206.0   \n451  Chris Johnson       Utah Jazz    23.0       SF  26.0    6-6   206.0   \n452     Trey Lyles       Utah Jazz    41.0       PF  20.0   6-10   234.0   \n453   Shelvin Mack       Utah Jazz     8.0       PG  26.0    6-3   203.0   \n456    Jeff Withey       Utah Jazz    24.0        C  26.0    7-0   231.0   \n\n           College     Salary  \n0            Texas  7730337.0  \n1        Marquette  6796117.0  \n3    Georgia State  1148640.0  \n6              LSU  1170960.0  \n7          Gonzaga  2165160.0  \n..             ...        ...  \n449           Duke  1348440.0  \n451         Dayton   981348.0  \n452       Kentucky  2239800.0  \n453         Butler  2433333.0  \n456         Kansas   947276.0  \n\n[364 rows x 9 columns]",
            "text/html": "<div>\n<style scoped>\n    .dataframe tbody tr th:only-of-type {\n        vertical-align: middle;\n    }\n\n    .dataframe tbody tr th {\n        vertical-align: top;\n    }\n\n    .dataframe thead th {\n        text-align: right;\n    }\n</style>\n<table border=\"1\" class=\"dataframe\">\n  <thead>\n    <tr style=\"text-align: right;\">\n      <th></th>\n      <th>Name</th>\n      <th>Team</th>\n      <th>Number</th>\n      <th>Position</th>\n      <th>Age</th>\n      <th>Height</th>\n      <th>Weight</th>\n      <th>College</th>\n      <th>Salary</th>\n    </tr>\n  </thead>\n  <tbody>\n    <tr>\n      <th>0</th>\n      <td>Avery Bradley</td>\n      <td>Boston Celtics</td>\n      <td>0.0</td>\n      <td>PG</td>\n      <td>25.0</td>\n      <td>6-2</td>\n      <td>180.0</td>\n      <td>Texas</td>\n      <td>7730337.0</td>\n    </tr>\n    <tr>\n      <th>1</th>\n      <td>Jae Crowder</td>\n      <td>Boston Celtics</td>\n      <td>99.0</td>\n      <td>SF</td>\n      <td>25.0</td>\n      <td>6-6</td>\n      <td>235.0</td>\n      <td>Marquette</td>\n      <td>6796117.0</td>\n    </tr>\n    <tr>\n      <th>3</th>\n      <td>R.J. Hunter</td>\n      <td>Boston Celtics</td>\n      <td>28.0</td>\n      <td>SG</td>\n      <td>22.0</td>\n      <td>6-5</td>\n      <td>185.0</td>\n      <td>Georgia State</td>\n      <td>1148640.0</td>\n    </tr>\n    <tr>\n      <th>6</th>\n      <td>Jordan Mickey</td>\n      <td>Boston Celtics</td>\n      <td>55.0</td>\n      <td>PF</td>\n      <td>21.0</td>\n      <td>6-8</td>\n      <td>235.0</td>\n      <td>LSU</td>\n      <td>1170960.0</td>\n    </tr>\n    <tr>\n      <th>7</th>\n      <td>Kelly Olynyk</td>\n      <td>Boston Celtics</td>\n      <td>41.0</td>\n      <td>C</td>\n      <td>25.0</td>\n      <td>7-0</td>\n      <td>238.0</td>\n      <td>Gonzaga</td>\n      <td>2165160.0</td>\n    </tr>\n    <tr>\n      <th>...</th>\n      <td>...</td>\n      <td>...</td>\n      <td>...</td>\n      <td>...</td>\n      <td>...</td>\n      <td>...</td>\n      <td>...</td>\n      <td>...</td>\n      <td>...</td>\n    </tr>\n    <tr>\n      <th>449</th>\n      <td>Rodney Hood</td>\n      <td>Utah Jazz</td>\n      <td>5.0</td>\n      <td>SG</td>\n      <td>23.0</td>\n      <td>6-8</td>\n      <td>206.0</td>\n      <td>Duke</td>\n      <td>1348440.0</td>\n    </tr>\n    <tr>\n      <th>451</th>\n      <td>Chris Johnson</td>\n      <td>Utah Jazz</td>\n      <td>23.0</td>\n      <td>SF</td>\n      <td>26.0</td>\n      <td>6-6</td>\n      <td>206.0</td>\n      <td>Dayton</td>\n      <td>981348.0</td>\n    </tr>\n    <tr>\n      <th>452</th>\n      <td>Trey Lyles</td>\n      <td>Utah Jazz</td>\n      <td>41.0</td>\n      <td>PF</td>\n      <td>20.0</td>\n      <td>6-10</td>\n      <td>234.0</td>\n      <td>Kentucky</td>\n      <td>2239800.0</td>\n    </tr>\n    <tr>\n      <th>453</th>\n      <td>Shelvin Mack</td>\n      <td>Utah Jazz</td>\n      <td>8.0</td>\n      <td>PG</td>\n      <td>26.0</td>\n      <td>6-3</td>\n      <td>203.0</td>\n      <td>Butler</td>\n      <td>2433333.0</td>\n    </tr>\n    <tr>\n      <th>456</th>\n      <td>Jeff Withey</td>\n      <td>Utah Jazz</td>\n      <td>24.0</td>\n      <td>C</td>\n      <td>26.0</td>\n      <td>7-0</td>\n      <td>231.0</td>\n      <td>Kansas</td>\n      <td>947276.0</td>\n    </tr>\n  </tbody>\n</table>\n<p>364 rows × 9 columns</p>\n</div>"
          },
          "metadata": {}
        }
      ]
    },
    {
      "cell_type": "markdown",
      "source": "### Fill in Null Value with the .fillna() Method",
      "metadata": {}
    },
    {
      "cell_type": "code",
      "source": "nba= pd.read_csv(\"nba.csv\")",
      "metadata": {
        "trusted": true
      },
      "execution_count": 62,
      "outputs": []
    },
    {
      "cell_type": "code",
      "source": "nba.fillna(0)\n# college with 0 value does not make senes",
      "metadata": {
        "trusted": true
      },
      "execution_count": 64,
      "outputs": [
        {
          "execution_count": 64,
          "output_type": "execute_result",
          "data": {
            "text/plain": "              Name            Team  Number Position   Age Height  Weight  \\\n0    Avery Bradley  Boston Celtics     0.0       PG  25.0    6-2   180.0   \n1      Jae Crowder  Boston Celtics    99.0       SF  25.0    6-6   235.0   \n2     John Holland  Boston Celtics    30.0       SG  27.0    6-5   205.0   \n3      R.J. Hunter  Boston Celtics    28.0       SG  22.0    6-5   185.0   \n4    Jonas Jerebko  Boston Celtics     8.0       PF  29.0   6-10   231.0   \n..             ...             ...     ...      ...   ...    ...     ...   \n453   Shelvin Mack       Utah Jazz     8.0       PG  26.0    6-3   203.0   \n454      Raul Neto       Utah Jazz    25.0       PG  24.0    6-1   179.0   \n455   Tibor Pleiss       Utah Jazz    21.0        C  26.0    7-3   256.0   \n456    Jeff Withey       Utah Jazz    24.0        C  26.0    7-0   231.0   \n457              0               0     0.0        0   0.0      0     0.0   \n\n               College     Salary  \n0                Texas  7730337.0  \n1            Marquette  6796117.0  \n2    Boston University        0.0  \n3        Georgia State  1148640.0  \n4                    0  5000000.0  \n..                 ...        ...  \n453             Butler  2433333.0  \n454                  0   900000.0  \n455                  0  2900000.0  \n456             Kansas   947276.0  \n457                  0        0.0  \n\n[458 rows x 9 columns]",
            "text/html": "<div>\n<style scoped>\n    .dataframe tbody tr th:only-of-type {\n        vertical-align: middle;\n    }\n\n    .dataframe tbody tr th {\n        vertical-align: top;\n    }\n\n    .dataframe thead th {\n        text-align: right;\n    }\n</style>\n<table border=\"1\" class=\"dataframe\">\n  <thead>\n    <tr style=\"text-align: right;\">\n      <th></th>\n      <th>Name</th>\n      <th>Team</th>\n      <th>Number</th>\n      <th>Position</th>\n      <th>Age</th>\n      <th>Height</th>\n      <th>Weight</th>\n      <th>College</th>\n      <th>Salary</th>\n    </tr>\n  </thead>\n  <tbody>\n    <tr>\n      <th>0</th>\n      <td>Avery Bradley</td>\n      <td>Boston Celtics</td>\n      <td>0.0</td>\n      <td>PG</td>\n      <td>25.0</td>\n      <td>6-2</td>\n      <td>180.0</td>\n      <td>Texas</td>\n      <td>7730337.0</td>\n    </tr>\n    <tr>\n      <th>1</th>\n      <td>Jae Crowder</td>\n      <td>Boston Celtics</td>\n      <td>99.0</td>\n      <td>SF</td>\n      <td>25.0</td>\n      <td>6-6</td>\n      <td>235.0</td>\n      <td>Marquette</td>\n      <td>6796117.0</td>\n    </tr>\n    <tr>\n      <th>2</th>\n      <td>John Holland</td>\n      <td>Boston Celtics</td>\n      <td>30.0</td>\n      <td>SG</td>\n      <td>27.0</td>\n      <td>6-5</td>\n      <td>205.0</td>\n      <td>Boston University</td>\n      <td>0.0</td>\n    </tr>\n    <tr>\n      <th>3</th>\n      <td>R.J. Hunter</td>\n      <td>Boston Celtics</td>\n      <td>28.0</td>\n      <td>SG</td>\n      <td>22.0</td>\n      <td>6-5</td>\n      <td>185.0</td>\n      <td>Georgia State</td>\n      <td>1148640.0</td>\n    </tr>\n    <tr>\n      <th>4</th>\n      <td>Jonas Jerebko</td>\n      <td>Boston Celtics</td>\n      <td>8.0</td>\n      <td>PF</td>\n      <td>29.0</td>\n      <td>6-10</td>\n      <td>231.0</td>\n      <td>0</td>\n      <td>5000000.0</td>\n    </tr>\n    <tr>\n      <th>...</th>\n      <td>...</td>\n      <td>...</td>\n      <td>...</td>\n      <td>...</td>\n      <td>...</td>\n      <td>...</td>\n      <td>...</td>\n      <td>...</td>\n      <td>...</td>\n    </tr>\n    <tr>\n      <th>453</th>\n      <td>Shelvin Mack</td>\n      <td>Utah Jazz</td>\n      <td>8.0</td>\n      <td>PG</td>\n      <td>26.0</td>\n      <td>6-3</td>\n      <td>203.0</td>\n      <td>Butler</td>\n      <td>2433333.0</td>\n    </tr>\n    <tr>\n      <th>454</th>\n      <td>Raul Neto</td>\n      <td>Utah Jazz</td>\n      <td>25.0</td>\n      <td>PG</td>\n      <td>24.0</td>\n      <td>6-1</td>\n      <td>179.0</td>\n      <td>0</td>\n      <td>900000.0</td>\n    </tr>\n    <tr>\n      <th>455</th>\n      <td>Tibor Pleiss</td>\n      <td>Utah Jazz</td>\n      <td>21.0</td>\n      <td>C</td>\n      <td>26.0</td>\n      <td>7-3</td>\n      <td>256.0</td>\n      <td>0</td>\n      <td>2900000.0</td>\n    </tr>\n    <tr>\n      <th>456</th>\n      <td>Jeff Withey</td>\n      <td>Utah Jazz</td>\n      <td>24.0</td>\n      <td>C</td>\n      <td>26.0</td>\n      <td>7-0</td>\n      <td>231.0</td>\n      <td>Kansas</td>\n      <td>947276.0</td>\n    </tr>\n    <tr>\n      <th>457</th>\n      <td>0</td>\n      <td>0</td>\n      <td>0.0</td>\n      <td>0</td>\n      <td>0.0</td>\n      <td>0</td>\n      <td>0.0</td>\n      <td>0</td>\n      <td>0.0</td>\n    </tr>\n  </tbody>\n</table>\n<p>458 rows × 9 columns</p>\n</div>"
          },
          "metadata": {}
        }
      ]
    },
    {
      "cell_type": "code",
      "source": "nba[\"Salary\"].fillna(0, inplace= True)",
      "metadata": {
        "trusted": true
      },
      "execution_count": 65,
      "outputs": []
    },
    {
      "cell_type": "code",
      "source": "nba.head()",
      "metadata": {
        "trusted": true
      },
      "execution_count": 66,
      "outputs": [
        {
          "execution_count": 66,
          "output_type": "execute_result",
          "data": {
            "text/plain": "            Name            Team  Number Position   Age Height  Weight  \\\n0  Avery Bradley  Boston Celtics     0.0       PG  25.0    6-2   180.0   \n1    Jae Crowder  Boston Celtics    99.0       SF  25.0    6-6   235.0   \n2   John Holland  Boston Celtics    30.0       SG  27.0    6-5   205.0   \n3    R.J. Hunter  Boston Celtics    28.0       SG  22.0    6-5   185.0   \n4  Jonas Jerebko  Boston Celtics     8.0       PF  29.0   6-10   231.0   \n\n             College     Salary  \n0              Texas  7730337.0  \n1          Marquette  6796117.0  \n2  Boston University        0.0  \n3      Georgia State  1148640.0  \n4                NaN  5000000.0  ",
            "text/html": "<div>\n<style scoped>\n    .dataframe tbody tr th:only-of-type {\n        vertical-align: middle;\n    }\n\n    .dataframe tbody tr th {\n        vertical-align: top;\n    }\n\n    .dataframe thead th {\n        text-align: right;\n    }\n</style>\n<table border=\"1\" class=\"dataframe\">\n  <thead>\n    <tr style=\"text-align: right;\">\n      <th></th>\n      <th>Name</th>\n      <th>Team</th>\n      <th>Number</th>\n      <th>Position</th>\n      <th>Age</th>\n      <th>Height</th>\n      <th>Weight</th>\n      <th>College</th>\n      <th>Salary</th>\n    </tr>\n  </thead>\n  <tbody>\n    <tr>\n      <th>0</th>\n      <td>Avery Bradley</td>\n      <td>Boston Celtics</td>\n      <td>0.0</td>\n      <td>PG</td>\n      <td>25.0</td>\n      <td>6-2</td>\n      <td>180.0</td>\n      <td>Texas</td>\n      <td>7730337.0</td>\n    </tr>\n    <tr>\n      <th>1</th>\n      <td>Jae Crowder</td>\n      <td>Boston Celtics</td>\n      <td>99.0</td>\n      <td>SF</td>\n      <td>25.0</td>\n      <td>6-6</td>\n      <td>235.0</td>\n      <td>Marquette</td>\n      <td>6796117.0</td>\n    </tr>\n    <tr>\n      <th>2</th>\n      <td>John Holland</td>\n      <td>Boston Celtics</td>\n      <td>30.0</td>\n      <td>SG</td>\n      <td>27.0</td>\n      <td>6-5</td>\n      <td>205.0</td>\n      <td>Boston University</td>\n      <td>0.0</td>\n    </tr>\n    <tr>\n      <th>3</th>\n      <td>R.J. Hunter</td>\n      <td>Boston Celtics</td>\n      <td>28.0</td>\n      <td>SG</td>\n      <td>22.0</td>\n      <td>6-5</td>\n      <td>185.0</td>\n      <td>Georgia State</td>\n      <td>1148640.0</td>\n    </tr>\n    <tr>\n      <th>4</th>\n      <td>Jonas Jerebko</td>\n      <td>Boston Celtics</td>\n      <td>8.0</td>\n      <td>PF</td>\n      <td>29.0</td>\n      <td>6-10</td>\n      <td>231.0</td>\n      <td>NaN</td>\n      <td>5000000.0</td>\n    </tr>\n  </tbody>\n</table>\n</div>"
          },
          "metadata": {}
        }
      ]
    },
    {
      "cell_type": "code",
      "source": "nba[\"College\"].fillna(\"No College\", inplace = True)",
      "metadata": {
        "trusted": true
      },
      "execution_count": 69,
      "outputs": []
    },
    {
      "cell_type": "code",
      "source": "nba.head()",
      "metadata": {
        "trusted": true
      },
      "execution_count": 70,
      "outputs": [
        {
          "execution_count": 70,
          "output_type": "execute_result",
          "data": {
            "text/plain": "            Name            Team  Number Position   Age Height  Weight  \\\n0  Avery Bradley  Boston Celtics     0.0       PG  25.0    6-2   180.0   \n1    Jae Crowder  Boston Celtics    99.0       SF  25.0    6-6   235.0   \n2   John Holland  Boston Celtics    30.0       SG  27.0    6-5   205.0   \n3    R.J. Hunter  Boston Celtics    28.0       SG  22.0    6-5   185.0   \n4  Jonas Jerebko  Boston Celtics     8.0       PF  29.0   6-10   231.0   \n\n             College     Salary  \n0              Texas  7730337.0  \n1          Marquette  6796117.0  \n2  Boston University        0.0  \n3      Georgia State  1148640.0  \n4         No College  5000000.0  ",
            "text/html": "<div>\n<style scoped>\n    .dataframe tbody tr th:only-of-type {\n        vertical-align: middle;\n    }\n\n    .dataframe tbody tr th {\n        vertical-align: top;\n    }\n\n    .dataframe thead th {\n        text-align: right;\n    }\n</style>\n<table border=\"1\" class=\"dataframe\">\n  <thead>\n    <tr style=\"text-align: right;\">\n      <th></th>\n      <th>Name</th>\n      <th>Team</th>\n      <th>Number</th>\n      <th>Position</th>\n      <th>Age</th>\n      <th>Height</th>\n      <th>Weight</th>\n      <th>College</th>\n      <th>Salary</th>\n    </tr>\n  </thead>\n  <tbody>\n    <tr>\n      <th>0</th>\n      <td>Avery Bradley</td>\n      <td>Boston Celtics</td>\n      <td>0.0</td>\n      <td>PG</td>\n      <td>25.0</td>\n      <td>6-2</td>\n      <td>180.0</td>\n      <td>Texas</td>\n      <td>7730337.0</td>\n    </tr>\n    <tr>\n      <th>1</th>\n      <td>Jae Crowder</td>\n      <td>Boston Celtics</td>\n      <td>99.0</td>\n      <td>SF</td>\n      <td>25.0</td>\n      <td>6-6</td>\n      <td>235.0</td>\n      <td>Marquette</td>\n      <td>6796117.0</td>\n    </tr>\n    <tr>\n      <th>2</th>\n      <td>John Holland</td>\n      <td>Boston Celtics</td>\n      <td>30.0</td>\n      <td>SG</td>\n      <td>27.0</td>\n      <td>6-5</td>\n      <td>205.0</td>\n      <td>Boston University</td>\n      <td>0.0</td>\n    </tr>\n    <tr>\n      <th>3</th>\n      <td>R.J. Hunter</td>\n      <td>Boston Celtics</td>\n      <td>28.0</td>\n      <td>SG</td>\n      <td>22.0</td>\n      <td>6-5</td>\n      <td>185.0</td>\n      <td>Georgia State</td>\n      <td>1148640.0</td>\n    </tr>\n    <tr>\n      <th>4</th>\n      <td>Jonas Jerebko</td>\n      <td>Boston Celtics</td>\n      <td>8.0</td>\n      <td>PF</td>\n      <td>29.0</td>\n      <td>6-10</td>\n      <td>231.0</td>\n      <td>No College</td>\n      <td>5000000.0</td>\n    </tr>\n  </tbody>\n</table>\n</div>"
          },
          "metadata": {}
        }
      ]
    },
    {
      "cell_type": "markdown",
      "source": "## The .astype() Method\nallow to convert datatype",
      "metadata": {}
    },
    {
      "cell_type": "code",
      "source": "nba= pd.read_csv(\"nba.csv\").dropna(how=\"all\")\nnba[\"Salary\"].fillna(0, inplace =True)\nnba[\"College\"].fillna(\"None\", inplace=True)\nnba.head(3)",
      "metadata": {
        "trusted": true
      },
      "execution_count": 75,
      "outputs": [
        {
          "execution_count": 75,
          "output_type": "execute_result",
          "data": {
            "text/plain": "            Name            Team  Number Position   Age Height  Weight  \\\n0  Avery Bradley  Boston Celtics     0.0       PG  25.0    6-2   180.0   \n1    Jae Crowder  Boston Celtics    99.0       SF  25.0    6-6   235.0   \n2   John Holland  Boston Celtics    30.0       SG  27.0    6-5   205.0   \n\n             College     Salary  \n0              Texas  7730337.0  \n1          Marquette  6796117.0  \n2  Boston University        0.0  ",
            "text/html": "<div>\n<style scoped>\n    .dataframe tbody tr th:only-of-type {\n        vertical-align: middle;\n    }\n\n    .dataframe tbody tr th {\n        vertical-align: top;\n    }\n\n    .dataframe thead th {\n        text-align: right;\n    }\n</style>\n<table border=\"1\" class=\"dataframe\">\n  <thead>\n    <tr style=\"text-align: right;\">\n      <th></th>\n      <th>Name</th>\n      <th>Team</th>\n      <th>Number</th>\n      <th>Position</th>\n      <th>Age</th>\n      <th>Height</th>\n      <th>Weight</th>\n      <th>College</th>\n      <th>Salary</th>\n    </tr>\n  </thead>\n  <tbody>\n    <tr>\n      <th>0</th>\n      <td>Avery Bradley</td>\n      <td>Boston Celtics</td>\n      <td>0.0</td>\n      <td>PG</td>\n      <td>25.0</td>\n      <td>6-2</td>\n      <td>180.0</td>\n      <td>Texas</td>\n      <td>7730337.0</td>\n    </tr>\n    <tr>\n      <th>1</th>\n      <td>Jae Crowder</td>\n      <td>Boston Celtics</td>\n      <td>99.0</td>\n      <td>SF</td>\n      <td>25.0</td>\n      <td>6-6</td>\n      <td>235.0</td>\n      <td>Marquette</td>\n      <td>6796117.0</td>\n    </tr>\n    <tr>\n      <th>2</th>\n      <td>John Holland</td>\n      <td>Boston Celtics</td>\n      <td>30.0</td>\n      <td>SG</td>\n      <td>27.0</td>\n      <td>6-5</td>\n      <td>205.0</td>\n      <td>Boston University</td>\n      <td>0.0</td>\n    </tr>\n  </tbody>\n</table>\n</div>"
          },
          "metadata": {}
        }
      ]
    },
    {
      "cell_type": "code",
      "source": "nba.dtypes",
      "metadata": {
        "trusted": true
      },
      "execution_count": 78,
      "outputs": [
        {
          "execution_count": 78,
          "output_type": "execute_result",
          "data": {
            "text/plain": "Name         object\nTeam         object\nNumber      float64\nPosition     object\nAge         float64\nHeight       object\nWeight      float64\nCollege      object\nSalary      float64\ndtype: object"
          },
          "metadata": {}
        }
      ]
    },
    {
      "cell_type": "code",
      "source": "nba.info()",
      "metadata": {
        "trusted": true
      },
      "execution_count": 79,
      "outputs": [
        {
          "name": "stdout",
          "text": "<class 'pandas.core.frame.DataFrame'>\nInt64Index: 457 entries, 0 to 456\nData columns (total 9 columns):\n #   Column    Non-Null Count  Dtype  \n---  ------    --------------  -----  \n 0   Name      457 non-null    object \n 1   Team      457 non-null    object \n 2   Number    457 non-null    float64\n 3   Position  457 non-null    object \n 4   Age       457 non-null    float64\n 5   Height    457 non-null    object \n 6   Weight    457 non-null    float64\n 7   College   457 non-null    object \n 8   Salary    457 non-null    float64\ndtypes: float64(4), object(5)\nmemory usage: 26.8+ KB\n",
          "output_type": "stream"
        }
      ]
    },
    {
      "cell_type": "code",
      "source": "nba[\"Salary\"]= nba[\"Salary\"].astype(\"int\")\n# no inplace function, have to reassign",
      "metadata": {
        "trusted": true
      },
      "execution_count": 82,
      "outputs": []
    },
    {
      "cell_type": "code",
      "source": "nba.head(3)",
      "metadata": {
        "trusted": true
      },
      "execution_count": 83,
      "outputs": [
        {
          "execution_count": 83,
          "output_type": "execute_result",
          "data": {
            "text/plain": "            Name            Team  Number Position   Age Height  Weight  \\\n0  Avery Bradley  Boston Celtics     0.0       PG  25.0    6-2   180.0   \n1    Jae Crowder  Boston Celtics    99.0       SF  25.0    6-6   235.0   \n2   John Holland  Boston Celtics    30.0       SG  27.0    6-5   205.0   \n\n             College   Salary  \n0              Texas  7730337  \n1          Marquette  6796117  \n2  Boston University        0  ",
            "text/html": "<div>\n<style scoped>\n    .dataframe tbody tr th:only-of-type {\n        vertical-align: middle;\n    }\n\n    .dataframe tbody tr th {\n        vertical-align: top;\n    }\n\n    .dataframe thead th {\n        text-align: right;\n    }\n</style>\n<table border=\"1\" class=\"dataframe\">\n  <thead>\n    <tr style=\"text-align: right;\">\n      <th></th>\n      <th>Name</th>\n      <th>Team</th>\n      <th>Number</th>\n      <th>Position</th>\n      <th>Age</th>\n      <th>Height</th>\n      <th>Weight</th>\n      <th>College</th>\n      <th>Salary</th>\n    </tr>\n  </thead>\n  <tbody>\n    <tr>\n      <th>0</th>\n      <td>Avery Bradley</td>\n      <td>Boston Celtics</td>\n      <td>0.0</td>\n      <td>PG</td>\n      <td>25.0</td>\n      <td>6-2</td>\n      <td>180.0</td>\n      <td>Texas</td>\n      <td>7730337</td>\n    </tr>\n    <tr>\n      <th>1</th>\n      <td>Jae Crowder</td>\n      <td>Boston Celtics</td>\n      <td>99.0</td>\n      <td>SF</td>\n      <td>25.0</td>\n      <td>6-6</td>\n      <td>235.0</td>\n      <td>Marquette</td>\n      <td>6796117</td>\n    </tr>\n    <tr>\n      <th>2</th>\n      <td>John Holland</td>\n      <td>Boston Celtics</td>\n      <td>30.0</td>\n      <td>SG</td>\n      <td>27.0</td>\n      <td>6-5</td>\n      <td>205.0</td>\n      <td>Boston University</td>\n      <td>0</td>\n    </tr>\n  </tbody>\n</table>\n</div>"
          },
          "metadata": {}
        }
      ]
    },
    {
      "cell_type": "code",
      "source": "nba[\"Age\"]= nba[\"Age\"].astype(\"int\")\nnba[\"Number\"]= nba[\"Number\"].astype(\"int\")\nnba.info()",
      "metadata": {
        "trusted": true
      },
      "execution_count": 86,
      "outputs": [
        {
          "name": "stdout",
          "text": "<class 'pandas.core.frame.DataFrame'>\nInt64Index: 457 entries, 0 to 456\nData columns (total 9 columns):\n #   Column    Non-Null Count  Dtype  \n---  ------    --------------  -----  \n 0   Name      457 non-null    object \n 1   Team      457 non-null    object \n 2   Number    457 non-null    int32  \n 3   Position  457 non-null    object \n 4   Age       457 non-null    int32  \n 5   Height    457 non-null    object \n 6   Weight    457 non-null    float64\n 7   College   457 non-null    object \n 8   Salary    457 non-null    int32  \ndtypes: float64(1), int32(3), object(5)\nmemory usage: 21.4+ KB\n",
          "output_type": "stream"
        }
      ]
    },
    {
      "cell_type": "code",
      "source": "# Catagory is a new datatype in panda. good for small number of unique values. this can help reduce storage usage",
      "metadata": {
        "trusted": true
      },
      "execution_count": 88,
      "outputs": []
    },
    {
      "cell_type": "code",
      "source": "nba[\"Position\"].value_counts()",
      "metadata": {
        "trusted": true
      },
      "execution_count": 89,
      "outputs": [
        {
          "execution_count": 89,
          "output_type": "execute_result",
          "data": {
            "text/plain": "SG    102\nPF    100\nPG     92\nSF     85\nC      78\nName: Position, dtype: int64"
          },
          "metadata": {}
        }
      ]
    },
    {
      "cell_type": "code",
      "source": "nba[\"Position\"]= nba[\"Position\"].astype(\"category\") \nnba.info()",
      "metadata": {
        "trusted": true
      },
      "execution_count": 92,
      "outputs": [
        {
          "name": "stdout",
          "text": "<class 'pandas.core.frame.DataFrame'>\nInt64Index: 457 entries, 0 to 456\nData columns (total 9 columns):\n #   Column    Non-Null Count  Dtype   \n---  ------    --------------  -----   \n 0   Name      457 non-null    object  \n 1   Team      457 non-null    object  \n 2   Number    457 non-null    int32   \n 3   Position  457 non-null    category\n 4   Age       457 non-null    int32   \n 5   Height    457 non-null    object  \n 6   Weight    457 non-null    float64 \n 7   College   457 non-null    object  \n 8   Salary    457 non-null    int32   \ndtypes: category(1), float64(1), int32(3), object(4)\nmemory usage: 20.2+ KB\n",
          "output_type": "stream"
        }
      ]
    },
    {
      "cell_type": "code",
      "source": "nba[\"Team\"]= nba[\"Team\"].astype(\"category\") \nnba.info()",
      "metadata": {
        "trusted": true
      },
      "execution_count": 93,
      "outputs": [
        {
          "name": "stdout",
          "text": "<class 'pandas.core.frame.DataFrame'>\nInt64Index: 457 entries, 0 to 456\nData columns (total 9 columns):\n #   Column    Non-Null Count  Dtype   \n---  ------    --------------  -----   \n 0   Name      457 non-null    object  \n 1   Team      457 non-null    category\n 2   Number    457 non-null    int32   \n 3   Position  457 non-null    category\n 4   Age       457 non-null    int32   \n 5   Height    457 non-null    object  \n 6   Weight    457 non-null    float64 \n 7   College   457 non-null    object  \n 8   Salary    457 non-null    int32   \ndtypes: category(2), float64(1), int32(3), object(3)\nmemory usage: 19.5+ KB\n",
          "output_type": "stream"
        }
      ]
    },
    {
      "cell_type": "markdown",
      "source": "### Sort a DataFrame with the .sort_value() Method I - single",
      "metadata": {}
    },
    {
      "cell_type": "code",
      "source": "nba= pd.read_csv(\"nba.csv\")\nnba.head(3)",
      "metadata": {
        "trusted": true
      },
      "execution_count": 94,
      "outputs": [
        {
          "execution_count": 94,
          "output_type": "execute_result",
          "data": {
            "text/plain": "            Name            Team  Number Position   Age Height  Weight  \\\n0  Avery Bradley  Boston Celtics     0.0       PG  25.0    6-2   180.0   \n1    Jae Crowder  Boston Celtics    99.0       SF  25.0    6-6   235.0   \n2   John Holland  Boston Celtics    30.0       SG  27.0    6-5   205.0   \n\n             College     Salary  \n0              Texas  7730337.0  \n1          Marquette  6796117.0  \n2  Boston University        NaN  ",
            "text/html": "<div>\n<style scoped>\n    .dataframe tbody tr th:only-of-type {\n        vertical-align: middle;\n    }\n\n    .dataframe tbody tr th {\n        vertical-align: top;\n    }\n\n    .dataframe thead th {\n        text-align: right;\n    }\n</style>\n<table border=\"1\" class=\"dataframe\">\n  <thead>\n    <tr style=\"text-align: right;\">\n      <th></th>\n      <th>Name</th>\n      <th>Team</th>\n      <th>Number</th>\n      <th>Position</th>\n      <th>Age</th>\n      <th>Height</th>\n      <th>Weight</th>\n      <th>College</th>\n      <th>Salary</th>\n    </tr>\n  </thead>\n  <tbody>\n    <tr>\n      <th>0</th>\n      <td>Avery Bradley</td>\n      <td>Boston Celtics</td>\n      <td>0.0</td>\n      <td>PG</td>\n      <td>25.0</td>\n      <td>6-2</td>\n      <td>180.0</td>\n      <td>Texas</td>\n      <td>7730337.0</td>\n    </tr>\n    <tr>\n      <th>1</th>\n      <td>Jae Crowder</td>\n      <td>Boston Celtics</td>\n      <td>99.0</td>\n      <td>SF</td>\n      <td>25.0</td>\n      <td>6-6</td>\n      <td>235.0</td>\n      <td>Marquette</td>\n      <td>6796117.0</td>\n    </tr>\n    <tr>\n      <th>2</th>\n      <td>John Holland</td>\n      <td>Boston Celtics</td>\n      <td>30.0</td>\n      <td>SG</td>\n      <td>27.0</td>\n      <td>6-5</td>\n      <td>205.0</td>\n      <td>Boston University</td>\n      <td>NaN</td>\n    </tr>\n  </tbody>\n</table>\n</div>"
          },
          "metadata": {}
        }
      ]
    },
    {
      "cell_type": "code",
      "source": "nba.sort_values(\"Name\", ascending= False)",
      "metadata": {
        "trusted": true
      },
      "execution_count": 96,
      "outputs": [
        {
          "execution_count": 96,
          "output_type": "execute_result",
          "data": {
            "text/plain": "                Name                    Team  Number Position   Age Height  \\\n237    Zaza Pachulia        Dallas Mavericks    27.0        C  32.0   6-11   \n271    Zach Randolph       Memphis Grizzlies    50.0       PF  34.0    6-9   \n402      Zach LaVine  Minnesota Timberwolves     8.0       PG  21.0    6-5   \n270   Xavier Munford       Memphis Grizzlies    14.0       PG  24.0    6-3   \n386  Wilson Chandler          Denver Nuggets    21.0       SF  29.0    6-8   \n..               ...                     ...     ...      ...   ...    ...   \n404    Adreian Payne  Minnesota Timberwolves    33.0       PF  25.0   6-10   \n328   Aaron Harrison       Charlotte Hornets     9.0       SG  21.0    6-6   \n356     Aaron Gordon           Orlando Magic     0.0       PF  20.0    6-9   \n152     Aaron Brooks           Chicago Bulls     0.0       PG  31.0    6-0   \n457              NaN                     NaN     NaN      NaN   NaN    NaN   \n\n     Weight         College      Salary  \n237   275.0             NaN   5200000.0  \n271   260.0  Michigan State   9638555.0  \n402   189.0            UCLA   2148360.0  \n270   180.0    Rhode Island         NaN  \n386   225.0          DePaul  10449438.0  \n..      ...             ...         ...  \n404   237.0  Michigan State   1938840.0  \n328   210.0        Kentucky    525093.0  \n356   220.0         Arizona   4171680.0  \n152   161.0          Oregon   2250000.0  \n457     NaN             NaN         NaN  \n\n[458 rows x 9 columns]",
            "text/html": "<div>\n<style scoped>\n    .dataframe tbody tr th:only-of-type {\n        vertical-align: middle;\n    }\n\n    .dataframe tbody tr th {\n        vertical-align: top;\n    }\n\n    .dataframe thead th {\n        text-align: right;\n    }\n</style>\n<table border=\"1\" class=\"dataframe\">\n  <thead>\n    <tr style=\"text-align: right;\">\n      <th></th>\n      <th>Name</th>\n      <th>Team</th>\n      <th>Number</th>\n      <th>Position</th>\n      <th>Age</th>\n      <th>Height</th>\n      <th>Weight</th>\n      <th>College</th>\n      <th>Salary</th>\n    </tr>\n  </thead>\n  <tbody>\n    <tr>\n      <th>237</th>\n      <td>Zaza Pachulia</td>\n      <td>Dallas Mavericks</td>\n      <td>27.0</td>\n      <td>C</td>\n      <td>32.0</td>\n      <td>6-11</td>\n      <td>275.0</td>\n      <td>NaN</td>\n      <td>5200000.0</td>\n    </tr>\n    <tr>\n      <th>271</th>\n      <td>Zach Randolph</td>\n      <td>Memphis Grizzlies</td>\n      <td>50.0</td>\n      <td>PF</td>\n      <td>34.0</td>\n      <td>6-9</td>\n      <td>260.0</td>\n      <td>Michigan State</td>\n      <td>9638555.0</td>\n    </tr>\n    <tr>\n      <th>402</th>\n      <td>Zach LaVine</td>\n      <td>Minnesota Timberwolves</td>\n      <td>8.0</td>\n      <td>PG</td>\n      <td>21.0</td>\n      <td>6-5</td>\n      <td>189.0</td>\n      <td>UCLA</td>\n      <td>2148360.0</td>\n    </tr>\n    <tr>\n      <th>270</th>\n      <td>Xavier Munford</td>\n      <td>Memphis Grizzlies</td>\n      <td>14.0</td>\n      <td>PG</td>\n      <td>24.0</td>\n      <td>6-3</td>\n      <td>180.0</td>\n      <td>Rhode Island</td>\n      <td>NaN</td>\n    </tr>\n    <tr>\n      <th>386</th>\n      <td>Wilson Chandler</td>\n      <td>Denver Nuggets</td>\n      <td>21.0</td>\n      <td>SF</td>\n      <td>29.0</td>\n      <td>6-8</td>\n      <td>225.0</td>\n      <td>DePaul</td>\n      <td>10449438.0</td>\n    </tr>\n    <tr>\n      <th>...</th>\n      <td>...</td>\n      <td>...</td>\n      <td>...</td>\n      <td>...</td>\n      <td>...</td>\n      <td>...</td>\n      <td>...</td>\n      <td>...</td>\n      <td>...</td>\n    </tr>\n    <tr>\n      <th>404</th>\n      <td>Adreian Payne</td>\n      <td>Minnesota Timberwolves</td>\n      <td>33.0</td>\n      <td>PF</td>\n      <td>25.0</td>\n      <td>6-10</td>\n      <td>237.0</td>\n      <td>Michigan State</td>\n      <td>1938840.0</td>\n    </tr>\n    <tr>\n      <th>328</th>\n      <td>Aaron Harrison</td>\n      <td>Charlotte Hornets</td>\n      <td>9.0</td>\n      <td>SG</td>\n      <td>21.0</td>\n      <td>6-6</td>\n      <td>210.0</td>\n      <td>Kentucky</td>\n      <td>525093.0</td>\n    </tr>\n    <tr>\n      <th>356</th>\n      <td>Aaron Gordon</td>\n      <td>Orlando Magic</td>\n      <td>0.0</td>\n      <td>PF</td>\n      <td>20.0</td>\n      <td>6-9</td>\n      <td>220.0</td>\n      <td>Arizona</td>\n      <td>4171680.0</td>\n    </tr>\n    <tr>\n      <th>152</th>\n      <td>Aaron Brooks</td>\n      <td>Chicago Bulls</td>\n      <td>0.0</td>\n      <td>PG</td>\n      <td>31.0</td>\n      <td>6-0</td>\n      <td>161.0</td>\n      <td>Oregon</td>\n      <td>2250000.0</td>\n    </tr>\n    <tr>\n      <th>457</th>\n      <td>NaN</td>\n      <td>NaN</td>\n      <td>NaN</td>\n      <td>NaN</td>\n      <td>NaN</td>\n      <td>NaN</td>\n      <td>NaN</td>\n      <td>NaN</td>\n      <td>NaN</td>\n    </tr>\n  </tbody>\n</table>\n<p>458 rows × 9 columns</p>\n</div>"
          },
          "metadata": {}
        }
      ]
    },
    {
      "cell_type": "code",
      "source": "nba.sort_values(\"Age\")",
      "metadata": {
        "trusted": true
      },
      "execution_count": 97,
      "outputs": [
        {
          "execution_count": 97,
          "output_type": "execute_result",
          "data": {
            "text/plain": "                   Name                    Team  Number Position   Age Height  \\\n226       Rashad Vaughn         Milwaukee Bucks    20.0       SG  19.0    6-6   \n122        Devin Booker            Phoenix Suns     1.0       SG  19.0    6-6   \n40   Kristaps Porzingis         New York Knicks     6.0       PF  20.0    7-3   \n401          Tyus Jones  Minnesota Timberwolves     1.0       PG  20.0    6-2   \n427     Cliff Alexander  Portland Trail Blazers    34.0       PF  20.0    6-8   \n..                  ...                     ...     ...      ...   ...    ...   \n102      Pablo Prigioni    Los Angeles Clippers     9.0       PG  39.0    6-3   \n298          Tim Duncan       San Antonio Spurs    21.0        C  40.0   6-11   \n400       Kevin Garnett  Minnesota Timberwolves    21.0       PF  40.0   6-11   \n304        Andre Miller       San Antonio Spurs    24.0       PG  40.0    6-3   \n457                 NaN                     NaN     NaN      NaN   NaN    NaN   \n\n     Weight      College     Salary  \n226   202.0         UNLV  1733040.0  \n122   206.0     Kentucky  2127840.0  \n40    240.0          NaN  4131720.0  \n401   195.0         Duke  1282080.0  \n427   240.0       Kansas   525093.0  \n..      ...          ...        ...  \n102   185.0          NaN   947726.0  \n298   250.0  Wake Forest  5250000.0  \n400   240.0          NaN  8500000.0  \n304   200.0         Utah   250750.0  \n457     NaN          NaN        NaN  \n\n[458 rows x 9 columns]",
            "text/html": "<div>\n<style scoped>\n    .dataframe tbody tr th:only-of-type {\n        vertical-align: middle;\n    }\n\n    .dataframe tbody tr th {\n        vertical-align: top;\n    }\n\n    .dataframe thead th {\n        text-align: right;\n    }\n</style>\n<table border=\"1\" class=\"dataframe\">\n  <thead>\n    <tr style=\"text-align: right;\">\n      <th></th>\n      <th>Name</th>\n      <th>Team</th>\n      <th>Number</th>\n      <th>Position</th>\n      <th>Age</th>\n      <th>Height</th>\n      <th>Weight</th>\n      <th>College</th>\n      <th>Salary</th>\n    </tr>\n  </thead>\n  <tbody>\n    <tr>\n      <th>226</th>\n      <td>Rashad Vaughn</td>\n      <td>Milwaukee Bucks</td>\n      <td>20.0</td>\n      <td>SG</td>\n      <td>19.0</td>\n      <td>6-6</td>\n      <td>202.0</td>\n      <td>UNLV</td>\n      <td>1733040.0</td>\n    </tr>\n    <tr>\n      <th>122</th>\n      <td>Devin Booker</td>\n      <td>Phoenix Suns</td>\n      <td>1.0</td>\n      <td>SG</td>\n      <td>19.0</td>\n      <td>6-6</td>\n      <td>206.0</td>\n      <td>Kentucky</td>\n      <td>2127840.0</td>\n    </tr>\n    <tr>\n      <th>40</th>\n      <td>Kristaps Porzingis</td>\n      <td>New York Knicks</td>\n      <td>6.0</td>\n      <td>PF</td>\n      <td>20.0</td>\n      <td>7-3</td>\n      <td>240.0</td>\n      <td>NaN</td>\n      <td>4131720.0</td>\n    </tr>\n    <tr>\n      <th>401</th>\n      <td>Tyus Jones</td>\n      <td>Minnesota Timberwolves</td>\n      <td>1.0</td>\n      <td>PG</td>\n      <td>20.0</td>\n      <td>6-2</td>\n      <td>195.0</td>\n      <td>Duke</td>\n      <td>1282080.0</td>\n    </tr>\n    <tr>\n      <th>427</th>\n      <td>Cliff Alexander</td>\n      <td>Portland Trail Blazers</td>\n      <td>34.0</td>\n      <td>PF</td>\n      <td>20.0</td>\n      <td>6-8</td>\n      <td>240.0</td>\n      <td>Kansas</td>\n      <td>525093.0</td>\n    </tr>\n    <tr>\n      <th>...</th>\n      <td>...</td>\n      <td>...</td>\n      <td>...</td>\n      <td>...</td>\n      <td>...</td>\n      <td>...</td>\n      <td>...</td>\n      <td>...</td>\n      <td>...</td>\n    </tr>\n    <tr>\n      <th>102</th>\n      <td>Pablo Prigioni</td>\n      <td>Los Angeles Clippers</td>\n      <td>9.0</td>\n      <td>PG</td>\n      <td>39.0</td>\n      <td>6-3</td>\n      <td>185.0</td>\n      <td>NaN</td>\n      <td>947726.0</td>\n    </tr>\n    <tr>\n      <th>298</th>\n      <td>Tim Duncan</td>\n      <td>San Antonio Spurs</td>\n      <td>21.0</td>\n      <td>C</td>\n      <td>40.0</td>\n      <td>6-11</td>\n      <td>250.0</td>\n      <td>Wake Forest</td>\n      <td>5250000.0</td>\n    </tr>\n    <tr>\n      <th>400</th>\n      <td>Kevin Garnett</td>\n      <td>Minnesota Timberwolves</td>\n      <td>21.0</td>\n      <td>PF</td>\n      <td>40.0</td>\n      <td>6-11</td>\n      <td>240.0</td>\n      <td>NaN</td>\n      <td>8500000.0</td>\n    </tr>\n    <tr>\n      <th>304</th>\n      <td>Andre Miller</td>\n      <td>San Antonio Spurs</td>\n      <td>24.0</td>\n      <td>PG</td>\n      <td>40.0</td>\n      <td>6-3</td>\n      <td>200.0</td>\n      <td>Utah</td>\n      <td>250750.0</td>\n    </tr>\n    <tr>\n      <th>457</th>\n      <td>NaN</td>\n      <td>NaN</td>\n      <td>NaN</td>\n      <td>NaN</td>\n      <td>NaN</td>\n      <td>NaN</td>\n      <td>NaN</td>\n      <td>NaN</td>\n      <td>NaN</td>\n    </tr>\n  </tbody>\n</table>\n<p>458 rows × 9 columns</p>\n</div>"
          },
          "metadata": {}
        }
      ]
    },
    {
      "cell_type": "code",
      "source": "nba.sort_values(\"Salary\", ascending=False, inplace=True)\nnba.tail(5)\n#na value will be placed at the bottom",
      "metadata": {
        "trusted": true
      },
      "execution_count": 102,
      "outputs": [
        {
          "execution_count": 102,
          "output_type": "execute_result",
          "data": {
            "text/plain": "              Name                    Team  Number Position   Age Height  \\\n350  Briante Weber              Miami Heat    12.0       PG  23.0    6-2   \n353  Dorell Wright              Miami Heat    11.0       SF  30.0    6-9   \n397   Axel Toupane          Denver Nuggets     6.0       SG  23.0    6-7   \n409     Greg Smith  Minnesota Timberwolves     4.0       PF  25.0   6-10   \n457            NaN                     NaN     NaN      NaN   NaN    NaN   \n\n     Weight                College  Salary  \n350   165.0  Virginia Commonwealth     NaN  \n353   205.0                    NaN     NaN  \n397   210.0                    NaN     NaN  \n409   250.0           Fresno State     NaN  \n457     NaN                    NaN     NaN  ",
            "text/html": "<div>\n<style scoped>\n    .dataframe tbody tr th:only-of-type {\n        vertical-align: middle;\n    }\n\n    .dataframe tbody tr th {\n        vertical-align: top;\n    }\n\n    .dataframe thead th {\n        text-align: right;\n    }\n</style>\n<table border=\"1\" class=\"dataframe\">\n  <thead>\n    <tr style=\"text-align: right;\">\n      <th></th>\n      <th>Name</th>\n      <th>Team</th>\n      <th>Number</th>\n      <th>Position</th>\n      <th>Age</th>\n      <th>Height</th>\n      <th>Weight</th>\n      <th>College</th>\n      <th>Salary</th>\n    </tr>\n  </thead>\n  <tbody>\n    <tr>\n      <th>350</th>\n      <td>Briante Weber</td>\n      <td>Miami Heat</td>\n      <td>12.0</td>\n      <td>PG</td>\n      <td>23.0</td>\n      <td>6-2</td>\n      <td>165.0</td>\n      <td>Virginia Commonwealth</td>\n      <td>NaN</td>\n    </tr>\n    <tr>\n      <th>353</th>\n      <td>Dorell Wright</td>\n      <td>Miami Heat</td>\n      <td>11.0</td>\n      <td>SF</td>\n      <td>30.0</td>\n      <td>6-9</td>\n      <td>205.0</td>\n      <td>NaN</td>\n      <td>NaN</td>\n    </tr>\n    <tr>\n      <th>397</th>\n      <td>Axel Toupane</td>\n      <td>Denver Nuggets</td>\n      <td>6.0</td>\n      <td>SG</td>\n      <td>23.0</td>\n      <td>6-7</td>\n      <td>210.0</td>\n      <td>NaN</td>\n      <td>NaN</td>\n    </tr>\n    <tr>\n      <th>409</th>\n      <td>Greg Smith</td>\n      <td>Minnesota Timberwolves</td>\n      <td>4.0</td>\n      <td>PF</td>\n      <td>25.0</td>\n      <td>6-10</td>\n      <td>250.0</td>\n      <td>Fresno State</td>\n      <td>NaN</td>\n    </tr>\n    <tr>\n      <th>457</th>\n      <td>NaN</td>\n      <td>NaN</td>\n      <td>NaN</td>\n      <td>NaN</td>\n      <td>NaN</td>\n      <td>NaN</td>\n      <td>NaN</td>\n      <td>NaN</td>\n      <td>NaN</td>\n    </tr>\n  </tbody>\n</table>\n</div>"
          },
          "metadata": {}
        }
      ]
    },
    {
      "cell_type": "code",
      "source": "nba.sort_values(\"Salary\", ascending=False, na_position =\"first\", inplace=True)\nnba.head(5)",
      "metadata": {
        "trusted": true
      },
      "execution_count": 104,
      "outputs": [
        {
          "execution_count": 104,
          "output_type": "execute_result",
          "data": {
            "text/plain": "              Name                 Team  Number Position   Age Height  Weight  \\\n2     John Holland       Boston Celtics    30.0       SG  27.0    6-5   205.0   \n46     Elton Brand   Philadelphia 76ers    42.0       PF  37.0    6-9   254.0   \n171  Dahntay Jones  Cleveland Cavaliers    30.0       SG  35.0    6-6   225.0   \n264  Jordan Farmar    Memphis Grizzlies     4.0       PG  29.0    6-2   180.0   \n269   Ray McCallum    Memphis Grizzlies     5.0       PG  24.0    6-3   190.0   \n\n               College  Salary  \n2    Boston University     NaN  \n46                Duke     NaN  \n171               Duke     NaN  \n264               UCLA     NaN  \n269            Detroit     NaN  ",
            "text/html": "<div>\n<style scoped>\n    .dataframe tbody tr th:only-of-type {\n        vertical-align: middle;\n    }\n\n    .dataframe tbody tr th {\n        vertical-align: top;\n    }\n\n    .dataframe thead th {\n        text-align: right;\n    }\n</style>\n<table border=\"1\" class=\"dataframe\">\n  <thead>\n    <tr style=\"text-align: right;\">\n      <th></th>\n      <th>Name</th>\n      <th>Team</th>\n      <th>Number</th>\n      <th>Position</th>\n      <th>Age</th>\n      <th>Height</th>\n      <th>Weight</th>\n      <th>College</th>\n      <th>Salary</th>\n    </tr>\n  </thead>\n  <tbody>\n    <tr>\n      <th>2</th>\n      <td>John Holland</td>\n      <td>Boston Celtics</td>\n      <td>30.0</td>\n      <td>SG</td>\n      <td>27.0</td>\n      <td>6-5</td>\n      <td>205.0</td>\n      <td>Boston University</td>\n      <td>NaN</td>\n    </tr>\n    <tr>\n      <th>46</th>\n      <td>Elton Brand</td>\n      <td>Philadelphia 76ers</td>\n      <td>42.0</td>\n      <td>PF</td>\n      <td>37.0</td>\n      <td>6-9</td>\n      <td>254.0</td>\n      <td>Duke</td>\n      <td>NaN</td>\n    </tr>\n    <tr>\n      <th>171</th>\n      <td>Dahntay Jones</td>\n      <td>Cleveland Cavaliers</td>\n      <td>30.0</td>\n      <td>SG</td>\n      <td>35.0</td>\n      <td>6-6</td>\n      <td>225.0</td>\n      <td>Duke</td>\n      <td>NaN</td>\n    </tr>\n    <tr>\n      <th>264</th>\n      <td>Jordan Farmar</td>\n      <td>Memphis Grizzlies</td>\n      <td>4.0</td>\n      <td>PG</td>\n      <td>29.0</td>\n      <td>6-2</td>\n      <td>180.0</td>\n      <td>UCLA</td>\n      <td>NaN</td>\n    </tr>\n    <tr>\n      <th>269</th>\n      <td>Ray McCallum</td>\n      <td>Memphis Grizzlies</td>\n      <td>5.0</td>\n      <td>PG</td>\n      <td>24.0</td>\n      <td>6-3</td>\n      <td>190.0</td>\n      <td>Detroit</td>\n      <td>NaN</td>\n    </tr>\n  </tbody>\n</table>\n</div>"
          },
          "metadata": {}
        }
      ]
    },
    {
      "cell_type": "markdown",
      "source": "### Sort a DataFrame with the .sort_value() Method II - multiple",
      "metadata": {}
    },
    {
      "cell_type": "code",
      "source": "nba= pd.read_csv(\"nba.csv\")\nnba.head(3)",
      "metadata": {
        "trusted": true
      },
      "execution_count": 106,
      "outputs": [
        {
          "execution_count": 106,
          "output_type": "execute_result",
          "data": {
            "text/plain": "            Name            Team  Number Position   Age Height  Weight  \\\n0  Avery Bradley  Boston Celtics     0.0       PG  25.0    6-2   180.0   \n1    Jae Crowder  Boston Celtics    99.0       SF  25.0    6-6   235.0   \n2   John Holland  Boston Celtics    30.0       SG  27.0    6-5   205.0   \n\n             College     Salary  \n0              Texas  7730337.0  \n1          Marquette  6796117.0  \n2  Boston University        NaN  ",
            "text/html": "<div>\n<style scoped>\n    .dataframe tbody tr th:only-of-type {\n        vertical-align: middle;\n    }\n\n    .dataframe tbody tr th {\n        vertical-align: top;\n    }\n\n    .dataframe thead th {\n        text-align: right;\n    }\n</style>\n<table border=\"1\" class=\"dataframe\">\n  <thead>\n    <tr style=\"text-align: right;\">\n      <th></th>\n      <th>Name</th>\n      <th>Team</th>\n      <th>Number</th>\n      <th>Position</th>\n      <th>Age</th>\n      <th>Height</th>\n      <th>Weight</th>\n      <th>College</th>\n      <th>Salary</th>\n    </tr>\n  </thead>\n  <tbody>\n    <tr>\n      <th>0</th>\n      <td>Avery Bradley</td>\n      <td>Boston Celtics</td>\n      <td>0.0</td>\n      <td>PG</td>\n      <td>25.0</td>\n      <td>6-2</td>\n      <td>180.0</td>\n      <td>Texas</td>\n      <td>7730337.0</td>\n    </tr>\n    <tr>\n      <th>1</th>\n      <td>Jae Crowder</td>\n      <td>Boston Celtics</td>\n      <td>99.0</td>\n      <td>SF</td>\n      <td>25.0</td>\n      <td>6-6</td>\n      <td>235.0</td>\n      <td>Marquette</td>\n      <td>6796117.0</td>\n    </tr>\n    <tr>\n      <th>2</th>\n      <td>John Holland</td>\n      <td>Boston Celtics</td>\n      <td>30.0</td>\n      <td>SG</td>\n      <td>27.0</td>\n      <td>6-5</td>\n      <td>205.0</td>\n      <td>Boston University</td>\n      <td>NaN</td>\n    </tr>\n  </tbody>\n</table>\n</div>"
          },
          "metadata": {}
        }
      ]
    },
    {
      "cell_type": "code",
      "source": "nba.sort_values([\"Team\",\"Name\"]).head(3)",
      "metadata": {
        "trusted": true
      },
      "execution_count": 109,
      "outputs": [
        {
          "execution_count": 109,
          "output_type": "execute_result",
          "data": {
            "text/plain": "                Name           Team  Number Position   Age Height  Weight  \\\n312       Al Horford  Atlanta Hawks    15.0        C  30.0   6-10   245.0   \n318  Dennis Schroder  Atlanta Hawks    17.0       PG  22.0    6-1   172.0   \n323      Jeff Teague  Atlanta Hawks     0.0       PG  27.0    6-2   186.0   \n\n         College      Salary  \n312      Florida  12000000.0  \n318          NaN   1763400.0  \n323  Wake Forest   8000000.0  ",
            "text/html": "<div>\n<style scoped>\n    .dataframe tbody tr th:only-of-type {\n        vertical-align: middle;\n    }\n\n    .dataframe tbody tr th {\n        vertical-align: top;\n    }\n\n    .dataframe thead th {\n        text-align: right;\n    }\n</style>\n<table border=\"1\" class=\"dataframe\">\n  <thead>\n    <tr style=\"text-align: right;\">\n      <th></th>\n      <th>Name</th>\n      <th>Team</th>\n      <th>Number</th>\n      <th>Position</th>\n      <th>Age</th>\n      <th>Height</th>\n      <th>Weight</th>\n      <th>College</th>\n      <th>Salary</th>\n    </tr>\n  </thead>\n  <tbody>\n    <tr>\n      <th>312</th>\n      <td>Al Horford</td>\n      <td>Atlanta Hawks</td>\n      <td>15.0</td>\n      <td>C</td>\n      <td>30.0</td>\n      <td>6-10</td>\n      <td>245.0</td>\n      <td>Florida</td>\n      <td>12000000.0</td>\n    </tr>\n    <tr>\n      <th>318</th>\n      <td>Dennis Schroder</td>\n      <td>Atlanta Hawks</td>\n      <td>17.0</td>\n      <td>PG</td>\n      <td>22.0</td>\n      <td>6-1</td>\n      <td>172.0</td>\n      <td>NaN</td>\n      <td>1763400.0</td>\n    </tr>\n    <tr>\n      <th>323</th>\n      <td>Jeff Teague</td>\n      <td>Atlanta Hawks</td>\n      <td>0.0</td>\n      <td>PG</td>\n      <td>27.0</td>\n      <td>6-2</td>\n      <td>186.0</td>\n      <td>Wake Forest</td>\n      <td>8000000.0</td>\n    </tr>\n  </tbody>\n</table>\n</div>"
          },
          "metadata": {}
        }
      ]
    },
    {
      "cell_type": "code",
      "source": "nba.sort_values([\"Team\",\"Name\"], ascending = False).head(3)",
      "metadata": {
        "trusted": true
      },
      "execution_count": 110,
      "outputs": [
        {
          "execution_count": 110,
          "output_type": "execute_result",
          "data": {
            "text/plain": "                Name                Team  Number Position   Age Height  \\\n379   Ramon Sessions  Washington Wizards     7.0       PG  30.0    6-3   \n378  Otto Porter Jr.  Washington Wizards    22.0       SF  23.0    6-8   \n375     Nene Hilario  Washington Wizards    42.0        C  33.0   6-11   \n\n     Weight     College      Salary  \n379   190.0      Nevada   2170465.0  \n378   198.0  Georgetown   4662960.0  \n375   250.0         NaN  13000000.0  ",
            "text/html": "<div>\n<style scoped>\n    .dataframe tbody tr th:only-of-type {\n        vertical-align: middle;\n    }\n\n    .dataframe tbody tr th {\n        vertical-align: top;\n    }\n\n    .dataframe thead th {\n        text-align: right;\n    }\n</style>\n<table border=\"1\" class=\"dataframe\">\n  <thead>\n    <tr style=\"text-align: right;\">\n      <th></th>\n      <th>Name</th>\n      <th>Team</th>\n      <th>Number</th>\n      <th>Position</th>\n      <th>Age</th>\n      <th>Height</th>\n      <th>Weight</th>\n      <th>College</th>\n      <th>Salary</th>\n    </tr>\n  </thead>\n  <tbody>\n    <tr>\n      <th>379</th>\n      <td>Ramon Sessions</td>\n      <td>Washington Wizards</td>\n      <td>7.0</td>\n      <td>PG</td>\n      <td>30.0</td>\n      <td>6-3</td>\n      <td>190.0</td>\n      <td>Nevada</td>\n      <td>2170465.0</td>\n    </tr>\n    <tr>\n      <th>378</th>\n      <td>Otto Porter Jr.</td>\n      <td>Washington Wizards</td>\n      <td>22.0</td>\n      <td>SF</td>\n      <td>23.0</td>\n      <td>6-8</td>\n      <td>198.0</td>\n      <td>Georgetown</td>\n      <td>4662960.0</td>\n    </tr>\n    <tr>\n      <th>375</th>\n      <td>Nene Hilario</td>\n      <td>Washington Wizards</td>\n      <td>42.0</td>\n      <td>C</td>\n      <td>33.0</td>\n      <td>6-11</td>\n      <td>250.0</td>\n      <td>NaN</td>\n      <td>13000000.0</td>\n    </tr>\n  </tbody>\n</table>\n</div>"
          },
          "metadata": {}
        }
      ]
    },
    {
      "cell_type": "code",
      "source": "nba.sort_values([\"Team\", \"Name\"],ascending = [True,False], inplace = True)\nnba.head(3)",
      "metadata": {
        "trusted": true
      },
      "execution_count": 115,
      "outputs": [
        {
          "execution_count": 115,
          "output_type": "execute_result",
          "data": {
            "text/plain": "                 Name           Team  Number Position   Age Height  Weight  \\\n322    Walter Tavares  Atlanta Hawks    22.0        C  24.0    7-3   260.0   \n310  Tim Hardaway Jr.  Atlanta Hawks    10.0       SG  24.0    6-6   205.0   \n321    Tiago Splitter  Atlanta Hawks    11.0        C  31.0   6-11   245.0   \n\n      College     Salary  \n322       NaN  1000000.0  \n310  Michigan  1304520.0  \n321       NaN  9756250.0  ",
            "text/html": "<div>\n<style scoped>\n    .dataframe tbody tr th:only-of-type {\n        vertical-align: middle;\n    }\n\n    .dataframe tbody tr th {\n        vertical-align: top;\n    }\n\n    .dataframe thead th {\n        text-align: right;\n    }\n</style>\n<table border=\"1\" class=\"dataframe\">\n  <thead>\n    <tr style=\"text-align: right;\">\n      <th></th>\n      <th>Name</th>\n      <th>Team</th>\n      <th>Number</th>\n      <th>Position</th>\n      <th>Age</th>\n      <th>Height</th>\n      <th>Weight</th>\n      <th>College</th>\n      <th>Salary</th>\n    </tr>\n  </thead>\n  <tbody>\n    <tr>\n      <th>322</th>\n      <td>Walter Tavares</td>\n      <td>Atlanta Hawks</td>\n      <td>22.0</td>\n      <td>C</td>\n      <td>24.0</td>\n      <td>7-3</td>\n      <td>260.0</td>\n      <td>NaN</td>\n      <td>1000000.0</td>\n    </tr>\n    <tr>\n      <th>310</th>\n      <td>Tim Hardaway Jr.</td>\n      <td>Atlanta Hawks</td>\n      <td>10.0</td>\n      <td>SG</td>\n      <td>24.0</td>\n      <td>6-6</td>\n      <td>205.0</td>\n      <td>Michigan</td>\n      <td>1304520.0</td>\n    </tr>\n    <tr>\n      <th>321</th>\n      <td>Tiago Splitter</td>\n      <td>Atlanta Hawks</td>\n      <td>11.0</td>\n      <td>C</td>\n      <td>31.0</td>\n      <td>6-11</td>\n      <td>245.0</td>\n      <td>NaN</td>\n      <td>9756250.0</td>\n    </tr>\n  </tbody>\n</table>\n</div>"
          },
          "metadata": {}
        }
      ]
    },
    {
      "cell_type": "markdown",
      "source": "### Sort DataFrame with the .sort_index() Method",
      "metadata": {}
    },
    {
      "cell_type": "code",
      "source": "nba= pd.read_csv(\"nba.csv\")\nnba.head(3)",
      "metadata": {
        "trusted": true
      },
      "execution_count": 117,
      "outputs": [
        {
          "execution_count": 117,
          "output_type": "execute_result",
          "data": {
            "text/plain": "            Name            Team  Number Position   Age Height  Weight  \\\n0  Avery Bradley  Boston Celtics     0.0       PG  25.0    6-2   180.0   \n1    Jae Crowder  Boston Celtics    99.0       SF  25.0    6-6   235.0   \n2   John Holland  Boston Celtics    30.0       SG  27.0    6-5   205.0   \n\n             College     Salary  \n0              Texas  7730337.0  \n1          Marquette  6796117.0  \n2  Boston University        NaN  ",
            "text/html": "<div>\n<style scoped>\n    .dataframe tbody tr th:only-of-type {\n        vertical-align: middle;\n    }\n\n    .dataframe tbody tr th {\n        vertical-align: top;\n    }\n\n    .dataframe thead th {\n        text-align: right;\n    }\n</style>\n<table border=\"1\" class=\"dataframe\">\n  <thead>\n    <tr style=\"text-align: right;\">\n      <th></th>\n      <th>Name</th>\n      <th>Team</th>\n      <th>Number</th>\n      <th>Position</th>\n      <th>Age</th>\n      <th>Height</th>\n      <th>Weight</th>\n      <th>College</th>\n      <th>Salary</th>\n    </tr>\n  </thead>\n  <tbody>\n    <tr>\n      <th>0</th>\n      <td>Avery Bradley</td>\n      <td>Boston Celtics</td>\n      <td>0.0</td>\n      <td>PG</td>\n      <td>25.0</td>\n      <td>6-2</td>\n      <td>180.0</td>\n      <td>Texas</td>\n      <td>7730337.0</td>\n    </tr>\n    <tr>\n      <th>1</th>\n      <td>Jae Crowder</td>\n      <td>Boston Celtics</td>\n      <td>99.0</td>\n      <td>SF</td>\n      <td>25.0</td>\n      <td>6-6</td>\n      <td>235.0</td>\n      <td>Marquette</td>\n      <td>6796117.0</td>\n    </tr>\n    <tr>\n      <th>2</th>\n      <td>John Holland</td>\n      <td>Boston Celtics</td>\n      <td>30.0</td>\n      <td>SG</td>\n      <td>27.0</td>\n      <td>6-5</td>\n      <td>205.0</td>\n      <td>Boston University</td>\n      <td>NaN</td>\n    </tr>\n  </tbody>\n</table>\n</div>"
          },
          "metadata": {}
        }
      ]
    },
    {
      "cell_type": "code",
      "source": "nba.sort_values([\"Number\",\"Salary\",\"Name\"], inplace=True)\nnba.tail(3)",
      "metadata": {
        "trusted": true
      },
      "execution_count": 118,
      "outputs": [
        {
          "execution_count": 118,
          "output_type": "execute_result",
          "data": {
            "text/plain": "               Name             Team  Number Position   Age Height  Weight  \\\n68   Lucas Nogueira  Toronto Raptors    92.0        C  23.0    7-0   220.0   \n1       Jae Crowder   Boston Celtics    99.0       SF  25.0    6-6   235.0   \n457             NaN              NaN     NaN      NaN   NaN    NaN     NaN   \n\n       College     Salary  \n68         NaN  1842000.0  \n1    Marquette  6796117.0  \n457        NaN        NaN  ",
            "text/html": "<div>\n<style scoped>\n    .dataframe tbody tr th:only-of-type {\n        vertical-align: middle;\n    }\n\n    .dataframe tbody tr th {\n        vertical-align: top;\n    }\n\n    .dataframe thead th {\n        text-align: right;\n    }\n</style>\n<table border=\"1\" class=\"dataframe\">\n  <thead>\n    <tr style=\"text-align: right;\">\n      <th></th>\n      <th>Name</th>\n      <th>Team</th>\n      <th>Number</th>\n      <th>Position</th>\n      <th>Age</th>\n      <th>Height</th>\n      <th>Weight</th>\n      <th>College</th>\n      <th>Salary</th>\n    </tr>\n  </thead>\n  <tbody>\n    <tr>\n      <th>68</th>\n      <td>Lucas Nogueira</td>\n      <td>Toronto Raptors</td>\n      <td>92.0</td>\n      <td>C</td>\n      <td>23.0</td>\n      <td>7-0</td>\n      <td>220.0</td>\n      <td>NaN</td>\n      <td>1842000.0</td>\n    </tr>\n    <tr>\n      <th>1</th>\n      <td>Jae Crowder</td>\n      <td>Boston Celtics</td>\n      <td>99.0</td>\n      <td>SF</td>\n      <td>25.0</td>\n      <td>6-6</td>\n      <td>235.0</td>\n      <td>Marquette</td>\n      <td>6796117.0</td>\n    </tr>\n    <tr>\n      <th>457</th>\n      <td>NaN</td>\n      <td>NaN</td>\n      <td>NaN</td>\n      <td>NaN</td>\n      <td>NaN</td>\n      <td>NaN</td>\n      <td>NaN</td>\n      <td>NaN</td>\n      <td>NaN</td>\n    </tr>\n  </tbody>\n</table>\n</div>"
          },
          "metadata": {}
        }
      ]
    },
    {
      "cell_type": "code",
      "source": "nba.sort_index(inplace = True)\nnba",
      "metadata": {
        "trusted": true
      },
      "execution_count": 121,
      "outputs": [
        {
          "execution_count": 121,
          "output_type": "execute_result",
          "data": {
            "text/plain": "              Name            Team  Number Position   Age Height  Weight  \\\n0    Avery Bradley  Boston Celtics     0.0       PG  25.0    6-2   180.0   \n1      Jae Crowder  Boston Celtics    99.0       SF  25.0    6-6   235.0   \n2     John Holland  Boston Celtics    30.0       SG  27.0    6-5   205.0   \n3      R.J. Hunter  Boston Celtics    28.0       SG  22.0    6-5   185.0   \n4    Jonas Jerebko  Boston Celtics     8.0       PF  29.0   6-10   231.0   \n..             ...             ...     ...      ...   ...    ...     ...   \n453   Shelvin Mack       Utah Jazz     8.0       PG  26.0    6-3   203.0   \n454      Raul Neto       Utah Jazz    25.0       PG  24.0    6-1   179.0   \n455   Tibor Pleiss       Utah Jazz    21.0        C  26.0    7-3   256.0   \n456    Jeff Withey       Utah Jazz    24.0        C  26.0    7-0   231.0   \n457            NaN             NaN     NaN      NaN   NaN    NaN     NaN   \n\n               College     Salary  \n0                Texas  7730337.0  \n1            Marquette  6796117.0  \n2    Boston University        NaN  \n3        Georgia State  1148640.0  \n4                  NaN  5000000.0  \n..                 ...        ...  \n453             Butler  2433333.0  \n454                NaN   900000.0  \n455                NaN  2900000.0  \n456             Kansas   947276.0  \n457                NaN        NaN  \n\n[458 rows x 9 columns]",
            "text/html": "<div>\n<style scoped>\n    .dataframe tbody tr th:only-of-type {\n        vertical-align: middle;\n    }\n\n    .dataframe tbody tr th {\n        vertical-align: top;\n    }\n\n    .dataframe thead th {\n        text-align: right;\n    }\n</style>\n<table border=\"1\" class=\"dataframe\">\n  <thead>\n    <tr style=\"text-align: right;\">\n      <th></th>\n      <th>Name</th>\n      <th>Team</th>\n      <th>Number</th>\n      <th>Position</th>\n      <th>Age</th>\n      <th>Height</th>\n      <th>Weight</th>\n      <th>College</th>\n      <th>Salary</th>\n    </tr>\n  </thead>\n  <tbody>\n    <tr>\n      <th>0</th>\n      <td>Avery Bradley</td>\n      <td>Boston Celtics</td>\n      <td>0.0</td>\n      <td>PG</td>\n      <td>25.0</td>\n      <td>6-2</td>\n      <td>180.0</td>\n      <td>Texas</td>\n      <td>7730337.0</td>\n    </tr>\n    <tr>\n      <th>1</th>\n      <td>Jae Crowder</td>\n      <td>Boston Celtics</td>\n      <td>99.0</td>\n      <td>SF</td>\n      <td>25.0</td>\n      <td>6-6</td>\n      <td>235.0</td>\n      <td>Marquette</td>\n      <td>6796117.0</td>\n    </tr>\n    <tr>\n      <th>2</th>\n      <td>John Holland</td>\n      <td>Boston Celtics</td>\n      <td>30.0</td>\n      <td>SG</td>\n      <td>27.0</td>\n      <td>6-5</td>\n      <td>205.0</td>\n      <td>Boston University</td>\n      <td>NaN</td>\n    </tr>\n    <tr>\n      <th>3</th>\n      <td>R.J. Hunter</td>\n      <td>Boston Celtics</td>\n      <td>28.0</td>\n      <td>SG</td>\n      <td>22.0</td>\n      <td>6-5</td>\n      <td>185.0</td>\n      <td>Georgia State</td>\n      <td>1148640.0</td>\n    </tr>\n    <tr>\n      <th>4</th>\n      <td>Jonas Jerebko</td>\n      <td>Boston Celtics</td>\n      <td>8.0</td>\n      <td>PF</td>\n      <td>29.0</td>\n      <td>6-10</td>\n      <td>231.0</td>\n      <td>NaN</td>\n      <td>5000000.0</td>\n    </tr>\n    <tr>\n      <th>...</th>\n      <td>...</td>\n      <td>...</td>\n      <td>...</td>\n      <td>...</td>\n      <td>...</td>\n      <td>...</td>\n      <td>...</td>\n      <td>...</td>\n      <td>...</td>\n    </tr>\n    <tr>\n      <th>453</th>\n      <td>Shelvin Mack</td>\n      <td>Utah Jazz</td>\n      <td>8.0</td>\n      <td>PG</td>\n      <td>26.0</td>\n      <td>6-3</td>\n      <td>203.0</td>\n      <td>Butler</td>\n      <td>2433333.0</td>\n    </tr>\n    <tr>\n      <th>454</th>\n      <td>Raul Neto</td>\n      <td>Utah Jazz</td>\n      <td>25.0</td>\n      <td>PG</td>\n      <td>24.0</td>\n      <td>6-1</td>\n      <td>179.0</td>\n      <td>NaN</td>\n      <td>900000.0</td>\n    </tr>\n    <tr>\n      <th>455</th>\n      <td>Tibor Pleiss</td>\n      <td>Utah Jazz</td>\n      <td>21.0</td>\n      <td>C</td>\n      <td>26.0</td>\n      <td>7-3</td>\n      <td>256.0</td>\n      <td>NaN</td>\n      <td>2900000.0</td>\n    </tr>\n    <tr>\n      <th>456</th>\n      <td>Jeff Withey</td>\n      <td>Utah Jazz</td>\n      <td>24.0</td>\n      <td>C</td>\n      <td>26.0</td>\n      <td>7-0</td>\n      <td>231.0</td>\n      <td>Kansas</td>\n      <td>947276.0</td>\n    </tr>\n    <tr>\n      <th>457</th>\n      <td>NaN</td>\n      <td>NaN</td>\n      <td>NaN</td>\n      <td>NaN</td>\n      <td>NaN</td>\n      <td>NaN</td>\n      <td>NaN</td>\n      <td>NaN</td>\n      <td>NaN</td>\n    </tr>\n  </tbody>\n</table>\n<p>458 rows × 9 columns</p>\n</div>"
          },
          "metadata": {}
        }
      ]
    },
    {
      "cell_type": "markdown",
      "source": "### Rank Values with the .rank() Method",
      "metadata": {}
    },
    {
      "cell_type": "code",
      "source": "nba= pd.read_csv(\"nba.csv\")\nnba.head(3)",
      "metadata": {
        "trusted": true
      },
      "execution_count": 122,
      "outputs": [
        {
          "execution_count": 122,
          "output_type": "execute_result",
          "data": {
            "text/plain": "            Name            Team  Number Position   Age Height  Weight  \\\n0  Avery Bradley  Boston Celtics     0.0       PG  25.0    6-2   180.0   \n1    Jae Crowder  Boston Celtics    99.0       SF  25.0    6-6   235.0   \n2   John Holland  Boston Celtics    30.0       SG  27.0    6-5   205.0   \n\n             College     Salary  \n0              Texas  7730337.0  \n1          Marquette  6796117.0  \n2  Boston University        NaN  ",
            "text/html": "<div>\n<style scoped>\n    .dataframe tbody tr th:only-of-type {\n        vertical-align: middle;\n    }\n\n    .dataframe tbody tr th {\n        vertical-align: top;\n    }\n\n    .dataframe thead th {\n        text-align: right;\n    }\n</style>\n<table border=\"1\" class=\"dataframe\">\n  <thead>\n    <tr style=\"text-align: right;\">\n      <th></th>\n      <th>Name</th>\n      <th>Team</th>\n      <th>Number</th>\n      <th>Position</th>\n      <th>Age</th>\n      <th>Height</th>\n      <th>Weight</th>\n      <th>College</th>\n      <th>Salary</th>\n    </tr>\n  </thead>\n  <tbody>\n    <tr>\n      <th>0</th>\n      <td>Avery Bradley</td>\n      <td>Boston Celtics</td>\n      <td>0.0</td>\n      <td>PG</td>\n      <td>25.0</td>\n      <td>6-2</td>\n      <td>180.0</td>\n      <td>Texas</td>\n      <td>7730337.0</td>\n    </tr>\n    <tr>\n      <th>1</th>\n      <td>Jae Crowder</td>\n      <td>Boston Celtics</td>\n      <td>99.0</td>\n      <td>SF</td>\n      <td>25.0</td>\n      <td>6-6</td>\n      <td>235.0</td>\n      <td>Marquette</td>\n      <td>6796117.0</td>\n    </tr>\n    <tr>\n      <th>2</th>\n      <td>John Holland</td>\n      <td>Boston Celtics</td>\n      <td>30.0</td>\n      <td>SG</td>\n      <td>27.0</td>\n      <td>6-5</td>\n      <td>205.0</td>\n      <td>Boston University</td>\n      <td>NaN</td>\n    </tr>\n  </tbody>\n</table>\n</div>"
          },
          "metadata": {}
        }
      ]
    },
    {
      "cell_type": "code",
      "source": "nba.dropna(how=\"all\")\nnba[\"Salary\"] = nba[\"Salary\"].fillna(0).astype(\"int\")\nnba.head(3)",
      "metadata": {
        "trusted": true
      },
      "execution_count": 124,
      "outputs": [
        {
          "execution_count": 124,
          "output_type": "execute_result",
          "data": {
            "text/plain": "            Name            Team  Number Position   Age Height  Weight  \\\n0  Avery Bradley  Boston Celtics     0.0       PG  25.0    6-2   180.0   \n1    Jae Crowder  Boston Celtics    99.0       SF  25.0    6-6   235.0   \n2   John Holland  Boston Celtics    30.0       SG  27.0    6-5   205.0   \n\n             College   Salary  \n0              Texas  7730337  \n1          Marquette  6796117  \n2  Boston University        0  ",
            "text/html": "<div>\n<style scoped>\n    .dataframe tbody tr th:only-of-type {\n        vertical-align: middle;\n    }\n\n    .dataframe tbody tr th {\n        vertical-align: top;\n    }\n\n    .dataframe thead th {\n        text-align: right;\n    }\n</style>\n<table border=\"1\" class=\"dataframe\">\n  <thead>\n    <tr style=\"text-align: right;\">\n      <th></th>\n      <th>Name</th>\n      <th>Team</th>\n      <th>Number</th>\n      <th>Position</th>\n      <th>Age</th>\n      <th>Height</th>\n      <th>Weight</th>\n      <th>College</th>\n      <th>Salary</th>\n    </tr>\n  </thead>\n  <tbody>\n    <tr>\n      <th>0</th>\n      <td>Avery Bradley</td>\n      <td>Boston Celtics</td>\n      <td>0.0</td>\n      <td>PG</td>\n      <td>25.0</td>\n      <td>6-2</td>\n      <td>180.0</td>\n      <td>Texas</td>\n      <td>7730337</td>\n    </tr>\n    <tr>\n      <th>1</th>\n      <td>Jae Crowder</td>\n      <td>Boston Celtics</td>\n      <td>99.0</td>\n      <td>SF</td>\n      <td>25.0</td>\n      <td>6-6</td>\n      <td>235.0</td>\n      <td>Marquette</td>\n      <td>6796117</td>\n    </tr>\n    <tr>\n      <th>2</th>\n      <td>John Holland</td>\n      <td>Boston Celtics</td>\n      <td>30.0</td>\n      <td>SG</td>\n      <td>27.0</td>\n      <td>6-5</td>\n      <td>205.0</td>\n      <td>Boston University</td>\n      <td>0</td>\n    </tr>\n  </tbody>\n</table>\n</div>"
          },
          "metadata": {}
        }
      ]
    },
    {
      "cell_type": "code",
      "source": "nba[\"Salary Rank\"]= nba[\"Salary\"].rank(ascending= False).astype(\"int\")",
      "metadata": {
        "trusted": true
      },
      "execution_count": 129,
      "outputs": []
    },
    {
      "cell_type": "code",
      "source": "nba.sort_values(\"Salary\", ascending = False)",
      "metadata": {
        "trusted": true
      },
      "execution_count": 131,
      "outputs": [
        {
          "execution_count": 131,
          "output_type": "execute_result",
          "data": {
            "text/plain": "                Name                    Team  Number Position   Age Height  \\\n109      Kobe Bryant      Los Angeles Lakers    24.0       SF  37.0    6-6   \n169     LeBron James     Cleveland Cavaliers    23.0       SF  31.0    6-8   \n33   Carmelo Anthony         New York Knicks     7.0       SF  32.0    6-8   \n251    Dwight Howard         Houston Rockets    12.0        C  30.0   6-11   \n339       Chris Bosh              Miami Heat     1.0       PF  32.0   6-11   \n..               ...                     ...     ...      ...   ...    ...   \n269     Ray McCallum       Memphis Grizzlies     5.0       PG  24.0    6-3   \n409       Greg Smith  Minnesota Timberwolves     4.0       PF  25.0   6-10   \n2       John Holland          Boston Celtics    30.0       SG  27.0    6-5   \n264    Jordan Farmar       Memphis Grizzlies     4.0       PG  29.0    6-2   \n457              NaN                     NaN     NaN      NaN   NaN    NaN   \n\n     Weight            College    Salary  Salary Rank  \n109   212.0                NaN  25000000            1  \n169   250.0                NaN  22970500            2  \n33    240.0           Syracuse  22875000            3  \n251   265.0                NaN  22359364            4  \n339   235.0       Georgia Tech  22192730            5  \n..      ...                ...       ...          ...  \n269   190.0            Detroit         0          452  \n409   250.0       Fresno State         0          452  \n2     205.0  Boston University         0          452  \n264   180.0               UCLA         0          452  \n457     NaN                NaN         0          452  \n\n[458 rows x 10 columns]",
            "text/html": "<div>\n<style scoped>\n    .dataframe tbody tr th:only-of-type {\n        vertical-align: middle;\n    }\n\n    .dataframe tbody tr th {\n        vertical-align: top;\n    }\n\n    .dataframe thead th {\n        text-align: right;\n    }\n</style>\n<table border=\"1\" class=\"dataframe\">\n  <thead>\n    <tr style=\"text-align: right;\">\n      <th></th>\n      <th>Name</th>\n      <th>Team</th>\n      <th>Number</th>\n      <th>Position</th>\n      <th>Age</th>\n      <th>Height</th>\n      <th>Weight</th>\n      <th>College</th>\n      <th>Salary</th>\n      <th>Salary Rank</th>\n    </tr>\n  </thead>\n  <tbody>\n    <tr>\n      <th>109</th>\n      <td>Kobe Bryant</td>\n      <td>Los Angeles Lakers</td>\n      <td>24.0</td>\n      <td>SF</td>\n      <td>37.0</td>\n      <td>6-6</td>\n      <td>212.0</td>\n      <td>NaN</td>\n      <td>25000000</td>\n      <td>1</td>\n    </tr>\n    <tr>\n      <th>169</th>\n      <td>LeBron James</td>\n      <td>Cleveland Cavaliers</td>\n      <td>23.0</td>\n      <td>SF</td>\n      <td>31.0</td>\n      <td>6-8</td>\n      <td>250.0</td>\n      <td>NaN</td>\n      <td>22970500</td>\n      <td>2</td>\n    </tr>\n    <tr>\n      <th>33</th>\n      <td>Carmelo Anthony</td>\n      <td>New York Knicks</td>\n      <td>7.0</td>\n      <td>SF</td>\n      <td>32.0</td>\n      <td>6-8</td>\n      <td>240.0</td>\n      <td>Syracuse</td>\n      <td>22875000</td>\n      <td>3</td>\n    </tr>\n    <tr>\n      <th>251</th>\n      <td>Dwight Howard</td>\n      <td>Houston Rockets</td>\n      <td>12.0</td>\n      <td>C</td>\n      <td>30.0</td>\n      <td>6-11</td>\n      <td>265.0</td>\n      <td>NaN</td>\n      <td>22359364</td>\n      <td>4</td>\n    </tr>\n    <tr>\n      <th>339</th>\n      <td>Chris Bosh</td>\n      <td>Miami Heat</td>\n      <td>1.0</td>\n      <td>PF</td>\n      <td>32.0</td>\n      <td>6-11</td>\n      <td>235.0</td>\n      <td>Georgia Tech</td>\n      <td>22192730</td>\n      <td>5</td>\n    </tr>\n    <tr>\n      <th>...</th>\n      <td>...</td>\n      <td>...</td>\n      <td>...</td>\n      <td>...</td>\n      <td>...</td>\n      <td>...</td>\n      <td>...</td>\n      <td>...</td>\n      <td>...</td>\n      <td>...</td>\n    </tr>\n    <tr>\n      <th>269</th>\n      <td>Ray McCallum</td>\n      <td>Memphis Grizzlies</td>\n      <td>5.0</td>\n      <td>PG</td>\n      <td>24.0</td>\n      <td>6-3</td>\n      <td>190.0</td>\n      <td>Detroit</td>\n      <td>0</td>\n      <td>452</td>\n    </tr>\n    <tr>\n      <th>409</th>\n      <td>Greg Smith</td>\n      <td>Minnesota Timberwolves</td>\n      <td>4.0</td>\n      <td>PF</td>\n      <td>25.0</td>\n      <td>6-10</td>\n      <td>250.0</td>\n      <td>Fresno State</td>\n      <td>0</td>\n      <td>452</td>\n    </tr>\n    <tr>\n      <th>2</th>\n      <td>John Holland</td>\n      <td>Boston Celtics</td>\n      <td>30.0</td>\n      <td>SG</td>\n      <td>27.0</td>\n      <td>6-5</td>\n      <td>205.0</td>\n      <td>Boston University</td>\n      <td>0</td>\n      <td>452</td>\n    </tr>\n    <tr>\n      <th>264</th>\n      <td>Jordan Farmar</td>\n      <td>Memphis Grizzlies</td>\n      <td>4.0</td>\n      <td>PG</td>\n      <td>29.0</td>\n      <td>6-2</td>\n      <td>180.0</td>\n      <td>UCLA</td>\n      <td>0</td>\n      <td>452</td>\n    </tr>\n    <tr>\n      <th>457</th>\n      <td>NaN</td>\n      <td>NaN</td>\n      <td>NaN</td>\n      <td>NaN</td>\n      <td>NaN</td>\n      <td>NaN</td>\n      <td>NaN</td>\n      <td>NaN</td>\n      <td>0</td>\n      <td>452</td>\n    </tr>\n  </tbody>\n</table>\n<p>458 rows × 10 columns</p>\n</div>"
          },
          "metadata": {}
        }
      ]
    },
    {
      "cell_type": "code",
      "source": "",
      "metadata": {},
      "execution_count": null,
      "outputs": []
    }
  ]
}