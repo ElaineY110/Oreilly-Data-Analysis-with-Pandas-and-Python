{
  "metadata": {
    "language_info": {
      "codemirror_mode": {
        "name": "python",
        "version": 3
      },
      "file_extension": ".py",
      "mimetype": "text/x-python",
      "name": "python",
      "nbconvert_exporter": "python",
      "pygments_lexer": "ipython3",
      "version": "3.8"
    },
    "kernelspec": {
      "name": "python",
      "display_name": "Python (Pyodide)",
      "language": "python"
    }
  },
  "nbformat_minor": 4,
  "nbformat": 4,
  "cells": [
    {
      "cell_type": "markdown",
      "source": "# This Module's Dataset + Memory Optimization",
      "metadata": {}
    },
    {
      "cell_type": "code",
      "source": "import pandas as pd",
      "metadata": {
        "trusted": true
      },
      "execution_count": 1,
      "outputs": []
    },
    {
      "cell_type": "code",
      "source": "df = pd.read_csv(\"employees.csv\")\ndf.head(3)",
      "metadata": {
        "trusted": true
      },
      "execution_count": 3,
      "outputs": [
        {
          "execution_count": 3,
          "output_type": "execute_result",
          "data": {
            "text/plain": "  First Name  Gender Start Date Last Login Time  Salary  Bonus %  \\\n0    Douglas    Male   8/6/1993        12:42 PM   97308    6.945   \n1     Thomas    Male  3/31/1996         6:53 AM   61933    4.170   \n2      Maria  Female  4/23/1993        11:17 AM  130590   11.858   \n\n  Senior Management       Team  \n0              True  Marketing  \n1              True        NaN  \n2             False    Finance  ",
            "text/html": "<div>\n<style scoped>\n    .dataframe tbody tr th:only-of-type {\n        vertical-align: middle;\n    }\n\n    .dataframe tbody tr th {\n        vertical-align: top;\n    }\n\n    .dataframe thead th {\n        text-align: right;\n    }\n</style>\n<table border=\"1\" class=\"dataframe\">\n  <thead>\n    <tr style=\"text-align: right;\">\n      <th></th>\n      <th>First Name</th>\n      <th>Gender</th>\n      <th>Start Date</th>\n      <th>Last Login Time</th>\n      <th>Salary</th>\n      <th>Bonus %</th>\n      <th>Senior Management</th>\n      <th>Team</th>\n    </tr>\n  </thead>\n  <tbody>\n    <tr>\n      <th>0</th>\n      <td>Douglas</td>\n      <td>Male</td>\n      <td>8/6/1993</td>\n      <td>12:42 PM</td>\n      <td>97308</td>\n      <td>6.945</td>\n      <td>True</td>\n      <td>Marketing</td>\n    </tr>\n    <tr>\n      <th>1</th>\n      <td>Thomas</td>\n      <td>Male</td>\n      <td>3/31/1996</td>\n      <td>6:53 AM</td>\n      <td>61933</td>\n      <td>4.170</td>\n      <td>True</td>\n      <td>NaN</td>\n    </tr>\n    <tr>\n      <th>2</th>\n      <td>Maria</td>\n      <td>Female</td>\n      <td>4/23/1993</td>\n      <td>11:17 AM</td>\n      <td>130590</td>\n      <td>11.858</td>\n      <td>False</td>\n      <td>Finance</td>\n    </tr>\n  </tbody>\n</table>\n</div>"
          },
          "metadata": {}
        }
      ]
    },
    {
      "cell_type": "code",
      "source": "df.info()",
      "metadata": {
        "trusted": true
      },
      "execution_count": 5,
      "outputs": [
        {
          "name": "stdout",
          "text": "<class 'pandas.core.frame.DataFrame'>\nRangeIndex: 1000 entries, 0 to 999\nData columns (total 8 columns):\n #   Column             Non-Null Count  Dtype  \n---  ------             --------------  -----  \n 0   First Name         933 non-null    object \n 1   Gender             855 non-null    object \n 2   Start Date         1000 non-null   object \n 3   Last Login Time    1000 non-null   object \n 4   Salary             1000 non-null   int64  \n 5   Bonus %            1000 non-null   float64\n 6   Senior Management  933 non-null    object \n 7   Team               957 non-null    object \ndtypes: float64(1), int64(1), object(6)\nmemory usage: 39.1+ KB\n",
          "output_type": "stream"
        }
      ]
    },
    {
      "cell_type": "code",
      "source": "df[\"Start Date\"] = pd.to_datetime(df[\"Start Date\"])\ndf.head(3)",
      "metadata": {
        "trusted": true
      },
      "execution_count": 7,
      "outputs": [
        {
          "execution_count": 7,
          "output_type": "execute_result",
          "data": {
            "text/plain": "  First Name  Gender Start Date Last Login Time  Salary  Bonus %  \\\n0    Douglas    Male 1993-08-06        12:42 PM   97308    6.945   \n1     Thomas    Male 1996-03-31         6:53 AM   61933    4.170   \n2      Maria  Female 1993-04-23        11:17 AM  130590   11.858   \n\n  Senior Management       Team  \n0              True  Marketing  \n1              True        NaN  \n2             False    Finance  ",
            "text/html": "<div>\n<style scoped>\n    .dataframe tbody tr th:only-of-type {\n        vertical-align: middle;\n    }\n\n    .dataframe tbody tr th {\n        vertical-align: top;\n    }\n\n    .dataframe thead th {\n        text-align: right;\n    }\n</style>\n<table border=\"1\" class=\"dataframe\">\n  <thead>\n    <tr style=\"text-align: right;\">\n      <th></th>\n      <th>First Name</th>\n      <th>Gender</th>\n      <th>Start Date</th>\n      <th>Last Login Time</th>\n      <th>Salary</th>\n      <th>Bonus %</th>\n      <th>Senior Management</th>\n      <th>Team</th>\n    </tr>\n  </thead>\n  <tbody>\n    <tr>\n      <th>0</th>\n      <td>Douglas</td>\n      <td>Male</td>\n      <td>1993-08-06</td>\n      <td>12:42 PM</td>\n      <td>97308</td>\n      <td>6.945</td>\n      <td>True</td>\n      <td>Marketing</td>\n    </tr>\n    <tr>\n      <th>1</th>\n      <td>Thomas</td>\n      <td>Male</td>\n      <td>1996-03-31</td>\n      <td>6:53 AM</td>\n      <td>61933</td>\n      <td>4.170</td>\n      <td>True</td>\n      <td>NaN</td>\n    </tr>\n    <tr>\n      <th>2</th>\n      <td>Maria</td>\n      <td>Female</td>\n      <td>1993-04-23</td>\n      <td>11:17 AM</td>\n      <td>130590</td>\n      <td>11.858</td>\n      <td>False</td>\n      <td>Finance</td>\n    </tr>\n  </tbody>\n</table>\n</div>"
          },
          "metadata": {}
        }
      ]
    },
    {
      "cell_type": "code",
      "source": "df[\"Last Login Time\"] = pd.to_datetime(df[\"Last Login Time\"])\ndf.head(3)",
      "metadata": {
        "trusted": true
      },
      "execution_count": 8,
      "outputs": [
        {
          "execution_count": 8,
          "output_type": "execute_result",
          "data": {
            "text/plain": "  First Name  Gender Start Date     Last Login Time  Salary  Bonus %  \\\n0    Douglas    Male 1993-08-06 2022-10-16 12:42:00   97308    6.945   \n1     Thomas    Male 1996-03-31 2022-10-16 06:53:00   61933    4.170   \n2      Maria  Female 1993-04-23 2022-10-16 11:17:00  130590   11.858   \n\n  Senior Management       Team  \n0              True  Marketing  \n1              True        NaN  \n2             False    Finance  ",
            "text/html": "<div>\n<style scoped>\n    .dataframe tbody tr th:only-of-type {\n        vertical-align: middle;\n    }\n\n    .dataframe tbody tr th {\n        vertical-align: top;\n    }\n\n    .dataframe thead th {\n        text-align: right;\n    }\n</style>\n<table border=\"1\" class=\"dataframe\">\n  <thead>\n    <tr style=\"text-align: right;\">\n      <th></th>\n      <th>First Name</th>\n      <th>Gender</th>\n      <th>Start Date</th>\n      <th>Last Login Time</th>\n      <th>Salary</th>\n      <th>Bonus %</th>\n      <th>Senior Management</th>\n      <th>Team</th>\n    </tr>\n  </thead>\n  <tbody>\n    <tr>\n      <th>0</th>\n      <td>Douglas</td>\n      <td>Male</td>\n      <td>1993-08-06</td>\n      <td>2022-10-16 12:42:00</td>\n      <td>97308</td>\n      <td>6.945</td>\n      <td>True</td>\n      <td>Marketing</td>\n    </tr>\n    <tr>\n      <th>1</th>\n      <td>Thomas</td>\n      <td>Male</td>\n      <td>1996-03-31</td>\n      <td>2022-10-16 06:53:00</td>\n      <td>61933</td>\n      <td>4.170</td>\n      <td>True</td>\n      <td>NaN</td>\n    </tr>\n    <tr>\n      <th>2</th>\n      <td>Maria</td>\n      <td>Female</td>\n      <td>1993-04-23</td>\n      <td>2022-10-16 11:17:00</td>\n      <td>130590</td>\n      <td>11.858</td>\n      <td>False</td>\n      <td>Finance</td>\n    </tr>\n  </tbody>\n</table>\n</div>"
          },
          "metadata": {}
        }
      ]
    },
    {
      "cell_type": "code",
      "source": "df[\"Senior Management\"] = df[\"Senior Management\"].astype(\"bool\")\ndf[\"Gender\"] = df[\"Gender\"].astype(\"category\")\ndf.info()",
      "metadata": {
        "trusted": true
      },
      "execution_count": 16,
      "outputs": [
        {
          "name": "stdout",
          "text": "<class 'pandas.core.frame.DataFrame'>\nRangeIndex: 1000 entries, 0 to 999\nData columns (total 8 columns):\n #   Column             Non-Null Count  Dtype         \n---  ------             --------------  -----         \n 0   First Name         933 non-null    object        \n 1   Gender             855 non-null    category      \n 2   Start Date         1000 non-null   datetime64[ns]\n 3   Last Login Time    1000 non-null   datetime64[ns]\n 4   Salary             1000 non-null   int64         \n 5   Bonus %            1000 non-null   float64       \n 6   Senior Management  1000 non-null   bool          \n 7   Team               957 non-null    object        \ndtypes: bool(1), category(1), datetime64[ns](2), float64(1), int64(1), object(2)\nmemory usage: 41.2+ KB\n",
          "output_type": "stream"
        }
      ]
    },
    {
      "cell_type": "code",
      "source": "df = pd.read_csv(\"employees.csv\", parse_dates = [\"Start Date\",\"Last Login Time\"])\n## df[\"Start Date\"] = pd.to_datetime(df[\"Start Date\"])\n## df[\"Last Login Time\"] = pd.to_datetime(df[\"Last Login Time\"])\ndf[\"Senior Management\"] = df[\"Senior Management\"].astype(\"bool\")\ndf[\"Gender\"] = df[\"Gender\"].astype(\"category\")\ndf.head(3)",
      "metadata": {
        "trusted": true
      },
      "execution_count": 18,
      "outputs": [
        {
          "execution_count": 18,
          "output_type": "execute_result",
          "data": {
            "text/plain": "  First Name  Gender Start Date     Last Login Time  Salary  Bonus %  \\\n0    Douglas    Male 1993-08-06 2022-10-16 12:42:00   97308    6.945   \n1     Thomas    Male 1996-03-31 2022-10-16 06:53:00   61933    4.170   \n2      Maria  Female 1993-04-23 2022-10-16 11:17:00  130590   11.858   \n\n   Senior Management       Team  \n0               True  Marketing  \n1               True        NaN  \n2              False    Finance  ",
            "text/html": "<div>\n<style scoped>\n    .dataframe tbody tr th:only-of-type {\n        vertical-align: middle;\n    }\n\n    .dataframe tbody tr th {\n        vertical-align: top;\n    }\n\n    .dataframe thead th {\n        text-align: right;\n    }\n</style>\n<table border=\"1\" class=\"dataframe\">\n  <thead>\n    <tr style=\"text-align: right;\">\n      <th></th>\n      <th>First Name</th>\n      <th>Gender</th>\n      <th>Start Date</th>\n      <th>Last Login Time</th>\n      <th>Salary</th>\n      <th>Bonus %</th>\n      <th>Senior Management</th>\n      <th>Team</th>\n    </tr>\n  </thead>\n  <tbody>\n    <tr>\n      <th>0</th>\n      <td>Douglas</td>\n      <td>Male</td>\n      <td>1993-08-06</td>\n      <td>2022-10-16 12:42:00</td>\n      <td>97308</td>\n      <td>6.945</td>\n      <td>True</td>\n      <td>Marketing</td>\n    </tr>\n    <tr>\n      <th>1</th>\n      <td>Thomas</td>\n      <td>Male</td>\n      <td>1996-03-31</td>\n      <td>2022-10-16 06:53:00</td>\n      <td>61933</td>\n      <td>4.170</td>\n      <td>True</td>\n      <td>NaN</td>\n    </tr>\n    <tr>\n      <th>2</th>\n      <td>Maria</td>\n      <td>Female</td>\n      <td>1993-04-23</td>\n      <td>2022-10-16 11:17:00</td>\n      <td>130590</td>\n      <td>11.858</td>\n      <td>False</td>\n      <td>Finance</td>\n    </tr>\n  </tbody>\n</table>\n</div>"
          },
          "metadata": {}
        }
      ]
    },
    {
      "cell_type": "markdown",
      "source": "# Filter a DataFrame Based On a Condition",
      "metadata": {}
    },
    {
      "cell_type": "code",
      "source": "df[\"Gender\"]",
      "metadata": {
        "trusted": true
      },
      "execution_count": 19,
      "outputs": [
        {
          "execution_count": 19,
          "output_type": "execute_result",
          "data": {
            "text/plain": "0        Male\n1        Male\n2      Female\n3        Male\n4        Male\n        ...  \n995       NaN\n996      Male\n997      Male\n998      Male\n999      Male\nName: Gender, Length: 1000, dtype: category\nCategories (2, object): ['Female', 'Male']"
          },
          "metadata": {}
        }
      ]
    },
    {
      "cell_type": "code",
      "source": "df[df[\"Gender\"] == \"Male\"]\n#remeber == is to filter, = is to assign value",
      "metadata": {
        "collapsed": true,
        "jupyter": {
          "outputs_hidden": true
        },
        "tags": [],
        "trusted": true
      },
      "execution_count": 21,
      "outputs": [
        {
          "execution_count": 21,
          "output_type": "execute_result",
          "data": {
            "text/plain": "    First Name Gender Start Date     Last Login Time  Salary  Bonus %  \\\n0      Douglas   Male 1993-08-06 2022-10-16 12:42:00   97308    6.945   \n1       Thomas   Male 1996-03-31 2022-10-16 06:53:00   61933    4.170   \n3        Jerry   Male 2005-03-04 2022-10-16 13:00:00  138705    9.340   \n4        Larry   Male 1998-01-24 2022-10-16 16:47:00  101004    1.389   \n5       Dennis   Male 1987-04-18 2022-10-16 01:35:00  115163   10.125   \n..         ...    ...        ...                 ...     ...      ...   \n994     George   Male 2013-06-21 2022-10-16 17:47:00   98874    4.479   \n996    Phillip   Male 1984-01-31 2022-10-16 06:30:00   42392   19.675   \n997    Russell   Male 2013-05-20 2022-10-16 12:39:00   96914    1.421   \n998      Larry   Male 2013-04-20 2022-10-16 16:45:00   60500   11.985   \n999     Albert   Male 2012-05-15 2022-10-16 18:24:00  129949   10.169   \n\n     Senior Management                  Team  \n0                 True             Marketing  \n1                 True                   NaN  \n3                 True               Finance  \n4                 True       Client Services  \n5                False                 Legal  \n..                 ...                   ...  \n994               True             Marketing  \n996              False               Finance  \n997              False               Product  \n998              False  Business Development  \n999               True                 Sales  \n\n[424 rows x 8 columns]",
            "text/html": "<div>\n<style scoped>\n    .dataframe tbody tr th:only-of-type {\n        vertical-align: middle;\n    }\n\n    .dataframe tbody tr th {\n        vertical-align: top;\n    }\n\n    .dataframe thead th {\n        text-align: right;\n    }\n</style>\n<table border=\"1\" class=\"dataframe\">\n  <thead>\n    <tr style=\"text-align: right;\">\n      <th></th>\n      <th>First Name</th>\n      <th>Gender</th>\n      <th>Start Date</th>\n      <th>Last Login Time</th>\n      <th>Salary</th>\n      <th>Bonus %</th>\n      <th>Senior Management</th>\n      <th>Team</th>\n    </tr>\n  </thead>\n  <tbody>\n    <tr>\n      <th>0</th>\n      <td>Douglas</td>\n      <td>Male</td>\n      <td>1993-08-06</td>\n      <td>2022-10-16 12:42:00</td>\n      <td>97308</td>\n      <td>6.945</td>\n      <td>True</td>\n      <td>Marketing</td>\n    </tr>\n    <tr>\n      <th>1</th>\n      <td>Thomas</td>\n      <td>Male</td>\n      <td>1996-03-31</td>\n      <td>2022-10-16 06:53:00</td>\n      <td>61933</td>\n      <td>4.170</td>\n      <td>True</td>\n      <td>NaN</td>\n    </tr>\n    <tr>\n      <th>3</th>\n      <td>Jerry</td>\n      <td>Male</td>\n      <td>2005-03-04</td>\n      <td>2022-10-16 13:00:00</td>\n      <td>138705</td>\n      <td>9.340</td>\n      <td>True</td>\n      <td>Finance</td>\n    </tr>\n    <tr>\n      <th>4</th>\n      <td>Larry</td>\n      <td>Male</td>\n      <td>1998-01-24</td>\n      <td>2022-10-16 16:47:00</td>\n      <td>101004</td>\n      <td>1.389</td>\n      <td>True</td>\n      <td>Client Services</td>\n    </tr>\n    <tr>\n      <th>5</th>\n      <td>Dennis</td>\n      <td>Male</td>\n      <td>1987-04-18</td>\n      <td>2022-10-16 01:35:00</td>\n      <td>115163</td>\n      <td>10.125</td>\n      <td>False</td>\n      <td>Legal</td>\n    </tr>\n    <tr>\n      <th>...</th>\n      <td>...</td>\n      <td>...</td>\n      <td>...</td>\n      <td>...</td>\n      <td>...</td>\n      <td>...</td>\n      <td>...</td>\n      <td>...</td>\n    </tr>\n    <tr>\n      <th>994</th>\n      <td>George</td>\n      <td>Male</td>\n      <td>2013-06-21</td>\n      <td>2022-10-16 17:47:00</td>\n      <td>98874</td>\n      <td>4.479</td>\n      <td>True</td>\n      <td>Marketing</td>\n    </tr>\n    <tr>\n      <th>996</th>\n      <td>Phillip</td>\n      <td>Male</td>\n      <td>1984-01-31</td>\n      <td>2022-10-16 06:30:00</td>\n      <td>42392</td>\n      <td>19.675</td>\n      <td>False</td>\n      <td>Finance</td>\n    </tr>\n    <tr>\n      <th>997</th>\n      <td>Russell</td>\n      <td>Male</td>\n      <td>2013-05-20</td>\n      <td>2022-10-16 12:39:00</td>\n      <td>96914</td>\n      <td>1.421</td>\n      <td>False</td>\n      <td>Product</td>\n    </tr>\n    <tr>\n      <th>998</th>\n      <td>Larry</td>\n      <td>Male</td>\n      <td>2013-04-20</td>\n      <td>2022-10-16 16:45:00</td>\n      <td>60500</td>\n      <td>11.985</td>\n      <td>False</td>\n      <td>Business Development</td>\n    </tr>\n    <tr>\n      <th>999</th>\n      <td>Albert</td>\n      <td>Male</td>\n      <td>2012-05-15</td>\n      <td>2022-10-16 18:24:00</td>\n      <td>129949</td>\n      <td>10.169</td>\n      <td>True</td>\n      <td>Sales</td>\n    </tr>\n  </tbody>\n</table>\n<p>424 rows × 8 columns</p>\n</div>"
          },
          "metadata": {}
        }
      ]
    },
    {
      "cell_type": "code",
      "source": "df[df[\"Team\"] == \"Finance\"].head(3)",
      "metadata": {
        "trusted": true
      },
      "execution_count": 34,
      "outputs": [
        {
          "execution_count": 34,
          "output_type": "execute_result",
          "data": {
            "text/plain": "  First Name  Gender Start Date     Last Login Time  Salary  Bonus %  \\\n2      Maria  Female 1993-04-23 2022-10-16 11:17:00  130590   11.858   \n3      Jerry    Male 2005-03-04 2022-10-16 13:00:00  138705    9.340   \n7        NaN  Female 2015-07-20 2022-10-16 10:43:00   45906   11.598   \n\n   Senior Management     Team  \n2              False  Finance  \n3               True  Finance  \n7               True  Finance  ",
            "text/html": "<div>\n<style scoped>\n    .dataframe tbody tr th:only-of-type {\n        vertical-align: middle;\n    }\n\n    .dataframe tbody tr th {\n        vertical-align: top;\n    }\n\n    .dataframe thead th {\n        text-align: right;\n    }\n</style>\n<table border=\"1\" class=\"dataframe\">\n  <thead>\n    <tr style=\"text-align: right;\">\n      <th></th>\n      <th>First Name</th>\n      <th>Gender</th>\n      <th>Start Date</th>\n      <th>Last Login Time</th>\n      <th>Salary</th>\n      <th>Bonus %</th>\n      <th>Senior Management</th>\n      <th>Team</th>\n    </tr>\n  </thead>\n  <tbody>\n    <tr>\n      <th>2</th>\n      <td>Maria</td>\n      <td>Female</td>\n      <td>1993-04-23</td>\n      <td>2022-10-16 11:17:00</td>\n      <td>130590</td>\n      <td>11.858</td>\n      <td>False</td>\n      <td>Finance</td>\n    </tr>\n    <tr>\n      <th>3</th>\n      <td>Jerry</td>\n      <td>Male</td>\n      <td>2005-03-04</td>\n      <td>2022-10-16 13:00:00</td>\n      <td>138705</td>\n      <td>9.340</td>\n      <td>True</td>\n      <td>Finance</td>\n    </tr>\n    <tr>\n      <th>7</th>\n      <td>NaN</td>\n      <td>Female</td>\n      <td>2015-07-20</td>\n      <td>2022-10-16 10:43:00</td>\n      <td>45906</td>\n      <td>11.598</td>\n      <td>True</td>\n      <td>Finance</td>\n    </tr>\n  </tbody>\n</table>\n</div>"
          },
          "metadata": {}
        }
      ]
    },
    {
      "cell_type": "code",
      "source": "mask = df[\"Team\"] == \"Finance\"\ndf[mask].head(3)",
      "metadata": {
        "trusted": true
      },
      "execution_count": 33,
      "outputs": [
        {
          "execution_count": 33,
          "output_type": "execute_result",
          "data": {
            "text/plain": "  First Name  Gender Start Date     Last Login Time  Salary  Bonus %  \\\n2      Maria  Female 1993-04-23 2022-10-16 11:17:00  130590   11.858   \n3      Jerry    Male 2005-03-04 2022-10-16 13:00:00  138705    9.340   \n7        NaN  Female 2015-07-20 2022-10-16 10:43:00   45906   11.598   \n\n   Senior Management     Team  \n2              False  Finance  \n3               True  Finance  \n7               True  Finance  ",
            "text/html": "<div>\n<style scoped>\n    .dataframe tbody tr th:only-of-type {\n        vertical-align: middle;\n    }\n\n    .dataframe tbody tr th {\n        vertical-align: top;\n    }\n\n    .dataframe thead th {\n        text-align: right;\n    }\n</style>\n<table border=\"1\" class=\"dataframe\">\n  <thead>\n    <tr style=\"text-align: right;\">\n      <th></th>\n      <th>First Name</th>\n      <th>Gender</th>\n      <th>Start Date</th>\n      <th>Last Login Time</th>\n      <th>Salary</th>\n      <th>Bonus %</th>\n      <th>Senior Management</th>\n      <th>Team</th>\n    </tr>\n  </thead>\n  <tbody>\n    <tr>\n      <th>2</th>\n      <td>Maria</td>\n      <td>Female</td>\n      <td>1993-04-23</td>\n      <td>2022-10-16 11:17:00</td>\n      <td>130590</td>\n      <td>11.858</td>\n      <td>False</td>\n      <td>Finance</td>\n    </tr>\n    <tr>\n      <th>3</th>\n      <td>Jerry</td>\n      <td>Male</td>\n      <td>2005-03-04</td>\n      <td>2022-10-16 13:00:00</td>\n      <td>138705</td>\n      <td>9.340</td>\n      <td>True</td>\n      <td>Finance</td>\n    </tr>\n    <tr>\n      <th>7</th>\n      <td>NaN</td>\n      <td>Female</td>\n      <td>2015-07-20</td>\n      <td>2022-10-16 10:43:00</td>\n      <td>45906</td>\n      <td>11.598</td>\n      <td>True</td>\n      <td>Finance</td>\n    </tr>\n  </tbody>\n</table>\n</div>"
          },
          "metadata": {}
        }
      ]
    },
    {
      "cell_type": "code",
      "source": "df[df[\"Senior Management\"]].head(3)\n# for boolens, it will anyway default true",
      "metadata": {
        "trusted": true
      },
      "execution_count": 32,
      "outputs": [
        {
          "execution_count": 32,
          "output_type": "execute_result",
          "data": {
            "text/plain": "  First Name Gender Start Date     Last Login Time  Salary  Bonus %  \\\n0    Douglas   Male 1993-08-06 2022-10-16 12:42:00   97308    6.945   \n1     Thomas   Male 1996-03-31 2022-10-16 06:53:00   61933    4.170   \n3      Jerry   Male 2005-03-04 2022-10-16 13:00:00  138705    9.340   \n\n   Senior Management       Team  \n0               True  Marketing  \n1               True        NaN  \n3               True    Finance  ",
            "text/html": "<div>\n<style scoped>\n    .dataframe tbody tr th:only-of-type {\n        vertical-align: middle;\n    }\n\n    .dataframe tbody tr th {\n        vertical-align: top;\n    }\n\n    .dataframe thead th {\n        text-align: right;\n    }\n</style>\n<table border=\"1\" class=\"dataframe\">\n  <thead>\n    <tr style=\"text-align: right;\">\n      <th></th>\n      <th>First Name</th>\n      <th>Gender</th>\n      <th>Start Date</th>\n      <th>Last Login Time</th>\n      <th>Salary</th>\n      <th>Bonus %</th>\n      <th>Senior Management</th>\n      <th>Team</th>\n    </tr>\n  </thead>\n  <tbody>\n    <tr>\n      <th>0</th>\n      <td>Douglas</td>\n      <td>Male</td>\n      <td>1993-08-06</td>\n      <td>2022-10-16 12:42:00</td>\n      <td>97308</td>\n      <td>6.945</td>\n      <td>True</td>\n      <td>Marketing</td>\n    </tr>\n    <tr>\n      <th>1</th>\n      <td>Thomas</td>\n      <td>Male</td>\n      <td>1996-03-31</td>\n      <td>2022-10-16 06:53:00</td>\n      <td>61933</td>\n      <td>4.170</td>\n      <td>True</td>\n      <td>NaN</td>\n    </tr>\n    <tr>\n      <th>3</th>\n      <td>Jerry</td>\n      <td>Male</td>\n      <td>2005-03-04</td>\n      <td>2022-10-16 13:00:00</td>\n      <td>138705</td>\n      <td>9.340</td>\n      <td>True</td>\n      <td>Finance</td>\n    </tr>\n  </tbody>\n</table>\n</div>"
          },
          "metadata": {}
        }
      ]
    },
    {
      "cell_type": "code",
      "source": "df[df[\"Team\"] != \"Marketing\"].head(3)",
      "metadata": {
        "trusted": true
      },
      "execution_count": 35,
      "outputs": [
        {
          "execution_count": 35,
          "output_type": "execute_result",
          "data": {
            "text/plain": "  First Name  Gender Start Date     Last Login Time  Salary  Bonus %  \\\n1     Thomas    Male 1996-03-31 2022-10-16 06:53:00   61933    4.170   \n2      Maria  Female 1993-04-23 2022-10-16 11:17:00  130590   11.858   \n3      Jerry    Male 2005-03-04 2022-10-16 13:00:00  138705    9.340   \n\n   Senior Management     Team  \n1               True      NaN  \n2              False  Finance  \n3               True  Finance  ",
            "text/html": "<div>\n<style scoped>\n    .dataframe tbody tr th:only-of-type {\n        vertical-align: middle;\n    }\n\n    .dataframe tbody tr th {\n        vertical-align: top;\n    }\n\n    .dataframe thead th {\n        text-align: right;\n    }\n</style>\n<table border=\"1\" class=\"dataframe\">\n  <thead>\n    <tr style=\"text-align: right;\">\n      <th></th>\n      <th>First Name</th>\n      <th>Gender</th>\n      <th>Start Date</th>\n      <th>Last Login Time</th>\n      <th>Salary</th>\n      <th>Bonus %</th>\n      <th>Senior Management</th>\n      <th>Team</th>\n    </tr>\n  </thead>\n  <tbody>\n    <tr>\n      <th>1</th>\n      <td>Thomas</td>\n      <td>Male</td>\n      <td>1996-03-31</td>\n      <td>2022-10-16 06:53:00</td>\n      <td>61933</td>\n      <td>4.170</td>\n      <td>True</td>\n      <td>NaN</td>\n    </tr>\n    <tr>\n      <th>2</th>\n      <td>Maria</td>\n      <td>Female</td>\n      <td>1993-04-23</td>\n      <td>2022-10-16 11:17:00</td>\n      <td>130590</td>\n      <td>11.858</td>\n      <td>False</td>\n      <td>Finance</td>\n    </tr>\n    <tr>\n      <th>3</th>\n      <td>Jerry</td>\n      <td>Male</td>\n      <td>2005-03-04</td>\n      <td>2022-10-16 13:00:00</td>\n      <td>138705</td>\n      <td>9.340</td>\n      <td>True</td>\n      <td>Finance</td>\n    </tr>\n  </tbody>\n</table>\n</div>"
          },
          "metadata": {}
        }
      ]
    },
    {
      "cell_type": "code",
      "source": "df[df[\"Salary\"] > 110000].head(3)",
      "metadata": {
        "trusted": true
      },
      "execution_count": 38,
      "outputs": [
        {
          "execution_count": 38,
          "output_type": "execute_result",
          "data": {
            "text/plain": "  First Name  Gender Start Date     Last Login Time  Salary  Bonus %  \\\n2      Maria  Female 1993-04-23 2022-10-16 11:17:00  130590   11.858   \n3      Jerry    Male 2005-03-04 2022-10-16 13:00:00  138705    9.340   \n5     Dennis    Male 1987-04-18 2022-10-16 01:35:00  115163   10.125   \n\n   Senior Management     Team  \n2              False  Finance  \n3               True  Finance  \n5              False    Legal  ",
            "text/html": "<div>\n<style scoped>\n    .dataframe tbody tr th:only-of-type {\n        vertical-align: middle;\n    }\n\n    .dataframe tbody tr th {\n        vertical-align: top;\n    }\n\n    .dataframe thead th {\n        text-align: right;\n    }\n</style>\n<table border=\"1\" class=\"dataframe\">\n  <thead>\n    <tr style=\"text-align: right;\">\n      <th></th>\n      <th>First Name</th>\n      <th>Gender</th>\n      <th>Start Date</th>\n      <th>Last Login Time</th>\n      <th>Salary</th>\n      <th>Bonus %</th>\n      <th>Senior Management</th>\n      <th>Team</th>\n    </tr>\n  </thead>\n  <tbody>\n    <tr>\n      <th>2</th>\n      <td>Maria</td>\n      <td>Female</td>\n      <td>1993-04-23</td>\n      <td>2022-10-16 11:17:00</td>\n      <td>130590</td>\n      <td>11.858</td>\n      <td>False</td>\n      <td>Finance</td>\n    </tr>\n    <tr>\n      <th>3</th>\n      <td>Jerry</td>\n      <td>Male</td>\n      <td>2005-03-04</td>\n      <td>2022-10-16 13:00:00</td>\n      <td>138705</td>\n      <td>9.340</td>\n      <td>True</td>\n      <td>Finance</td>\n    </tr>\n    <tr>\n      <th>5</th>\n      <td>Dennis</td>\n      <td>Male</td>\n      <td>1987-04-18</td>\n      <td>2022-10-16 01:35:00</td>\n      <td>115163</td>\n      <td>10.125</td>\n      <td>False</td>\n      <td>Legal</td>\n    </tr>\n  </tbody>\n</table>\n</div>"
          },
          "metadata": {}
        }
      ]
    },
    {
      "cell_type": "code",
      "source": "df[df[\"Bonus %\"] < 1.5].head(3)",
      "metadata": {
        "trusted": true
      },
      "execution_count": 39,
      "outputs": [
        {
          "execution_count": 39,
          "output_type": "execute_result",
          "data": {
            "text/plain": "   First Name  Gender Start Date     Last Login Time  Salary  Bonus %  \\\n4       Larry    Male 1998-01-24 2022-10-16 16:47:00  101004    1.389   \n15    Lillian  Female 2016-06-05 2022-10-16 06:09:00   59414    1.256   \n58    Theresa  Female 2010-04-11 2022-10-16 07:18:00   72670    1.481   \n\n    Senior Management             Team  \n4                True  Client Services  \n15              False          Product  \n58               True      Engineering  ",
            "text/html": "<div>\n<style scoped>\n    .dataframe tbody tr th:only-of-type {\n        vertical-align: middle;\n    }\n\n    .dataframe tbody tr th {\n        vertical-align: top;\n    }\n\n    .dataframe thead th {\n        text-align: right;\n    }\n</style>\n<table border=\"1\" class=\"dataframe\">\n  <thead>\n    <tr style=\"text-align: right;\">\n      <th></th>\n      <th>First Name</th>\n      <th>Gender</th>\n      <th>Start Date</th>\n      <th>Last Login Time</th>\n      <th>Salary</th>\n      <th>Bonus %</th>\n      <th>Senior Management</th>\n      <th>Team</th>\n    </tr>\n  </thead>\n  <tbody>\n    <tr>\n      <th>4</th>\n      <td>Larry</td>\n      <td>Male</td>\n      <td>1998-01-24</td>\n      <td>2022-10-16 16:47:00</td>\n      <td>101004</td>\n      <td>1.389</td>\n      <td>True</td>\n      <td>Client Services</td>\n    </tr>\n    <tr>\n      <th>15</th>\n      <td>Lillian</td>\n      <td>Female</td>\n      <td>2016-06-05</td>\n      <td>2022-10-16 06:09:00</td>\n      <td>59414</td>\n      <td>1.256</td>\n      <td>False</td>\n      <td>Product</td>\n    </tr>\n    <tr>\n      <th>58</th>\n      <td>Theresa</td>\n      <td>Female</td>\n      <td>2010-04-11</td>\n      <td>2022-10-16 07:18:00</td>\n      <td>72670</td>\n      <td>1.481</td>\n      <td>True</td>\n      <td>Engineering</td>\n    </tr>\n  </tbody>\n</table>\n</div>"
          },
          "metadata": {}
        }
      ]
    },
    {
      "cell_type": "code",
      "source": "df[\"Start Date\"] <= \"1985-01-01\" ",
      "metadata": {
        "trusted": true
      },
      "execution_count": 43,
      "outputs": [
        {
          "execution_count": 43,
          "output_type": "execute_result",
          "data": {
            "text/plain": "0      False\n1      False\n2      False\n3      False\n4      False\n       ...  \n995    False\n996     True\n997    False\n998    False\n999    False\nName: Start Date, Length: 1000, dtype: bool"
          },
          "metadata": {}
        }
      ]
    },
    {
      "cell_type": "markdown",
      "source": "# Filter with More than One Condition (AND &)",
      "metadata": {}
    },
    {
      "cell_type": "code",
      "source": "df = pd.read_csv(\"employees.csv\", parse_dates = [\"Start Date\",\"Last Login Time\"])\n## df[\"Start Date\"] = pd.to_datetime(df[\"Start Date\"])\n## df[\"Last Login Time\"] = pd.to_datetime(df[\"Last Login Time\"])\ndf[\"Senior Management\"] = df[\"Senior Management\"].astype(\"bool\")\ndf[\"Gender\"] = df[\"Gender\"].astype(\"category\")\ndf.head(3)",
      "metadata": {
        "trusted": true
      },
      "execution_count": 44,
      "outputs": [
        {
          "execution_count": 44,
          "output_type": "execute_result",
          "data": {
            "text/plain": "  First Name  Gender Start Date     Last Login Time  Salary  Bonus %  \\\n0    Douglas    Male 1993-08-06 2022-10-16 12:42:00   97308    6.945   \n1     Thomas    Male 1996-03-31 2022-10-16 06:53:00   61933    4.170   \n2      Maria  Female 1993-04-23 2022-10-16 11:17:00  130590   11.858   \n\n   Senior Management       Team  \n0               True  Marketing  \n1               True        NaN  \n2              False    Finance  ",
            "text/html": "<div>\n<style scoped>\n    .dataframe tbody tr th:only-of-type {\n        vertical-align: middle;\n    }\n\n    .dataframe tbody tr th {\n        vertical-align: top;\n    }\n\n    .dataframe thead th {\n        text-align: right;\n    }\n</style>\n<table border=\"1\" class=\"dataframe\">\n  <thead>\n    <tr style=\"text-align: right;\">\n      <th></th>\n      <th>First Name</th>\n      <th>Gender</th>\n      <th>Start Date</th>\n      <th>Last Login Time</th>\n      <th>Salary</th>\n      <th>Bonus %</th>\n      <th>Senior Management</th>\n      <th>Team</th>\n    </tr>\n  </thead>\n  <tbody>\n    <tr>\n      <th>0</th>\n      <td>Douglas</td>\n      <td>Male</td>\n      <td>1993-08-06</td>\n      <td>2022-10-16 12:42:00</td>\n      <td>97308</td>\n      <td>6.945</td>\n      <td>True</td>\n      <td>Marketing</td>\n    </tr>\n    <tr>\n      <th>1</th>\n      <td>Thomas</td>\n      <td>Male</td>\n      <td>1996-03-31</td>\n      <td>2022-10-16 06:53:00</td>\n      <td>61933</td>\n      <td>4.170</td>\n      <td>True</td>\n      <td>NaN</td>\n    </tr>\n    <tr>\n      <th>2</th>\n      <td>Maria</td>\n      <td>Female</td>\n      <td>1993-04-23</td>\n      <td>2022-10-16 11:17:00</td>\n      <td>130590</td>\n      <td>11.858</td>\n      <td>False</td>\n      <td>Finance</td>\n    </tr>\n  </tbody>\n</table>\n</div>"
          },
          "metadata": {}
        }
      ]
    },
    {
      "cell_type": "code",
      "source": "mask1 = df[\"Gender\"] == \"Male\"\nmask2 = df[\"Team\"] == \"Marketing\"",
      "metadata": {
        "trusted": true
      },
      "execution_count": 47,
      "outputs": []
    },
    {
      "cell_type": "code",
      "source": "df[mask1 & mask2].head(3)",
      "metadata": {
        "trusted": true
      },
      "execution_count": 49,
      "outputs": [
        {
          "execution_count": 49,
          "output_type": "execute_result",
          "data": {
            "text/plain": "   First Name Gender Start Date     Last Login Time  Salary  Bonus %  \\\n0     Douglas   Male 1993-08-06 2022-10-16 12:42:00   97308    6.945   \n21    Matthew   Male 1995-09-05 2022-10-16 02:12:00  100612   13.645   \n26      Craig   Male 2000-02-27 2022-10-16 07:45:00   37598    7.757   \n\n    Senior Management       Team  \n0                True  Marketing  \n21              False  Marketing  \n26               True  Marketing  ",
            "text/html": "<div>\n<style scoped>\n    .dataframe tbody tr th:only-of-type {\n        vertical-align: middle;\n    }\n\n    .dataframe tbody tr th {\n        vertical-align: top;\n    }\n\n    .dataframe thead th {\n        text-align: right;\n    }\n</style>\n<table border=\"1\" class=\"dataframe\">\n  <thead>\n    <tr style=\"text-align: right;\">\n      <th></th>\n      <th>First Name</th>\n      <th>Gender</th>\n      <th>Start Date</th>\n      <th>Last Login Time</th>\n      <th>Salary</th>\n      <th>Bonus %</th>\n      <th>Senior Management</th>\n      <th>Team</th>\n    </tr>\n  </thead>\n  <tbody>\n    <tr>\n      <th>0</th>\n      <td>Douglas</td>\n      <td>Male</td>\n      <td>1993-08-06</td>\n      <td>2022-10-16 12:42:00</td>\n      <td>97308</td>\n      <td>6.945</td>\n      <td>True</td>\n      <td>Marketing</td>\n    </tr>\n    <tr>\n      <th>21</th>\n      <td>Matthew</td>\n      <td>Male</td>\n      <td>1995-09-05</td>\n      <td>2022-10-16 02:12:00</td>\n      <td>100612</td>\n      <td>13.645</td>\n      <td>False</td>\n      <td>Marketing</td>\n    </tr>\n    <tr>\n      <th>26</th>\n      <td>Craig</td>\n      <td>Male</td>\n      <td>2000-02-27</td>\n      <td>2022-10-16 07:45:00</td>\n      <td>37598</td>\n      <td>7.757</td>\n      <td>True</td>\n      <td>Marketing</td>\n    </tr>\n  </tbody>\n</table>\n</div>"
          },
          "metadata": {}
        }
      ]
    },
    {
      "cell_type": "markdown",
      "source": "# Filter with More than One Condition (OR |)",
      "metadata": {}
    },
    {
      "cell_type": "code",
      "source": "mask1 = df[\"Senior Management\"]\nmask2 = df[\"Start Date\"] < \"1990-01-01\"\ndf[mask1 | mask2].head(3)",
      "metadata": {
        "trusted": true
      },
      "execution_count": 52,
      "outputs": [
        {
          "execution_count": 52,
          "output_type": "execute_result",
          "data": {
            "text/plain": "  First Name Gender Start Date     Last Login Time  Salary  Bonus %  \\\n0    Douglas   Male 1993-08-06 2022-10-16 12:42:00   97308    6.945   \n1     Thomas   Male 1996-03-31 2022-10-16 06:53:00   61933    4.170   \n3      Jerry   Male 2005-03-04 2022-10-16 13:00:00  138705    9.340   \n\n   Senior Management       Team  \n0               True  Marketing  \n1               True        NaN  \n3               True    Finance  ",
            "text/html": "<div>\n<style scoped>\n    .dataframe tbody tr th:only-of-type {\n        vertical-align: middle;\n    }\n\n    .dataframe tbody tr th {\n        vertical-align: top;\n    }\n\n    .dataframe thead th {\n        text-align: right;\n    }\n</style>\n<table border=\"1\" class=\"dataframe\">\n  <thead>\n    <tr style=\"text-align: right;\">\n      <th></th>\n      <th>First Name</th>\n      <th>Gender</th>\n      <th>Start Date</th>\n      <th>Last Login Time</th>\n      <th>Salary</th>\n      <th>Bonus %</th>\n      <th>Senior Management</th>\n      <th>Team</th>\n    </tr>\n  </thead>\n  <tbody>\n    <tr>\n      <th>0</th>\n      <td>Douglas</td>\n      <td>Male</td>\n      <td>1993-08-06</td>\n      <td>2022-10-16 12:42:00</td>\n      <td>97308</td>\n      <td>6.945</td>\n      <td>True</td>\n      <td>Marketing</td>\n    </tr>\n    <tr>\n      <th>1</th>\n      <td>Thomas</td>\n      <td>Male</td>\n      <td>1996-03-31</td>\n      <td>2022-10-16 06:53:00</td>\n      <td>61933</td>\n      <td>4.170</td>\n      <td>True</td>\n      <td>NaN</td>\n    </tr>\n    <tr>\n      <th>3</th>\n      <td>Jerry</td>\n      <td>Male</td>\n      <td>2005-03-04</td>\n      <td>2022-10-16 13:00:00</td>\n      <td>138705</td>\n      <td>9.340</td>\n      <td>True</td>\n      <td>Finance</td>\n    </tr>\n  </tbody>\n</table>\n</div>"
          },
          "metadata": {}
        }
      ]
    },
    {
      "cell_type": "code",
      "source": "mask1 = df[\"First Name\"] == \"Robert\"\nmask2 = df[\"Team\"] == \"Client Services\"\nmask3 = df[\"Start Date\"] > \"2016-06-01\"\ndf[(mask1 & mask2) | mask3]",
      "metadata": {
        "trusted": true
      },
      "execution_count": 54,
      "outputs": [
        {
          "execution_count": 54,
          "output_type": "execute_result",
          "data": {
            "text/plain": "    First Name  Gender Start Date     Last Login Time  Salary  Bonus %  \\\n15     Lillian  Female 2016-06-05 2022-10-16 06:09:00   59414    1.256   \n98        Tina  Female 2016-06-16 2022-10-16 19:47:00  100705   16.961   \n387     Robert    Male 1994-10-29 2022-10-16 04:26:00  123294   19.894   \n451      Terry     NaN 2016-07-15 2022-10-16 00:29:00  140002   19.490   \n\n     Senior Management             Team  \n15               False          Product  \n98                True        Marketing  \n387              False  Client Services  \n451               True        Marketing  ",
            "text/html": "<div>\n<style scoped>\n    .dataframe tbody tr th:only-of-type {\n        vertical-align: middle;\n    }\n\n    .dataframe tbody tr th {\n        vertical-align: top;\n    }\n\n    .dataframe thead th {\n        text-align: right;\n    }\n</style>\n<table border=\"1\" class=\"dataframe\">\n  <thead>\n    <tr style=\"text-align: right;\">\n      <th></th>\n      <th>First Name</th>\n      <th>Gender</th>\n      <th>Start Date</th>\n      <th>Last Login Time</th>\n      <th>Salary</th>\n      <th>Bonus %</th>\n      <th>Senior Management</th>\n      <th>Team</th>\n    </tr>\n  </thead>\n  <tbody>\n    <tr>\n      <th>15</th>\n      <td>Lillian</td>\n      <td>Female</td>\n      <td>2016-06-05</td>\n      <td>2022-10-16 06:09:00</td>\n      <td>59414</td>\n      <td>1.256</td>\n      <td>False</td>\n      <td>Product</td>\n    </tr>\n    <tr>\n      <th>98</th>\n      <td>Tina</td>\n      <td>Female</td>\n      <td>2016-06-16</td>\n      <td>2022-10-16 19:47:00</td>\n      <td>100705</td>\n      <td>16.961</td>\n      <td>True</td>\n      <td>Marketing</td>\n    </tr>\n    <tr>\n      <th>387</th>\n      <td>Robert</td>\n      <td>Male</td>\n      <td>1994-10-29</td>\n      <td>2022-10-16 04:26:00</td>\n      <td>123294</td>\n      <td>19.894</td>\n      <td>False</td>\n      <td>Client Services</td>\n    </tr>\n    <tr>\n      <th>451</th>\n      <td>Terry</td>\n      <td>NaN</td>\n      <td>2016-07-15</td>\n      <td>2022-10-16 00:29:00</td>\n      <td>140002</td>\n      <td>19.490</td>\n      <td>True</td>\n      <td>Marketing</td>\n    </tr>\n  </tbody>\n</table>\n</div>"
          },
          "metadata": {}
        }
      ]
    },
    {
      "cell_type": "markdown",
      "source": "# The .isin() Method",
      "metadata": {}
    },
    {
      "cell_type": "code",
      "source": "df = pd.read_csv(\"employees.csv\", parse_dates = [\"Start Date\",\"Last Login Time\"])\n## df[\"Start Date\"] = pd.to_datetime(df[\"Start Date\"])\n## df[\"Last Login Time\"] = pd.to_datetime(df[\"Last Login Time\"])\ndf[\"Senior Management\"] = df[\"Senior Management\"].astype(\"bool\")\ndf[\"Gender\"] = df[\"Gender\"].astype(\"category\")\ndf.head(3)",
      "metadata": {
        "trusted": true
      },
      "execution_count": 55,
      "outputs": [
        {
          "execution_count": 55,
          "output_type": "execute_result",
          "data": {
            "text/plain": "  First Name  Gender Start Date     Last Login Time  Salary  Bonus %  \\\n0    Douglas    Male 1993-08-06 2022-10-16 12:42:00   97308    6.945   \n1     Thomas    Male 1996-03-31 2022-10-16 06:53:00   61933    4.170   \n2      Maria  Female 1993-04-23 2022-10-16 11:17:00  130590   11.858   \n\n   Senior Management       Team  \n0               True  Marketing  \n1               True        NaN  \n2              False    Finance  ",
            "text/html": "<div>\n<style scoped>\n    .dataframe tbody tr th:only-of-type {\n        vertical-align: middle;\n    }\n\n    .dataframe tbody tr th {\n        vertical-align: top;\n    }\n\n    .dataframe thead th {\n        text-align: right;\n    }\n</style>\n<table border=\"1\" class=\"dataframe\">\n  <thead>\n    <tr style=\"text-align: right;\">\n      <th></th>\n      <th>First Name</th>\n      <th>Gender</th>\n      <th>Start Date</th>\n      <th>Last Login Time</th>\n      <th>Salary</th>\n      <th>Bonus %</th>\n      <th>Senior Management</th>\n      <th>Team</th>\n    </tr>\n  </thead>\n  <tbody>\n    <tr>\n      <th>0</th>\n      <td>Douglas</td>\n      <td>Male</td>\n      <td>1993-08-06</td>\n      <td>2022-10-16 12:42:00</td>\n      <td>97308</td>\n      <td>6.945</td>\n      <td>True</td>\n      <td>Marketing</td>\n    </tr>\n    <tr>\n      <th>1</th>\n      <td>Thomas</td>\n      <td>Male</td>\n      <td>1996-03-31</td>\n      <td>2022-10-16 06:53:00</td>\n      <td>61933</td>\n      <td>4.170</td>\n      <td>True</td>\n      <td>NaN</td>\n    </tr>\n    <tr>\n      <th>2</th>\n      <td>Maria</td>\n      <td>Female</td>\n      <td>1993-04-23</td>\n      <td>2022-10-16 11:17:00</td>\n      <td>130590</td>\n      <td>11.858</td>\n      <td>False</td>\n      <td>Finance</td>\n    </tr>\n  </tbody>\n</table>\n</div>"
          },
          "metadata": {}
        }
      ]
    },
    {
      "cell_type": "code",
      "source": "mask1= df[\"Team\"] == \"Legal\"\nmask2= df[\"Team\"] == \"Sales\"\nmask3= df[\"Team\"] == \"Product\"\ndf[mask1 | mask2 | mask3]",
      "metadata": {
        "collapsed": true,
        "jupyter": {
          "outputs_hidden": true
        },
        "tags": [],
        "trusted": true
      },
      "execution_count": 57,
      "outputs": [
        {
          "execution_count": 57,
          "output_type": "execute_result",
          "data": {
            "text/plain": "    First Name  Gender Start Date     Last Login Time  Salary  Bonus %  \\\n5       Dennis    Male 1987-04-18 2022-10-16 01:35:00  115163   10.125   \n6         Ruby  Female 1987-08-17 2022-10-16 16:20:00   65476   10.012   \n11       Julie  Female 1997-10-26 2022-10-16 15:19:00  102508   12.637   \n13        Gary    Male 2008-01-27 2022-10-16 23:40:00  109831    5.831   \n15     Lillian  Female 2016-06-05 2022-10-16 06:09:00   59414    1.256   \n..         ...     ...        ...                 ...     ...      ...   \n981      James    Male 1993-01-15 2022-10-16 17:19:00  148985   19.280   \n985    Stephen     NaN 1983-07-10 2022-10-16 20:10:00   85668    1.909   \n989     Justin     NaN 1991-02-10 2022-10-16 16:58:00   38344    3.794   \n997    Russell    Male 2013-05-20 2022-10-16 12:39:00   96914    1.421   \n999     Albert    Male 2012-05-15 2022-10-16 18:24:00  129949   10.169   \n\n     Senior Management     Team  \n5                False    Legal  \n6                 True  Product  \n11                True    Legal  \n13               False    Sales  \n15               False  Product  \n..                 ...      ...  \n981              False    Legal  \n985              False    Legal  \n989              False    Legal  \n997              False  Product  \n999               True    Sales  \n\n[277 rows x 8 columns]",
            "text/html": "<div>\n<style scoped>\n    .dataframe tbody tr th:only-of-type {\n        vertical-align: middle;\n    }\n\n    .dataframe tbody tr th {\n        vertical-align: top;\n    }\n\n    .dataframe thead th {\n        text-align: right;\n    }\n</style>\n<table border=\"1\" class=\"dataframe\">\n  <thead>\n    <tr style=\"text-align: right;\">\n      <th></th>\n      <th>First Name</th>\n      <th>Gender</th>\n      <th>Start Date</th>\n      <th>Last Login Time</th>\n      <th>Salary</th>\n      <th>Bonus %</th>\n      <th>Senior Management</th>\n      <th>Team</th>\n    </tr>\n  </thead>\n  <tbody>\n    <tr>\n      <th>5</th>\n      <td>Dennis</td>\n      <td>Male</td>\n      <td>1987-04-18</td>\n      <td>2022-10-16 01:35:00</td>\n      <td>115163</td>\n      <td>10.125</td>\n      <td>False</td>\n      <td>Legal</td>\n    </tr>\n    <tr>\n      <th>6</th>\n      <td>Ruby</td>\n      <td>Female</td>\n      <td>1987-08-17</td>\n      <td>2022-10-16 16:20:00</td>\n      <td>65476</td>\n      <td>10.012</td>\n      <td>True</td>\n      <td>Product</td>\n    </tr>\n    <tr>\n      <th>11</th>\n      <td>Julie</td>\n      <td>Female</td>\n      <td>1997-10-26</td>\n      <td>2022-10-16 15:19:00</td>\n      <td>102508</td>\n      <td>12.637</td>\n      <td>True</td>\n      <td>Legal</td>\n    </tr>\n    <tr>\n      <th>13</th>\n      <td>Gary</td>\n      <td>Male</td>\n      <td>2008-01-27</td>\n      <td>2022-10-16 23:40:00</td>\n      <td>109831</td>\n      <td>5.831</td>\n      <td>False</td>\n      <td>Sales</td>\n    </tr>\n    <tr>\n      <th>15</th>\n      <td>Lillian</td>\n      <td>Female</td>\n      <td>2016-06-05</td>\n      <td>2022-10-16 06:09:00</td>\n      <td>59414</td>\n      <td>1.256</td>\n      <td>False</td>\n      <td>Product</td>\n    </tr>\n    <tr>\n      <th>...</th>\n      <td>...</td>\n      <td>...</td>\n      <td>...</td>\n      <td>...</td>\n      <td>...</td>\n      <td>...</td>\n      <td>...</td>\n      <td>...</td>\n    </tr>\n    <tr>\n      <th>981</th>\n      <td>James</td>\n      <td>Male</td>\n      <td>1993-01-15</td>\n      <td>2022-10-16 17:19:00</td>\n      <td>148985</td>\n      <td>19.280</td>\n      <td>False</td>\n      <td>Legal</td>\n    </tr>\n    <tr>\n      <th>985</th>\n      <td>Stephen</td>\n      <td>NaN</td>\n      <td>1983-07-10</td>\n      <td>2022-10-16 20:10:00</td>\n      <td>85668</td>\n      <td>1.909</td>\n      <td>False</td>\n      <td>Legal</td>\n    </tr>\n    <tr>\n      <th>989</th>\n      <td>Justin</td>\n      <td>NaN</td>\n      <td>1991-02-10</td>\n      <td>2022-10-16 16:58:00</td>\n      <td>38344</td>\n      <td>3.794</td>\n      <td>False</td>\n      <td>Legal</td>\n    </tr>\n    <tr>\n      <th>997</th>\n      <td>Russell</td>\n      <td>Male</td>\n      <td>2013-05-20</td>\n      <td>2022-10-16 12:39:00</td>\n      <td>96914</td>\n      <td>1.421</td>\n      <td>False</td>\n      <td>Product</td>\n    </tr>\n    <tr>\n      <th>999</th>\n      <td>Albert</td>\n      <td>Male</td>\n      <td>2012-05-15</td>\n      <td>2022-10-16 18:24:00</td>\n      <td>129949</td>\n      <td>10.169</td>\n      <td>True</td>\n      <td>Sales</td>\n    </tr>\n  </tbody>\n</table>\n<p>277 rows × 8 columns</p>\n</div>"
          },
          "metadata": {}
        }
      ]
    },
    {
      "cell_type": "code",
      "source": "mask = df[\"Team\"].isin([\"Legal\",\"Sales\",\"Product\"])\ndf[mask].head(3)",
      "metadata": {
        "trusted": true
      },
      "execution_count": 60,
      "outputs": [
        {
          "execution_count": 60,
          "output_type": "execute_result",
          "data": {
            "text/plain": "   First Name  Gender Start Date     Last Login Time  Salary  Bonus %  \\\n5      Dennis    Male 1987-04-18 2022-10-16 01:35:00  115163   10.125   \n6        Ruby  Female 1987-08-17 2022-10-16 16:20:00   65476   10.012   \n11      Julie  Female 1997-10-26 2022-10-16 15:19:00  102508   12.637   \n\n    Senior Management     Team  \n5               False    Legal  \n6                True  Product  \n11               True    Legal  ",
            "text/html": "<div>\n<style scoped>\n    .dataframe tbody tr th:only-of-type {\n        vertical-align: middle;\n    }\n\n    .dataframe tbody tr th {\n        vertical-align: top;\n    }\n\n    .dataframe thead th {\n        text-align: right;\n    }\n</style>\n<table border=\"1\" class=\"dataframe\">\n  <thead>\n    <tr style=\"text-align: right;\">\n      <th></th>\n      <th>First Name</th>\n      <th>Gender</th>\n      <th>Start Date</th>\n      <th>Last Login Time</th>\n      <th>Salary</th>\n      <th>Bonus %</th>\n      <th>Senior Management</th>\n      <th>Team</th>\n    </tr>\n  </thead>\n  <tbody>\n    <tr>\n      <th>5</th>\n      <td>Dennis</td>\n      <td>Male</td>\n      <td>1987-04-18</td>\n      <td>2022-10-16 01:35:00</td>\n      <td>115163</td>\n      <td>10.125</td>\n      <td>False</td>\n      <td>Legal</td>\n    </tr>\n    <tr>\n      <th>6</th>\n      <td>Ruby</td>\n      <td>Female</td>\n      <td>1987-08-17</td>\n      <td>2022-10-16 16:20:00</td>\n      <td>65476</td>\n      <td>10.012</td>\n      <td>True</td>\n      <td>Product</td>\n    </tr>\n    <tr>\n      <th>11</th>\n      <td>Julie</td>\n      <td>Female</td>\n      <td>1997-10-26</td>\n      <td>2022-10-16 15:19:00</td>\n      <td>102508</td>\n      <td>12.637</td>\n      <td>True</td>\n      <td>Legal</td>\n    </tr>\n  </tbody>\n</table>\n</div>"
          },
          "metadata": {}
        }
      ]
    },
    {
      "cell_type": "markdown",
      "source": "# The .isnull() and .notnull() Methods",
      "metadata": {}
    },
    {
      "cell_type": "code",
      "source": "mask = df[\"Team\"].isnull()\ndf[mask].head(3)",
      "metadata": {
        "trusted": true
      },
      "execution_count": 63,
      "outputs": [
        {
          "execution_count": 63,
          "output_type": "execute_result",
          "data": {
            "text/plain": "   First Name  Gender Start Date     Last Login Time  Salary  Bonus %  \\\n1      Thomas    Male 1996-03-31 2022-10-16 06:53:00   61933    4.170   \n10     Louise  Female 1980-08-12 2022-10-16 09:01:00   63241   15.132   \n23        NaN    Male 2012-06-14 2022-10-16 16:19:00  125792    5.042   \n\n    Senior Management Team  \n1                True  NaN  \n10               True  NaN  \n23               True  NaN  ",
            "text/html": "<div>\n<style scoped>\n    .dataframe tbody tr th:only-of-type {\n        vertical-align: middle;\n    }\n\n    .dataframe tbody tr th {\n        vertical-align: top;\n    }\n\n    .dataframe thead th {\n        text-align: right;\n    }\n</style>\n<table border=\"1\" class=\"dataframe\">\n  <thead>\n    <tr style=\"text-align: right;\">\n      <th></th>\n      <th>First Name</th>\n      <th>Gender</th>\n      <th>Start Date</th>\n      <th>Last Login Time</th>\n      <th>Salary</th>\n      <th>Bonus %</th>\n      <th>Senior Management</th>\n      <th>Team</th>\n    </tr>\n  </thead>\n  <tbody>\n    <tr>\n      <th>1</th>\n      <td>Thomas</td>\n      <td>Male</td>\n      <td>1996-03-31</td>\n      <td>2022-10-16 06:53:00</td>\n      <td>61933</td>\n      <td>4.170</td>\n      <td>True</td>\n      <td>NaN</td>\n    </tr>\n    <tr>\n      <th>10</th>\n      <td>Louise</td>\n      <td>Female</td>\n      <td>1980-08-12</td>\n      <td>2022-10-16 09:01:00</td>\n      <td>63241</td>\n      <td>15.132</td>\n      <td>True</td>\n      <td>NaN</td>\n    </tr>\n    <tr>\n      <th>23</th>\n      <td>NaN</td>\n      <td>Male</td>\n      <td>2012-06-14</td>\n      <td>2022-10-16 16:19:00</td>\n      <td>125792</td>\n      <td>5.042</td>\n      <td>True</td>\n      <td>NaN</td>\n    </tr>\n  </tbody>\n</table>\n</div>"
          },
          "metadata": {}
        }
      ]
    },
    {
      "cell_type": "code",
      "source": "condition = df[\"Gender\"].notnull()\ndf[condition].head(3)",
      "metadata": {
        "trusted": true
      },
      "execution_count": 67,
      "outputs": [
        {
          "execution_count": 67,
          "output_type": "execute_result",
          "data": {
            "text/plain": "  First Name  Gender Start Date     Last Login Time  Salary  Bonus %  \\\n0    Douglas    Male 1993-08-06 2022-10-16 12:42:00   97308    6.945   \n1     Thomas    Male 1996-03-31 2022-10-16 06:53:00   61933    4.170   \n2      Maria  Female 1993-04-23 2022-10-16 11:17:00  130590   11.858   \n\n   Senior Management       Team  \n0               True  Marketing  \n1               True        NaN  \n2              False    Finance  ",
            "text/html": "<div>\n<style scoped>\n    .dataframe tbody tr th:only-of-type {\n        vertical-align: middle;\n    }\n\n    .dataframe tbody tr th {\n        vertical-align: top;\n    }\n\n    .dataframe thead th {\n        text-align: right;\n    }\n</style>\n<table border=\"1\" class=\"dataframe\">\n  <thead>\n    <tr style=\"text-align: right;\">\n      <th></th>\n      <th>First Name</th>\n      <th>Gender</th>\n      <th>Start Date</th>\n      <th>Last Login Time</th>\n      <th>Salary</th>\n      <th>Bonus %</th>\n      <th>Senior Management</th>\n      <th>Team</th>\n    </tr>\n  </thead>\n  <tbody>\n    <tr>\n      <th>0</th>\n      <td>Douglas</td>\n      <td>Male</td>\n      <td>1993-08-06</td>\n      <td>2022-10-16 12:42:00</td>\n      <td>97308</td>\n      <td>6.945</td>\n      <td>True</td>\n      <td>Marketing</td>\n    </tr>\n    <tr>\n      <th>1</th>\n      <td>Thomas</td>\n      <td>Male</td>\n      <td>1996-03-31</td>\n      <td>2022-10-16 06:53:00</td>\n      <td>61933</td>\n      <td>4.170</td>\n      <td>True</td>\n      <td>NaN</td>\n    </tr>\n    <tr>\n      <th>2</th>\n      <td>Maria</td>\n      <td>Female</td>\n      <td>1993-04-23</td>\n      <td>2022-10-16 11:17:00</td>\n      <td>130590</td>\n      <td>11.858</td>\n      <td>False</td>\n      <td>Finance</td>\n    </tr>\n  </tbody>\n</table>\n</div>"
          },
          "metadata": {}
        }
      ]
    },
    {
      "cell_type": "markdown",
      "source": "# The .between() Method",
      "metadata": {}
    },
    {
      "cell_type": "code",
      "source": "condition = df[\"Salary\"].between(60000 , 70000)\ndf[condition].head(3)\n## between including the upper/lower bound",
      "metadata": {
        "trusted": true
      },
      "execution_count": 72,
      "outputs": [
        {
          "execution_count": 72,
          "output_type": "execute_result",
          "data": {
            "text/plain": "   First Name  Gender Start Date     Last Login Time  Salary  Bonus %  \\\n1      Thomas    Male 1996-03-31 2022-10-16 06:53:00   61933    4.170   \n6        Ruby  Female 1987-08-17 2022-10-16 16:20:00   65476   10.012   \n10     Louise  Female 1980-08-12 2022-10-16 09:01:00   63241   15.132   \n\n    Senior Management     Team  \n1                True      NaN  \n6                True  Product  \n10               True      NaN  ",
            "text/html": "<div>\n<style scoped>\n    .dataframe tbody tr th:only-of-type {\n        vertical-align: middle;\n    }\n\n    .dataframe tbody tr th {\n        vertical-align: top;\n    }\n\n    .dataframe thead th {\n        text-align: right;\n    }\n</style>\n<table border=\"1\" class=\"dataframe\">\n  <thead>\n    <tr style=\"text-align: right;\">\n      <th></th>\n      <th>First Name</th>\n      <th>Gender</th>\n      <th>Start Date</th>\n      <th>Last Login Time</th>\n      <th>Salary</th>\n      <th>Bonus %</th>\n      <th>Senior Management</th>\n      <th>Team</th>\n    </tr>\n  </thead>\n  <tbody>\n    <tr>\n      <th>1</th>\n      <td>Thomas</td>\n      <td>Male</td>\n      <td>1996-03-31</td>\n      <td>2022-10-16 06:53:00</td>\n      <td>61933</td>\n      <td>4.170</td>\n      <td>True</td>\n      <td>NaN</td>\n    </tr>\n    <tr>\n      <th>6</th>\n      <td>Ruby</td>\n      <td>Female</td>\n      <td>1987-08-17</td>\n      <td>2022-10-16 16:20:00</td>\n      <td>65476</td>\n      <td>10.012</td>\n      <td>True</td>\n      <td>Product</td>\n    </tr>\n    <tr>\n      <th>10</th>\n      <td>Louise</td>\n      <td>Female</td>\n      <td>1980-08-12</td>\n      <td>2022-10-16 09:01:00</td>\n      <td>63241</td>\n      <td>15.132</td>\n      <td>True</td>\n      <td>NaN</td>\n    </tr>\n  </tbody>\n</table>\n</div>"
          },
          "metadata": {}
        }
      ]
    },
    {
      "cell_type": "code",
      "source": "df[df[\"Bonus %\"].between(2.0, 5.0)].head(3)",
      "metadata": {
        "trusted": true
      },
      "execution_count": 74,
      "outputs": [
        {
          "execution_count": 74,
          "output_type": "execute_result",
          "data": {
            "text/plain": "   First Name Gender Start Date     Last Login Time  Salary  Bonus %  \\\n1      Thomas   Male 1996-03-31 2022-10-16 06:53:00   61933    4.170   \n20       Lois    NaN 1995-04-22 2022-10-16 19:18:00   64714    4.934   \n40    Michael   Male 2008-10-10 2022-10-16 11:25:00   99283    2.665   \n\n    Senior Management          Team  \n1                True           NaN  \n20               True         Legal  \n40               True  Distribution  ",
            "text/html": "<div>\n<style scoped>\n    .dataframe tbody tr th:only-of-type {\n        vertical-align: middle;\n    }\n\n    .dataframe tbody tr th {\n        vertical-align: top;\n    }\n\n    .dataframe thead th {\n        text-align: right;\n    }\n</style>\n<table border=\"1\" class=\"dataframe\">\n  <thead>\n    <tr style=\"text-align: right;\">\n      <th></th>\n      <th>First Name</th>\n      <th>Gender</th>\n      <th>Start Date</th>\n      <th>Last Login Time</th>\n      <th>Salary</th>\n      <th>Bonus %</th>\n      <th>Senior Management</th>\n      <th>Team</th>\n    </tr>\n  </thead>\n  <tbody>\n    <tr>\n      <th>1</th>\n      <td>Thomas</td>\n      <td>Male</td>\n      <td>1996-03-31</td>\n      <td>2022-10-16 06:53:00</td>\n      <td>61933</td>\n      <td>4.170</td>\n      <td>True</td>\n      <td>NaN</td>\n    </tr>\n    <tr>\n      <th>20</th>\n      <td>Lois</td>\n      <td>NaN</td>\n      <td>1995-04-22</td>\n      <td>2022-10-16 19:18:00</td>\n      <td>64714</td>\n      <td>4.934</td>\n      <td>True</td>\n      <td>Legal</td>\n    </tr>\n    <tr>\n      <th>40</th>\n      <td>Michael</td>\n      <td>Male</td>\n      <td>2008-10-10</td>\n      <td>2022-10-16 11:25:00</td>\n      <td>99283</td>\n      <td>2.665</td>\n      <td>True</td>\n      <td>Distribution</td>\n    </tr>\n  </tbody>\n</table>\n</div>"
          },
          "metadata": {}
        }
      ]
    },
    {
      "cell_type": "code",
      "source": "df[df[\"Start Date\"].between(\"1991-01-01\", \"1992-01-01\")].head(3)",
      "metadata": {
        "trusted": true
      },
      "execution_count": 75,
      "outputs": [
        {
          "execution_count": 75,
          "output_type": "execute_result",
          "data": {
            "text/plain": "   First Name  Gender Start Date     Last Login Time  Salary  Bonus %  \\\n27      Scott     NaN 1991-07-11 2022-10-16 18:58:00  122367    5.218   \n75     Bonnie  Female 1991-07-02 2022-10-16 01:27:00  104897    5.118   \n88      Donna  Female 1991-11-27 2022-10-16 13:59:00   64088    6.155   \n\n    Senior Management             Team  \n27              False            Legal  \n75               True  Human Resources  \n88               True            Legal  ",
            "text/html": "<div>\n<style scoped>\n    .dataframe tbody tr th:only-of-type {\n        vertical-align: middle;\n    }\n\n    .dataframe tbody tr th {\n        vertical-align: top;\n    }\n\n    .dataframe thead th {\n        text-align: right;\n    }\n</style>\n<table border=\"1\" class=\"dataframe\">\n  <thead>\n    <tr style=\"text-align: right;\">\n      <th></th>\n      <th>First Name</th>\n      <th>Gender</th>\n      <th>Start Date</th>\n      <th>Last Login Time</th>\n      <th>Salary</th>\n      <th>Bonus %</th>\n      <th>Senior Management</th>\n      <th>Team</th>\n    </tr>\n  </thead>\n  <tbody>\n    <tr>\n      <th>27</th>\n      <td>Scott</td>\n      <td>NaN</td>\n      <td>1991-07-11</td>\n      <td>2022-10-16 18:58:00</td>\n      <td>122367</td>\n      <td>5.218</td>\n      <td>False</td>\n      <td>Legal</td>\n    </tr>\n    <tr>\n      <th>75</th>\n      <td>Bonnie</td>\n      <td>Female</td>\n      <td>1991-07-02</td>\n      <td>2022-10-16 01:27:00</td>\n      <td>104897</td>\n      <td>5.118</td>\n      <td>True</td>\n      <td>Human Resources</td>\n    </tr>\n    <tr>\n      <th>88</th>\n      <td>Donna</td>\n      <td>Female</td>\n      <td>1991-11-27</td>\n      <td>2022-10-16 13:59:00</td>\n      <td>64088</td>\n      <td>6.155</td>\n      <td>True</td>\n      <td>Legal</td>\n    </tr>\n  </tbody>\n</table>\n</div>"
          },
          "metadata": {}
        }
      ]
    },
    {
      "cell_type": "code",
      "source": "df[df[\"Last Login Time\"].between(\"2022-10-16 08:30:00\", \"2022-10-16 12:00:00\")].head(3)",
      "metadata": {
        "collapsed": true,
        "jupyter": {
          "outputs_hidden": true
        },
        "tags": [],
        "trusted": true
      },
      "execution_count": 76,
      "outputs": [
        {
          "execution_count": 76,
          "output_type": "execute_result",
          "data": {
            "text/plain": "   First Name  Gender Start Date     Last Login Time  Salary  Bonus %  \\\n2       Maria  Female 1993-04-23 2022-10-16 11:17:00  130590   11.858   \n7         NaN  Female 2015-07-20 2022-10-16 10:43:00   45906   11.598   \n10     Louise  Female 1980-08-12 2022-10-16 09:01:00   63241   15.132   \n\n    Senior Management     Team  \n2               False  Finance  \n7                True  Finance  \n10               True      NaN  ",
            "text/html": "<div>\n<style scoped>\n    .dataframe tbody tr th:only-of-type {\n        vertical-align: middle;\n    }\n\n    .dataframe tbody tr th {\n        vertical-align: top;\n    }\n\n    .dataframe thead th {\n        text-align: right;\n    }\n</style>\n<table border=\"1\" class=\"dataframe\">\n  <thead>\n    <tr style=\"text-align: right;\">\n      <th></th>\n      <th>First Name</th>\n      <th>Gender</th>\n      <th>Start Date</th>\n      <th>Last Login Time</th>\n      <th>Salary</th>\n      <th>Bonus %</th>\n      <th>Senior Management</th>\n      <th>Team</th>\n    </tr>\n  </thead>\n  <tbody>\n    <tr>\n      <th>2</th>\n      <td>Maria</td>\n      <td>Female</td>\n      <td>1993-04-23</td>\n      <td>2022-10-16 11:17:00</td>\n      <td>130590</td>\n      <td>11.858</td>\n      <td>False</td>\n      <td>Finance</td>\n    </tr>\n    <tr>\n      <th>7</th>\n      <td>NaN</td>\n      <td>Female</td>\n      <td>2015-07-20</td>\n      <td>2022-10-16 10:43:00</td>\n      <td>45906</td>\n      <td>11.598</td>\n      <td>True</td>\n      <td>Finance</td>\n    </tr>\n    <tr>\n      <th>10</th>\n      <td>Louise</td>\n      <td>Female</td>\n      <td>1980-08-12</td>\n      <td>2022-10-16 09:01:00</td>\n      <td>63241</td>\n      <td>15.132</td>\n      <td>True</td>\n      <td>NaN</td>\n    </tr>\n  </tbody>\n</table>\n</div>"
          },
          "metadata": {}
        }
      ]
    },
    {
      "cell_type": "code",
      "source": "df[df[\"Last Login Time\"].between(\"08:30AM\", \"12:00PM\")].head(3)",
      "metadata": {
        "trusted": true
      },
      "execution_count": 77,
      "outputs": [
        {
          "execution_count": 77,
          "output_type": "execute_result",
          "data": {
            "text/plain": "   First Name  Gender Start Date     Last Login Time  Salary  Bonus %  \\\n2       Maria  Female 1993-04-23 2022-10-16 11:17:00  130590   11.858   \n7         NaN  Female 2015-07-20 2022-10-16 10:43:00   45906   11.598   \n10     Louise  Female 1980-08-12 2022-10-16 09:01:00   63241   15.132   \n\n    Senior Management     Team  \n2               False  Finance  \n7                True  Finance  \n10               True      NaN  ",
            "text/html": "<div>\n<style scoped>\n    .dataframe tbody tr th:only-of-type {\n        vertical-align: middle;\n    }\n\n    .dataframe tbody tr th {\n        vertical-align: top;\n    }\n\n    .dataframe thead th {\n        text-align: right;\n    }\n</style>\n<table border=\"1\" class=\"dataframe\">\n  <thead>\n    <tr style=\"text-align: right;\">\n      <th></th>\n      <th>First Name</th>\n      <th>Gender</th>\n      <th>Start Date</th>\n      <th>Last Login Time</th>\n      <th>Salary</th>\n      <th>Bonus %</th>\n      <th>Senior Management</th>\n      <th>Team</th>\n    </tr>\n  </thead>\n  <tbody>\n    <tr>\n      <th>2</th>\n      <td>Maria</td>\n      <td>Female</td>\n      <td>1993-04-23</td>\n      <td>2022-10-16 11:17:00</td>\n      <td>130590</td>\n      <td>11.858</td>\n      <td>False</td>\n      <td>Finance</td>\n    </tr>\n    <tr>\n      <th>7</th>\n      <td>NaN</td>\n      <td>Female</td>\n      <td>2015-07-20</td>\n      <td>2022-10-16 10:43:00</td>\n      <td>45906</td>\n      <td>11.598</td>\n      <td>True</td>\n      <td>Finance</td>\n    </tr>\n    <tr>\n      <th>10</th>\n      <td>Louise</td>\n      <td>Female</td>\n      <td>1980-08-12</td>\n      <td>2022-10-16 09:01:00</td>\n      <td>63241</td>\n      <td>15.132</td>\n      <td>True</td>\n      <td>NaN</td>\n    </tr>\n  </tbody>\n</table>\n</div>"
          },
          "metadata": {}
        }
      ]
    },
    {
      "cell_type": "markdown",
      "source": "# The .duplicated() Method",
      "metadata": {}
    },
    {
      "cell_type": "code",
      "source": "df = pd.read_csv(\"employees.csv\", parse_dates = [\"Start Date\",\"Last Login Time\"])\ndf[\"Senior Management\"] = df[\"Senior Management\"].astype(\"bool\")\ndf[\"Gender\"] = df[\"Gender\"].astype(\"category\")\ndf.sort_values(\"First Name\", inplace=True)\ndf.head(3)",
      "metadata": {
        "trusted": true
      },
      "execution_count": 78,
      "outputs": [
        {
          "execution_count": 78,
          "output_type": "execute_result",
          "data": {
            "text/plain": "    First Name Gender Start Date     Last Login Time  Salary  Bonus %  \\\n101      Aaron   Male 2012-02-17 2022-10-16 10:20:00   61602   11.849   \n327      Aaron   Male 1994-01-29 2022-10-16 18:48:00   58755    5.097   \n440      Aaron   Male 1990-07-22 2022-10-16 14:53:00   52119   11.343   \n\n     Senior Management             Team  \n101               True        Marketing  \n327               True        Marketing  \n440               True  Client Services  ",
            "text/html": "<div>\n<style scoped>\n    .dataframe tbody tr th:only-of-type {\n        vertical-align: middle;\n    }\n\n    .dataframe tbody tr th {\n        vertical-align: top;\n    }\n\n    .dataframe thead th {\n        text-align: right;\n    }\n</style>\n<table border=\"1\" class=\"dataframe\">\n  <thead>\n    <tr style=\"text-align: right;\">\n      <th></th>\n      <th>First Name</th>\n      <th>Gender</th>\n      <th>Start Date</th>\n      <th>Last Login Time</th>\n      <th>Salary</th>\n      <th>Bonus %</th>\n      <th>Senior Management</th>\n      <th>Team</th>\n    </tr>\n  </thead>\n  <tbody>\n    <tr>\n      <th>101</th>\n      <td>Aaron</td>\n      <td>Male</td>\n      <td>2012-02-17</td>\n      <td>2022-10-16 10:20:00</td>\n      <td>61602</td>\n      <td>11.849</td>\n      <td>True</td>\n      <td>Marketing</td>\n    </tr>\n    <tr>\n      <th>327</th>\n      <td>Aaron</td>\n      <td>Male</td>\n      <td>1994-01-29</td>\n      <td>2022-10-16 18:48:00</td>\n      <td>58755</td>\n      <td>5.097</td>\n      <td>True</td>\n      <td>Marketing</td>\n    </tr>\n    <tr>\n      <th>440</th>\n      <td>Aaron</td>\n      <td>Male</td>\n      <td>1990-07-22</td>\n      <td>2022-10-16 14:53:00</td>\n      <td>52119</td>\n      <td>11.343</td>\n      <td>True</td>\n      <td>Client Services</td>\n    </tr>\n  </tbody>\n</table>\n</div>"
          },
          "metadata": {}
        }
      ]
    },
    {
      "cell_type": "code",
      "source": "df[df[\"First Name\"].duplicated()].head(3)\n# the first is a unique value, it will be not included",
      "metadata": {
        "trusted": true
      },
      "execution_count": 84,
      "outputs": [
        {
          "execution_count": 84,
          "output_type": "execute_result",
          "data": {
            "text/plain": "    First Name Gender Start Date     Last Login Time  Salary  Bonus %  \\\n327      Aaron   Male 1994-01-29 2022-10-16 18:48:00   58755    5.097   \n440      Aaron   Male 1990-07-22 2022-10-16 14:53:00   52119   11.343   \n937      Aaron    NaN 1986-01-22 2022-10-16 19:39:00   63126   18.424   \n\n     Senior Management             Team  \n327               True        Marketing  \n440               True  Client Services  \n937              False  Client Services  ",
            "text/html": "<div>\n<style scoped>\n    .dataframe tbody tr th:only-of-type {\n        vertical-align: middle;\n    }\n\n    .dataframe tbody tr th {\n        vertical-align: top;\n    }\n\n    .dataframe thead th {\n        text-align: right;\n    }\n</style>\n<table border=\"1\" class=\"dataframe\">\n  <thead>\n    <tr style=\"text-align: right;\">\n      <th></th>\n      <th>First Name</th>\n      <th>Gender</th>\n      <th>Start Date</th>\n      <th>Last Login Time</th>\n      <th>Salary</th>\n      <th>Bonus %</th>\n      <th>Senior Management</th>\n      <th>Team</th>\n    </tr>\n  </thead>\n  <tbody>\n    <tr>\n      <th>327</th>\n      <td>Aaron</td>\n      <td>Male</td>\n      <td>1994-01-29</td>\n      <td>2022-10-16 18:48:00</td>\n      <td>58755</td>\n      <td>5.097</td>\n      <td>True</td>\n      <td>Marketing</td>\n    </tr>\n    <tr>\n      <th>440</th>\n      <td>Aaron</td>\n      <td>Male</td>\n      <td>1990-07-22</td>\n      <td>2022-10-16 14:53:00</td>\n      <td>52119</td>\n      <td>11.343</td>\n      <td>True</td>\n      <td>Client Services</td>\n    </tr>\n    <tr>\n      <th>937</th>\n      <td>Aaron</td>\n      <td>NaN</td>\n      <td>1986-01-22</td>\n      <td>2022-10-16 19:39:00</td>\n      <td>63126</td>\n      <td>18.424</td>\n      <td>False</td>\n      <td>Client Services</td>\n    </tr>\n  </tbody>\n</table>\n</div>"
          },
          "metadata": {}
        }
      ]
    },
    {
      "cell_type": "code",
      "source": "df[df[\"First Name\"].duplicated(keep= \"last\")].head(3)\n# the last is a unique value, it will not be included",
      "metadata": {
        "trusted": true
      },
      "execution_count": 85,
      "outputs": [
        {
          "execution_count": 85,
          "output_type": "execute_result",
          "data": {
            "text/plain": "    First Name Gender Start Date     Last Login Time  Salary  Bonus %  \\\n101      Aaron   Male 2012-02-17 2022-10-16 10:20:00   61602   11.849   \n327      Aaron   Male 1994-01-29 2022-10-16 18:48:00   58755    5.097   \n440      Aaron   Male 1990-07-22 2022-10-16 14:53:00   52119   11.343   \n\n     Senior Management             Team  \n101               True        Marketing  \n327               True        Marketing  \n440               True  Client Services  ",
            "text/html": "<div>\n<style scoped>\n    .dataframe tbody tr th:only-of-type {\n        vertical-align: middle;\n    }\n\n    .dataframe tbody tr th {\n        vertical-align: top;\n    }\n\n    .dataframe thead th {\n        text-align: right;\n    }\n</style>\n<table border=\"1\" class=\"dataframe\">\n  <thead>\n    <tr style=\"text-align: right;\">\n      <th></th>\n      <th>First Name</th>\n      <th>Gender</th>\n      <th>Start Date</th>\n      <th>Last Login Time</th>\n      <th>Salary</th>\n      <th>Bonus %</th>\n      <th>Senior Management</th>\n      <th>Team</th>\n    </tr>\n  </thead>\n  <tbody>\n    <tr>\n      <th>101</th>\n      <td>Aaron</td>\n      <td>Male</td>\n      <td>2012-02-17</td>\n      <td>2022-10-16 10:20:00</td>\n      <td>61602</td>\n      <td>11.849</td>\n      <td>True</td>\n      <td>Marketing</td>\n    </tr>\n    <tr>\n      <th>327</th>\n      <td>Aaron</td>\n      <td>Male</td>\n      <td>1994-01-29</td>\n      <td>2022-10-16 18:48:00</td>\n      <td>58755</td>\n      <td>5.097</td>\n      <td>True</td>\n      <td>Marketing</td>\n    </tr>\n    <tr>\n      <th>440</th>\n      <td>Aaron</td>\n      <td>Male</td>\n      <td>1990-07-22</td>\n      <td>2022-10-16 14:53:00</td>\n      <td>52119</td>\n      <td>11.343</td>\n      <td>True</td>\n      <td>Client Services</td>\n    </tr>\n  </tbody>\n</table>\n</div>"
          },
          "metadata": {}
        }
      ]
    },
    {
      "cell_type": "code",
      "source": "df[df[\"First Name\"].duplicated(keep = False)].head(3)\n# show all duplicated",
      "metadata": {
        "trusted": true
      },
      "execution_count": 87,
      "outputs": [
        {
          "execution_count": 87,
          "output_type": "execute_result",
          "data": {
            "text/plain": "    First Name Gender Start Date     Last Login Time  Salary  Bonus %  \\\n101      Aaron   Male 2012-02-17 2022-10-16 10:20:00   61602   11.849   \n327      Aaron   Male 1994-01-29 2022-10-16 18:48:00   58755    5.097   \n440      Aaron   Male 1990-07-22 2022-10-16 14:53:00   52119   11.343   \n\n     Senior Management             Team  \n101               True        Marketing  \n327               True        Marketing  \n440               True  Client Services  ",
            "text/html": "<div>\n<style scoped>\n    .dataframe tbody tr th:only-of-type {\n        vertical-align: middle;\n    }\n\n    .dataframe tbody tr th {\n        vertical-align: top;\n    }\n\n    .dataframe thead th {\n        text-align: right;\n    }\n</style>\n<table border=\"1\" class=\"dataframe\">\n  <thead>\n    <tr style=\"text-align: right;\">\n      <th></th>\n      <th>First Name</th>\n      <th>Gender</th>\n      <th>Start Date</th>\n      <th>Last Login Time</th>\n      <th>Salary</th>\n      <th>Bonus %</th>\n      <th>Senior Management</th>\n      <th>Team</th>\n    </tr>\n  </thead>\n  <tbody>\n    <tr>\n      <th>101</th>\n      <td>Aaron</td>\n      <td>Male</td>\n      <td>2012-02-17</td>\n      <td>2022-10-16 10:20:00</td>\n      <td>61602</td>\n      <td>11.849</td>\n      <td>True</td>\n      <td>Marketing</td>\n    </tr>\n    <tr>\n      <th>327</th>\n      <td>Aaron</td>\n      <td>Male</td>\n      <td>1994-01-29</td>\n      <td>2022-10-16 18:48:00</td>\n      <td>58755</td>\n      <td>5.097</td>\n      <td>True</td>\n      <td>Marketing</td>\n    </tr>\n    <tr>\n      <th>440</th>\n      <td>Aaron</td>\n      <td>Male</td>\n      <td>1990-07-22</td>\n      <td>2022-10-16 14:53:00</td>\n      <td>52119</td>\n      <td>11.343</td>\n      <td>True</td>\n      <td>Client Services</td>\n    </tr>\n  </tbody>\n</table>\n</div>"
          },
          "metadata": {}
        }
      ]
    },
    {
      "cell_type": "code",
      "source": "df[\"First Name\"].duplicated(keep = False)",
      "metadata": {
        "trusted": true
      },
      "execution_count": 88,
      "outputs": [
        {
          "execution_count": 88,
          "output_type": "execute_result",
          "data": {
            "text/plain": "101    True\n327    True\n440    True\n937    True\n137    True\n       ... \n902    True\n925    True\n946    True\n947    True\n951    True\nName: First Name, Length: 1000, dtype: bool"
          },
          "metadata": {}
        }
      ]
    },
    {
      "cell_type": "code",
      "source": "~df[\"First Name\"].duplicated(keep = False) #reverse false/true",
      "metadata": {
        "trusted": true
      },
      "execution_count": 90,
      "outputs": [
        {
          "execution_count": 90,
          "output_type": "execute_result",
          "data": {
            "text/plain": "101    False\n327    False\n440    False\n937    False\n137    False\n       ...  \n902    False\n925    False\n946    False\n947    False\n951    False\nName: First Name, Length: 1000, dtype: bool"
          },
          "metadata": {}
        }
      ]
    },
    {
      "cell_type": "code",
      "source": "mask = ~df[\"First Name\"].duplicated(keep = False)\ndf[mask]",
      "metadata": {
        "trusted": true
      },
      "execution_count": 91,
      "outputs": [
        {
          "execution_count": 91,
          "output_type": "execute_result",
          "data": {
            "text/plain": "    First Name  Gender Start Date     Last Login Time  Salary  Bonus %  \\\n8       Angela  Female 2005-11-22 2022-10-16 06:29:00   95570   18.523   \n688      Brian    Male 2007-04-07 2022-10-16 22:47:00   93901   17.821   \n190      Carol  Female 1996-03-19 2022-10-16 03:39:00   57783    9.129   \n887      David    Male 2009-12-05 2022-10-16 08:48:00   92242   15.407   \n5       Dennis    Male 1987-04-18 2022-10-16 01:35:00  115163   10.125   \n495     Eugene    Male 1984-05-24 2022-10-16 10:54:00   81077    2.117   \n33        Jean  Female 1993-12-18 2022-10-16 09:07:00  119082   16.180   \n832      Keith    Male 2003-02-12 2022-10-16 15:02:00  120672   19.467   \n291      Tammy  Female 1984-11-11 2022-10-16 10:30:00  132839   17.463   \n\n     Senior Management                  Team  \n8                 True           Engineering  \n688               True                 Legal  \n190              False               Finance  \n887              False                 Legal  \n5                False                 Legal  \n495              False                 Sales  \n33               False  Business Development  \n832              False                 Legal  \n291               True       Client Services  ",
            "text/html": "<div>\n<style scoped>\n    .dataframe tbody tr th:only-of-type {\n        vertical-align: middle;\n    }\n\n    .dataframe tbody tr th {\n        vertical-align: top;\n    }\n\n    .dataframe thead th {\n        text-align: right;\n    }\n</style>\n<table border=\"1\" class=\"dataframe\">\n  <thead>\n    <tr style=\"text-align: right;\">\n      <th></th>\n      <th>First Name</th>\n      <th>Gender</th>\n      <th>Start Date</th>\n      <th>Last Login Time</th>\n      <th>Salary</th>\n      <th>Bonus %</th>\n      <th>Senior Management</th>\n      <th>Team</th>\n    </tr>\n  </thead>\n  <tbody>\n    <tr>\n      <th>8</th>\n      <td>Angela</td>\n      <td>Female</td>\n      <td>2005-11-22</td>\n      <td>2022-10-16 06:29:00</td>\n      <td>95570</td>\n      <td>18.523</td>\n      <td>True</td>\n      <td>Engineering</td>\n    </tr>\n    <tr>\n      <th>688</th>\n      <td>Brian</td>\n      <td>Male</td>\n      <td>2007-04-07</td>\n      <td>2022-10-16 22:47:00</td>\n      <td>93901</td>\n      <td>17.821</td>\n      <td>True</td>\n      <td>Legal</td>\n    </tr>\n    <tr>\n      <th>190</th>\n      <td>Carol</td>\n      <td>Female</td>\n      <td>1996-03-19</td>\n      <td>2022-10-16 03:39:00</td>\n      <td>57783</td>\n      <td>9.129</td>\n      <td>False</td>\n      <td>Finance</td>\n    </tr>\n    <tr>\n      <th>887</th>\n      <td>David</td>\n      <td>Male</td>\n      <td>2009-12-05</td>\n      <td>2022-10-16 08:48:00</td>\n      <td>92242</td>\n      <td>15.407</td>\n      <td>False</td>\n      <td>Legal</td>\n    </tr>\n    <tr>\n      <th>5</th>\n      <td>Dennis</td>\n      <td>Male</td>\n      <td>1987-04-18</td>\n      <td>2022-10-16 01:35:00</td>\n      <td>115163</td>\n      <td>10.125</td>\n      <td>False</td>\n      <td>Legal</td>\n    </tr>\n    <tr>\n      <th>495</th>\n      <td>Eugene</td>\n      <td>Male</td>\n      <td>1984-05-24</td>\n      <td>2022-10-16 10:54:00</td>\n      <td>81077</td>\n      <td>2.117</td>\n      <td>False</td>\n      <td>Sales</td>\n    </tr>\n    <tr>\n      <th>33</th>\n      <td>Jean</td>\n      <td>Female</td>\n      <td>1993-12-18</td>\n      <td>2022-10-16 09:07:00</td>\n      <td>119082</td>\n      <td>16.180</td>\n      <td>False</td>\n      <td>Business Development</td>\n    </tr>\n    <tr>\n      <th>832</th>\n      <td>Keith</td>\n      <td>Male</td>\n      <td>2003-02-12</td>\n      <td>2022-10-16 15:02:00</td>\n      <td>120672</td>\n      <td>19.467</td>\n      <td>False</td>\n      <td>Legal</td>\n    </tr>\n    <tr>\n      <th>291</th>\n      <td>Tammy</td>\n      <td>Female</td>\n      <td>1984-11-11</td>\n      <td>2022-10-16 10:30:00</td>\n      <td>132839</td>\n      <td>17.463</td>\n      <td>True</td>\n      <td>Client Services</td>\n    </tr>\n  </tbody>\n</table>\n</div>"
          },
          "metadata": {}
        }
      ]
    },
    {
      "cell_type": "markdown",
      "source": "# The .drop_duplicates() Method",
      "metadata": {}
    },
    {
      "cell_type": "code",
      "source": "df = pd.read_csv(\"employees.csv\", parse_dates = [\"Start Date\",\"Last Login Time\"])\ndf[\"Senior Management\"] = df[\"Senior Management\"].astype(\"bool\")\ndf[\"Gender\"] = df[\"Gender\"].astype(\"category\")\ndf.sort_values(\"First Name\", inplace=True)\ndf.head(3)",
      "metadata": {
        "trusted": true
      },
      "execution_count": 92,
      "outputs": [
        {
          "execution_count": 92,
          "output_type": "execute_result",
          "data": {
            "text/plain": "    First Name Gender Start Date     Last Login Time  Salary  Bonus %  \\\n101      Aaron   Male 2012-02-17 2022-10-16 10:20:00   61602   11.849   \n327      Aaron   Male 1994-01-29 2022-10-16 18:48:00   58755    5.097   \n440      Aaron   Male 1990-07-22 2022-10-16 14:53:00   52119   11.343   \n\n     Senior Management             Team  \n101               True        Marketing  \n327               True        Marketing  \n440               True  Client Services  ",
            "text/html": "<div>\n<style scoped>\n    .dataframe tbody tr th:only-of-type {\n        vertical-align: middle;\n    }\n\n    .dataframe tbody tr th {\n        vertical-align: top;\n    }\n\n    .dataframe thead th {\n        text-align: right;\n    }\n</style>\n<table border=\"1\" class=\"dataframe\">\n  <thead>\n    <tr style=\"text-align: right;\">\n      <th></th>\n      <th>First Name</th>\n      <th>Gender</th>\n      <th>Start Date</th>\n      <th>Last Login Time</th>\n      <th>Salary</th>\n      <th>Bonus %</th>\n      <th>Senior Management</th>\n      <th>Team</th>\n    </tr>\n  </thead>\n  <tbody>\n    <tr>\n      <th>101</th>\n      <td>Aaron</td>\n      <td>Male</td>\n      <td>2012-02-17</td>\n      <td>2022-10-16 10:20:00</td>\n      <td>61602</td>\n      <td>11.849</td>\n      <td>True</td>\n      <td>Marketing</td>\n    </tr>\n    <tr>\n      <th>327</th>\n      <td>Aaron</td>\n      <td>Male</td>\n      <td>1994-01-29</td>\n      <td>2022-10-16 18:48:00</td>\n      <td>58755</td>\n      <td>5.097</td>\n      <td>True</td>\n      <td>Marketing</td>\n    </tr>\n    <tr>\n      <th>440</th>\n      <td>Aaron</td>\n      <td>Male</td>\n      <td>1990-07-22</td>\n      <td>2022-10-16 14:53:00</td>\n      <td>52119</td>\n      <td>11.343</td>\n      <td>True</td>\n      <td>Client Services</td>\n    </tr>\n  </tbody>\n</table>\n</div>"
          },
          "metadata": {}
        }
      ]
    },
    {
      "cell_type": "code",
      "source": "len(df)",
      "metadata": {
        "trusted": true
      },
      "execution_count": 93,
      "outputs": [
        {
          "execution_count": 93,
          "output_type": "execute_result",
          "data": {
            "text/plain": "1000"
          },
          "metadata": {}
        }
      ]
    },
    {
      "cell_type": "code",
      "source": "len(df.drop_duplicates())\n# default is identical roll",
      "metadata": {
        "trusted": true
      },
      "execution_count": 95,
      "outputs": [
        {
          "execution_count": 95,
          "output_type": "execute_result",
          "data": {
            "text/plain": "1000"
          },
          "metadata": {}
        }
      ]
    },
    {
      "cell_type": "code",
      "source": "df.drop_duplicates(subset = [\"First Name\"], keep = \"first\").head(3)",
      "metadata": {
        "trusted": true
      },
      "execution_count": 98,
      "outputs": [
        {
          "execution_count": 98,
          "output_type": "execute_result",
          "data": {
            "text/plain": "    First Name Gender Start Date     Last Login Time  Salary  Bonus %  \\\n101      Aaron   Male 2012-02-17 2022-10-16 10:20:00   61602   11.849   \n137       Adam   Male 2011-05-21 2022-10-16 01:45:00   95327   15.120   \n300       Alan   Male 1988-06-26 2022-10-16 03:54:00  111786    3.592   \n\n     Senior Management          Team  \n101               True     Marketing  \n137              False  Distribution  \n300               True   Engineering  ",
            "text/html": "<div>\n<style scoped>\n    .dataframe tbody tr th:only-of-type {\n        vertical-align: middle;\n    }\n\n    .dataframe tbody tr th {\n        vertical-align: top;\n    }\n\n    .dataframe thead th {\n        text-align: right;\n    }\n</style>\n<table border=\"1\" class=\"dataframe\">\n  <thead>\n    <tr style=\"text-align: right;\">\n      <th></th>\n      <th>First Name</th>\n      <th>Gender</th>\n      <th>Start Date</th>\n      <th>Last Login Time</th>\n      <th>Salary</th>\n      <th>Bonus %</th>\n      <th>Senior Management</th>\n      <th>Team</th>\n    </tr>\n  </thead>\n  <tbody>\n    <tr>\n      <th>101</th>\n      <td>Aaron</td>\n      <td>Male</td>\n      <td>2012-02-17</td>\n      <td>2022-10-16 10:20:00</td>\n      <td>61602</td>\n      <td>11.849</td>\n      <td>True</td>\n      <td>Marketing</td>\n    </tr>\n    <tr>\n      <th>137</th>\n      <td>Adam</td>\n      <td>Male</td>\n      <td>2011-05-21</td>\n      <td>2022-10-16 01:45:00</td>\n      <td>95327</td>\n      <td>15.120</td>\n      <td>False</td>\n      <td>Distribution</td>\n    </tr>\n    <tr>\n      <th>300</th>\n      <td>Alan</td>\n      <td>Male</td>\n      <td>1988-06-26</td>\n      <td>2022-10-16 03:54:00</td>\n      <td>111786</td>\n      <td>3.592</td>\n      <td>True</td>\n      <td>Engineering</td>\n    </tr>\n  </tbody>\n</table>\n</div>"
          },
          "metadata": {}
        }
      ]
    },
    {
      "cell_type": "code",
      "source": "df.drop_duplicates(subset = [\"First Name\"], keep = \"last\").head(3)",
      "metadata": {
        "trusted": true
      },
      "execution_count": 99,
      "outputs": [
        {
          "execution_count": 99,
          "output_type": "execute_result",
          "data": {
            "text/plain": "    First Name Gender Start Date     Last Login Time  Salary  Bonus %  \\\n937      Aaron    NaN 1986-01-22 2022-10-16 19:39:00   63126   18.424   \n538       Adam   Male 2010-10-08 2022-10-16 21:53:00   45181    3.491   \n610       Alan   Male 2012-02-17 2022-10-16 00:26:00   41453   10.084   \n\n     Senior Management             Team  \n937              False  Client Services  \n538              False  Human Resources  \n610              False          Product  ",
            "text/html": "<div>\n<style scoped>\n    .dataframe tbody tr th:only-of-type {\n        vertical-align: middle;\n    }\n\n    .dataframe tbody tr th {\n        vertical-align: top;\n    }\n\n    .dataframe thead th {\n        text-align: right;\n    }\n</style>\n<table border=\"1\" class=\"dataframe\">\n  <thead>\n    <tr style=\"text-align: right;\">\n      <th></th>\n      <th>First Name</th>\n      <th>Gender</th>\n      <th>Start Date</th>\n      <th>Last Login Time</th>\n      <th>Salary</th>\n      <th>Bonus %</th>\n      <th>Senior Management</th>\n      <th>Team</th>\n    </tr>\n  </thead>\n  <tbody>\n    <tr>\n      <th>937</th>\n      <td>Aaron</td>\n      <td>NaN</td>\n      <td>1986-01-22</td>\n      <td>2022-10-16 19:39:00</td>\n      <td>63126</td>\n      <td>18.424</td>\n      <td>False</td>\n      <td>Client Services</td>\n    </tr>\n    <tr>\n      <th>538</th>\n      <td>Adam</td>\n      <td>Male</td>\n      <td>2010-10-08</td>\n      <td>2022-10-16 21:53:00</td>\n      <td>45181</td>\n      <td>3.491</td>\n      <td>False</td>\n      <td>Human Resources</td>\n    </tr>\n    <tr>\n      <th>610</th>\n      <td>Alan</td>\n      <td>Male</td>\n      <td>2012-02-17</td>\n      <td>2022-10-16 00:26:00</td>\n      <td>41453</td>\n      <td>10.084</td>\n      <td>False</td>\n      <td>Product</td>\n    </tr>\n  </tbody>\n</table>\n</div>"
          },
          "metadata": {}
        }
      ]
    },
    {
      "cell_type": "code",
      "source": "df.drop_duplicates(subset = [\"First Name\"], keep = False).head(3)",
      "metadata": {
        "trusted": true
      },
      "execution_count": 100,
      "outputs": [
        {
          "execution_count": 100,
          "output_type": "execute_result",
          "data": {
            "text/plain": "    First Name  Gender Start Date     Last Login Time  Salary  Bonus %  \\\n8       Angela  Female 2005-11-22 2022-10-16 06:29:00   95570   18.523   \n688      Brian    Male 2007-04-07 2022-10-16 22:47:00   93901   17.821   \n190      Carol  Female 1996-03-19 2022-10-16 03:39:00   57783    9.129   \n\n     Senior Management         Team  \n8                 True  Engineering  \n688               True        Legal  \n190              False      Finance  ",
            "text/html": "<div>\n<style scoped>\n    .dataframe tbody tr th:only-of-type {\n        vertical-align: middle;\n    }\n\n    .dataframe tbody tr th {\n        vertical-align: top;\n    }\n\n    .dataframe thead th {\n        text-align: right;\n    }\n</style>\n<table border=\"1\" class=\"dataframe\">\n  <thead>\n    <tr style=\"text-align: right;\">\n      <th></th>\n      <th>First Name</th>\n      <th>Gender</th>\n      <th>Start Date</th>\n      <th>Last Login Time</th>\n      <th>Salary</th>\n      <th>Bonus %</th>\n      <th>Senior Management</th>\n      <th>Team</th>\n    </tr>\n  </thead>\n  <tbody>\n    <tr>\n      <th>8</th>\n      <td>Angela</td>\n      <td>Female</td>\n      <td>2005-11-22</td>\n      <td>2022-10-16 06:29:00</td>\n      <td>95570</td>\n      <td>18.523</td>\n      <td>True</td>\n      <td>Engineering</td>\n    </tr>\n    <tr>\n      <th>688</th>\n      <td>Brian</td>\n      <td>Male</td>\n      <td>2007-04-07</td>\n      <td>2022-10-16 22:47:00</td>\n      <td>93901</td>\n      <td>17.821</td>\n      <td>True</td>\n      <td>Legal</td>\n    </tr>\n    <tr>\n      <th>190</th>\n      <td>Carol</td>\n      <td>Female</td>\n      <td>1996-03-19</td>\n      <td>2022-10-16 03:39:00</td>\n      <td>57783</td>\n      <td>9.129</td>\n      <td>False</td>\n      <td>Finance</td>\n    </tr>\n  </tbody>\n</table>\n</div>"
          },
          "metadata": {}
        }
      ]
    },
    {
      "cell_type": "code",
      "source": "df.drop_duplicates(subset = [\"Team\"], keep = False)\n# no single team value occurs once",
      "metadata": {
        "trusted": true
      },
      "execution_count": 102,
      "outputs": [
        {
          "execution_count": 102,
          "output_type": "execute_result",
          "data": {
            "text/plain": "Empty DataFrame\nColumns: [First Name, Gender, Start Date, Last Login Time, Salary, Bonus %, Senior Management, Team]\nIndex: []",
            "text/html": "<div>\n<style scoped>\n    .dataframe tbody tr th:only-of-type {\n        vertical-align: middle;\n    }\n\n    .dataframe tbody tr th {\n        vertical-align: top;\n    }\n\n    .dataframe thead th {\n        text-align: right;\n    }\n</style>\n<table border=\"1\" class=\"dataframe\">\n  <thead>\n    <tr style=\"text-align: right;\">\n      <th></th>\n      <th>First Name</th>\n      <th>Gender</th>\n      <th>Start Date</th>\n      <th>Last Login Time</th>\n      <th>Salary</th>\n      <th>Bonus %</th>\n      <th>Senior Management</th>\n      <th>Team</th>\n    </tr>\n  </thead>\n  <tbody>\n  </tbody>\n</table>\n</div>"
          },
          "metadata": {}
        }
      ]
    },
    {
      "cell_type": "code",
      "source": "df.drop_duplicates(subset = [\"First Name\", \"Team\"], inplace = True)\n# identical first name and team",
      "metadata": {
        "trusted": true
      },
      "execution_count": 107,
      "outputs": []
    },
    {
      "cell_type": "code",
      "source": "len(df)",
      "metadata": {
        "trusted": true
      },
      "execution_count": 109,
      "outputs": [
        {
          "execution_count": 109,
          "output_type": "execute_result",
          "data": {
            "text/plain": "769"
          },
          "metadata": {}
        }
      ]
    },
    {
      "cell_type": "markdown",
      "source": "# The .unique() and .nunique() Methods",
      "metadata": {}
    },
    {
      "cell_type": "code",
      "source": "df = pd.read_csv(\"employees.csv\", parse_dates = [\"Start Date\",\"Last Login Time\"])\ndf[\"Senior Management\"] = df[\"Senior Management\"].astype(\"bool\")\ndf[\"Gender\"] = df[\"Gender\"].astype(\"category\")\ndf.head(3)",
      "metadata": {
        "trusted": true
      },
      "execution_count": 110,
      "outputs": [
        {
          "execution_count": 110,
          "output_type": "execute_result",
          "data": {
            "text/plain": "  First Name  Gender Start Date     Last Login Time  Salary  Bonus %  \\\n0    Douglas    Male 1993-08-06 2022-10-16 12:42:00   97308    6.945   \n1     Thomas    Male 1996-03-31 2022-10-16 06:53:00   61933    4.170   \n2      Maria  Female 1993-04-23 2022-10-16 11:17:00  130590   11.858   \n\n   Senior Management       Team  \n0               True  Marketing  \n1               True        NaN  \n2              False    Finance  ",
            "text/html": "<div>\n<style scoped>\n    .dataframe tbody tr th:only-of-type {\n        vertical-align: middle;\n    }\n\n    .dataframe tbody tr th {\n        vertical-align: top;\n    }\n\n    .dataframe thead th {\n        text-align: right;\n    }\n</style>\n<table border=\"1\" class=\"dataframe\">\n  <thead>\n    <tr style=\"text-align: right;\">\n      <th></th>\n      <th>First Name</th>\n      <th>Gender</th>\n      <th>Start Date</th>\n      <th>Last Login Time</th>\n      <th>Salary</th>\n      <th>Bonus %</th>\n      <th>Senior Management</th>\n      <th>Team</th>\n    </tr>\n  </thead>\n  <tbody>\n    <tr>\n      <th>0</th>\n      <td>Douglas</td>\n      <td>Male</td>\n      <td>1993-08-06</td>\n      <td>2022-10-16 12:42:00</td>\n      <td>97308</td>\n      <td>6.945</td>\n      <td>True</td>\n      <td>Marketing</td>\n    </tr>\n    <tr>\n      <th>1</th>\n      <td>Thomas</td>\n      <td>Male</td>\n      <td>1996-03-31</td>\n      <td>2022-10-16 06:53:00</td>\n      <td>61933</td>\n      <td>4.170</td>\n      <td>True</td>\n      <td>NaN</td>\n    </tr>\n    <tr>\n      <th>2</th>\n      <td>Maria</td>\n      <td>Female</td>\n      <td>1993-04-23</td>\n      <td>2022-10-16 11:17:00</td>\n      <td>130590</td>\n      <td>11.858</td>\n      <td>False</td>\n      <td>Finance</td>\n    </tr>\n  </tbody>\n</table>\n</div>"
          },
          "metadata": {}
        }
      ]
    },
    {
      "cell_type": "code",
      "source": "df[\"Gender\"].unique()",
      "metadata": {
        "trusted": true
      },
      "execution_count": 112,
      "outputs": [
        {
          "execution_count": 112,
          "output_type": "execute_result",
          "data": {
            "text/plain": "['Male', 'Female', NaN]\nCategories (2, object): ['Female', 'Male']"
          },
          "metadata": {}
        }
      ]
    },
    {
      "cell_type": "code",
      "source": "df[\"Team\"].unique()",
      "metadata": {
        "trusted": true
      },
      "execution_count": 113,
      "outputs": [
        {
          "execution_count": 113,
          "output_type": "execute_result",
          "data": {
            "text/plain": "array(['Marketing', nan, 'Finance', 'Client Services', 'Legal', 'Product',\n       'Engineering', 'Business Development', 'Human Resources', 'Sales',\n       'Distribution'], dtype=object)"
          },
          "metadata": {}
        }
      ]
    },
    {
      "cell_type": "code",
      "source": "len(df[\"Team\"].unique())",
      "metadata": {
        "trusted": true
      },
      "execution_count": 114,
      "outputs": [
        {
          "execution_count": 114,
          "output_type": "execute_result",
          "data": {
            "text/plain": "11"
          },
          "metadata": {}
        }
      ]
    },
    {
      "cell_type": "code",
      "source": "df[\"Team\"].nunique()",
      "metadata": {
        "trusted": true
      },
      "execution_count": 115,
      "outputs": [
        {
          "execution_count": 115,
          "output_type": "execute_result",
          "data": {
            "text/plain": "10"
          },
          "metadata": {}
        }
      ]
    },
    {
      "cell_type": "code",
      "source": "",
      "metadata": {},
      "execution_count": null,
      "outputs": []
    }
  ]
}
